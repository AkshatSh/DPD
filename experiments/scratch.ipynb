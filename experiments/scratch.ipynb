{
 "cells": [
  {
   "cell_type": "code",
   "execution_count": 39,
   "metadata": {},
   "outputs": [],
   "source": [
    "import spacy\n",
    "from spacy.tokens import Doc\n",
    "spacy.load('en_core_web_sm')\n",
    "res = nlp(\"test sentence\")"
   ]
  },
  {
   "cell_type": "code",
   "execution_count": 11,
   "metadata": {},
   "outputs": [],
   "source": [
    "test_string = \"Calf muscles ( and foot ) tire very quickly . This often leads to leg/foot cramps . Comparable to fatigue after a long workout . I have been taking Lipitor for about 4 yrs - the muscle tiring has become worse with time and now will 'act ' up very soon even with a short slow walk . This has severely hampered my ability to excercise . I first thought this was a response to the diabetes but was recently made aware that Lipitor may be causing it . Lipitor did lower my chloesterol soon after starting it . It does n't seem as effective now . I 'm going to stop taking it because of the muscle fatigue / cramping - hopefully this condition will reverse .\""
   ]
  },
  {
   "cell_type": "code",
   "execution_count": 40,
   "metadata": {},
   "outputs": [
    {
     "data": {
      "text/plain": [
       "['', '']"
      ]
     },
     "execution_count": 40,
     "metadata": {},
     "output_type": "execute_result"
    }
   ],
   "source": [
    "test_words = test_string.split(\" \")\n",
    "from spacy.attrs import LOWER, POS, ENT_TYPE, IS_ALPHA\n",
    "def custom_tokenizer(tokens):\n",
    "    return Doc(nlp.vocab, tokens)\n",
    "\n",
    "nlp.tokenizer = custom_tokenizer\n",
    "np_array = doc.to_array([LOWER, POS, ENT_TYPE, IS_ALPHA])\n",
    "spacy_f = nlp(test_words)\n",
    "spacy_f.from_array([LOWER, POS, ENT_TYPE, IS_ALPHA], np_array)"
   ]
  },
  {
   "cell_type": "code",
   "execution_count": 18,
   "metadata": {},
   "outputs": [
    {
     "name": "stdout",
     "output_type": "stream",
     "text": [
      "['Calf', 'muscles', '(', 'and', 'foot', ')', 'tire', 'very', 'quickly', '.', 'This', 'often', 'leads', 'to', 'leg/foot', 'cramps', '.', 'Comparable', 'to', 'fatigue', 'after', 'a', 'long', 'workout', '.', 'I', 'have', 'been', 'taking', 'Lipitor', 'for', 'about', '4', 'yrs', '-', 'the', 'muscle', 'tiring', 'has', 'become', 'worse', 'with', 'time', 'and', 'now', 'will', \"'act\", \"'\", 'up', 'very', 'soon', 'even', 'with', 'a', 'short', 'slow', 'walk', '.', 'This', 'has', 'severely', 'hampered', 'my', 'ability', 'to', 'excercise', '.', 'I', 'first', 'thought', 'this', 'was', 'a', 'response', 'to', 'the', 'diabetes', 'but', 'was', 'recently', 'made', 'aware', 'that', 'Lipitor', 'may', 'be', 'causing', 'it', '.', 'Lipitor', 'did', 'lower', 'my', 'chloesterol', 'soon', 'after', 'starting', 'it', '.', 'It', 'does', \"n't\", 'seem', 'as', 'effective', 'now', '.', 'I', \"'m\", 'going', 'to', 'stop', 'taking', 'it', 'because', 'of', 'the', 'muscle', 'fatigue', '/', 'cramping', '-', 'hopefully', 'this', 'condition', 'will', 'reverse', '.']\n",
      "['', '', '', '', '', '', '', '', '', '', '', '', '', '', '', '', '', '', '', '', '', '', '', '', '', '', '', '', '', '', '', '', '', '', '', '', '', '', '', '', '', '', '', '', '', '', '', '', '', '', '', '', '', '', '', '', '', '', '', '', '', '', '', '', '', '', '', '', '', '', '', '', '', '', '', '', '', '', '', '', '', '', '', '', '', '', '', '', '', '', '', '', '', '', '', '', '', '', '', '', '', '', '', '', '', '', '', '', '', '', '', '', '', '', '', '', '', '', '', '', '', '', '', '', '', '', '', '']\n"
     ]
    }
   ],
   "source": []
  },
  {
   "cell_type": "raw",
   "metadata": {},
   "source": [
    "      Polarity  Coverage  Overlaps  Conflicts                                    \n",
    "0   [1.0, 2.0]  0.497713  0.497713   0.361993                                                                                                   \n",
    "1            2  0.365845  0.365845   0.362921                                                                                                   \n",
    "2   [1.0, 2.0]  0.402047  0.402047   0.296523                                                                                                   \n",
    "3   [1.0, 2.0]  0.883998  0.883998   0.524343                                                                                                   \n",
    "4   [1.0, 2.0]  0.920751  0.920751   0.555181                                                                                                   \n",
    "5   [1.0, 2.0]  0.942830  0.942830   0.577983                                                                                                   \n",
    "6   [1.0, 2.0]  0.960404  0.960404   0.592163\n",
    "7   [1.0, 2.0]  0.946246  0.946246   0.581559\n",
    "8   [1.0, 2.0]  0.933292  0.933292   0.566427\n",
    "9   [1.0, 2.0]  0.998842  0.998842   0.625466\n",
    "10  [1.0, 2.0]  0.998212  0.998212   0.625110\n",
    "11  [1.0, 2.0]  0.865552  0.865552   0.510025\n",
    "12  [1.0, 2.0]  0.898717  0.898717   0.536598\n",
    "13  [1.0, 2.0]  0.942475  0.942475   0.580046\n",
    "14  [1.0, 2.0]  0.958478  0.958478   0.593952\n",
    "15  [1.0, 2.0]  0.909333  0.909333   0.547271\n",
    "16  [1.0, 2.0]  0.895049  0.895049   0.531474\n",
    "17  [1.0, 2.0]  0.968325  0.968325   0.609279\n",
    "18  [1.0, 2.0]  0.815077  0.815077   0.523105\n",
    "19  [1.0, 2.0]  0.652830  0.652830   0.354667\n",
    "20  [1.0, 2.0]  0.661955  0.661955   0.352661\n",
    "21  [1.0, 2.0]  0.944125  0.944125   0.580218\n",
    "22  [1.0, 2.0]  0.951565  0.951565   0.583818"
   ]
  },
  {
   "cell_type": "code",
   "execution_count": 78,
   "metadata": {},
   "outputs": [
    {
     "name": "stdout",
     "output_type": "stream",
     "text": [
      "(900, 10)\n",
      "(900, 10)\n"
     ]
    },
    {
     "ename": "TypeError",
     "evalue": "unsupported operand type(s) for +: 'set' and 'set'",
     "output_type": "error",
     "traceback": [
      "\u001b[0;31m---------------------------------------------------------------------------\u001b[0m",
      "\u001b[0;31mTypeError\u001b[0m                                 Traceback (most recent call last)",
      "\u001b[0;32m<ipython-input-78-a90f3670cccb>\u001b[0m in \u001b[0;36m<module>\u001b[0;34m\u001b[0m\n\u001b[1;32m     11\u001b[0m \u001b[0mii\u001b[0m \u001b[0;34m=\u001b[0m \u001b[0mitertools\u001b[0m\u001b[0;34m.\u001b[0m\u001b[0mcount\u001b[0m\u001b[0;34m(\u001b[0m\u001b[0mX\u001b[0m\u001b[0;34m.\u001b[0m\u001b[0mshape\u001b[0m\u001b[0;34m[\u001b[0m\u001b[0;36m0\u001b[0m\u001b[0;34m]\u001b[0m\u001b[0;34m)\u001b[0m\u001b[0;34m\u001b[0m\u001b[0;34m\u001b[0m\u001b[0m\n\u001b[1;32m     12\u001b[0m \u001b[0mgraph\u001b[0m \u001b[0;34m=\u001b[0m \u001b[0;34m{\u001b[0m\u001b[0mnext\u001b[0m\u001b[0;34m(\u001b[0m\u001b[0mii\u001b[0m\u001b[0;34m)\u001b[0m\u001b[0;34m:\u001b[0m \u001b[0;34m{\u001b[0m\u001b[0;34m'left'\u001b[0m\u001b[0;34m:\u001b[0m \u001b[0mx\u001b[0m\u001b[0;34m[\u001b[0m\u001b[0;36m0\u001b[0m\u001b[0;34m]\u001b[0m\u001b[0;34m,\u001b[0m \u001b[0;34m'right'\u001b[0m\u001b[0;34m:\u001b[0m\u001b[0mx\u001b[0m\u001b[0;34m[\u001b[0m\u001b[0;36m1\u001b[0m\u001b[0;34m]\u001b[0m\u001b[0;34m}\u001b[0m \u001b[0;32mfor\u001b[0m \u001b[0mx\u001b[0m \u001b[0;32min\u001b[0m \u001b[0mmodel\u001b[0m\u001b[0;34m.\u001b[0m\u001b[0mchildren_\u001b[0m\u001b[0;34m}\u001b[0m\u001b[0;34m\u001b[0m\u001b[0;34m\u001b[0m\u001b[0m\n\u001b[0;32m---> 13\u001b[0;31m \u001b[0mlen\u001b[0m\u001b[0;34m(\u001b[0m\u001b[0mset\u001b[0m\u001b[0;34m(\u001b[0m\u001b[0;34m[\u001b[0m\u001b[0mdata\u001b[0m\u001b[0;34m[\u001b[0m\u001b[0;34m'left'\u001b[0m\u001b[0;34m]\u001b[0m \u001b[0;32mfor\u001b[0m \u001b[0mnode_id\u001b[0m\u001b[0;34m,\u001b[0m \u001b[0mdata\u001b[0m \u001b[0;32min\u001b[0m \u001b[0mgraph\u001b[0m\u001b[0;34m.\u001b[0m\u001b[0mitems\u001b[0m\u001b[0;34m(\u001b[0m\u001b[0;34m)\u001b[0m\u001b[0;34m]\u001b[0m\u001b[0;34m)\u001b[0m \u001b[0;34m+\u001b[0m \u001b[0mset\u001b[0m\u001b[0;34m(\u001b[0m\u001b[0;34m[\u001b[0m\u001b[0mdata\u001b[0m\u001b[0;34m[\u001b[0m\u001b[0;34m'right'\u001b[0m\u001b[0;34m]\u001b[0m \u001b[0;32mfor\u001b[0m \u001b[0mnode_id\u001b[0m\u001b[0;34m,\u001b[0m \u001b[0mdata\u001b[0m \u001b[0;32min\u001b[0m \u001b[0mgraph\u001b[0m\u001b[0;34m.\u001b[0m\u001b[0mitems\u001b[0m\u001b[0;34m(\u001b[0m\u001b[0;34m)\u001b[0m\u001b[0;34m]\u001b[0m\u001b[0;34m)\u001b[0m\u001b[0;34m)\u001b[0m\u001b[0;34m\u001b[0m\u001b[0;34m\u001b[0m\u001b[0m\n\u001b[0m",
      "\u001b[0;31mTypeError\u001b[0m: unsupported operand type(s) for +: 'set' and 'set'"
     ]
    }
   ],
   "source": [
    "import numpy as np\n",
    "from sklearn.cluster import AgglomerativeClustering\n",
    "import itertools\n",
    "\n",
    "X = np.concatenate([np.random.randn(300, 10), np.random.randn(200, 10) + 100, np.random.randn(200, 10) + 200, np.random.randn(200, 10) + 400])\n",
    "print(X.shape)\n",
    "model = AgglomerativeClustering(linkage=\"average\", affinity=\"cosine\", n_clusters=10)\n",
    "model.fit(X)\n",
    "print(X.shape)\n",
    "\n",
    "ii = itertools.count(X.shape[0])\n",
    "graph = {next(ii): {'left': x[0], 'right':x[1]} for x in model.children_}"
   ]
  },
  {
   "cell_type": "code",
   "execution_count": 62,
   "metadata": {},
   "outputs": [
    {
     "data": {
      "text/plain": [
       "Counter({2: 36, 0: 748, 1: 116})"
      ]
     },
     "execution_count": 62,
     "metadata": {},
     "output_type": "execute_result"
    }
   ],
   "source": [
    "from collections import Counter\n",
    "Counter(model.labels_)"
   ]
  },
  {
   "cell_type": "code",
   "execution_count": 84,
   "metadata": {},
   "outputs": [],
   "source": [
    "total_children = (set([data['left'] for node_id, data in graph.items()]).union(set([data['right'] for node_id, data in graph.items()])))"
   ]
  },
  {
   "cell_type": "code",
   "execution_count": 87,
   "metadata": {},
   "outputs": [],
   "source": [
    "# list(filter(lambda x: x > 900, total_children))"
   ]
  },
  {
   "cell_type": "code",
   "execution_count": null,
   "metadata": {},
   "outputs": [],
   "source": []
  }
 ],
 "metadata": {
  "kernelspec": {
   "display_name": "Environment (conda_snorkel)",
   "language": "python",
   "name": "conda_snorkel"
  },
  "language_info": {
   "codemirror_mode": {
    "name": "ipython",
    "version": 3
   },
   "file_extension": ".py",
   "mimetype": "text/x-python",
   "name": "python",
   "nbconvert_exporter": "python",
   "pygments_lexer": "ipython3",
   "version": "3.6.7"
  }
 },
 "nbformat": 4,
 "nbformat_minor": 2
}
