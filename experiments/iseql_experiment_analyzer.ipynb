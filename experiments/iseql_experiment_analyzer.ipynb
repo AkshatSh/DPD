{
 "cells": [
  {
   "cell_type": "code",
   "execution_count": 19,
   "metadata": {},
   "outputs": [],
   "source": [
    "from typing import (\n",
    "    List,\n",
    "    Tuple,\n",
    "    Dict,\n",
    ")\n",
    "\n",
    "import os\n",
    "import sys\n",
    "import csv\n",
    "\n",
    "import altair as alt\n",
    "import pandas as pd"
   ]
  },
  {
   "cell_type": "code",
   "execution_count": 17,
   "metadata": {},
   "outputs": [],
   "source": [
    "EXPERIMENT_FOLDER = 'experiment_data/keyword_matching'\n",
    "EXPERIMENT_FILES = [f for f in os.listdir(EXPERIMENT_FOLDER)]\n",
    "METRICS = {\n",
    "    'active valid/ADR/f1': 'F1',\n",
    "    'active valid/ADR/precision': 'Precession',\n",
    "    'active valid/ADR/recall': 'Recall',\n",
    "}\n",
    "\n",
    "DataDef = List[\n",
    "    Dict[str, object]\n",
    "]"
   ]
  },
  {
   "cell_type": "code",
   "execution_count": 69,
   "metadata": {},
   "outputs": [
    {
     "name": "stdout",
     "output_type": "stream",
     "text": [
      "Parsed: no_weak.csv\n",
      "Parsed: weak_0.1.csv\n",
      "Parsed: weak_0.01.csv\n",
      "Parsed: weak_0.001.csv\n",
      "skipping: .ipynb_checkpoints...\n",
      "Parsed: weak_1.csv\n"
     ]
    },
    {
     "data": {
      "text/html": [
       "<div>\n",
       "<style scoped>\n",
       "    .dataframe tbody tr th:only-of-type {\n",
       "        vertical-align: middle;\n",
       "    }\n",
       "\n",
       "    .dataframe tbody tr th {\n",
       "        vertical-align: top;\n",
       "    }\n",
       "\n",
       "    .dataframe thead th {\n",
       "        text-align: right;\n",
       "    }\n",
       "</style>\n",
       "<table border=\"1\" class=\"dataframe\">\n",
       "  <thead>\n",
       "    <tr style=\"text-align: right;\">\n",
       "      <th></th>\n",
       "      <th>metric_name</th>\n",
       "      <th>metric_val</th>\n",
       "      <th>step</th>\n",
       "      <th>tag</th>\n",
       "    </tr>\n",
       "  </thead>\n",
       "  <tbody>\n",
       "    <tr>\n",
       "      <th>0</th>\n",
       "      <td>Precession</td>\n",
       "      <td>0.48</td>\n",
       "      <td>1.0</td>\n",
       "      <td>no_weak</td>\n",
       "    </tr>\n",
       "    <tr>\n",
       "      <th>1</th>\n",
       "      <td>Precession</td>\n",
       "      <td>0.69</td>\n",
       "      <td>6.0</td>\n",
       "      <td>no_weak</td>\n",
       "    </tr>\n",
       "  </tbody>\n",
       "</table>\n",
       "</div>"
      ],
      "text/plain": [
       "  metric_name  metric_val  step      tag\n",
       "0  Precession        0.48   1.0  no_weak\n",
       "1  Precession        0.69   6.0  no_weak"
      ]
     },
     "execution_count": 69,
     "metadata": {},
     "output_type": "execute_result"
    }
   ],
   "source": [
    "def parse_file(file_name: str, experiment_tag: str) -> DataDef:\n",
    "    output = []\n",
    "    with open(file_name, 'r') as csv_file:\n",
    "        csv_reader = csv.reader(csv_file, delimiter=',')\n",
    "        for row in csv_reader:\n",
    "            # tag, value, step\n",
    "            metric_name, metric_val, step = row\n",
    "            if metric_name not in METRICS:\n",
    "                continue\n",
    "            output.append({\n",
    "                'metric_name': METRICS[metric_name],\n",
    "                'metric_val': round(float(metric_val), 2),\n",
    "                'step': float(step),\n",
    "                'tag': experiment_tag,\n",
    "            })\n",
    "    return output\n",
    "\n",
    "data = []\n",
    "for file in EXPERIMENT_FILES:\n",
    "    if file.startswith('.'):\n",
    "        print(f'skipping: {file}...')\n",
    "        continue\n",
    "    file_res = parse_file(os.path.join(EXPERIMENT_FOLDER, file), file[:-len('.csv')])\n",
    "    print(f'Parsed: {file}')\n",
    "    data.extend(file_res)\n",
    "data_frame = pd.DataFrame(data)\n",
    "data_frame.head(2)"
   ]
  },
  {
   "cell_type": "code",
   "execution_count": 74,
   "metadata": {},
   "outputs": [
    {
     "data": {
      "application/vnd.vegalite.v2+json": {
       "$schema": "https://vega.github.io/schema/vega-lite/v2.6.0.json",
       "config": {
        "view": {
         "height": 300,
         "width": 400
        }
       },
       "datasets": {
        "data-bedbd7619f55cfdf96223bc7b93b4d50": [
         {
          "metric_name": "Precession",
          "metric_val": 0.48,
          "step": 1,
          "tag": "no_weak"
         },
         {
          "metric_name": "Precession",
          "metric_val": 0.69,
          "step": 6,
          "tag": "no_weak"
         },
         {
          "metric_name": "Precession",
          "metric_val": 0.7,
          "step": 16,
          "tag": "no_weak"
         },
         {
          "metric_name": "Precession",
          "metric_val": 0.73,
          "step": 41,
          "tag": "no_weak"
         },
         {
          "metric_name": "Precession",
          "metric_val": 0.81,
          "step": 91,
          "tag": "no_weak"
         },
         {
          "metric_name": "Precession",
          "metric_val": 0.74,
          "step": 191,
          "tag": "no_weak"
         },
         {
          "metric_name": "Precession",
          "metric_val": 0.82,
          "step": 391,
          "tag": "no_weak"
         },
         {
          "metric_name": "Precession",
          "metric_val": 0.81,
          "step": 791,
          "tag": "no_weak"
         },
         {
          "metric_name": "Precession",
          "metric_val": 0.82,
          "step": 999,
          "tag": "no_weak"
         },
         {
          "metric_name": "Recall",
          "metric_val": 0.49,
          "step": 1,
          "tag": "no_weak"
         },
         {
          "metric_name": "Recall",
          "metric_val": 0.66,
          "step": 6,
          "tag": "no_weak"
         },
         {
          "metric_name": "Recall",
          "metric_val": 0.73,
          "step": 16,
          "tag": "no_weak"
         },
         {
          "metric_name": "Recall",
          "metric_val": 0.74,
          "step": 41,
          "tag": "no_weak"
         },
         {
          "metric_name": "Recall",
          "metric_val": 0.71,
          "step": 91,
          "tag": "no_weak"
         },
         {
          "metric_name": "Recall",
          "metric_val": 0.8,
          "step": 191,
          "tag": "no_weak"
         },
         {
          "metric_name": "Recall",
          "metric_val": 0.75,
          "step": 391,
          "tag": "no_weak"
         },
         {
          "metric_name": "Recall",
          "metric_val": 0.77,
          "step": 791,
          "tag": "no_weak"
         },
         {
          "metric_name": "Recall",
          "metric_val": 0.77,
          "step": 999,
          "tag": "no_weak"
         },
         {
          "metric_name": "F1",
          "metric_val": 0.48,
          "step": 1,
          "tag": "no_weak"
         },
         {
          "metric_name": "F1",
          "metric_val": 0.68,
          "step": 6,
          "tag": "no_weak"
         },
         {
          "metric_name": "F1",
          "metric_val": 0.71,
          "step": 16,
          "tag": "no_weak"
         },
         {
          "metric_name": "F1",
          "metric_val": 0.73,
          "step": 41,
          "tag": "no_weak"
         },
         {
          "metric_name": "F1",
          "metric_val": 0.76,
          "step": 91,
          "tag": "no_weak"
         },
         {
          "metric_name": "F1",
          "metric_val": 0.77,
          "step": 191,
          "tag": "no_weak"
         },
         {
          "metric_name": "F1",
          "metric_val": 0.78,
          "step": 391,
          "tag": "no_weak"
         },
         {
          "metric_name": "F1",
          "metric_val": 0.79,
          "step": 791,
          "tag": "no_weak"
         },
         {
          "metric_name": "F1",
          "metric_val": 0.79,
          "step": 999,
          "tag": "no_weak"
         },
         {
          "metric_name": "Precession",
          "metric_val": 0.49,
          "step": 1,
          "tag": "weak_0.1"
         },
         {
          "metric_name": "Precession",
          "metric_val": 0.03,
          "step": 6,
          "tag": "weak_0.1"
         },
         {
          "metric_name": "Precession",
          "metric_val": 0.32,
          "step": 16,
          "tag": "weak_0.1"
         },
         {
          "metric_name": "Precession",
          "metric_val": 0.51,
          "step": 41,
          "tag": "weak_0.1"
         },
         {
          "metric_name": "Precession",
          "metric_val": 0.55,
          "step": 91,
          "tag": "weak_0.1"
         },
         {
          "metric_name": "Precession",
          "metric_val": 0.47,
          "step": 191,
          "tag": "weak_0.1"
         },
         {
          "metric_name": "Precession",
          "metric_val": 0.7,
          "step": 391,
          "tag": "weak_0.1"
         },
         {
          "metric_name": "Precession",
          "metric_val": 0.73,
          "step": 791,
          "tag": "weak_0.1"
         },
         {
          "metric_name": "Precession",
          "metric_val": 0.78,
          "step": 999,
          "tag": "weak_0.1"
         },
         {
          "metric_name": "Recall",
          "metric_val": 0.17,
          "step": 1,
          "tag": "weak_0.1"
         },
         {
          "metric_name": "Recall",
          "metric_val": 0.44,
          "step": 6,
          "tag": "weak_0.1"
         },
         {
          "metric_name": "Recall",
          "metric_val": 0.64,
          "step": 16,
          "tag": "weak_0.1"
         },
         {
          "metric_name": "Recall",
          "metric_val": 0.58,
          "step": 41,
          "tag": "weak_0.1"
         },
         {
          "metric_name": "Recall",
          "metric_val": 0.36,
          "step": 91,
          "tag": "weak_0.1"
         },
         {
          "metric_name": "Recall",
          "metric_val": 0.76,
          "step": 191,
          "tag": "weak_0.1"
         },
         {
          "metric_name": "Recall",
          "metric_val": 0.66,
          "step": 391,
          "tag": "weak_0.1"
         },
         {
          "metric_name": "Recall",
          "metric_val": 0.67,
          "step": 791,
          "tag": "weak_0.1"
         },
         {
          "metric_name": "Recall",
          "metric_val": 0.72,
          "step": 999,
          "tag": "weak_0.1"
         },
         {
          "metric_name": "F1",
          "metric_val": 0.25,
          "step": 1,
          "tag": "weak_0.1"
         },
         {
          "metric_name": "F1",
          "metric_val": 0.05,
          "step": 6,
          "tag": "weak_0.1"
         },
         {
          "metric_name": "F1",
          "metric_val": 0.43,
          "step": 16,
          "tag": "weak_0.1"
         },
         {
          "metric_name": "F1",
          "metric_val": 0.54,
          "step": 41,
          "tag": "weak_0.1"
         },
         {
          "metric_name": "F1",
          "metric_val": 0.44,
          "step": 91,
          "tag": "weak_0.1"
         },
         {
          "metric_name": "F1",
          "metric_val": 0.58,
          "step": 191,
          "tag": "weak_0.1"
         },
         {
          "metric_name": "F1",
          "metric_val": 0.68,
          "step": 391,
          "tag": "weak_0.1"
         },
         {
          "metric_name": "F1",
          "metric_val": 0.7,
          "step": 791,
          "tag": "weak_0.1"
         },
         {
          "metric_name": "F1",
          "metric_val": 0.75,
          "step": 999,
          "tag": "weak_0.1"
         },
         {
          "metric_name": "Precession",
          "metric_val": 0.03,
          "step": 1,
          "tag": "weak_0.01"
         },
         {
          "metric_name": "Precession",
          "metric_val": 0.61,
          "step": 6,
          "tag": "weak_0.01"
         },
         {
          "metric_name": "Precession",
          "metric_val": 0.53,
          "step": 16,
          "tag": "weak_0.01"
         },
         {
          "metric_name": "Precession",
          "metric_val": 0.84,
          "step": 41,
          "tag": "weak_0.01"
         },
         {
          "metric_name": "Precession",
          "metric_val": 0.69,
          "step": 91,
          "tag": "weak_0.01"
         },
         {
          "metric_name": "Precession",
          "metric_val": 0.71,
          "step": 191,
          "tag": "weak_0.01"
         },
         {
          "metric_name": "Precession",
          "metric_val": 0.72,
          "step": 391,
          "tag": "weak_0.01"
         },
         {
          "metric_name": "Precession",
          "metric_val": 0.78,
          "step": 791,
          "tag": "weak_0.01"
         },
         {
          "metric_name": "Precession",
          "metric_val": 0.85,
          "step": 999,
          "tag": "weak_0.01"
         },
         {
          "metric_name": "Recall",
          "metric_val": 0.39,
          "step": 1,
          "tag": "weak_0.01"
         },
         {
          "metric_name": "Recall",
          "metric_val": 0.46,
          "step": 6,
          "tag": "weak_0.01"
         },
         {
          "metric_name": "Recall",
          "metric_val": 0.62,
          "step": 16,
          "tag": "weak_0.01"
         },
         {
          "metric_name": "Recall",
          "metric_val": 0.34,
          "step": 41,
          "tag": "weak_0.01"
         },
         {
          "metric_name": "Recall",
          "metric_val": 0.75,
          "step": 91,
          "tag": "weak_0.01"
         },
         {
          "metric_name": "Recall",
          "metric_val": 0.79,
          "step": 191,
          "tag": "weak_0.01"
         },
         {
          "metric_name": "Recall",
          "metric_val": 0.75,
          "step": 391,
          "tag": "weak_0.01"
         },
         {
          "metric_name": "Recall",
          "metric_val": 0.76,
          "step": 791,
          "tag": "weak_0.01"
         },
         {
          "metric_name": "Recall",
          "metric_val": 0.69,
          "step": 999,
          "tag": "weak_0.01"
         },
         {
          "metric_name": "F1",
          "metric_val": 0.05,
          "step": 1,
          "tag": "weak_0.01"
         },
         {
          "metric_name": "F1",
          "metric_val": 0.53,
          "step": 6,
          "tag": "weak_0.01"
         },
         {
          "metric_name": "F1",
          "metric_val": 0.57,
          "step": 16,
          "tag": "weak_0.01"
         },
         {
          "metric_name": "F1",
          "metric_val": 0.49,
          "step": 41,
          "tag": "weak_0.01"
         },
         {
          "metric_name": "F1",
          "metric_val": 0.72,
          "step": 91,
          "tag": "weak_0.01"
         },
         {
          "metric_name": "F1",
          "metric_val": 0.75,
          "step": 191,
          "tag": "weak_0.01"
         },
         {
          "metric_name": "F1",
          "metric_val": 0.74,
          "step": 391,
          "tag": "weak_0.01"
         },
         {
          "metric_name": "F1",
          "metric_val": 0.77,
          "step": 791,
          "tag": "weak_0.01"
         },
         {
          "metric_name": "F1",
          "metric_val": 0.76,
          "step": 999,
          "tag": "weak_0.01"
         },
         {
          "metric_name": "Precession",
          "metric_val": 0,
          "step": 1,
          "tag": "weak_0.001"
         },
         {
          "metric_name": "Precession",
          "metric_val": 0.67,
          "step": 6,
          "tag": "weak_0.001"
         },
         {
          "metric_name": "Precession",
          "metric_val": 0.71,
          "step": 16,
          "tag": "weak_0.001"
         },
         {
          "metric_name": "Precession",
          "metric_val": 0.83,
          "step": 41,
          "tag": "weak_0.001"
         },
         {
          "metric_name": "Precession",
          "metric_val": 0.77,
          "step": 91,
          "tag": "weak_0.001"
         },
         {
          "metric_name": "Precession",
          "metric_val": 0.71,
          "step": 191,
          "tag": "weak_0.001"
         },
         {
          "metric_name": "Precession",
          "metric_val": 0.78,
          "step": 391,
          "tag": "weak_0.001"
         },
         {
          "metric_name": "Precession",
          "metric_val": 0.73,
          "step": 791,
          "tag": "weak_0.001"
         },
         {
          "metric_name": "Precession",
          "metric_val": 0.71,
          "step": 999,
          "tag": "weak_0.001"
         },
         {
          "metric_name": "Recall",
          "metric_val": 0,
          "step": 1,
          "tag": "weak_0.001"
         },
         {
          "metric_name": "Recall",
          "metric_val": 0.7,
          "step": 6,
          "tag": "weak_0.001"
         },
         {
          "metric_name": "Recall",
          "metric_val": 0.71,
          "step": 16,
          "tag": "weak_0.001"
         },
         {
          "metric_name": "Recall",
          "metric_val": 0.67,
          "step": 41,
          "tag": "weak_0.001"
         },
         {
          "metric_name": "Recall",
          "metric_val": 0.76,
          "step": 91,
          "tag": "weak_0.001"
         },
         {
          "metric_name": "Recall",
          "metric_val": 0.82,
          "step": 191,
          "tag": "weak_0.001"
         },
         {
          "metric_name": "Recall",
          "metric_val": 0.79,
          "step": 391,
          "tag": "weak_0.001"
         },
         {
          "metric_name": "Recall",
          "metric_val": 0.84,
          "step": 791,
          "tag": "weak_0.001"
         },
         {
          "metric_name": "Recall",
          "metric_val": 0.85,
          "step": 999,
          "tag": "weak_0.001"
         },
         {
          "metric_name": "F1",
          "metric_val": 0,
          "step": 1,
          "tag": "weak_0.001"
         },
         {
          "metric_name": "F1",
          "metric_val": 0.68,
          "step": 6,
          "tag": "weak_0.001"
         },
         {
          "metric_name": "F1",
          "metric_val": 0.71,
          "step": 16,
          "tag": "weak_0.001"
         },
         {
          "metric_name": "F1",
          "metric_val": 0.74,
          "step": 41,
          "tag": "weak_0.001"
         },
         {
          "metric_name": "F1",
          "metric_val": 0.77,
          "step": 91,
          "tag": "weak_0.001"
         },
         {
          "metric_name": "F1",
          "metric_val": 0.76,
          "step": 191,
          "tag": "weak_0.001"
         },
         {
          "metric_name": "F1",
          "metric_val": 0.79,
          "step": 391,
          "tag": "weak_0.001"
         },
         {
          "metric_name": "F1",
          "metric_val": 0.78,
          "step": 791,
          "tag": "weak_0.001"
         },
         {
          "metric_name": "F1",
          "metric_val": 0.78,
          "step": 999,
          "tag": "weak_0.001"
         },
         {
          "metric_name": "Precession",
          "metric_val": 0.06,
          "step": 1,
          "tag": "weak_1"
         },
         {
          "metric_name": "Precession",
          "metric_val": 0.26,
          "step": 6,
          "tag": "weak_1"
         },
         {
          "metric_name": "Precession",
          "metric_val": 0.31,
          "step": 16,
          "tag": "weak_1"
         },
         {
          "metric_name": "Precession",
          "metric_val": 0.36,
          "step": 41,
          "tag": "weak_1"
         },
         {
          "metric_name": "Precession",
          "metric_val": 0.34,
          "step": 91,
          "tag": "weak_1"
         },
         {
          "metric_name": "Precession",
          "metric_val": 0.6,
          "step": 191,
          "tag": "weak_1"
         },
         {
          "metric_name": "Precession",
          "metric_val": 0.58,
          "step": 391,
          "tag": "weak_1"
         },
         {
          "metric_name": "Precession",
          "metric_val": 0.55,
          "step": 791,
          "tag": "weak_1"
         },
         {
          "metric_name": "Precession",
          "metric_val": 0.74,
          "step": 999,
          "tag": "weak_1"
         },
         {
          "metric_name": "Recall",
          "metric_val": 0.16,
          "step": 1,
          "tag": "weak_1"
         },
         {
          "metric_name": "Recall",
          "metric_val": 0.34,
          "step": 6,
          "tag": "weak_1"
         },
         {
          "metric_name": "Recall",
          "metric_val": 0.71,
          "step": 16,
          "tag": "weak_1"
         },
         {
          "metric_name": "Recall",
          "metric_val": 0.78,
          "step": 41,
          "tag": "weak_1"
         },
         {
          "metric_name": "Recall",
          "metric_val": 0.77,
          "step": 91,
          "tag": "weak_1"
         },
         {
          "metric_name": "Recall",
          "metric_val": 0.6,
          "step": 191,
          "tag": "weak_1"
         },
         {
          "metric_name": "Recall",
          "metric_val": 0.74,
          "step": 391,
          "tag": "weak_1"
         },
         {
          "metric_name": "Recall",
          "metric_val": 0.79,
          "step": 791,
          "tag": "weak_1"
         },
         {
          "metric_name": "Recall",
          "metric_val": 0.71,
          "step": 999,
          "tag": "weak_1"
         },
         {
          "metric_name": "F1",
          "metric_val": 0.09,
          "step": 1,
          "tag": "weak_1"
         },
         {
          "metric_name": "F1",
          "metric_val": 0.29,
          "step": 6,
          "tag": "weak_1"
         },
         {
          "metric_name": "F1",
          "metric_val": 0.43,
          "step": 16,
          "tag": "weak_1"
         },
         {
          "metric_name": "F1",
          "metric_val": 0.49,
          "step": 41,
          "tag": "weak_1"
         },
         {
          "metric_name": "F1",
          "metric_val": 0.47,
          "step": 91,
          "tag": "weak_1"
         },
         {
          "metric_name": "F1",
          "metric_val": 0.6,
          "step": 191,
          "tag": "weak_1"
         },
         {
          "metric_name": "F1",
          "metric_val": 0.65,
          "step": 391,
          "tag": "weak_1"
         },
         {
          "metric_name": "F1",
          "metric_val": 0.65,
          "step": 791,
          "tag": "weak_1"
         },
         {
          "metric_name": "F1",
          "metric_val": 0.72,
          "step": 999,
          "tag": "weak_1"
         }
        ]
       },
       "vconcat": [
        {
         "data": {
          "name": "data-bedbd7619f55cfdf96223bc7b93b4d50"
         },
         "encoding": {
          "color": {
           "field": "tag",
           "type": "nominal"
          },
          "x": {
           "field": "step",
           "title": "Dataset Size",
           "type": "quantitative"
          },
          "y": {
           "field": "metric_val",
           "scale": {
            "domain": [
             0,
             1
            ]
           },
           "title": "F1",
           "type": "quantitative"
          }
         },
         "mark": {
          "point": true,
          "type": "line"
         },
         "transform": [
          {
           "filter": "(datum.metric_name === 'F1')"
          }
         ],
         "width": 1000
        },
        {
         "data": {
          "name": "data-bedbd7619f55cfdf96223bc7b93b4d50"
         },
         "encoding": {
          "color": {
           "field": "tag",
           "type": "nominal"
          },
          "x": {
           "field": "step",
           "title": "Dataset Size",
           "type": "quantitative"
          },
          "y": {
           "field": "metric_val",
           "scale": {
            "domain": [
             0,
             1
            ]
           },
           "title": "Precession",
           "type": "quantitative"
          }
         },
         "mark": {
          "point": true,
          "type": "line"
         },
         "transform": [
          {
           "filter": "(datum.metric_name === 'Precession')"
          }
         ],
         "width": 1000
        },
        {
         "data": {
          "name": "data-bedbd7619f55cfdf96223bc7b93b4d50"
         },
         "encoding": {
          "color": {
           "field": "tag",
           "type": "nominal"
          },
          "x": {
           "field": "step",
           "title": "Dataset Size",
           "type": "quantitative"
          },
          "y": {
           "field": "metric_val",
           "scale": {
            "domain": [
             0,
             1
            ]
           },
           "title": "Recall",
           "type": "quantitative"
          }
         },
         "mark": {
          "point": true,
          "type": "line"
         },
         "transform": [
          {
           "filter": "(datum.metric_name === 'Recall')"
          }
         ],
         "width": 1000
        }
       ]
      },
      "image/png": "[encoded data removed]",
      "text/plain": [
       "<VegaLite 2 object>\n",
       "\n",
       "If you see this message, it means the renderer has not been properly enabled\n",
       "for the frontend that you are using. For more information, see\n",
       "https://altair-viz.github.io/user_guide/troubleshooting.html\n"
      ]
     },
     "execution_count": 74,
     "metadata": {},
     "output_type": "execute_result"
    }
   ],
   "source": [
    "METRIC='F1'\n",
    "\n",
    "def metric_graph(data_frame: pd.DataFrame, metric: str) -> alt.Chart:\n",
    "    chart = alt.Chart(data_frame).mark_line(point=True).encode(\n",
    "        x=alt.X('step', title='Dataset Size'),\n",
    "        y=alt.Y('metric_val', title=metric, scale=alt.Scale(domain=[0, 1])),\n",
    "        color='tag',\n",
    "    ).transform_filter(alt.datum.metric_name == metric)\n",
    "\n",
    "    # Create a selection that chooses the nearest point & selects based on x-value\n",
    "    nearest = alt.selection(type='single', nearest=True, on='mouseover',\n",
    "                            fields=['step'], empty='none')\n",
    "    \n",
    "    # Transparent selectors across the chart. This is what tells us\n",
    "    # the x-value of the cursor\n",
    "    selectors = alt.Chart().mark_point().encode(\n",
    "        x='step:Q',\n",
    "        opacity=alt.value(0),\n",
    "    ).add_selection(\n",
    "        nearest\n",
    "    )\n",
    "\n",
    "    # Draw points on the line, and highlight based on selection\n",
    "    points = chart.mark_point().encode(\n",
    "        opacity=alt.condition(nearest, alt.value(1), alt.value(0))\n",
    "    )\n",
    "\n",
    "    # Draw text labels near the points, and highlight based on selection\n",
    "    text = chart.mark_text(align='left', dx=5, dy=-5).encode(\n",
    "        text=alt.condition(nearest, 'metric_val:Q', alt.value(' '))\n",
    "    )\n",
    "\n",
    "    # Draw a rule at the location of the selection\n",
    "    rules = alt.Chart().mark_rule(color='gray').encode(\n",
    "        x='step:Q',\n",
    "    ).transform_filter(\n",
    "        nearest\n",
    "    )\n",
    "    \n",
    "    #return alt.layer(chart, selectors, points, rules, text,\n",
    "     #     data=data_frame, width=600, height=300)\n",
    "    return chart.properties(width=1000)\n",
    "\n",
    "res = [metric_graph(data_frame, metric) for metric in METRICS.values()]\n",
    "(res[0] & res[1] & res[2])"
   ]
  },
  {
   "cell_type": "code",
   "execution_count": 65,
   "metadata": {},
   "outputs": [
    {
     "data": {
      "application/vnd.vegalite.v2+json": {
       "$schema": "https://vega.github.io/schema/vega-lite/v2.6.0.json",
       "config": {
        "view": {
         "height": 300,
         "width": 400
        }
       },
       "data": {
        "name": "data-cb478328e7668f33d854f5fe6db8b66b"
       },
       "datasets": {
        "data-cb478328e7668f33d854f5fe6db8b66b": [
         {
          "metric_name": "Precession",
          "metric_val": 0.4844700608389369,
          "step": 1,
          "tag": "no_weak"
         },
         {
          "metric_name": "Precession",
          "metric_val": 0.6935638808837656,
          "step": 6,
          "tag": "no_weak"
         },
         {
          "metric_name": "Precession",
          "metric_val": 0.697086135126481,
          "step": 16,
          "tag": "no_weak"
         },
         {
          "metric_name": "Precession",
          "metric_val": 0.729106628242075,
          "step": 41,
          "tag": "no_weak"
         },
         {
          "metric_name": "Precession",
          "metric_val": 0.8059558117195005,
          "step": 91,
          "tag": "no_weak"
         },
         {
          "metric_name": "Precession",
          "metric_val": 0.739353186039065,
          "step": 191,
          "tag": "no_weak"
         },
         {
          "metric_name": "Precession",
          "metric_val": 0.8206852385526737,
          "step": 391,
          "tag": "no_weak"
         },
         {
          "metric_name": "Precession",
          "metric_val": 0.808837656099904,
          "step": 791,
          "tag": "no_weak"
         },
         {
          "metric_name": "Precession",
          "metric_val": 0.8168427793788025,
          "step": 999,
          "tag": "no_weak"
         },
         {
          "metric_name": "Recall",
          "metric_val": 0.48524695317511224,
          "step": 1,
          "tag": "no_weak"
         },
         {
          "metric_name": "Recall",
          "metric_val": 0.6633996937212864,
          "step": 6,
          "tag": "no_weak"
         },
         {
          "metric_name": "Recall",
          "metric_val": 0.7259086362120707,
          "step": 16,
          "tag": "no_weak"
         },
         {
          "metric_name": "Recall",
          "metric_val": 0.7409697364139277,
          "step": 41,
          "tag": "no_weak"
         },
         {
          "metric_name": "Recall",
          "metric_val": 0.710214446952596,
          "step": 91,
          "tag": "no_weak"
         },
         {
          "metric_name": "Recall",
          "metric_val": 0.8009018383628165,
          "step": 191,
          "tag": "no_weak"
         },
         {
          "metric_name": "Recall",
          "metric_val": 0.7496343960222287,
          "step": 391,
          "tag": "no_weak"
         },
         {
          "metric_name": "Recall",
          "metric_val": 0.7684818983875875,
          "step": 791,
          "tag": "no_weak"
         },
         {
          "metric_name": "Recall",
          "metric_val": 0.7711608222490931,
          "step": 999,
          "tag": "no_weak"
         },
         {
          "metric_name": "F1",
          "metric_val": 0.48485819580195477,
          "step": 1,
          "tag": "no_weak"
         },
         {
          "metric_name": "F1",
          "metric_val": 0.6781465247338762,
          "step": 6,
          "tag": "no_weak"
         },
         {
          "metric_name": "F1",
          "metric_val": 0.7112054884024828,
          "step": 16,
          "tag": "no_weak"
         },
         {
          "metric_name": "F1",
          "metric_val": 0.7349903163331181,
          "step": 41,
          "tag": "no_weak"
         },
         {
          "metric_name": "F1",
          "metric_val": 0.7550622468876557,
          "step": 91,
          "tag": "no_weak"
         },
         {
          "metric_name": "F1",
          "metric_val": 0.7688977688977687,
          "step": 191,
          "tag": "no_weak"
         },
         {
          "metric_name": "F1",
          "metric_val": 0.7835524304494038,
          "step": 391,
          "tag": "no_weak"
         },
         {
          "metric_name": "F1",
          "metric_val": 0.7881435257410296,
          "step": 791,
          "tag": "no_weak"
         },
         {
          "metric_name": "F1",
          "metric_val": 0.7933447364329032,
          "step": 999,
          "tag": "no_weak"
         },
         {
          "metric_name": "Precession",
          "metric_val": 0.49023374959974386,
          "step": 1,
          "tag": "weak_0.1"
         },
         {
          "metric_name": "Precession",
          "metric_val": 0.026256804354787062,
          "step": 6,
          "tag": "weak_0.1"
         },
         {
          "metric_name": "Precession",
          "metric_val": 0.3208453410182517,
          "step": 16,
          "tag": "weak_0.1"
         },
         {
          "metric_name": "Precession",
          "metric_val": 0.5142491194364394,
          "step": 41,
          "tag": "weak_0.1"
         },
         {
          "metric_name": "Precession",
          "metric_val": 0.5510726865193724,
          "step": 91,
          "tag": "weak_0.1"
         },
         {
          "metric_name": "Precession",
          "metric_val": 0.4674991994876721,
          "step": 191,
          "tag": "weak_0.1"
         },
         {
          "metric_name": "Precession",
          "metric_val": 0.7002881844380403,
          "step": 391,
          "tag": "weak_0.1"
         },
         {
          "metric_name": "Precession",
          "metric_val": 0.7278258085174512,
          "step": 791,
          "tag": "weak_0.1"
         },
         {
          "metric_name": "Precession",
          "metric_val": 0.7838616714697406,
          "step": 999,
          "tag": "weak_0.1"
         },
         {
          "metric_name": "Recall",
          "metric_val": 0.16920866489832007,
          "step": 1,
          "tag": "weak_0.1"
         },
         {
          "metric_name": "Recall",
          "metric_val": 0.44324324324324327,
          "step": 6,
          "tag": "weak_0.1"
         },
         {
          "metric_name": "Recall",
          "metric_val": 0.6435452793834296,
          "step": 16,
          "tag": "weak_0.1"
         },
         {
          "metric_name": "Recall",
          "metric_val": 0.5754209960587603,
          "step": 41,
          "tag": "weak_0.1"
         },
         {
          "metric_name": "Recall",
          "metric_val": 0.3617826361151987,
          "step": 91,
          "tag": "weak_0.1"
         },
         {
          "metric_name": "Recall",
          "metric_val": 0.7604166666666666,
          "step": 191,
          "tag": "weak_0.1"
         },
         {
          "metric_name": "Recall",
          "metric_val": 0.6631291691934506,
          "step": 391,
          "tag": "weak_0.1"
         },
         {
          "metric_name": "Recall",
          "metric_val": 0.6740806642941874,
          "step": 791,
          "tag": "weak_0.1"
         },
         {
          "metric_name": "Recall",
          "metric_val": 0.7187316500293599,
          "step": 999,
          "tag": "weak_0.1"
         },
         {
          "metric_name": "F1",
          "metric_val": 0.25158162846109605,
          "step": 1,
          "tag": "weak_0.1"
         },
         {
          "metric_name": "F1",
          "metric_val": 0.049576783555018135,
          "step": 6,
          "tag": "weak_0.1"
         },
         {
          "metric_name": "F1",
          "metric_val": 0.42820512820512824,
          "step": 16,
          "tag": "weak_0.1"
         },
         {
          "metric_name": "F1",
          "metric_val": 0.5431180250253635,
          "step": 41,
          "tag": "weak_0.1"
         },
         {
          "metric_name": "F1",
          "metric_val": 0.4368020304568528,
          "step": 91,
          "tag": "weak_0.1"
         },
         {
          "metric_name": "F1",
          "metric_val": 0.5790204243505849,
          "step": 191,
          "tag": "weak_0.1"
         },
         {
          "metric_name": "F1",
          "metric_val": 0.6812023049369257,
          "step": 391,
          "tag": "weak_0.1"
         },
         {
          "metric_name": "F1",
          "metric_val": 0.6999230177059277,
          "step": 791,
          "tag": "weak_0.1"
         },
         {
          "metric_name": "F1",
          "metric_val": 0.7498851278909481,
          "step": 999,
          "tag": "weak_0.1"
         },
         {
          "metric_name": "Precession",
          "metric_val": 0.028498238872878643,
          "step": 1,
          "tag": "weak_0.01"
         },
         {
          "metric_name": "Precession",
          "metric_val": 0.6087095741274415,
          "step": 6,
          "tag": "weak_0.01"
         },
         {
          "metric_name": "Precession",
          "metric_val": 0.5283381364073007,
          "step": 16,
          "tag": "weak_0.01"
         },
         {
          "metric_name": "Precession",
          "metric_val": 0.8434197886647454,
          "step": 41,
          "tag": "weak_0.01"
         },
         {
          "metric_name": "Precession",
          "metric_val": 0.6887608069164265,
          "step": 91,
          "tag": "weak_0.01"
         },
         {
          "metric_name": "Precession",
          "metric_val": 0.7124559718219661,
          "step": 191,
          "tag": "weak_0.01"
         },
         {
          "metric_name": "Precession",
          "metric_val": 0.7239833493435799,
          "step": 391,
          "tag": "weak_0.01"
         },
         {
          "metric_name": "Precession",
          "metric_val": 0.7768171629843099,
          "step": 791,
          "tag": "weak_0.01"
         },
         {
          "metric_name": "Precession",
          "metric_val": 0.8453410182516811,
          "step": 999,
          "tag": "weak_0.01"
         },
         {
          "metric_name": "Recall",
          "metric_val": 0.3920704845814978,
          "step": 1,
          "tag": "weak_0.01"
         },
         {
          "metric_name": "Recall",
          "metric_val": 0.46196840826245444,
          "step": 6,
          "tag": "weak_0.01"
         },
         {
          "metric_name": "Recall",
          "metric_val": 0.6193693693693694,
          "step": 16,
          "tag": "weak_0.01"
         },
         {
          "metric_name": "Recall",
          "metric_val": 0.34328163690864066,
          "step": 41,
          "tag": "weak_0.01"
         },
         {
          "metric_name": "Recall",
          "metric_val": 0.7502615974886641,
          "step": 91,
          "tag": "weak_0.01"
         },
         {
          "metric_name": "Recall",
          "metric_val": 0.7867751060820368,
          "step": 191,
          "tag": "weak_0.01"
         },
         {
          "metric_name": "Recall",
          "metric_val": 0.75066401062417,
          "step": 391,
          "tag": "weak_0.01"
         },
         {
          "metric_name": "Recall",
          "metric_val": 0.7648171500630517,
          "step": 791,
          "tag": "weak_0.01"
         },
         {
          "metric_name": "Recall",
          "metric_val": 0.6858924395946999,
          "step": 999,
          "tag": "weak_0.01"
         },
         {
          "metric_name": "F1",
          "metric_val": 0.05313432835820895,
          "step": 1,
          "tag": "weak_0.01"
         },
         {
          "metric_name": "F1",
          "metric_val": 0.5252832274108871,
          "step": 6,
          "tag": "weak_0.01"
         },
         {
          "metric_name": "F1",
          "metric_val": 0.5702436495593572,
          "step": 16,
          "tag": "weak_0.01"
         },
         {
          "metric_name": "F1",
          "metric_val": 0.48795850314931455,
          "step": 41,
          "tag": "weak_0.01"
         },
         {
          "metric_name": "F1",
          "metric_val": 0.7181969949916528,
          "step": 91,
          "tag": "weak_0.01"
         },
         {
          "metric_name": "F1",
          "metric_val": 0.7477734834481601,
          "step": 191,
          "tag": "weak_0.01"
         },
         {
          "metric_name": "F1",
          "metric_val": 0.737082314588427,
          "step": 391,
          "tag": "weak_0.01"
         },
         {
          "metric_name": "F1",
          "metric_val": 0.7707704527402701,
          "step": 791,
          "tag": "weak_0.01"
         },
         {
          "metric_name": "F1",
          "metric_val": 0.757314974182444,
          "step": 999,
          "tag": "weak_0.01"
         },
         {
          "metric_name": "Precession",
          "metric_val": 0,
          "step": 1,
          "tag": "weak_0.001"
         },
         {
          "metric_name": "Precession",
          "metric_val": 0.6673070765289786,
          "step": 6,
          "tag": "weak_0.001"
         },
         {
          "metric_name": "Precession",
          "metric_val": 0.7121357668908102,
          "step": 16,
          "tag": "weak_0.001"
         },
         {
          "metric_name": "Precession",
          "metric_val": 0.8322126160742875,
          "step": 41,
          "tag": "weak_0.001"
         },
         {
          "metric_name": "Precession",
          "metric_val": 0.7675312199807877,
          "step": 91,
          "tag": "weak_0.001"
         },
         {
          "metric_name": "Precession",
          "metric_val": 0.7114953570284982,
          "step": 191,
          "tag": "weak_0.001"
         },
         {
          "metric_name": "Precession",
          "metric_val": 0.7758565481908422,
          "step": 391,
          "tag": "weak_0.001"
         },
         {
          "metric_name": "Precession",
          "metric_val": 0.7275056035862952,
          "step": 791,
          "tag": "weak_0.001"
         },
         {
          "metric_name": "Precession",
          "metric_val": 0.7105347422350304,
          "step": 999,
          "tag": "weak_0.001"
         },
         {
          "metric_name": "Recall",
          "metric_val": 0,
          "step": 1,
          "tag": "weak_0.001"
         },
         {
          "metric_name": "Recall",
          "metric_val": 0.702866779089376,
          "step": 6,
          "tag": "weak_0.001"
         },
         {
          "metric_name": "Recall",
          "metric_val": 0.7094098883572568,
          "step": 16,
          "tag": "weak_0.001"
         },
         {
          "metric_name": "Recall",
          "metric_val": 0.6715762273901809,
          "step": 41,
          "tag": "weak_0.001"
         },
         {
          "metric_name": "Recall",
          "metric_val": 0.7643494897959183,
          "step": 91,
          "tag": "weak_0.001"
         },
         {
          "metric_name": "Recall",
          "metric_val": 0.816611539875046,
          "step": 191,
          "tag": "weak_0.001"
         },
         {
          "metric_name": "Recall",
          "metric_val": 0.7949475065616798,
          "step": 391,
          "tag": "weak_0.001"
         },
         {
          "metric_name": "Recall",
          "metric_val": 0.8414814814814815,
          "step": 791,
          "tag": "weak_0.001"
         },
         {
          "metric_name": "Recall",
          "metric_val": 0.8531334102268359,
          "step": 999,
          "tag": "weak_0.001"
         },
         {
          "metric_name": "F1",
          "metric_val": 0,
          "step": 1,
          "tag": "weak_0.001"
         },
         {
          "metric_name": "F1",
          "metric_val": 0.6846254927726675,
          "step": 6,
          "tag": "weak_0.001"
         },
         {
          "metric_name": "F1",
          "metric_val": 0.7107702141259188,
          "step": 16,
          "tag": "weak_0.001"
         },
         {
          "metric_name": "F1",
          "metric_val": 0.7433147433147433,
          "step": 41,
          "tag": "weak_0.001"
         },
         {
          "metric_name": "F1",
          "metric_val": 0.7659370506470681,
          "step": 91,
          "tag": "weak_0.001"
         },
         {
          "metric_name": "F1",
          "metric_val": 0.7604380561259412,
          "step": 191,
          "tag": "weak_0.001"
         },
         {
          "metric_name": "F1",
          "metric_val": 0.7852860152325393,
          "step": 391,
          "tag": "weak_0.001"
         },
         {
          "metric_name": "F1",
          "metric_val": 0.7803537695346041,
          "step": 791,
          "tag": "weak_0.001"
         },
         {
          "metric_name": "F1",
          "metric_val": 0.7753319357092943,
          "step": 999,
          "tag": "weak_0.001"
         },
         {
          "metric_name": "Precession",
          "metric_val": 0.06179955171309638,
          "step": 1,
          "tag": "weak_1"
         },
         {
          "metric_name": "Precession",
          "metric_val": 0.2564841498559078,
          "step": 6,
          "tag": "weak_1"
         },
         {
          "metric_name": "Precession",
          "metric_val": 0.3080371437720141,
          "step": 16,
          "tag": "weak_1"
         },
         {
          "metric_name": "Precession",
          "metric_val": 0.361831572206212,
          "step": 41,
          "tag": "weak_1"
         },
         {
          "metric_name": "Precession",
          "metric_val": 0.3390970220941403,
          "step": 91,
          "tag": "weak_1"
         },
         {
          "metric_name": "Precession",
          "metric_val": 0.6019852705731669,
          "step": 191,
          "tag": "weak_1"
         },
         {
          "metric_name": "Precession",
          "metric_val": 0.579891130323407,
          "step": 391,
          "tag": "weak_1"
         },
         {
          "metric_name": "Precession",
          "metric_val": 0.553314121037464,
          "step": 791,
          "tag": "weak_1"
         },
         {
          "metric_name": "Precession",
          "metric_val": 0.7415946205571565,
          "step": 999,
          "tag": "weak_1"
         },
         {
          "metric_name": "Recall",
          "metric_val": 0.16218487394957984,
          "step": 1,
          "tag": "weak_1"
         },
         {
          "metric_name": "Recall",
          "metric_val": 0.33955065705807547,
          "step": 6,
          "tag": "weak_1"
         },
         {
          "metric_name": "Recall",
          "metric_val": 0.7068332108743571,
          "step": 16,
          "tag": "weak_1"
         },
         {
          "metric_name": "Recall",
          "metric_val": 0.7771664374140302,
          "step": 41,
          "tag": "weak_1"
         },
         {
          "metric_name": "Recall",
          "metric_val": 0.7735573411249087,
          "step": 91,
          "tag": "weak_1"
         },
         {
          "metric_name": "Recall",
          "metric_val": 0.6048906048906049,
          "step": 191,
          "tag": "weak_1"
         },
         {
          "metric_name": "Recall",
          "metric_val": 0.7400899060073559,
          "step": 391,
          "tag": "weak_1"
         },
         {
          "metric_name": "Recall",
          "metric_val": 0.7854545454545454,
          "step": 791,
          "tag": "weak_1"
         },
         {
          "metric_name": "Recall",
          "metric_val": 0.7089072543617998,
          "step": 999,
          "tag": "weak_1"
         },
         {
          "metric_name": "F1",
          "metric_val": 0.08949686992812428,
          "step": 1,
          "tag": "weak_1"
         },
         {
          "metric_name": "F1",
          "metric_val": 0.29222911346224006,
          "step": 6,
          "tag": "weak_1"
         },
         {
          "metric_name": "F1",
          "metric_val": 0.4290811775200714,
          "step": 16,
          "tag": "weak_1"
         },
         {
          "metric_name": "F1",
          "metric_val": 0.4937732138955648,
          "step": 41,
          "tag": "weak_1"
         },
         {
          "metric_name": "F1",
          "metric_val": 0.4715048975957257,
          "step": 91,
          "tag": "weak_1"
         },
         {
          "metric_name": "F1",
          "metric_val": 0.6034344406997271,
          "step": 191,
          "tag": "weak_1"
         },
         {
          "metric_name": "F1",
          "metric_val": 0.6502692998204668,
          "step": 391,
          "tag": "weak_1"
         },
         {
          "metric_name": "F1",
          "metric_val": 0.6492579372534285,
          "step": 791,
          "tag": "weak_1"
         },
         {
          "metric_name": "F1",
          "metric_val": 0.7248826291079812,
          "step": 999,
          "tag": "weak_1"
         }
        ]
       },
       "hconcat": [
        {
         "encoding": {
          "color": {
           "field": "tag",
           "type": "nominal"
          },
          "x": {
           "field": "step",
           "title": "Dataset Size",
           "type": "quantitative"
          },
          "y": {
           "field": "metric_val",
           "scale": {
            "domain": [
             0,
             1
            ]
           },
           "title": "F1",
           "type": "quantitative"
          }
         },
         "height": 300,
         "mark": "line",
         "selection": {
          "selector025": {
           "encodings": [
            "x"
           ],
           "mark": {
            "fill": "#333",
            "fillOpacity": 0.125,
            "stroke": "white"
           },
           "on": "[mousedown, window:mouseup] > window:mousemove!",
           "resolve": "global",
           "translate": "[mousedown, window:mouseup] > window:mousemove!",
           "type": "interval",
           "zoom": "wheel!"
          }
         },
         "transform": [
          {
           "filter": "(datum.metric_name === 'F1')"
          }
         ],
         "width": 300
        },
        {
         "encoding": {
          "color": {
           "field": "tag",
           "type": "nominal"
          },
          "x": {
           "field": "step",
           "title": "Dataset Size",
           "type": "quantitative"
          },
          "y": {
           "field": "metric_val",
           "scale": {
            "domain": [
             0,
             1
            ]
           },
           "title": "Precession",
           "type": "quantitative"
          }
         },
         "height": 300,
         "mark": "line",
         "transform": [
          {
           "filter": "(datum.metric_name === 'Precession')"
          },
          {
           "filter": {
            "selection": "selector025"
           }
          }
         ],
         "width": 300
        }
       ]
      },
      "image/png": "[encoded data removed]",
      "text/plain": [
       "<VegaLite 2 object>\n",
       "\n",
       "If you see this message, it means the renderer has not been properly enabled\n",
       "for the frontend that you are using. For more information, see\n",
       "https://altair-viz.github.io/user_guide/troubleshooting.html\n"
      ]
     },
     "execution_count": 65,
     "metadata": {},
     "output_type": "execute_result"
    }
   ],
   "source": [
    "def interactive_experiment(data_frame: pd.DataFrame, metric: str) -> alt.Chart:\n",
    "    pts = alt.selection(type=\"interval\", encodings=[\"x\"])\n",
    "\n",
    "    # left panel: line chart of F1 score\n",
    "    f1 = alt.Chart().mark_line().encode(\n",
    "        x=alt.X('step', title='Dataset Size'),\n",
    "        y=alt.Y('metric_val', title=metric, scale=alt.Scale(domain=[0, 1])),\n",
    "        color='tag',\n",
    "    ).transform_filter(alt.datum.metric_name == 'F1').properties(\n",
    "        selection=pts,\n",
    "        width=300,\n",
    "        height=300\n",
    "    )\n",
    "\n",
    "    # right panel: histogram\n",
    "    prec = alt.Chart().mark_line().encode(\n",
    "        x=alt.X('step', title='Dataset Size'),\n",
    "        y=alt.Y('metric_val', title='Precession', scale=alt.Scale(domain=[0, 1])),\n",
    "        color='tag',\n",
    "    ).transform_filter(alt.datum.metric_name == 'Precession').transform_filter(\n",
    "        pts.ref()\n",
    "    ).properties(\n",
    "        width=300,\n",
    "        height=300\n",
    "    )\n",
    "\n",
    "    # build the chart:\n",
    "    return alt.hconcat(\n",
    "        f1,\n",
    "        prec,\n",
    "        data=data_frame\n",
    "    )\n",
    "# .transform_bin(\n",
    "#         \"mbin\",\n",
    "#         field=\"m\",\n",
    "#         bin=alt.Bin(maxbins=20)\n",
    "#     )\n",
    "interactive_experiment(data_frame, 'F1')"
   ]
  },
  {
   "cell_type": "code",
   "execution_count": 66,
   "metadata": {},
   "outputs": [
    {
     "data": {
      "application/vnd.vegalite.v2+json": {
       "$schema": "https://vega.github.io/schema/vega-lite/v2.6.0.json",
       "config": {
        "view": {
         "height": 300,
         "width": 400
        }
       },
       "datasets": {
        "data-cb478328e7668f33d854f5fe6db8b66b": [
         {
          "metric_name": "Precession",
          "metric_val": 0.4844700608389369,
          "step": 1,
          "tag": "no_weak"
         },
         {
          "metric_name": "Precession",
          "metric_val": 0.6935638808837656,
          "step": 6,
          "tag": "no_weak"
         },
         {
          "metric_name": "Precession",
          "metric_val": 0.697086135126481,
          "step": 16,
          "tag": "no_weak"
         },
         {
          "metric_name": "Precession",
          "metric_val": 0.729106628242075,
          "step": 41,
          "tag": "no_weak"
         },
         {
          "metric_name": "Precession",
          "metric_val": 0.8059558117195005,
          "step": 91,
          "tag": "no_weak"
         },
         {
          "metric_name": "Precession",
          "metric_val": 0.739353186039065,
          "step": 191,
          "tag": "no_weak"
         },
         {
          "metric_name": "Precession",
          "metric_val": 0.8206852385526737,
          "step": 391,
          "tag": "no_weak"
         },
         {
          "metric_name": "Precession",
          "metric_val": 0.808837656099904,
          "step": 791,
          "tag": "no_weak"
         },
         {
          "metric_name": "Precession",
          "metric_val": 0.8168427793788025,
          "step": 999,
          "tag": "no_weak"
         },
         {
          "metric_name": "Recall",
          "metric_val": 0.48524695317511224,
          "step": 1,
          "tag": "no_weak"
         },
         {
          "metric_name": "Recall",
          "metric_val": 0.6633996937212864,
          "step": 6,
          "tag": "no_weak"
         },
         {
          "metric_name": "Recall",
          "metric_val": 0.7259086362120707,
          "step": 16,
          "tag": "no_weak"
         },
         {
          "metric_name": "Recall",
          "metric_val": 0.7409697364139277,
          "step": 41,
          "tag": "no_weak"
         },
         {
          "metric_name": "Recall",
          "metric_val": 0.710214446952596,
          "step": 91,
          "tag": "no_weak"
         },
         {
          "metric_name": "Recall",
          "metric_val": 0.8009018383628165,
          "step": 191,
          "tag": "no_weak"
         },
         {
          "metric_name": "Recall",
          "metric_val": 0.7496343960222287,
          "step": 391,
          "tag": "no_weak"
         },
         {
          "metric_name": "Recall",
          "metric_val": 0.7684818983875875,
          "step": 791,
          "tag": "no_weak"
         },
         {
          "metric_name": "Recall",
          "metric_val": 0.7711608222490931,
          "step": 999,
          "tag": "no_weak"
         },
         {
          "metric_name": "F1",
          "metric_val": 0.48485819580195477,
          "step": 1,
          "tag": "no_weak"
         },
         {
          "metric_name": "F1",
          "metric_val": 0.6781465247338762,
          "step": 6,
          "tag": "no_weak"
         },
         {
          "metric_name": "F1",
          "metric_val": 0.7112054884024828,
          "step": 16,
          "tag": "no_weak"
         },
         {
          "metric_name": "F1",
          "metric_val": 0.7349903163331181,
          "step": 41,
          "tag": "no_weak"
         },
         {
          "metric_name": "F1",
          "metric_val": 0.7550622468876557,
          "step": 91,
          "tag": "no_weak"
         },
         {
          "metric_name": "F1",
          "metric_val": 0.7688977688977687,
          "step": 191,
          "tag": "no_weak"
         },
         {
          "metric_name": "F1",
          "metric_val": 0.7835524304494038,
          "step": 391,
          "tag": "no_weak"
         },
         {
          "metric_name": "F1",
          "metric_val": 0.7881435257410296,
          "step": 791,
          "tag": "no_weak"
         },
         {
          "metric_name": "F1",
          "metric_val": 0.7933447364329032,
          "step": 999,
          "tag": "no_weak"
         },
         {
          "metric_name": "Precession",
          "metric_val": 0.49023374959974386,
          "step": 1,
          "tag": "weak_0.1"
         },
         {
          "metric_name": "Precession",
          "metric_val": 0.026256804354787062,
          "step": 6,
          "tag": "weak_0.1"
         },
         {
          "metric_name": "Precession",
          "metric_val": 0.3208453410182517,
          "step": 16,
          "tag": "weak_0.1"
         },
         {
          "metric_name": "Precession",
          "metric_val": 0.5142491194364394,
          "step": 41,
          "tag": "weak_0.1"
         },
         {
          "metric_name": "Precession",
          "metric_val": 0.5510726865193724,
          "step": 91,
          "tag": "weak_0.1"
         },
         {
          "metric_name": "Precession",
          "metric_val": 0.4674991994876721,
          "step": 191,
          "tag": "weak_0.1"
         },
         {
          "metric_name": "Precession",
          "metric_val": 0.7002881844380403,
          "step": 391,
          "tag": "weak_0.1"
         },
         {
          "metric_name": "Precession",
          "metric_val": 0.7278258085174512,
          "step": 791,
          "tag": "weak_0.1"
         },
         {
          "metric_name": "Precession",
          "metric_val": 0.7838616714697406,
          "step": 999,
          "tag": "weak_0.1"
         },
         {
          "metric_name": "Recall",
          "metric_val": 0.16920866489832007,
          "step": 1,
          "tag": "weak_0.1"
         },
         {
          "metric_name": "Recall",
          "metric_val": 0.44324324324324327,
          "step": 6,
          "tag": "weak_0.1"
         },
         {
          "metric_name": "Recall",
          "metric_val": 0.6435452793834296,
          "step": 16,
          "tag": "weak_0.1"
         },
         {
          "metric_name": "Recall",
          "metric_val": 0.5754209960587603,
          "step": 41,
          "tag": "weak_0.1"
         },
         {
          "metric_name": "Recall",
          "metric_val": 0.3617826361151987,
          "step": 91,
          "tag": "weak_0.1"
         },
         {
          "metric_name": "Recall",
          "metric_val": 0.7604166666666666,
          "step": 191,
          "tag": "weak_0.1"
         },
         {
          "metric_name": "Recall",
          "metric_val": 0.6631291691934506,
          "step": 391,
          "tag": "weak_0.1"
         },
         {
          "metric_name": "Recall",
          "metric_val": 0.6740806642941874,
          "step": 791,
          "tag": "weak_0.1"
         },
         {
          "metric_name": "Recall",
          "metric_val": 0.7187316500293599,
          "step": 999,
          "tag": "weak_0.1"
         },
         {
          "metric_name": "F1",
          "metric_val": 0.25158162846109605,
          "step": 1,
          "tag": "weak_0.1"
         },
         {
          "metric_name": "F1",
          "metric_val": 0.049576783555018135,
          "step": 6,
          "tag": "weak_0.1"
         },
         {
          "metric_name": "F1",
          "metric_val": 0.42820512820512824,
          "step": 16,
          "tag": "weak_0.1"
         },
         {
          "metric_name": "F1",
          "metric_val": 0.5431180250253635,
          "step": 41,
          "tag": "weak_0.1"
         },
         {
          "metric_name": "F1",
          "metric_val": 0.4368020304568528,
          "step": 91,
          "tag": "weak_0.1"
         },
         {
          "metric_name": "F1",
          "metric_val": 0.5790204243505849,
          "step": 191,
          "tag": "weak_0.1"
         },
         {
          "metric_name": "F1",
          "metric_val": 0.6812023049369257,
          "step": 391,
          "tag": "weak_0.1"
         },
         {
          "metric_name": "F1",
          "metric_val": 0.6999230177059277,
          "step": 791,
          "tag": "weak_0.1"
         },
         {
          "metric_name": "F1",
          "metric_val": 0.7498851278909481,
          "step": 999,
          "tag": "weak_0.1"
         },
         {
          "metric_name": "Precession",
          "metric_val": 0.028498238872878643,
          "step": 1,
          "tag": "weak_0.01"
         },
         {
          "metric_name": "Precession",
          "metric_val": 0.6087095741274415,
          "step": 6,
          "tag": "weak_0.01"
         },
         {
          "metric_name": "Precession",
          "metric_val": 0.5283381364073007,
          "step": 16,
          "tag": "weak_0.01"
         },
         {
          "metric_name": "Precession",
          "metric_val": 0.8434197886647454,
          "step": 41,
          "tag": "weak_0.01"
         },
         {
          "metric_name": "Precession",
          "metric_val": 0.6887608069164265,
          "step": 91,
          "tag": "weak_0.01"
         },
         {
          "metric_name": "Precession",
          "metric_val": 0.7124559718219661,
          "step": 191,
          "tag": "weak_0.01"
         },
         {
          "metric_name": "Precession",
          "metric_val": 0.7239833493435799,
          "step": 391,
          "tag": "weak_0.01"
         },
         {
          "metric_name": "Precession",
          "metric_val": 0.7768171629843099,
          "step": 791,
          "tag": "weak_0.01"
         },
         {
          "metric_name": "Precession",
          "metric_val": 0.8453410182516811,
          "step": 999,
          "tag": "weak_0.01"
         },
         {
          "metric_name": "Recall",
          "metric_val": 0.3920704845814978,
          "step": 1,
          "tag": "weak_0.01"
         },
         {
          "metric_name": "Recall",
          "metric_val": 0.46196840826245444,
          "step": 6,
          "tag": "weak_0.01"
         },
         {
          "metric_name": "Recall",
          "metric_val": 0.6193693693693694,
          "step": 16,
          "tag": "weak_0.01"
         },
         {
          "metric_name": "Recall",
          "metric_val": 0.34328163690864066,
          "step": 41,
          "tag": "weak_0.01"
         },
         {
          "metric_name": "Recall",
          "metric_val": 0.7502615974886641,
          "step": 91,
          "tag": "weak_0.01"
         },
         {
          "metric_name": "Recall",
          "metric_val": 0.7867751060820368,
          "step": 191,
          "tag": "weak_0.01"
         },
         {
          "metric_name": "Recall",
          "metric_val": 0.75066401062417,
          "step": 391,
          "tag": "weak_0.01"
         },
         {
          "metric_name": "Recall",
          "metric_val": 0.7648171500630517,
          "step": 791,
          "tag": "weak_0.01"
         },
         {
          "metric_name": "Recall",
          "metric_val": 0.6858924395946999,
          "step": 999,
          "tag": "weak_0.01"
         },
         {
          "metric_name": "F1",
          "metric_val": 0.05313432835820895,
          "step": 1,
          "tag": "weak_0.01"
         },
         {
          "metric_name": "F1",
          "metric_val": 0.5252832274108871,
          "step": 6,
          "tag": "weak_0.01"
         },
         {
          "metric_name": "F1",
          "metric_val": 0.5702436495593572,
          "step": 16,
          "tag": "weak_0.01"
         },
         {
          "metric_name": "F1",
          "metric_val": 0.48795850314931455,
          "step": 41,
          "tag": "weak_0.01"
         },
         {
          "metric_name": "F1",
          "metric_val": 0.7181969949916528,
          "step": 91,
          "tag": "weak_0.01"
         },
         {
          "metric_name": "F1",
          "metric_val": 0.7477734834481601,
          "step": 191,
          "tag": "weak_0.01"
         },
         {
          "metric_name": "F1",
          "metric_val": 0.737082314588427,
          "step": 391,
          "tag": "weak_0.01"
         },
         {
          "metric_name": "F1",
          "metric_val": 0.7707704527402701,
          "step": 791,
          "tag": "weak_0.01"
         },
         {
          "metric_name": "F1",
          "metric_val": 0.757314974182444,
          "step": 999,
          "tag": "weak_0.01"
         },
         {
          "metric_name": "Precession",
          "metric_val": 0,
          "step": 1,
          "tag": "weak_0.001"
         },
         {
          "metric_name": "Precession",
          "metric_val": 0.6673070765289786,
          "step": 6,
          "tag": "weak_0.001"
         },
         {
          "metric_name": "Precession",
          "metric_val": 0.7121357668908102,
          "step": 16,
          "tag": "weak_0.001"
         },
         {
          "metric_name": "Precession",
          "metric_val": 0.8322126160742875,
          "step": 41,
          "tag": "weak_0.001"
         },
         {
          "metric_name": "Precession",
          "metric_val": 0.7675312199807877,
          "step": 91,
          "tag": "weak_0.001"
         },
         {
          "metric_name": "Precession",
          "metric_val": 0.7114953570284982,
          "step": 191,
          "tag": "weak_0.001"
         },
         {
          "metric_name": "Precession",
          "metric_val": 0.7758565481908422,
          "step": 391,
          "tag": "weak_0.001"
         },
         {
          "metric_name": "Precession",
          "metric_val": 0.7275056035862952,
          "step": 791,
          "tag": "weak_0.001"
         },
         {
          "metric_name": "Precession",
          "metric_val": 0.7105347422350304,
          "step": 999,
          "tag": "weak_0.001"
         },
         {
          "metric_name": "Recall",
          "metric_val": 0,
          "step": 1,
          "tag": "weak_0.001"
         },
         {
          "metric_name": "Recall",
          "metric_val": 0.702866779089376,
          "step": 6,
          "tag": "weak_0.001"
         },
         {
          "metric_name": "Recall",
          "metric_val": 0.7094098883572568,
          "step": 16,
          "tag": "weak_0.001"
         },
         {
          "metric_name": "Recall",
          "metric_val": 0.6715762273901809,
          "step": 41,
          "tag": "weak_0.001"
         },
         {
          "metric_name": "Recall",
          "metric_val": 0.7643494897959183,
          "step": 91,
          "tag": "weak_0.001"
         },
         {
          "metric_name": "Recall",
          "metric_val": 0.816611539875046,
          "step": 191,
          "tag": "weak_0.001"
         },
         {
          "metric_name": "Recall",
          "metric_val": 0.7949475065616798,
          "step": 391,
          "tag": "weak_0.001"
         },
         {
          "metric_name": "Recall",
          "metric_val": 0.8414814814814815,
          "step": 791,
          "tag": "weak_0.001"
         },
         {
          "metric_name": "Recall",
          "metric_val": 0.8531334102268359,
          "step": 999,
          "tag": "weak_0.001"
         },
         {
          "metric_name": "F1",
          "metric_val": 0,
          "step": 1,
          "tag": "weak_0.001"
         },
         {
          "metric_name": "F1",
          "metric_val": 0.6846254927726675,
          "step": 6,
          "tag": "weak_0.001"
         },
         {
          "metric_name": "F1",
          "metric_val": 0.7107702141259188,
          "step": 16,
          "tag": "weak_0.001"
         },
         {
          "metric_name": "F1",
          "metric_val": 0.7433147433147433,
          "step": 41,
          "tag": "weak_0.001"
         },
         {
          "metric_name": "F1",
          "metric_val": 0.7659370506470681,
          "step": 91,
          "tag": "weak_0.001"
         },
         {
          "metric_name": "F1",
          "metric_val": 0.7604380561259412,
          "step": 191,
          "tag": "weak_0.001"
         },
         {
          "metric_name": "F1",
          "metric_val": 0.7852860152325393,
          "step": 391,
          "tag": "weak_0.001"
         },
         {
          "metric_name": "F1",
          "metric_val": 0.7803537695346041,
          "step": 791,
          "tag": "weak_0.001"
         },
         {
          "metric_name": "F1",
          "metric_val": 0.7753319357092943,
          "step": 999,
          "tag": "weak_0.001"
         },
         {
          "metric_name": "Precession",
          "metric_val": 0.06179955171309638,
          "step": 1,
          "tag": "weak_1"
         },
         {
          "metric_name": "Precession",
          "metric_val": 0.2564841498559078,
          "step": 6,
          "tag": "weak_1"
         },
         {
          "metric_name": "Precession",
          "metric_val": 0.3080371437720141,
          "step": 16,
          "tag": "weak_1"
         },
         {
          "metric_name": "Precession",
          "metric_val": 0.361831572206212,
          "step": 41,
          "tag": "weak_1"
         },
         {
          "metric_name": "Precession",
          "metric_val": 0.3390970220941403,
          "step": 91,
          "tag": "weak_1"
         },
         {
          "metric_name": "Precession",
          "metric_val": 0.6019852705731669,
          "step": 191,
          "tag": "weak_1"
         },
         {
          "metric_name": "Precession",
          "metric_val": 0.579891130323407,
          "step": 391,
          "tag": "weak_1"
         },
         {
          "metric_name": "Precession",
          "metric_val": 0.553314121037464,
          "step": 791,
          "tag": "weak_1"
         },
         {
          "metric_name": "Precession",
          "metric_val": 0.7415946205571565,
          "step": 999,
          "tag": "weak_1"
         },
         {
          "metric_name": "Recall",
          "metric_val": 0.16218487394957984,
          "step": 1,
          "tag": "weak_1"
         },
         {
          "metric_name": "Recall",
          "metric_val": 0.33955065705807547,
          "step": 6,
          "tag": "weak_1"
         },
         {
          "metric_name": "Recall",
          "metric_val": 0.7068332108743571,
          "step": 16,
          "tag": "weak_1"
         },
         {
          "metric_name": "Recall",
          "metric_val": 0.7771664374140302,
          "step": 41,
          "tag": "weak_1"
         },
         {
          "metric_name": "Recall",
          "metric_val": 0.7735573411249087,
          "step": 91,
          "tag": "weak_1"
         },
         {
          "metric_name": "Recall",
          "metric_val": 0.6048906048906049,
          "step": 191,
          "tag": "weak_1"
         },
         {
          "metric_name": "Recall",
          "metric_val": 0.7400899060073559,
          "step": 391,
          "tag": "weak_1"
         },
         {
          "metric_name": "Recall",
          "metric_val": 0.7854545454545454,
          "step": 791,
          "tag": "weak_1"
         },
         {
          "metric_name": "Recall",
          "metric_val": 0.7089072543617998,
          "step": 999,
          "tag": "weak_1"
         },
         {
          "metric_name": "F1",
          "metric_val": 0.08949686992812428,
          "step": 1,
          "tag": "weak_1"
         },
         {
          "metric_name": "F1",
          "metric_val": 0.29222911346224006,
          "step": 6,
          "tag": "weak_1"
         },
         {
          "metric_name": "F1",
          "metric_val": 0.4290811775200714,
          "step": 16,
          "tag": "weak_1"
         },
         {
          "metric_name": "F1",
          "metric_val": 0.4937732138955648,
          "step": 41,
          "tag": "weak_1"
         },
         {
          "metric_name": "F1",
          "metric_val": 0.4715048975957257,
          "step": 91,
          "tag": "weak_1"
         },
         {
          "metric_name": "F1",
          "metric_val": 0.6034344406997271,
          "step": 191,
          "tag": "weak_1"
         },
         {
          "metric_name": "F1",
          "metric_val": 0.6502692998204668,
          "step": 391,
          "tag": "weak_1"
         },
         {
          "metric_name": "F1",
          "metric_val": 0.6492579372534285,
          "step": 791,
          "tag": "weak_1"
         },
         {
          "metric_name": "F1",
          "metric_val": 0.7248826291079812,
          "step": 999,
          "tag": "weak_1"
         }
        ]
       },
       "vconcat": [
        {
         "layer": [
          {
           "data": {
            "name": "data-cb478328e7668f33d854f5fe6db8b66b"
           },
           "encoding": {
            "color": {
             "field": "tag",
             "type": "nominal"
            },
            "opacity": {
             "value": 0
            },
            "x": {
             "field": "step",
             "title": "Dataset Size",
             "type": "quantitative"
            },
            "y": {
             "field": "metric_val",
             "scale": {
              "domain": [
               0,
               1
              ]
             },
             "title": "F1",
             "type": "quantitative"
            }
           },
           "mark": "circle",
           "selection": {
            "selector026": {
             "empty": "all",
             "fields": [
              "tag"
             ],
             "nearest": true,
             "on": "mouseover",
             "resolve": "global",
             "type": "single"
            }
           },
           "transform": [
            {
             "filter": "(datum.metric_name === 'F1')"
            }
           ],
           "width": 600
          },
          {
           "data": {
            "name": "data-cb478328e7668f33d854f5fe6db8b66b"
           },
           "encoding": {
            "color": {
             "field": "tag",
             "type": "nominal"
            },
            "size": {
             "condition": {
              "selection": {
               "not": "selector026"
              },
              "value": 1
             },
             "value": 3
            },
            "x": {
             "field": "step",
             "title": "Dataset Size",
             "type": "quantitative"
            },
            "y": {
             "field": "metric_val",
             "scale": {
              "domain": [
               0,
               1
              ]
             },
             "title": "F1",
             "type": "quantitative"
            }
           },
           "mark": "line",
           "transform": [
            {
             "filter": "(datum.metric_name === 'F1')"
            }
           ]
          }
         ]
        },
        {
         "layer": [
          {
           "data": {
            "name": "data-cb478328e7668f33d854f5fe6db8b66b"
           },
           "encoding": {
            "color": {
             "field": "tag",
             "type": "nominal"
            },
            "opacity": {
             "value": 0
            },
            "x": {
             "field": "step",
             "title": "Dataset Size",
             "type": "quantitative"
            },
            "y": {
             "field": "metric_val",
             "scale": {
              "domain": [
               0,
               1
              ]
             },
             "title": "Precession",
             "type": "quantitative"
            }
           },
           "mark": "circle",
           "selection": {
            "selector027": {
             "empty": "all",
             "fields": [
              "tag"
             ],
             "nearest": true,
             "on": "mouseover",
             "resolve": "global",
             "type": "single"
            }
           },
           "transform": [
            {
             "filter": "(datum.metric_name === 'Precession')"
            }
           ],
           "width": 600
          },
          {
           "data": {
            "name": "data-cb478328e7668f33d854f5fe6db8b66b"
           },
           "encoding": {
            "color": {
             "field": "tag",
             "type": "nominal"
            },
            "size": {
             "condition": {
              "selection": {
               "not": "selector027"
              },
              "value": 1
             },
             "value": 3
            },
            "x": {
             "field": "step",
             "title": "Dataset Size",
             "type": "quantitative"
            },
            "y": {
             "field": "metric_val",
             "scale": {
              "domain": [
               0,
               1
              ]
             },
             "title": "Precession",
             "type": "quantitative"
            }
           },
           "mark": "line",
           "transform": [
            {
             "filter": "(datum.metric_name === 'Precession')"
            }
           ]
          }
         ]
        },
        {
         "layer": [
          {
           "data": {
            "name": "data-cb478328e7668f33d854f5fe6db8b66b"
           },
           "encoding": {
            "color": {
             "field": "tag",
             "type": "nominal"
            },
            "opacity": {
             "value": 0
            },
            "x": {
             "field": "step",
             "title": "Dataset Size",
             "type": "quantitative"
            },
            "y": {
             "field": "metric_val",
             "scale": {
              "domain": [
               0,
               1
              ]
             },
             "title": "Recall",
             "type": "quantitative"
            }
           },
           "mark": "circle",
           "selection": {
            "selector028": {
             "empty": "all",
             "fields": [
              "tag"
             ],
             "nearest": true,
             "on": "mouseover",
             "resolve": "global",
             "type": "single"
            }
           },
           "transform": [
            {
             "filter": "(datum.metric_name === 'Recall')"
            }
           ],
           "width": 600
          },
          {
           "data": {
            "name": "data-cb478328e7668f33d854f5fe6db8b66b"
           },
           "encoding": {
            "color": {
             "field": "tag",
             "type": "nominal"
            },
            "size": {
             "condition": {
              "selection": {
               "not": "selector028"
              },
              "value": 1
             },
             "value": 3
            },
            "x": {
             "field": "step",
             "title": "Dataset Size",
             "type": "quantitative"
            },
            "y": {
             "field": "metric_val",
             "scale": {
              "domain": [
               0,
               1
              ]
             },
             "title": "Recall",
             "type": "quantitative"
            }
           },
           "mark": "line",
           "transform": [
            {
             "filter": "(datum.metric_name === 'Recall')"
            }
           ]
          }
         ]
        }
       ]
      },
      "image/png": "[encoded data removed]",
      "text/plain": [
       "<VegaLite 2 object>\n",
       "\n",
       "If you see this message, it means the renderer has not been properly enabled\n",
       "for the frontend that you are using. For more information, see\n",
       "https://altair-viz.github.io/user_guide/troubleshooting.html\n"
      ]
     },
     "execution_count": 66,
     "metadata": {},
     "output_type": "execute_result"
    }
   ],
   "source": [
    "def highlightable_line(data_frame: pd.DataFrame, metric: str) -> alt.Chart:\n",
    "    highlight = alt.selection(type='single', on='mouseover',\n",
    "                          fields=['tag'], nearest=True)\n",
    "\n",
    "    chart = alt.Chart(data_frame).mark_line().encode(\n",
    "        x=alt.X('step', title='Dataset Size'),\n",
    "        y=alt.Y('metric_val', title=metric, scale=alt.Scale(domain=[0, 1])),\n",
    "        color='tag',\n",
    "    ).transform_filter(alt.datum.metric_name == metric)\n",
    "\n",
    "    points = chart.mark_circle().encode(\n",
    "        opacity=alt.value(0)\n",
    "    ).add_selection(\n",
    "        highlight\n",
    "    ).properties(\n",
    "        width=600\n",
    "    )\n",
    "\n",
    "    lines = chart.mark_line().encode(\n",
    "        size=alt.condition(~highlight, alt.value(1), alt.value(3))\n",
    "    )\n",
    "    \n",
    "    return points + lines\n",
    "res = [highlightable_line(data_frame, metric) for metric in METRICS.values()]\n",
    "(res[0] & res[1] & res[2])"
   ]
  },
  {
   "cell_type": "code",
   "execution_count": null,
   "metadata": {},
   "outputs": [],
   "source": []
  }
 ],
 "metadata": {
  "kernelspec": {
   "display_name": "Environment (conda_snorkel)",
   "language": "python",
   "name": "conda_snorkel"
  },
  "language_info": {
   "codemirror_mode": {
    "name": "ipython",
    "version": 3
   },
   "file_extension": ".py",
   "mimetype": "text/x-python",
   "name": "python",
   "nbconvert_exporter": "python",
   "pygments_lexer": "ipython3",
   "version": "3.6.7"
  }
 },
 "nbformat": 4,
 "nbformat_minor": 2
}
