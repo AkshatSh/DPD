{
 "cells": [
  {
   "cell_type": "code",
   "execution_count": 33,
   "metadata": {},
   "outputs": [],
   "source": [
    "from typing import (\n",
    "    List,\n",
    "    Dict,\n",
    "    Tuple,\n",
    "    Optional,\n",
    ")\n",
    "\n",
    "import os\n",
    "import sys\n",
    "\n",
    "import pandas as pd\n",
    "import altair as alt\n",
    "import csv\n",
    "\n",
    "DATA_PATH = 'data/weak_experiment_results/CADEC_ADR'\n",
    "METRICS = {\n",
    "    'active valid/ADR/f1': 'F1',\n",
    "    'active valid/ADR/precision': 'Precesion',\n",
    "    'active valid/ADR/recall': 'Recall',\n",
    "}\n",
    "DataDef = List[\n",
    "    Dict[str, object]\n",
    "]"
   ]
  },
  {
   "cell_type": "code",
   "execution_count": 34,
   "metadata": {},
   "outputs": [
    {
     "name": "stdout",
     "output_type": "stream",
     "text": [
      "skipping: CADEC_ADR_phrase_elmo_bi_lstm_trial_2\n",
      "skipping: CADEC_ADR_phrase_elmo_bi_lstm_trial_4\n",
      "skipping: CADEC_ADR_phrase_elmo_bi_lstm_trial_3\n",
      "skipping: CADEC_ADR_phrase_elmo_bi_lstm_trial_1\n",
      "skipping: CADEC_ADR_phrase_elmo_bi_lstm_trial_0\n"
     ]
    }
   ],
   "source": [
    "def parse_file(file_name: str, experiment_tag: str, trial_num: int, weak_weight: float) -> DataDef:\n",
    "    output = []\n",
    "    with open(file_name, 'r') as csv_file:\n",
    "        csv_reader = csv.reader(csv_file, delimiter=',')\n",
    "        for row in csv_reader:\n",
    "            # tag, value, step\n",
    "            metric_name, metric_val, step = row\n",
    "            if metric_name not in METRICS:\n",
    "                continue\n",
    "            output.append({\n",
    "                'metric_name': METRICS[metric_name],\n",
    "                'metric_val': round(float(metric_val), 2),\n",
    "                'step': float(step),\n",
    "                'tag': experiment_tag,\n",
    "                'trial_num': trial_num,\n",
    "                'weak_weight': weak_weight,\n",
    "            })\n",
    "    return output\n",
    "\n",
    "def get_weak_experiment_data(root_dir: str) -> DataDef:\n",
    "    # weak_weight -> trial_num -> summary_file\n",
    "    result: DataDef = []\n",
    "    for file in os.listdir(root_dir):\n",
    "        if not file.startswith('weak_'):\n",
    "            continue\n",
    "        weak_weight = float(file[len('weak_'):])\n",
    "        weight_dir = os.path.join(root_dir, file)\n",
    "        for trial_file in os.listdir(weight_dir):\n",
    "            prefix = 'CADEC_ADR_word_elmo_bi_lstm_trial_'\n",
    "            if not trial_file.startswith(prefix):\n",
    "                print(f'skipping: {trial_file}')\n",
    "                continue\n",
    "            trial_num = int(trial_file[len(prefix):])\n",
    "            summary_file = os.path.join(weight_dir, trial_file, 'summary.csv')\n",
    "            experiment_data = parse_file(summary_file, 'ADR', trial_num, weak_weight)\n",
    "            result.extend(experiment_data)\n",
    "    return result\n",
    "experiment_data = get_weak_experiment_data(DATA_PATH)"
   ]
  },
  {
   "cell_type": "code",
   "execution_count": 36,
   "metadata": {},
   "outputs": [
    {
     "data": {
      "text/html": [
       "<div>\n",
       "<style scoped>\n",
       "    .dataframe tbody tr th:only-of-type {\n",
       "        vertical-align: middle;\n",
       "    }\n",
       "\n",
       "    .dataframe tbody tr th {\n",
       "        vertical-align: top;\n",
       "    }\n",
       "\n",
       "    .dataframe thead th {\n",
       "        text-align: right;\n",
       "    }\n",
       "</style>\n",
       "<table border=\"1\" class=\"dataframe\">\n",
       "  <thead>\n",
       "    <tr style=\"text-align: right;\">\n",
       "      <th></th>\n",
       "      <th>metric_name</th>\n",
       "      <th>metric_val</th>\n",
       "      <th>step</th>\n",
       "      <th>tag</th>\n",
       "      <th>trial_num</th>\n",
       "      <th>weak_weight</th>\n",
       "    </tr>\n",
       "  </thead>\n",
       "  <tbody>\n",
       "    <tr>\n",
       "      <th>0</th>\n",
       "      <td>Precesion</td>\n",
       "      <td>0.03</td>\n",
       "      <td>1.0</td>\n",
       "      <td>ADR</td>\n",
       "      <td>2</td>\n",
       "      <td>0.01</td>\n",
       "    </tr>\n",
       "    <tr>\n",
       "      <th>1</th>\n",
       "      <td>Precesion</td>\n",
       "      <td>0.04</td>\n",
       "      <td>6.0</td>\n",
       "      <td>ADR</td>\n",
       "      <td>2</td>\n",
       "      <td>0.01</td>\n",
       "    </tr>\n",
       "  </tbody>\n",
       "</table>\n",
       "</div>"
      ],
      "text/plain": [
       "  metric_name  metric_val  step  tag  trial_num  weak_weight\n",
       "0   Precesion        0.03   1.0  ADR          2         0.01\n",
       "1   Precesion        0.04   6.0  ADR          2         0.01"
      ]
     },
     "execution_count": 36,
     "metadata": {},
     "output_type": "execute_result"
    }
   ],
   "source": [
    "data_frame = pd.DataFrame(experiment_data)\n",
    "data_frame.head(2)"
   ]
  },
  {
   "cell_type": "code",
   "execution_count": 52,
   "metadata": {},
   "outputs": [
    {
     "data": {
      "application/vnd.vegalite.v2+json": {
       "$schema": "https://vega.github.io/schema/vega-lite/v2.6.0.json",
       "config": {
        "view": {
         "height": 300,
         "width": 400
        }
       },
       "datasets": {
        "data-4c42344587e6f78b29f548ba60030983": [
         {
          "metric_name": "Precesion",
          "metric_val": 0.03,
          "step": 1,
          "tag": "ADR",
          "trial_num": 2,
          "weak_weight": 0.01
         },
         {
          "metric_name": "Precesion",
          "metric_val": 0.04,
          "step": 6,
          "tag": "ADR",
          "trial_num": 2,
          "weak_weight": 0.01
         },
         {
          "metric_name": "Precesion",
          "metric_val": 0.04,
          "step": 16,
          "tag": "ADR",
          "trial_num": 2,
          "weak_weight": 0.01
         },
         {
          "metric_name": "Precesion",
          "metric_val": 0.72,
          "step": 41,
          "tag": "ADR",
          "trial_num": 2,
          "weak_weight": 0.01
         },
         {
          "metric_name": "Precesion",
          "metric_val": 0.69,
          "step": 91,
          "tag": "ADR",
          "trial_num": 2,
          "weak_weight": 0.01
         },
         {
          "metric_name": "Precesion",
          "metric_val": 0.76,
          "step": 191,
          "tag": "ADR",
          "trial_num": 2,
          "weak_weight": 0.01
         },
         {
          "metric_name": "Precesion",
          "metric_val": 0.75,
          "step": 391,
          "tag": "ADR",
          "trial_num": 2,
          "weak_weight": 0.01
         },
         {
          "metric_name": "Precesion",
          "metric_val": 0.79,
          "step": 791,
          "tag": "ADR",
          "trial_num": 2,
          "weak_weight": 0.01
         },
         {
          "metric_name": "Precesion",
          "metric_val": 0.78,
          "step": 999,
          "tag": "ADR",
          "trial_num": 2,
          "weak_weight": 0.01
         },
         {
          "metric_name": "Recall",
          "metric_val": 0.38,
          "step": 1,
          "tag": "ADR",
          "trial_num": 2,
          "weak_weight": 0.01
         },
         {
          "metric_name": "Recall",
          "metric_val": 0.45,
          "step": 6,
          "tag": "ADR",
          "trial_num": 2,
          "weak_weight": 0.01
         },
         {
          "metric_name": "Recall",
          "metric_val": 0.9,
          "step": 16,
          "tag": "ADR",
          "trial_num": 2,
          "weak_weight": 0.01
         },
         {
          "metric_name": "Recall",
          "metric_val": 0.74,
          "step": 41,
          "tag": "ADR",
          "trial_num": 2,
          "weak_weight": 0.01
         },
         {
          "metric_name": "Recall",
          "metric_val": 0.79,
          "step": 91,
          "tag": "ADR",
          "trial_num": 2,
          "weak_weight": 0.01
         },
         {
          "metric_name": "Recall",
          "metric_val": 0.78,
          "step": 191,
          "tag": "ADR",
          "trial_num": 2,
          "weak_weight": 0.01
         },
         {
          "metric_name": "Recall",
          "metric_val": 0.81,
          "step": 391,
          "tag": "ADR",
          "trial_num": 2,
          "weak_weight": 0.01
         },
         {
          "metric_name": "Recall",
          "metric_val": 0.81,
          "step": 791,
          "tag": "ADR",
          "trial_num": 2,
          "weak_weight": 0.01
         },
         {
          "metric_name": "Recall",
          "metric_val": 0.82,
          "step": 999,
          "tag": "ADR",
          "trial_num": 2,
          "weak_weight": 0.01
         },
         {
          "metric_name": "F1",
          "metric_val": 0.05,
          "step": 1,
          "tag": "ADR",
          "trial_num": 2,
          "weak_weight": 0.01
         },
         {
          "metric_name": "F1",
          "metric_val": 0.07,
          "step": 6,
          "tag": "ADR",
          "trial_num": 2,
          "weak_weight": 0.01
         },
         {
          "metric_name": "F1",
          "metric_val": 0.08,
          "step": 16,
          "tag": "ADR",
          "trial_num": 2,
          "weak_weight": 0.01
         },
         {
          "metric_name": "F1",
          "metric_val": 0.73,
          "step": 41,
          "tag": "ADR",
          "trial_num": 2,
          "weak_weight": 0.01
         },
         {
          "metric_name": "F1",
          "metric_val": 0.74,
          "step": 91,
          "tag": "ADR",
          "trial_num": 2,
          "weak_weight": 0.01
         },
         {
          "metric_name": "F1",
          "metric_val": 0.77,
          "step": 191,
          "tag": "ADR",
          "trial_num": 2,
          "weak_weight": 0.01
         },
         {
          "metric_name": "F1",
          "metric_val": 0.78,
          "step": 391,
          "tag": "ADR",
          "trial_num": 2,
          "weak_weight": 0.01
         },
         {
          "metric_name": "F1",
          "metric_val": 0.8,
          "step": 791,
          "tag": "ADR",
          "trial_num": 2,
          "weak_weight": 0.01
         },
         {
          "metric_name": "F1",
          "metric_val": 0.8,
          "step": 999,
          "tag": "ADR",
          "trial_num": 2,
          "weak_weight": 0.01
         },
         {
          "metric_name": "Precesion",
          "metric_val": 0.1,
          "step": 1,
          "tag": "ADR",
          "trial_num": 4,
          "weak_weight": 0.01
         },
         {
          "metric_name": "Precesion",
          "metric_val": 0.21,
          "step": 6,
          "tag": "ADR",
          "trial_num": 4,
          "weak_weight": 0.01
         },
         {
          "metric_name": "Precesion",
          "metric_val": 0.47,
          "step": 16,
          "tag": "ADR",
          "trial_num": 4,
          "weak_weight": 0.01
         },
         {
          "metric_name": "Precesion",
          "metric_val": 0.65,
          "step": 41,
          "tag": "ADR",
          "trial_num": 4,
          "weak_weight": 0.01
         },
         {
          "metric_name": "Precesion",
          "metric_val": 0.78,
          "step": 91,
          "tag": "ADR",
          "trial_num": 4,
          "weak_weight": 0.01
         },
         {
          "metric_name": "Precesion",
          "metric_val": 0.78,
          "step": 191,
          "tag": "ADR",
          "trial_num": 4,
          "weak_weight": 0.01
         },
         {
          "metric_name": "Precesion",
          "metric_val": 0.75,
          "step": 391,
          "tag": "ADR",
          "trial_num": 4,
          "weak_weight": 0.01
         },
         {
          "metric_name": "Precesion",
          "metric_val": 0.83,
          "step": 791,
          "tag": "ADR",
          "trial_num": 4,
          "weak_weight": 0.01
         },
         {
          "metric_name": "Precesion",
          "metric_val": 0.83,
          "step": 999,
          "tag": "ADR",
          "trial_num": 4,
          "weak_weight": 0.01
         },
         {
          "metric_name": "Recall",
          "metric_val": 0.47,
          "step": 1,
          "tag": "ADR",
          "trial_num": 4,
          "weak_weight": 0.01
         },
         {
          "metric_name": "Recall",
          "metric_val": 0.66,
          "step": 6,
          "tag": "ADR",
          "trial_num": 4,
          "weak_weight": 0.01
         },
         {
          "metric_name": "Recall",
          "metric_val": 0.76,
          "step": 16,
          "tag": "ADR",
          "trial_num": 4,
          "weak_weight": 0.01
         },
         {
          "metric_name": "Recall",
          "metric_val": 0.57,
          "step": 41,
          "tag": "ADR",
          "trial_num": 4,
          "weak_weight": 0.01
         },
         {
          "metric_name": "Recall",
          "metric_val": 0.72,
          "step": 91,
          "tag": "ADR",
          "trial_num": 4,
          "weak_weight": 0.01
         },
         {
          "metric_name": "Recall",
          "metric_val": 0.72,
          "step": 191,
          "tag": "ADR",
          "trial_num": 4,
          "weak_weight": 0.01
         },
         {
          "metric_name": "Recall",
          "metric_val": 0.76,
          "step": 391,
          "tag": "ADR",
          "trial_num": 4,
          "weak_weight": 0.01
         },
         {
          "metric_name": "Recall",
          "metric_val": 0.75,
          "step": 791,
          "tag": "ADR",
          "trial_num": 4,
          "weak_weight": 0.01
         },
         {
          "metric_name": "Recall",
          "metric_val": 0.74,
          "step": 999,
          "tag": "ADR",
          "trial_num": 4,
          "weak_weight": 0.01
         },
         {
          "metric_name": "F1",
          "metric_val": 0.16,
          "step": 1,
          "tag": "ADR",
          "trial_num": 4,
          "weak_weight": 0.01
         },
         {
          "metric_name": "F1",
          "metric_val": 0.31,
          "step": 6,
          "tag": "ADR",
          "trial_num": 4,
          "weak_weight": 0.01
         },
         {
          "metric_name": "F1",
          "metric_val": 0.58,
          "step": 16,
          "tag": "ADR",
          "trial_num": 4,
          "weak_weight": 0.01
         },
         {
          "metric_name": "F1",
          "metric_val": 0.61,
          "step": 41,
          "tag": "ADR",
          "trial_num": 4,
          "weak_weight": 0.01
         },
         {
          "metric_name": "F1",
          "metric_val": 0.75,
          "step": 91,
          "tag": "ADR",
          "trial_num": 4,
          "weak_weight": 0.01
         },
         {
          "metric_name": "F1",
          "metric_val": 0.75,
          "step": 191,
          "tag": "ADR",
          "trial_num": 4,
          "weak_weight": 0.01
         },
         {
          "metric_name": "F1",
          "metric_val": 0.76,
          "step": 391,
          "tag": "ADR",
          "trial_num": 4,
          "weak_weight": 0.01
         },
         {
          "metric_name": "F1",
          "metric_val": 0.79,
          "step": 791,
          "tag": "ADR",
          "trial_num": 4,
          "weak_weight": 0.01
         },
         {
          "metric_name": "F1",
          "metric_val": 0.78,
          "step": 999,
          "tag": "ADR",
          "trial_num": 4,
          "weak_weight": 0.01
         },
         {
          "metric_name": "Precesion",
          "metric_val": 0.18,
          "step": 1,
          "tag": "ADR",
          "trial_num": 3,
          "weak_weight": 0.01
         },
         {
          "metric_name": "Precesion",
          "metric_val": 0.56,
          "step": 6,
          "tag": "ADR",
          "trial_num": 3,
          "weak_weight": 0.01
         },
         {
          "metric_name": "Precesion",
          "metric_val": 0.6,
          "step": 16,
          "tag": "ADR",
          "trial_num": 3,
          "weak_weight": 0.01
         },
         {
          "metric_name": "Precesion",
          "metric_val": 0.72,
          "step": 41,
          "tag": "ADR",
          "trial_num": 3,
          "weak_weight": 0.01
         },
         {
          "metric_name": "Precesion",
          "metric_val": 0.81,
          "step": 91,
          "tag": "ADR",
          "trial_num": 3,
          "weak_weight": 0.01
         },
         {
          "metric_name": "Precesion",
          "metric_val": 0.8,
          "step": 191,
          "tag": "ADR",
          "trial_num": 3,
          "weak_weight": 0.01
         },
         {
          "metric_name": "Precesion",
          "metric_val": 0.81,
          "step": 391,
          "tag": "ADR",
          "trial_num": 3,
          "weak_weight": 0.01
         },
         {
          "metric_name": "Precesion",
          "metric_val": 0.77,
          "step": 791,
          "tag": "ADR",
          "trial_num": 3,
          "weak_weight": 0.01
         },
         {
          "metric_name": "Precesion",
          "metric_val": 0.78,
          "step": 999,
          "tag": "ADR",
          "trial_num": 3,
          "weak_weight": 0.01
         },
         {
          "metric_name": "Recall",
          "metric_val": 0.33,
          "step": 1,
          "tag": "ADR",
          "trial_num": 3,
          "weak_weight": 0.01
         },
         {
          "metric_name": "Recall",
          "metric_val": 0.56,
          "step": 6,
          "tag": "ADR",
          "trial_num": 3,
          "weak_weight": 0.01
         },
         {
          "metric_name": "Recall",
          "metric_val": 0.71,
          "step": 16,
          "tag": "ADR",
          "trial_num": 3,
          "weak_weight": 0.01
         },
         {
          "metric_name": "Recall",
          "metric_val": 0.67,
          "step": 41,
          "tag": "ADR",
          "trial_num": 3,
          "weak_weight": 0.01
         },
         {
          "metric_name": "Recall",
          "metric_val": 0.69,
          "step": 91,
          "tag": "ADR",
          "trial_num": 3,
          "weak_weight": 0.01
         },
         {
          "metric_name": "Recall",
          "metric_val": 0.74,
          "step": 191,
          "tag": "ADR",
          "trial_num": 3,
          "weak_weight": 0.01
         },
         {
          "metric_name": "Recall",
          "metric_val": 0.76,
          "step": 391,
          "tag": "ADR",
          "trial_num": 3,
          "weak_weight": 0.01
         },
         {
          "metric_name": "Recall",
          "metric_val": 0.78,
          "step": 791,
          "tag": "ADR",
          "trial_num": 3,
          "weak_weight": 0.01
         },
         {
          "metric_name": "Recall",
          "metric_val": 0.8,
          "step": 999,
          "tag": "ADR",
          "trial_num": 3,
          "weak_weight": 0.01
         },
         {
          "metric_name": "F1",
          "metric_val": 0.23,
          "step": 1,
          "tag": "ADR",
          "trial_num": 3,
          "weak_weight": 0.01
         },
         {
          "metric_name": "F1",
          "metric_val": 0.56,
          "step": 6,
          "tag": "ADR",
          "trial_num": 3,
          "weak_weight": 0.01
         },
         {
          "metric_name": "F1",
          "metric_val": 0.65,
          "step": 16,
          "tag": "ADR",
          "trial_num": 3,
          "weak_weight": 0.01
         },
         {
          "metric_name": "F1",
          "metric_val": 0.69,
          "step": 41,
          "tag": "ADR",
          "trial_num": 3,
          "weak_weight": 0.01
         },
         {
          "metric_name": "F1",
          "metric_val": 0.75,
          "step": 91,
          "tag": "ADR",
          "trial_num": 3,
          "weak_weight": 0.01
         },
         {
          "metric_name": "F1",
          "metric_val": 0.77,
          "step": 191,
          "tag": "ADR",
          "trial_num": 3,
          "weak_weight": 0.01
         },
         {
          "metric_name": "F1",
          "metric_val": 0.78,
          "step": 391,
          "tag": "ADR",
          "trial_num": 3,
          "weak_weight": 0.01
         },
         {
          "metric_name": "F1",
          "metric_val": 0.78,
          "step": 791,
          "tag": "ADR",
          "trial_num": 3,
          "weak_weight": 0.01
         },
         {
          "metric_name": "F1",
          "metric_val": 0.79,
          "step": 999,
          "tag": "ADR",
          "trial_num": 3,
          "weak_weight": 0.01
         },
         {
          "metric_name": "Precesion",
          "metric_val": 0.08,
          "step": 1,
          "tag": "ADR",
          "trial_num": 1,
          "weak_weight": 0.01
         },
         {
          "metric_name": "Precesion",
          "metric_val": 0.04,
          "step": 6,
          "tag": "ADR",
          "trial_num": 1,
          "weak_weight": 0.01
         },
         {
          "metric_name": "Precesion",
          "metric_val": 0.41,
          "step": 16,
          "tag": "ADR",
          "trial_num": 1,
          "weak_weight": 0.01
         },
         {
          "metric_name": "Precesion",
          "metric_val": 0.73,
          "step": 41,
          "tag": "ADR",
          "trial_num": 1,
          "weak_weight": 0.01
         },
         {
          "metric_name": "Precesion",
          "metric_val": 0.81,
          "step": 91,
          "tag": "ADR",
          "trial_num": 1,
          "weak_weight": 0.01
         },
         {
          "metric_name": "Precesion",
          "metric_val": 0.85,
          "step": 191,
          "tag": "ADR",
          "trial_num": 1,
          "weak_weight": 0.01
         },
         {
          "metric_name": "Precesion",
          "metric_val": 0.81,
          "step": 391,
          "tag": "ADR",
          "trial_num": 1,
          "weak_weight": 0.01
         },
         {
          "metric_name": "Precesion",
          "metric_val": 0.85,
          "step": 791,
          "tag": "ADR",
          "trial_num": 1,
          "weak_weight": 0.01
         },
         {
          "metric_name": "Precesion",
          "metric_val": 0.79,
          "step": 999,
          "tag": "ADR",
          "trial_num": 1,
          "weak_weight": 0.01
         },
         {
          "metric_name": "Recall",
          "metric_val": 0.41,
          "step": 1,
          "tag": "ADR",
          "trial_num": 1,
          "weak_weight": 0.01
         },
         {
          "metric_name": "Recall",
          "metric_val": 0.75,
          "step": 6,
          "tag": "ADR",
          "trial_num": 1,
          "weak_weight": 0.01
         },
         {
          "metric_name": "Recall",
          "metric_val": 0.73,
          "step": 16,
          "tag": "ADR",
          "trial_num": 1,
          "weak_weight": 0.01
         },
         {
          "metric_name": "Recall",
          "metric_val": 0.65,
          "step": 41,
          "tag": "ADR",
          "trial_num": 1,
          "weak_weight": 0.01
         },
         {
          "metric_name": "Recall",
          "metric_val": 0.65,
          "step": 91,
          "tag": "ADR",
          "trial_num": 1,
          "weak_weight": 0.01
         },
         {
          "metric_name": "Recall",
          "metric_val": 0.66,
          "step": 191,
          "tag": "ADR",
          "trial_num": 1,
          "weak_weight": 0.01
         },
         {
          "metric_name": "Recall",
          "metric_val": 0.74,
          "step": 391,
          "tag": "ADR",
          "trial_num": 1,
          "weak_weight": 0.01
         },
         {
          "metric_name": "Recall",
          "metric_val": 0.72,
          "step": 791,
          "tag": "ADR",
          "trial_num": 1,
          "weak_weight": 0.01
         },
         {
          "metric_name": "Recall",
          "metric_val": 0.8,
          "step": 999,
          "tag": "ADR",
          "trial_num": 1,
          "weak_weight": 0.01
         },
         {
          "metric_name": "F1",
          "metric_val": 0.14,
          "step": 1,
          "tag": "ADR",
          "trial_num": 1,
          "weak_weight": 0.01
         },
         {
          "metric_name": "F1",
          "metric_val": 0.08,
          "step": 6,
          "tag": "ADR",
          "trial_num": 1,
          "weak_weight": 0.01
         },
         {
          "metric_name": "F1",
          "metric_val": 0.52,
          "step": 16,
          "tag": "ADR",
          "trial_num": 1,
          "weak_weight": 0.01
         },
         {
          "metric_name": "F1",
          "metric_val": 0.69,
          "step": 41,
          "tag": "ADR",
          "trial_num": 1,
          "weak_weight": 0.01
         },
         {
          "metric_name": "F1",
          "metric_val": 0.72,
          "step": 91,
          "tag": "ADR",
          "trial_num": 1,
          "weak_weight": 0.01
         },
         {
          "metric_name": "F1",
          "metric_val": 0.74,
          "step": 191,
          "tag": "ADR",
          "trial_num": 1,
          "weak_weight": 0.01
         },
         {
          "metric_name": "F1",
          "metric_val": 0.77,
          "step": 391,
          "tag": "ADR",
          "trial_num": 1,
          "weak_weight": 0.01
         },
         {
          "metric_name": "F1",
          "metric_val": 0.78,
          "step": 791,
          "tag": "ADR",
          "trial_num": 1,
          "weak_weight": 0.01
         },
         {
          "metric_name": "F1",
          "metric_val": 0.79,
          "step": 999,
          "tag": "ADR",
          "trial_num": 1,
          "weak_weight": 0.01
         },
         {
          "metric_name": "Precesion",
          "metric_val": 0.32,
          "step": 1,
          "tag": "ADR",
          "trial_num": 0,
          "weak_weight": 0.01
         },
         {
          "metric_name": "Precesion",
          "metric_val": 0.58,
          "step": 6,
          "tag": "ADR",
          "trial_num": 0,
          "weak_weight": 0.01
         },
         {
          "metric_name": "Precesion",
          "metric_val": 0.57,
          "step": 16,
          "tag": "ADR",
          "trial_num": 0,
          "weak_weight": 0.01
         },
         {
          "metric_name": "Precesion",
          "metric_val": 0.54,
          "step": 41,
          "tag": "ADR",
          "trial_num": 0,
          "weak_weight": 0.01
         },
         {
          "metric_name": "Precesion",
          "metric_val": 0.72,
          "step": 91,
          "tag": "ADR",
          "trial_num": 0,
          "weak_weight": 0.01
         },
         {
          "metric_name": "Precesion",
          "metric_val": 0.69,
          "step": 191,
          "tag": "ADR",
          "trial_num": 0,
          "weak_weight": 0.01
         },
         {
          "metric_name": "Precesion",
          "metric_val": 0.84,
          "step": 391,
          "tag": "ADR",
          "trial_num": 0,
          "weak_weight": 0.01
         },
         {
          "metric_name": "Precesion",
          "metric_val": 0.71,
          "step": 791,
          "tag": "ADR",
          "trial_num": 0,
          "weak_weight": 0.01
         },
         {
          "metric_name": "Precesion",
          "metric_val": 0.74,
          "step": 999,
          "tag": "ADR",
          "trial_num": 0,
          "weak_weight": 0.01
         },
         {
          "metric_name": "Recall",
          "metric_val": 0.29,
          "step": 1,
          "tag": "ADR",
          "trial_num": 0,
          "weak_weight": 0.01
         },
         {
          "metric_name": "Recall",
          "metric_val": 0.38,
          "step": 6,
          "tag": "ADR",
          "trial_num": 0,
          "weak_weight": 0.01
         },
         {
          "metric_name": "Recall",
          "metric_val": 0.7,
          "step": 16,
          "tag": "ADR",
          "trial_num": 0,
          "weak_weight": 0.01
         },
         {
          "metric_name": "Recall",
          "metric_val": 0.73,
          "step": 41,
          "tag": "ADR",
          "trial_num": 0,
          "weak_weight": 0.01
         },
         {
          "metric_name": "Recall",
          "metric_val": 0.72,
          "step": 91,
          "tag": "ADR",
          "trial_num": 0,
          "weak_weight": 0.01
         },
         {
          "metric_name": "Recall",
          "metric_val": 0.77,
          "step": 191,
          "tag": "ADR",
          "trial_num": 0,
          "weak_weight": 0.01
         },
         {
          "metric_name": "Recall",
          "metric_val": 0.72,
          "step": 391,
          "tag": "ADR",
          "trial_num": 0,
          "weak_weight": 0.01
         },
         {
          "metric_name": "Recall",
          "metric_val": 0.82,
          "step": 791,
          "tag": "ADR",
          "trial_num": 0,
          "weak_weight": 0.01
         },
         {
          "metric_name": "Recall",
          "metric_val": 0.81,
          "step": 999,
          "tag": "ADR",
          "trial_num": 0,
          "weak_weight": 0.01
         },
         {
          "metric_name": "F1",
          "metric_val": 0.3,
          "step": 1,
          "tag": "ADR",
          "trial_num": 0,
          "weak_weight": 0.01
         },
         {
          "metric_name": "F1",
          "metric_val": 0.46,
          "step": 6,
          "tag": "ADR",
          "trial_num": 0,
          "weak_weight": 0.01
         },
         {
          "metric_name": "F1",
          "metric_val": 0.63,
          "step": 16,
          "tag": "ADR",
          "trial_num": 0,
          "weak_weight": 0.01
         },
         {
          "metric_name": "F1",
          "metric_val": 0.62,
          "step": 41,
          "tag": "ADR",
          "trial_num": 0,
          "weak_weight": 0.01
         },
         {
          "metric_name": "F1",
          "metric_val": 0.72,
          "step": 91,
          "tag": "ADR",
          "trial_num": 0,
          "weak_weight": 0.01
         },
         {
          "metric_name": "F1",
          "metric_val": 0.73,
          "step": 191,
          "tag": "ADR",
          "trial_num": 0,
          "weak_weight": 0.01
         },
         {
          "metric_name": "F1",
          "metric_val": 0.77,
          "step": 391,
          "tag": "ADR",
          "trial_num": 0,
          "weak_weight": 0.01
         },
         {
          "metric_name": "F1",
          "metric_val": 0.76,
          "step": 791,
          "tag": "ADR",
          "trial_num": 0,
          "weak_weight": 0.01
         },
         {
          "metric_name": "F1",
          "metric_val": 0.77,
          "step": 999,
          "tag": "ADR",
          "trial_num": 0,
          "weak_weight": 0.01
         },
         {
          "metric_name": "Precesion",
          "metric_val": 0.05,
          "step": 1,
          "tag": "ADR",
          "trial_num": 2,
          "weak_weight": 0.001
         },
         {
          "metric_name": "Precesion",
          "metric_val": 0.49,
          "step": 6,
          "tag": "ADR",
          "trial_num": 2,
          "weak_weight": 0.001
         },
         {
          "metric_name": "Precesion",
          "metric_val": 0.63,
          "step": 16,
          "tag": "ADR",
          "trial_num": 2,
          "weak_weight": 0.001
         },
         {
          "metric_name": "Precesion",
          "metric_val": 0.72,
          "step": 41,
          "tag": "ADR",
          "trial_num": 2,
          "weak_weight": 0.001
         },
         {
          "metric_name": "Precesion",
          "metric_val": 0.73,
          "step": 91,
          "tag": "ADR",
          "trial_num": 2,
          "weak_weight": 0.001
         },
         {
          "metric_name": "Precesion",
          "metric_val": 0.76,
          "step": 191,
          "tag": "ADR",
          "trial_num": 2,
          "weak_weight": 0.001
         },
         {
          "metric_name": "Precesion",
          "metric_val": 0.78,
          "step": 391,
          "tag": "ADR",
          "trial_num": 2,
          "weak_weight": 0.001
         },
         {
          "metric_name": "Precesion",
          "metric_val": 0.77,
          "step": 791,
          "tag": "ADR",
          "trial_num": 2,
          "weak_weight": 0.001
         },
         {
          "metric_name": "Precesion",
          "metric_val": 0.75,
          "step": 999,
          "tag": "ADR",
          "trial_num": 2,
          "weak_weight": 0.001
         },
         {
          "metric_name": "Recall",
          "metric_val": 0.35,
          "step": 1,
          "tag": "ADR",
          "trial_num": 2,
          "weak_weight": 0.001
         },
         {
          "metric_name": "Recall",
          "metric_val": 0.74,
          "step": 6,
          "tag": "ADR",
          "trial_num": 2,
          "weak_weight": 0.001
         },
         {
          "metric_name": "Recall",
          "metric_val": 0.75,
          "step": 16,
          "tag": "ADR",
          "trial_num": 2,
          "weak_weight": 0.001
         },
         {
          "metric_name": "Recall",
          "metric_val": 0.73,
          "step": 41,
          "tag": "ADR",
          "trial_num": 2,
          "weak_weight": 0.001
         },
         {
          "metric_name": "Recall",
          "metric_val": 0.76,
          "step": 91,
          "tag": "ADR",
          "trial_num": 2,
          "weak_weight": 0.001
         },
         {
          "metric_name": "Recall",
          "metric_val": 0.75,
          "step": 191,
          "tag": "ADR",
          "trial_num": 2,
          "weak_weight": 0.001
         },
         {
          "metric_name": "Recall",
          "metric_val": 0.77,
          "step": 391,
          "tag": "ADR",
          "trial_num": 2,
          "weak_weight": 0.001
         },
         {
          "metric_name": "Recall",
          "metric_val": 0.82,
          "step": 791,
          "tag": "ADR",
          "trial_num": 2,
          "weak_weight": 0.001
         },
         {
          "metric_name": "Recall",
          "metric_val": 0.82,
          "step": 999,
          "tag": "ADR",
          "trial_num": 2,
          "weak_weight": 0.001
         },
         {
          "metric_name": "F1",
          "metric_val": 0.09,
          "step": 1,
          "tag": "ADR",
          "trial_num": 2,
          "weak_weight": 0.001
         },
         {
          "metric_name": "F1",
          "metric_val": 0.59,
          "step": 6,
          "tag": "ADR",
          "trial_num": 2,
          "weak_weight": 0.001
         },
         {
          "metric_name": "F1",
          "metric_val": 0.68,
          "step": 16,
          "tag": "ADR",
          "trial_num": 2,
          "weak_weight": 0.001
         },
         {
          "metric_name": "F1",
          "metric_val": 0.72,
          "step": 41,
          "tag": "ADR",
          "trial_num": 2,
          "weak_weight": 0.001
         },
         {
          "metric_name": "F1",
          "metric_val": 0.75,
          "step": 91,
          "tag": "ADR",
          "trial_num": 2,
          "weak_weight": 0.001
         },
         {
          "metric_name": "F1",
          "metric_val": 0.75,
          "step": 191,
          "tag": "ADR",
          "trial_num": 2,
          "weak_weight": 0.001
         },
         {
          "metric_name": "F1",
          "metric_val": 0.78,
          "step": 391,
          "tag": "ADR",
          "trial_num": 2,
          "weak_weight": 0.001
         },
         {
          "metric_name": "F1",
          "metric_val": 0.79,
          "step": 791,
          "tag": "ADR",
          "trial_num": 2,
          "weak_weight": 0.001
         },
         {
          "metric_name": "F1",
          "metric_val": 0.78,
          "step": 999,
          "tag": "ADR",
          "trial_num": 2,
          "weak_weight": 0.001
         },
         {
          "metric_name": "Precesion",
          "metric_val": 0,
          "step": 1,
          "tag": "ADR",
          "trial_num": 4,
          "weak_weight": 0.001
         },
         {
          "metric_name": "Precesion",
          "metric_val": 0.73,
          "step": 6,
          "tag": "ADR",
          "trial_num": 4,
          "weak_weight": 0.001
         },
         {
          "metric_name": "Precesion",
          "metric_val": 0.49,
          "step": 16,
          "tag": "ADR",
          "trial_num": 4,
          "weak_weight": 0.001
         },
         {
          "metric_name": "Precesion",
          "metric_val": 0.81,
          "step": 41,
          "tag": "ADR",
          "trial_num": 4,
          "weak_weight": 0.001
         },
         {
          "metric_name": "Precesion",
          "metric_val": 0.82,
          "step": 91,
          "tag": "ADR",
          "trial_num": 4,
          "weak_weight": 0.001
         },
         {
          "metric_name": "Precesion",
          "metric_val": 0.81,
          "step": 191,
          "tag": "ADR",
          "trial_num": 4,
          "weak_weight": 0.001
         },
         {
          "metric_name": "Precesion",
          "metric_val": 0.75,
          "step": 391,
          "tag": "ADR",
          "trial_num": 4,
          "weak_weight": 0.001
         },
         {
          "metric_name": "Precesion",
          "metric_val": 0.79,
          "step": 791,
          "tag": "ADR",
          "trial_num": 4,
          "weak_weight": 0.001
         },
         {
          "metric_name": "Precesion",
          "metric_val": 0.76,
          "step": 999,
          "tag": "ADR",
          "trial_num": 4,
          "weak_weight": 0.001
         },
         {
          "metric_name": "Recall",
          "metric_val": 0,
          "step": 1,
          "tag": "ADR",
          "trial_num": 4,
          "weak_weight": 0.001
         },
         {
          "metric_name": "Recall",
          "metric_val": 0.58,
          "step": 6,
          "tag": "ADR",
          "trial_num": 4,
          "weak_weight": 0.001
         },
         {
          "metric_name": "Recall",
          "metric_val": 0.75,
          "step": 16,
          "tag": "ADR",
          "trial_num": 4,
          "weak_weight": 0.001
         },
         {
          "metric_name": "Recall",
          "metric_val": 0.68,
          "step": 41,
          "tag": "ADR",
          "trial_num": 4,
          "weak_weight": 0.001
         },
         {
          "metric_name": "Recall",
          "metric_val": 0.74,
          "step": 91,
          "tag": "ADR",
          "trial_num": 4,
          "weak_weight": 0.001
         },
         {
          "metric_name": "Recall",
          "metric_val": 0.75,
          "step": 191,
          "tag": "ADR",
          "trial_num": 4,
          "weak_weight": 0.001
         },
         {
          "metric_name": "Recall",
          "metric_val": 0.81,
          "step": 391,
          "tag": "ADR",
          "trial_num": 4,
          "weak_weight": 0.001
         },
         {
          "metric_name": "Recall",
          "metric_val": 0.79,
          "step": 791,
          "tag": "ADR",
          "trial_num": 4,
          "weak_weight": 0.001
         },
         {
          "metric_name": "Recall",
          "metric_val": 0.82,
          "step": 999,
          "tag": "ADR",
          "trial_num": 4,
          "weak_weight": 0.001
         },
         {
          "metric_name": "F1",
          "metric_val": 0,
          "step": 1,
          "tag": "ADR",
          "trial_num": 4,
          "weak_weight": 0.001
         },
         {
          "metric_name": "F1",
          "metric_val": 0.65,
          "step": 6,
          "tag": "ADR",
          "trial_num": 4,
          "weak_weight": 0.001
         },
         {
          "metric_name": "F1",
          "metric_val": 0.59,
          "step": 16,
          "tag": "ADR",
          "trial_num": 4,
          "weak_weight": 0.001
         },
         {
          "metric_name": "F1",
          "metric_val": 0.74,
          "step": 41,
          "tag": "ADR",
          "trial_num": 4,
          "weak_weight": 0.001
         },
         {
          "metric_name": "F1",
          "metric_val": 0.78,
          "step": 91,
          "tag": "ADR",
          "trial_num": 4,
          "weak_weight": 0.001
         },
         {
          "metric_name": "F1",
          "metric_val": 0.78,
          "step": 191,
          "tag": "ADR",
          "trial_num": 4,
          "weak_weight": 0.001
         },
         {
          "metric_name": "F1",
          "metric_val": 0.78,
          "step": 391,
          "tag": "ADR",
          "trial_num": 4,
          "weak_weight": 0.001
         },
         {
          "metric_name": "F1",
          "metric_val": 0.79,
          "step": 791,
          "tag": "ADR",
          "trial_num": 4,
          "weak_weight": 0.001
         },
         {
          "metric_name": "F1",
          "metric_val": 0.79,
          "step": 999,
          "tag": "ADR",
          "trial_num": 4,
          "weak_weight": 0.001
         },
         {
          "metric_name": "Precesion",
          "metric_val": 0.04,
          "step": 1,
          "tag": "ADR",
          "trial_num": 3,
          "weak_weight": 0.001
         },
         {
          "metric_name": "Precesion",
          "metric_val": 0.23,
          "step": 6,
          "tag": "ADR",
          "trial_num": 3,
          "weak_weight": 0.001
         },
         {
          "metric_name": "Precesion",
          "metric_val": 0.57,
          "step": 16,
          "tag": "ADR",
          "trial_num": 3,
          "weak_weight": 0.001
         },
         {
          "metric_name": "Precesion",
          "metric_val": 0.55,
          "step": 41,
          "tag": "ADR",
          "trial_num": 3,
          "weak_weight": 0.001
         },
         {
          "metric_name": "Precesion",
          "metric_val": 0.75,
          "step": 91,
          "tag": "ADR",
          "trial_num": 3,
          "weak_weight": 0.001
         },
         {
          "metric_name": "Precesion",
          "metric_val": 0.81,
          "step": 191,
          "tag": "ADR",
          "trial_num": 3,
          "weak_weight": 0.001
         },
         {
          "metric_name": "Precesion",
          "metric_val": 0.79,
          "step": 391,
          "tag": "ADR",
          "trial_num": 3,
          "weak_weight": 0.001
         },
         {
          "metric_name": "Precesion",
          "metric_val": 0.84,
          "step": 791,
          "tag": "ADR",
          "trial_num": 3,
          "weak_weight": 0.001
         },
         {
          "metric_name": "Precesion",
          "metric_val": 0.75,
          "step": 999,
          "tag": "ADR",
          "trial_num": 3,
          "weak_weight": 0.001
         },
         {
          "metric_name": "Recall",
          "metric_val": 0.54,
          "step": 1,
          "tag": "ADR",
          "trial_num": 3,
          "weak_weight": 0.001
         },
         {
          "metric_name": "Recall",
          "metric_val": 0.81,
          "step": 6,
          "tag": "ADR",
          "trial_num": 3,
          "weak_weight": 0.001
         },
         {
          "metric_name": "Recall",
          "metric_val": 0.7,
          "step": 16,
          "tag": "ADR",
          "trial_num": 3,
          "weak_weight": 0.001
         },
         {
          "metric_name": "Recall",
          "metric_val": 0.85,
          "step": 41,
          "tag": "ADR",
          "trial_num": 3,
          "weak_weight": 0.001
         },
         {
          "metric_name": "Recall",
          "metric_val": 0.74,
          "step": 91,
          "tag": "ADR",
          "trial_num": 3,
          "weak_weight": 0.001
         },
         {
          "metric_name": "Recall",
          "metric_val": 0.73,
          "step": 191,
          "tag": "ADR",
          "trial_num": 3,
          "weak_weight": 0.001
         },
         {
          "metric_name": "Recall",
          "metric_val": 0.76,
          "step": 391,
          "tag": "ADR",
          "trial_num": 3,
          "weak_weight": 0.001
         },
         {
          "metric_name": "Recall",
          "metric_val": 0.76,
          "step": 791,
          "tag": "ADR",
          "trial_num": 3,
          "weak_weight": 0.001
         },
         {
          "metric_name": "Recall",
          "metric_val": 0.81,
          "step": 999,
          "tag": "ADR",
          "trial_num": 3,
          "weak_weight": 0.001
         },
         {
          "metric_name": "F1",
          "metric_val": 0.08,
          "step": 1,
          "tag": "ADR",
          "trial_num": 3,
          "weak_weight": 0.001
         },
         {
          "metric_name": "F1",
          "metric_val": 0.36,
          "step": 6,
          "tag": "ADR",
          "trial_num": 3,
          "weak_weight": 0.001
         },
         {
          "metric_name": "F1",
          "metric_val": 0.63,
          "step": 16,
          "tag": "ADR",
          "trial_num": 3,
          "weak_weight": 0.001
         },
         {
          "metric_name": "F1",
          "metric_val": 0.67,
          "step": 41,
          "tag": "ADR",
          "trial_num": 3,
          "weak_weight": 0.001
         },
         {
          "metric_name": "F1",
          "metric_val": 0.75,
          "step": 91,
          "tag": "ADR",
          "trial_num": 3,
          "weak_weight": 0.001
         },
         {
          "metric_name": "F1",
          "metric_val": 0.77,
          "step": 191,
          "tag": "ADR",
          "trial_num": 3,
          "weak_weight": 0.001
         },
         {
          "metric_name": "F1",
          "metric_val": 0.78,
          "step": 391,
          "tag": "ADR",
          "trial_num": 3,
          "weak_weight": 0.001
         },
         {
          "metric_name": "F1",
          "metric_val": 0.8,
          "step": 791,
          "tag": "ADR",
          "trial_num": 3,
          "weak_weight": 0.001
         },
         {
          "metric_name": "F1",
          "metric_val": 0.78,
          "step": 999,
          "tag": "ADR",
          "trial_num": 3,
          "weak_weight": 0.001
         },
         {
          "metric_name": "Precesion",
          "metric_val": 0,
          "step": 1,
          "tag": "ADR",
          "trial_num": 1,
          "weak_weight": 0.001
         },
         {
          "metric_name": "Precesion",
          "metric_val": 0.15,
          "step": 6,
          "tag": "ADR",
          "trial_num": 1,
          "weak_weight": 0.001
         },
         {
          "metric_name": "Precesion",
          "metric_val": 0.71,
          "step": 16,
          "tag": "ADR",
          "trial_num": 1,
          "weak_weight": 0.001
         },
         {
          "metric_name": "Precesion",
          "metric_val": 0.71,
          "step": 41,
          "tag": "ADR",
          "trial_num": 1,
          "weak_weight": 0.001
         },
         {
          "metric_name": "Precesion",
          "metric_val": 0.63,
          "step": 91,
          "tag": "ADR",
          "trial_num": 1,
          "weak_weight": 0.001
         },
         {
          "metric_name": "Precesion",
          "metric_val": 0.72,
          "step": 191,
          "tag": "ADR",
          "trial_num": 1,
          "weak_weight": 0.001
         },
         {
          "metric_name": "Precesion",
          "metric_val": 0.72,
          "step": 391,
          "tag": "ADR",
          "trial_num": 1,
          "weak_weight": 0.001
         },
         {
          "metric_name": "Precesion",
          "metric_val": 0.7,
          "step": 791,
          "tag": "ADR",
          "trial_num": 1,
          "weak_weight": 0.001
         },
         {
          "metric_name": "Precesion",
          "metric_val": 0.8,
          "step": 999,
          "tag": "ADR",
          "trial_num": 1,
          "weak_weight": 0.001
         },
         {
          "metric_name": "Recall",
          "metric_val": 0,
          "step": 1,
          "tag": "ADR",
          "trial_num": 1,
          "weak_weight": 0.001
         },
         {
          "metric_name": "Recall",
          "metric_val": 0.84,
          "step": 6,
          "tag": "ADR",
          "trial_num": 1,
          "weak_weight": 0.001
         },
         {
          "metric_name": "Recall",
          "metric_val": 0.66,
          "step": 16,
          "tag": "ADR",
          "trial_num": 1,
          "weak_weight": 0.001
         },
         {
          "metric_name": "Recall",
          "metric_val": 0.77,
          "step": 41,
          "tag": "ADR",
          "trial_num": 1,
          "weak_weight": 0.001
         },
         {
          "metric_name": "Recall",
          "metric_val": 0.83,
          "step": 91,
          "tag": "ADR",
          "trial_num": 1,
          "weak_weight": 0.001
         },
         {
          "metric_name": "Recall",
          "metric_val": 0.77,
          "step": 191,
          "tag": "ADR",
          "trial_num": 1,
          "weak_weight": 0.001
         },
         {
          "metric_name": "Recall",
          "metric_val": 0.83,
          "step": 391,
          "tag": "ADR",
          "trial_num": 1,
          "weak_weight": 0.001
         },
         {
          "metric_name": "Recall",
          "metric_val": 0.85,
          "step": 791,
          "tag": "ADR",
          "trial_num": 1,
          "weak_weight": 0.001
         },
         {
          "metric_name": "Recall",
          "metric_val": 0.8,
          "step": 999,
          "tag": "ADR",
          "trial_num": 1,
          "weak_weight": 0.001
         },
         {
          "metric_name": "F1",
          "metric_val": 0,
          "step": 1,
          "tag": "ADR",
          "trial_num": 1,
          "weak_weight": 0.001
         },
         {
          "metric_name": "F1",
          "metric_val": 0.26,
          "step": 6,
          "tag": "ADR",
          "trial_num": 1,
          "weak_weight": 0.001
         },
         {
          "metric_name": "F1",
          "metric_val": 0.68,
          "step": 16,
          "tag": "ADR",
          "trial_num": 1,
          "weak_weight": 0.001
         },
         {
          "metric_name": "F1",
          "metric_val": 0.74,
          "step": 41,
          "tag": "ADR",
          "trial_num": 1,
          "weak_weight": 0.001
         },
         {
          "metric_name": "F1",
          "metric_val": 0.72,
          "step": 91,
          "tag": "ADR",
          "trial_num": 1,
          "weak_weight": 0.001
         },
         {
          "metric_name": "F1",
          "metric_val": 0.75,
          "step": 191,
          "tag": "ADR",
          "trial_num": 1,
          "weak_weight": 0.001
         },
         {
          "metric_name": "F1",
          "metric_val": 0.77,
          "step": 391,
          "tag": "ADR",
          "trial_num": 1,
          "weak_weight": 0.001
         },
         {
          "metric_name": "F1",
          "metric_val": 0.77,
          "step": 791,
          "tag": "ADR",
          "trial_num": 1,
          "weak_weight": 0.001
         },
         {
          "metric_name": "F1",
          "metric_val": 0.8,
          "step": 999,
          "tag": "ADR",
          "trial_num": 1,
          "weak_weight": 0.001
         },
         {
          "metric_name": "Precesion",
          "metric_val": 0,
          "step": 1,
          "tag": "ADR",
          "trial_num": 0,
          "weak_weight": 0.001
         },
         {
          "metric_name": "Precesion",
          "metric_val": 0.51,
          "step": 6,
          "tag": "ADR",
          "trial_num": 0,
          "weak_weight": 0.001
         },
         {
          "metric_name": "Precesion",
          "metric_val": 0.7,
          "step": 16,
          "tag": "ADR",
          "trial_num": 0,
          "weak_weight": 0.001
         },
         {
          "metric_name": "Precesion",
          "metric_val": 0.74,
          "step": 41,
          "tag": "ADR",
          "trial_num": 0,
          "weak_weight": 0.001
         },
         {
          "metric_name": "Precesion",
          "metric_val": 0.68,
          "step": 91,
          "tag": "ADR",
          "trial_num": 0,
          "weak_weight": 0.001
         },
         {
          "metric_name": "Precesion",
          "metric_val": 0.73,
          "step": 191,
          "tag": "ADR",
          "trial_num": 0,
          "weak_weight": 0.001
         },
         {
          "metric_name": "Precesion",
          "metric_val": 0.79,
          "step": 391,
          "tag": "ADR",
          "trial_num": 0,
          "weak_weight": 0.001
         },
         {
          "metric_name": "Precesion",
          "metric_val": 0.78,
          "step": 791,
          "tag": "ADR",
          "trial_num": 0,
          "weak_weight": 0.001
         },
         {
          "metric_name": "Precesion",
          "metric_val": 0.8,
          "step": 999,
          "tag": "ADR",
          "trial_num": 0,
          "weak_weight": 0.001
         },
         {
          "metric_name": "Recall",
          "metric_val": 0.67,
          "step": 1,
          "tag": "ADR",
          "trial_num": 0,
          "weak_weight": 0.001
         },
         {
          "metric_name": "Recall",
          "metric_val": 0.67,
          "step": 6,
          "tag": "ADR",
          "trial_num": 0,
          "weak_weight": 0.001
         },
         {
          "metric_name": "Recall",
          "metric_val": 0.72,
          "step": 16,
          "tag": "ADR",
          "trial_num": 0,
          "weak_weight": 0.001
         },
         {
          "metric_name": "Recall",
          "metric_val": 0.76,
          "step": 41,
          "tag": "ADR",
          "trial_num": 0,
          "weak_weight": 0.001
         },
         {
          "metric_name": "Recall",
          "metric_val": 0.82,
          "step": 91,
          "tag": "ADR",
          "trial_num": 0,
          "weak_weight": 0.001
         },
         {
          "metric_name": "Recall",
          "metric_val": 0.81,
          "step": 191,
          "tag": "ADR",
          "trial_num": 0,
          "weak_weight": 0.001
         },
         {
          "metric_name": "Recall",
          "metric_val": 0.77,
          "step": 391,
          "tag": "ADR",
          "trial_num": 0,
          "weak_weight": 0.001
         },
         {
          "metric_name": "Recall",
          "metric_val": 0.8,
          "step": 791,
          "tag": "ADR",
          "trial_num": 0,
          "weak_weight": 0.001
         },
         {
          "metric_name": "Recall",
          "metric_val": 0.77,
          "step": 999,
          "tag": "ADR",
          "trial_num": 0,
          "weak_weight": 0.001
         },
         {
          "metric_name": "F1",
          "metric_val": 0,
          "step": 1,
          "tag": "ADR",
          "trial_num": 0,
          "weak_weight": 0.001
         },
         {
          "metric_name": "F1",
          "metric_val": 0.58,
          "step": 6,
          "tag": "ADR",
          "trial_num": 0,
          "weak_weight": 0.001
         },
         {
          "metric_name": "F1",
          "metric_val": 0.71,
          "step": 16,
          "tag": "ADR",
          "trial_num": 0,
          "weak_weight": 0.001
         },
         {
          "metric_name": "F1",
          "metric_val": 0.75,
          "step": 41,
          "tag": "ADR",
          "trial_num": 0,
          "weak_weight": 0.001
         },
         {
          "metric_name": "F1",
          "metric_val": 0.75,
          "step": 91,
          "tag": "ADR",
          "trial_num": 0,
          "weak_weight": 0.001
         },
         {
          "metric_name": "F1",
          "metric_val": 0.77,
          "step": 191,
          "tag": "ADR",
          "trial_num": 0,
          "weak_weight": 0.001
         },
         {
          "metric_name": "F1",
          "metric_val": 0.78,
          "step": 391,
          "tag": "ADR",
          "trial_num": 0,
          "weak_weight": 0.001
         },
         {
          "metric_name": "F1",
          "metric_val": 0.79,
          "step": 791,
          "tag": "ADR",
          "trial_num": 0,
          "weak_weight": 0.001
         },
         {
          "metric_name": "F1",
          "metric_val": 0.79,
          "step": 999,
          "tag": "ADR",
          "trial_num": 0,
          "weak_weight": 0.001
         },
         {
          "metric_name": "Precesion",
          "metric_val": 0.42,
          "step": 1,
          "tag": "ADR",
          "trial_num": 2,
          "weak_weight": 0
         },
         {
          "metric_name": "Precesion",
          "metric_val": 0.58,
          "step": 6,
          "tag": "ADR",
          "trial_num": 2,
          "weak_weight": 0
         },
         {
          "metric_name": "Precesion",
          "metric_val": 0.7,
          "step": 16,
          "tag": "ADR",
          "trial_num": 2,
          "weak_weight": 0
         },
         {
          "metric_name": "Precesion",
          "metric_val": 0.77,
          "step": 41,
          "tag": "ADR",
          "trial_num": 2,
          "weak_weight": 0
         },
         {
          "metric_name": "Precesion",
          "metric_val": 0.77,
          "step": 91,
          "tag": "ADR",
          "trial_num": 2,
          "weak_weight": 0
         },
         {
          "metric_name": "Precesion",
          "metric_val": 0.73,
          "step": 191,
          "tag": "ADR",
          "trial_num": 2,
          "weak_weight": 0
         },
         {
          "metric_name": "Precesion",
          "metric_val": 0.82,
          "step": 391,
          "tag": "ADR",
          "trial_num": 2,
          "weak_weight": 0
         },
         {
          "metric_name": "Precesion",
          "metric_val": 0.82,
          "step": 791,
          "tag": "ADR",
          "trial_num": 2,
          "weak_weight": 0
         },
         {
          "metric_name": "Precesion",
          "metric_val": 0.79,
          "step": 999,
          "tag": "ADR",
          "trial_num": 2,
          "weak_weight": 0
         },
         {
          "metric_name": "Recall",
          "metric_val": 0.57,
          "step": 1,
          "tag": "ADR",
          "trial_num": 2,
          "weak_weight": 0
         },
         {
          "metric_name": "Recall",
          "metric_val": 0.78,
          "step": 6,
          "tag": "ADR",
          "trial_num": 2,
          "weak_weight": 0
         },
         {
          "metric_name": "Recall",
          "metric_val": 0.74,
          "step": 16,
          "tag": "ADR",
          "trial_num": 2,
          "weak_weight": 0
         },
         {
          "metric_name": "Recall",
          "metric_val": 0.71,
          "step": 41,
          "tag": "ADR",
          "trial_num": 2,
          "weak_weight": 0
         },
         {
          "metric_name": "Recall",
          "metric_val": 0.75,
          "step": 91,
          "tag": "ADR",
          "trial_num": 2,
          "weak_weight": 0
         },
         {
          "metric_name": "Recall",
          "metric_val": 0.78,
          "step": 191,
          "tag": "ADR",
          "trial_num": 2,
          "weak_weight": 0
         },
         {
          "metric_name": "Recall",
          "metric_val": 0.73,
          "step": 391,
          "tag": "ADR",
          "trial_num": 2,
          "weak_weight": 0
         },
         {
          "metric_name": "Recall",
          "metric_val": 0.78,
          "step": 791,
          "tag": "ADR",
          "trial_num": 2,
          "weak_weight": 0
         },
         {
          "metric_name": "Recall",
          "metric_val": 0.83,
          "step": 999,
          "tag": "ADR",
          "trial_num": 2,
          "weak_weight": 0
         },
         {
          "metric_name": "F1",
          "metric_val": 0.48,
          "step": 1,
          "tag": "ADR",
          "trial_num": 2,
          "weak_weight": 0
         },
         {
          "metric_name": "F1",
          "metric_val": 0.67,
          "step": 6,
          "tag": "ADR",
          "trial_num": 2,
          "weak_weight": 0
         },
         {
          "metric_name": "F1",
          "metric_val": 0.72,
          "step": 16,
          "tag": "ADR",
          "trial_num": 2,
          "weak_weight": 0
         },
         {
          "metric_name": "F1",
          "metric_val": 0.74,
          "step": 41,
          "tag": "ADR",
          "trial_num": 2,
          "weak_weight": 0
         },
         {
          "metric_name": "F1",
          "metric_val": 0.76,
          "step": 91,
          "tag": "ADR",
          "trial_num": 2,
          "weak_weight": 0
         },
         {
          "metric_name": "F1",
          "metric_val": 0.75,
          "step": 191,
          "tag": "ADR",
          "trial_num": 2,
          "weak_weight": 0
         },
         {
          "metric_name": "F1",
          "metric_val": 0.78,
          "step": 391,
          "tag": "ADR",
          "trial_num": 2,
          "weak_weight": 0
         },
         {
          "metric_name": "F1",
          "metric_val": 0.8,
          "step": 791,
          "tag": "ADR",
          "trial_num": 2,
          "weak_weight": 0
         },
         {
          "metric_name": "F1",
          "metric_val": 0.81,
          "step": 999,
          "tag": "ADR",
          "trial_num": 2,
          "weak_weight": 0
         },
         {
          "metric_name": "Precesion",
          "metric_val": 0.79,
          "step": 1,
          "tag": "ADR",
          "trial_num": 4,
          "weak_weight": 0
         },
         {
          "metric_name": "Precesion",
          "metric_val": 0.62,
          "step": 6,
          "tag": "ADR",
          "trial_num": 4,
          "weak_weight": 0
         },
         {
          "metric_name": "Precesion",
          "metric_val": 0.7,
          "step": 16,
          "tag": "ADR",
          "trial_num": 4,
          "weak_weight": 0
         },
         {
          "metric_name": "Precesion",
          "metric_val": 0.65,
          "step": 41,
          "tag": "ADR",
          "trial_num": 4,
          "weak_weight": 0
         },
         {
          "metric_name": "Precesion",
          "metric_val": 0.7,
          "step": 91,
          "tag": "ADR",
          "trial_num": 4,
          "weak_weight": 0
         },
         {
          "metric_name": "Precesion",
          "metric_val": 0.78,
          "step": 191,
          "tag": "ADR",
          "trial_num": 4,
          "weak_weight": 0
         },
         {
          "metric_name": "Precesion",
          "metric_val": 0.75,
          "step": 391,
          "tag": "ADR",
          "trial_num": 4,
          "weak_weight": 0
         },
         {
          "metric_name": "Precesion",
          "metric_val": 0.84,
          "step": 791,
          "tag": "ADR",
          "trial_num": 4,
          "weak_weight": 0
         },
         {
          "metric_name": "Precesion",
          "metric_val": 0.8,
          "step": 999,
          "tag": "ADR",
          "trial_num": 4,
          "weak_weight": 0
         },
         {
          "metric_name": "Recall",
          "metric_val": 0.37,
          "step": 1,
          "tag": "ADR",
          "trial_num": 4,
          "weak_weight": 0
         },
         {
          "metric_name": "Recall",
          "metric_val": 0.72,
          "step": 6,
          "tag": "ADR",
          "trial_num": 4,
          "weak_weight": 0
         },
         {
          "metric_name": "Recall",
          "metric_val": 0.68,
          "step": 16,
          "tag": "ADR",
          "trial_num": 4,
          "weak_weight": 0
         },
         {
          "metric_name": "Recall",
          "metric_val": 0.78,
          "step": 41,
          "tag": "ADR",
          "trial_num": 4,
          "weak_weight": 0
         },
         {
          "metric_name": "Recall",
          "metric_val": 0.77,
          "step": 91,
          "tag": "ADR",
          "trial_num": 4,
          "weak_weight": 0
         },
         {
          "metric_name": "Recall",
          "metric_val": 0.75,
          "step": 191,
          "tag": "ADR",
          "trial_num": 4,
          "weak_weight": 0
         },
         {
          "metric_name": "Recall",
          "metric_val": 0.78,
          "step": 391,
          "tag": "ADR",
          "trial_num": 4,
          "weak_weight": 0
         },
         {
          "metric_name": "Recall",
          "metric_val": 0.74,
          "step": 791,
          "tag": "ADR",
          "trial_num": 4,
          "weak_weight": 0
         },
         {
          "metric_name": "Recall",
          "metric_val": 0.79,
          "step": 999,
          "tag": "ADR",
          "trial_num": 4,
          "weak_weight": 0
         },
         {
          "metric_name": "F1",
          "metric_val": 0.5,
          "step": 1,
          "tag": "ADR",
          "trial_num": 4,
          "weak_weight": 0
         },
         {
          "metric_name": "F1",
          "metric_val": 0.67,
          "step": 6,
          "tag": "ADR",
          "trial_num": 4,
          "weak_weight": 0
         },
         {
          "metric_name": "F1",
          "metric_val": 0.69,
          "step": 16,
          "tag": "ADR",
          "trial_num": 4,
          "weak_weight": 0
         },
         {
          "metric_name": "F1",
          "metric_val": 0.71,
          "step": 41,
          "tag": "ADR",
          "trial_num": 4,
          "weak_weight": 0
         },
         {
          "metric_name": "F1",
          "metric_val": 0.74,
          "step": 91,
          "tag": "ADR",
          "trial_num": 4,
          "weak_weight": 0
         },
         {
          "metric_name": "F1",
          "metric_val": 0.77,
          "step": 191,
          "tag": "ADR",
          "trial_num": 4,
          "weak_weight": 0
         },
         {
          "metric_name": "F1",
          "metric_val": 0.76,
          "step": 391,
          "tag": "ADR",
          "trial_num": 4,
          "weak_weight": 0
         },
         {
          "metric_name": "F1",
          "metric_val": 0.79,
          "step": 791,
          "tag": "ADR",
          "trial_num": 4,
          "weak_weight": 0
         },
         {
          "metric_name": "F1",
          "metric_val": 0.8,
          "step": 999,
          "tag": "ADR",
          "trial_num": 4,
          "weak_weight": 0
         },
         {
          "metric_name": "Precesion",
          "metric_val": 0,
          "step": 1,
          "tag": "ADR",
          "trial_num": 3,
          "weak_weight": 0
         },
         {
          "metric_name": "Precesion",
          "metric_val": 0.66,
          "step": 6,
          "tag": "ADR",
          "trial_num": 3,
          "weak_weight": 0
         },
         {
          "metric_name": "Precesion",
          "metric_val": 0.67,
          "step": 16,
          "tag": "ADR",
          "trial_num": 3,
          "weak_weight": 0
         },
         {
          "metric_name": "Precesion",
          "metric_val": 0.66,
          "step": 41,
          "tag": "ADR",
          "trial_num": 3,
          "weak_weight": 0
         },
         {
          "metric_name": "Precesion",
          "metric_val": 0.85,
          "step": 91,
          "tag": "ADR",
          "trial_num": 3,
          "weak_weight": 0
         },
         {
          "metric_name": "Precesion",
          "metric_val": 0.71,
          "step": 191,
          "tag": "ADR",
          "trial_num": 3,
          "weak_weight": 0
         },
         {
          "metric_name": "Precesion",
          "metric_val": 0.83,
          "step": 391,
          "tag": "ADR",
          "trial_num": 3,
          "weak_weight": 0
         },
         {
          "metric_name": "Precesion",
          "metric_val": 0.84,
          "step": 791,
          "tag": "ADR",
          "trial_num": 3,
          "weak_weight": 0
         },
         {
          "metric_name": "Precesion",
          "metric_val": 0.67,
          "step": 999,
          "tag": "ADR",
          "trial_num": 3,
          "weak_weight": 0
         },
         {
          "metric_name": "Recall",
          "metric_val": 0,
          "step": 1,
          "tag": "ADR",
          "trial_num": 3,
          "weak_weight": 0
         },
         {
          "metric_name": "Recall",
          "metric_val": 0.68,
          "step": 6,
          "tag": "ADR",
          "trial_num": 3,
          "weak_weight": 0
         },
         {
          "metric_name": "Recall",
          "metric_val": 0.7,
          "step": 16,
          "tag": "ADR",
          "trial_num": 3,
          "weak_weight": 0
         },
         {
          "metric_name": "Recall",
          "metric_val": 0.78,
          "step": 41,
          "tag": "ADR",
          "trial_num": 3,
          "weak_weight": 0
         },
         {
          "metric_name": "Recall",
          "metric_val": 0.65,
          "step": 91,
          "tag": "ADR",
          "trial_num": 3,
          "weak_weight": 0
         },
         {
          "metric_name": "Recall",
          "metric_val": 0.81,
          "step": 191,
          "tag": "ADR",
          "trial_num": 3,
          "weak_weight": 0
         },
         {
          "metric_name": "Recall",
          "metric_val": 0.74,
          "step": 391,
          "tag": "ADR",
          "trial_num": 3,
          "weak_weight": 0
         },
         {
          "metric_name": "Recall",
          "metric_val": 0.74,
          "step": 791,
          "tag": "ADR",
          "trial_num": 3,
          "weak_weight": 0
         },
         {
          "metric_name": "Recall",
          "metric_val": 0.88,
          "step": 999,
          "tag": "ADR",
          "trial_num": 3,
          "weak_weight": 0
         },
         {
          "metric_name": "F1",
          "metric_val": 0,
          "step": 1,
          "tag": "ADR",
          "trial_num": 3,
          "weak_weight": 0
         },
         {
          "metric_name": "F1",
          "metric_val": 0.67,
          "step": 6,
          "tag": "ADR",
          "trial_num": 3,
          "weak_weight": 0
         },
         {
          "metric_name": "F1",
          "metric_val": 0.68,
          "step": 16,
          "tag": "ADR",
          "trial_num": 3,
          "weak_weight": 0
         },
         {
          "metric_name": "F1",
          "metric_val": 0.72,
          "step": 41,
          "tag": "ADR",
          "trial_num": 3,
          "weak_weight": 0
         },
         {
          "metric_name": "F1",
          "metric_val": 0.74,
          "step": 91,
          "tag": "ADR",
          "trial_num": 3,
          "weak_weight": 0
         },
         {
          "metric_name": "F1",
          "metric_val": 0.76,
          "step": 191,
          "tag": "ADR",
          "trial_num": 3,
          "weak_weight": 0
         },
         {
          "metric_name": "F1",
          "metric_val": 0.78,
          "step": 391,
          "tag": "ADR",
          "trial_num": 3,
          "weak_weight": 0
         },
         {
          "metric_name": "F1",
          "metric_val": 0.79,
          "step": 791,
          "tag": "ADR",
          "trial_num": 3,
          "weak_weight": 0
         },
         {
          "metric_name": "F1",
          "metric_val": 0.76,
          "step": 999,
          "tag": "ADR",
          "trial_num": 3,
          "weak_weight": 0
         },
         {
          "metric_name": "Precesion",
          "metric_val": 0,
          "step": 1,
          "tag": "ADR",
          "trial_num": 1,
          "weak_weight": 0
         },
         {
          "metric_name": "Precesion",
          "metric_val": 0.66,
          "step": 6,
          "tag": "ADR",
          "trial_num": 1,
          "weak_weight": 0
         },
         {
          "metric_name": "Precesion",
          "metric_val": 0.77,
          "step": 16,
          "tag": "ADR",
          "trial_num": 1,
          "weak_weight": 0
         },
         {
          "metric_name": "Precesion",
          "metric_val": 0.6,
          "step": 41,
          "tag": "ADR",
          "trial_num": 1,
          "weak_weight": 0
         },
         {
          "metric_name": "Precesion",
          "metric_val": 0.76,
          "step": 91,
          "tag": "ADR",
          "trial_num": 1,
          "weak_weight": 0
         },
         {
          "metric_name": "Precesion",
          "metric_val": 0.76,
          "step": 191,
          "tag": "ADR",
          "trial_num": 1,
          "weak_weight": 0
         },
         {
          "metric_name": "Precesion",
          "metric_val": 0.77,
          "step": 391,
          "tag": "ADR",
          "trial_num": 1,
          "weak_weight": 0
         },
         {
          "metric_name": "Precesion",
          "metric_val": 0.71,
          "step": 791,
          "tag": "ADR",
          "trial_num": 1,
          "weak_weight": 0
         },
         {
          "metric_name": "Precesion",
          "metric_val": 0.79,
          "step": 999,
          "tag": "ADR",
          "trial_num": 1,
          "weak_weight": 0
         },
         {
          "metric_name": "Recall",
          "metric_val": 0,
          "step": 1,
          "tag": "ADR",
          "trial_num": 1,
          "weak_weight": 0
         },
         {
          "metric_name": "Recall",
          "metric_val": 0.7,
          "step": 6,
          "tag": "ADR",
          "trial_num": 1,
          "weak_weight": 0
         },
         {
          "metric_name": "Recall",
          "metric_val": 0.65,
          "step": 16,
          "tag": "ADR",
          "trial_num": 1,
          "weak_weight": 0
         },
         {
          "metric_name": "Recall",
          "metric_val": 0.8,
          "step": 41,
          "tag": "ADR",
          "trial_num": 1,
          "weak_weight": 0
         },
         {
          "metric_name": "Recall",
          "metric_val": 0.73,
          "step": 91,
          "tag": "ADR",
          "trial_num": 1,
          "weak_weight": 0
         },
         {
          "metric_name": "Recall",
          "metric_val": 0.75,
          "step": 191,
          "tag": "ADR",
          "trial_num": 1,
          "weak_weight": 0
         },
         {
          "metric_name": "Recall",
          "metric_val": 0.79,
          "step": 391,
          "tag": "ADR",
          "trial_num": 1,
          "weak_weight": 0
         },
         {
          "metric_name": "Recall",
          "metric_val": 0.87,
          "step": 791,
          "tag": "ADR",
          "trial_num": 1,
          "weak_weight": 0
         },
         {
          "metric_name": "Recall",
          "metric_val": 0.79,
          "step": 999,
          "tag": "ADR",
          "trial_num": 1,
          "weak_weight": 0
         },
         {
          "metric_name": "F1",
          "metric_val": 0,
          "step": 1,
          "tag": "ADR",
          "trial_num": 1,
          "weak_weight": 0
         },
         {
          "metric_name": "F1",
          "metric_val": 0.68,
          "step": 6,
          "tag": "ADR",
          "trial_num": 1,
          "weak_weight": 0
         },
         {
          "metric_name": "F1",
          "metric_val": 0.7,
          "step": 16,
          "tag": "ADR",
          "trial_num": 1,
          "weak_weight": 0
         },
         {
          "metric_name": "F1",
          "metric_val": 0.69,
          "step": 41,
          "tag": "ADR",
          "trial_num": 1,
          "weak_weight": 0
         },
         {
          "metric_name": "F1",
          "metric_val": 0.74,
          "step": 91,
          "tag": "ADR",
          "trial_num": 1,
          "weak_weight": 0
         },
         {
          "metric_name": "F1",
          "metric_val": 0.75,
          "step": 191,
          "tag": "ADR",
          "trial_num": 1,
          "weak_weight": 0
         },
         {
          "metric_name": "F1",
          "metric_val": 0.78,
          "step": 391,
          "tag": "ADR",
          "trial_num": 1,
          "weak_weight": 0
         },
         {
          "metric_name": "F1",
          "metric_val": 0.78,
          "step": 791,
          "tag": "ADR",
          "trial_num": 1,
          "weak_weight": 0
         },
         {
          "metric_name": "F1",
          "metric_val": 0.79,
          "step": 999,
          "tag": "ADR",
          "trial_num": 1,
          "weak_weight": 0
         },
         {
          "metric_name": "Precesion",
          "metric_val": 0.19,
          "step": 1,
          "tag": "ADR",
          "trial_num": 0,
          "weak_weight": 0
         },
         {
          "metric_name": "Precesion",
          "metric_val": 0.39,
          "step": 6,
          "tag": "ADR",
          "trial_num": 0,
          "weak_weight": 0
         },
         {
          "metric_name": "Precesion",
          "metric_val": 0.6,
          "step": 16,
          "tag": "ADR",
          "trial_num": 0,
          "weak_weight": 0
         },
         {
          "metric_name": "Precesion",
          "metric_val": 0.69,
          "step": 41,
          "tag": "ADR",
          "trial_num": 0,
          "weak_weight": 0
         },
         {
          "metric_name": "Precesion",
          "metric_val": 0.85,
          "step": 91,
          "tag": "ADR",
          "trial_num": 0,
          "weak_weight": 0
         },
         {
          "metric_name": "Precesion",
          "metric_val": 0.73,
          "step": 191,
          "tag": "ADR",
          "trial_num": 0,
          "weak_weight": 0
         },
         {
          "metric_name": "Precesion",
          "metric_val": 0.79,
          "step": 391,
          "tag": "ADR",
          "trial_num": 0,
          "weak_weight": 0
         },
         {
          "metric_name": "Precesion",
          "metric_val": 0.83,
          "step": 791,
          "tag": "ADR",
          "trial_num": 0,
          "weak_weight": 0
         },
         {
          "metric_name": "Precesion",
          "metric_val": 0.78,
          "step": 999,
          "tag": "ADR",
          "trial_num": 0,
          "weak_weight": 0
         },
         {
          "metric_name": "Recall",
          "metric_val": 0.69,
          "step": 1,
          "tag": "ADR",
          "trial_num": 0,
          "weak_weight": 0
         },
         {
          "metric_name": "Recall",
          "metric_val": 0.79,
          "step": 6,
          "tag": "ADR",
          "trial_num": 0,
          "weak_weight": 0
         },
         {
          "metric_name": "Recall",
          "metric_val": 0.74,
          "step": 16,
          "tag": "ADR",
          "trial_num": 0,
          "weak_weight": 0
         },
         {
          "metric_name": "Recall",
          "metric_val": 0.78,
          "step": 41,
          "tag": "ADR",
          "trial_num": 0,
          "weak_weight": 0
         },
         {
          "metric_name": "Recall",
          "metric_val": 0.66,
          "step": 91,
          "tag": "ADR",
          "trial_num": 0,
          "weak_weight": 0
         },
         {
          "metric_name": "Recall",
          "metric_val": 0.81,
          "step": 191,
          "tag": "ADR",
          "trial_num": 0,
          "weak_weight": 0
         },
         {
          "metric_name": "Recall",
          "metric_val": 0.77,
          "step": 391,
          "tag": "ADR",
          "trial_num": 0,
          "weak_weight": 0
         },
         {
          "metric_name": "Recall",
          "metric_val": 0.76,
          "step": 791,
          "tag": "ADR",
          "trial_num": 0,
          "weak_weight": 0
         },
         {
          "metric_name": "Recall",
          "metric_val": 0.82,
          "step": 999,
          "tag": "ADR",
          "trial_num": 0,
          "weak_weight": 0
         },
         {
          "metric_name": "F1",
          "metric_val": 0.29,
          "step": 1,
          "tag": "ADR",
          "trial_num": 0,
          "weak_weight": 0
         },
         {
          "metric_name": "F1",
          "metric_val": 0.53,
          "step": 6,
          "tag": "ADR",
          "trial_num": 0,
          "weak_weight": 0
         },
         {
          "metric_name": "F1",
          "metric_val": 0.66,
          "step": 16,
          "tag": "ADR",
          "trial_num": 0,
          "weak_weight": 0
         },
         {
          "metric_name": "F1",
          "metric_val": 0.73,
          "step": 41,
          "tag": "ADR",
          "trial_num": 0,
          "weak_weight": 0
         },
         {
          "metric_name": "F1",
          "metric_val": 0.74,
          "step": 91,
          "tag": "ADR",
          "trial_num": 0,
          "weak_weight": 0
         },
         {
          "metric_name": "F1",
          "metric_val": 0.77,
          "step": 191,
          "tag": "ADR",
          "trial_num": 0,
          "weak_weight": 0
         },
         {
          "metric_name": "F1",
          "metric_val": 0.78,
          "step": 391,
          "tag": "ADR",
          "trial_num": 0,
          "weak_weight": 0
         },
         {
          "metric_name": "F1",
          "metric_val": 0.79,
          "step": 791,
          "tag": "ADR",
          "trial_num": 0,
          "weak_weight": 0
         },
         {
          "metric_name": "F1",
          "metric_val": 0.8,
          "step": 999,
          "tag": "ADR",
          "trial_num": 0,
          "weak_weight": 0
         },
         {
          "metric_name": "Precesion",
          "metric_val": 0.01,
          "step": 1,
          "tag": "ADR",
          "trial_num": 2,
          "weak_weight": 1
         },
         {
          "metric_name": "Precesion",
          "metric_val": 0.49,
          "step": 6,
          "tag": "ADR",
          "trial_num": 2,
          "weak_weight": 1
         },
         {
          "metric_name": "Precesion",
          "metric_val": 0.24,
          "step": 16,
          "tag": "ADR",
          "trial_num": 2,
          "weak_weight": 1
         },
         {
          "metric_name": "Precesion",
          "metric_val": 0.42,
          "step": 41,
          "tag": "ADR",
          "trial_num": 2,
          "weak_weight": 1
         },
         {
          "metric_name": "Precesion",
          "metric_val": 0.49,
          "step": 91,
          "tag": "ADR",
          "trial_num": 2,
          "weak_weight": 1
         },
         {
          "metric_name": "Precesion",
          "metric_val": 0.58,
          "step": 191,
          "tag": "ADR",
          "trial_num": 2,
          "weak_weight": 1
         },
         {
          "metric_name": "Precesion",
          "metric_val": 0.58,
          "step": 391,
          "tag": "ADR",
          "trial_num": 2,
          "weak_weight": 1
         },
         {
          "metric_name": "Precesion",
          "metric_val": 0.74,
          "step": 791,
          "tag": "ADR",
          "trial_num": 2,
          "weak_weight": 1
         },
         {
          "metric_name": "Precesion",
          "metric_val": 0.8,
          "step": 999,
          "tag": "ADR",
          "trial_num": 2,
          "weak_weight": 1
         },
         {
          "metric_name": "Recall",
          "metric_val": 0.45,
          "step": 1,
          "tag": "ADR",
          "trial_num": 2,
          "weak_weight": 1
         },
         {
          "metric_name": "Recall",
          "metric_val": 0.23,
          "step": 6,
          "tag": "ADR",
          "trial_num": 2,
          "weak_weight": 1
         },
         {
          "metric_name": "Recall",
          "metric_val": 0.82,
          "step": 16,
          "tag": "ADR",
          "trial_num": 2,
          "weak_weight": 1
         },
         {
          "metric_name": "Recall",
          "metric_val": 0.75,
          "step": 41,
          "tag": "ADR",
          "trial_num": 2,
          "weak_weight": 1
         },
         {
          "metric_name": "Recall",
          "metric_val": 0.75,
          "step": 91,
          "tag": "ADR",
          "trial_num": 2,
          "weak_weight": 1
         },
         {
          "metric_name": "Recall",
          "metric_val": 0.7,
          "step": 191,
          "tag": "ADR",
          "trial_num": 2,
          "weak_weight": 1
         },
         {
          "metric_name": "Recall",
          "metric_val": 0.67,
          "step": 391,
          "tag": "ADR",
          "trial_num": 2,
          "weak_weight": 1
         },
         {
          "metric_name": "Recall",
          "metric_val": 0.61,
          "step": 791,
          "tag": "ADR",
          "trial_num": 2,
          "weak_weight": 1
         },
         {
          "metric_name": "Recall",
          "metric_val": 0.68,
          "step": 999,
          "tag": "ADR",
          "trial_num": 2,
          "weak_weight": 1
         },
         {
          "metric_name": "F1",
          "metric_val": 0.02,
          "step": 1,
          "tag": "ADR",
          "trial_num": 2,
          "weak_weight": 1
         },
         {
          "metric_name": "F1",
          "metric_val": 0.31,
          "step": 6,
          "tag": "ADR",
          "trial_num": 2,
          "weak_weight": 1
         },
         {
          "metric_name": "F1",
          "metric_val": 0.37,
          "step": 16,
          "tag": "ADR",
          "trial_num": 2,
          "weak_weight": 1
         },
         {
          "metric_name": "F1",
          "metric_val": 0.53,
          "step": 41,
          "tag": "ADR",
          "trial_num": 2,
          "weak_weight": 1
         },
         {
          "metric_name": "F1",
          "metric_val": 0.59,
          "step": 91,
          "tag": "ADR",
          "trial_num": 2,
          "weak_weight": 1
         },
         {
          "metric_name": "F1",
          "metric_val": 0.63,
          "step": 191,
          "tag": "ADR",
          "trial_num": 2,
          "weak_weight": 1
         },
         {
          "metric_name": "F1",
          "metric_val": 0.62,
          "step": 391,
          "tag": "ADR",
          "trial_num": 2,
          "weak_weight": 1
         },
         {
          "metric_name": "F1",
          "metric_val": 0.67,
          "step": 791,
          "tag": "ADR",
          "trial_num": 2,
          "weak_weight": 1
         },
         {
          "metric_name": "F1",
          "metric_val": 0.74,
          "step": 999,
          "tag": "ADR",
          "trial_num": 2,
          "weak_weight": 1
         },
         {
          "metric_name": "Precesion",
          "metric_val": 0.05,
          "step": 1,
          "tag": "ADR",
          "trial_num": 4,
          "weak_weight": 1
         },
         {
          "metric_name": "Precesion",
          "metric_val": 0.53,
          "step": 6,
          "tag": "ADR",
          "trial_num": 4,
          "weak_weight": 1
         },
         {
          "metric_name": "Precesion",
          "metric_val": 0.43,
          "step": 16,
          "tag": "ADR",
          "trial_num": 4,
          "weak_weight": 1
         },
         {
          "metric_name": "Precesion",
          "metric_val": 0.53,
          "step": 41,
          "tag": "ADR",
          "trial_num": 4,
          "weak_weight": 1
         },
         {
          "metric_name": "Precesion",
          "metric_val": 0.55,
          "step": 91,
          "tag": "ADR",
          "trial_num": 4,
          "weak_weight": 1
         },
         {
          "metric_name": "Precesion",
          "metric_val": 0.64,
          "step": 191,
          "tag": "ADR",
          "trial_num": 4,
          "weak_weight": 1
         },
         {
          "metric_name": "Precesion",
          "metric_val": 0.62,
          "step": 391,
          "tag": "ADR",
          "trial_num": 4,
          "weak_weight": 1
         },
         {
          "metric_name": "Precesion",
          "metric_val": 0.69,
          "step": 791,
          "tag": "ADR",
          "trial_num": 4,
          "weak_weight": 1
         },
         {
          "metric_name": "Precesion",
          "metric_val": 0.67,
          "step": 999,
          "tag": "ADR",
          "trial_num": 4,
          "weak_weight": 1
         },
         {
          "metric_name": "Recall",
          "metric_val": 0.14,
          "step": 1,
          "tag": "ADR",
          "trial_num": 4,
          "weak_weight": 1
         },
         {
          "metric_name": "Recall",
          "metric_val": 0.22,
          "step": 6,
          "tag": "ADR",
          "trial_num": 4,
          "weak_weight": 1
         },
         {
          "metric_name": "Recall",
          "metric_val": 0.24,
          "step": 16,
          "tag": "ADR",
          "trial_num": 4,
          "weak_weight": 1
         },
         {
          "metric_name": "Recall",
          "metric_val": 0.5,
          "step": 41,
          "tag": "ADR",
          "trial_num": 4,
          "weak_weight": 1
         },
         {
          "metric_name": "Recall",
          "metric_val": 0.66,
          "step": 91,
          "tag": "ADR",
          "trial_num": 4,
          "weak_weight": 1
         },
         {
          "metric_name": "Recall",
          "metric_val": 0.59,
          "step": 191,
          "tag": "ADR",
          "trial_num": 4,
          "weak_weight": 1
         },
         {
          "metric_name": "Recall",
          "metric_val": 0.72,
          "step": 391,
          "tag": "ADR",
          "trial_num": 4,
          "weak_weight": 1
         },
         {
          "metric_name": "Recall",
          "metric_val": 0.68,
          "step": 791,
          "tag": "ADR",
          "trial_num": 4,
          "weak_weight": 1
         },
         {
          "metric_name": "Recall",
          "metric_val": 0.76,
          "step": 999,
          "tag": "ADR",
          "trial_num": 4,
          "weak_weight": 1
         },
         {
          "metric_name": "F1",
          "metric_val": 0.08,
          "step": 1,
          "tag": "ADR",
          "trial_num": 4,
          "weak_weight": 1
         },
         {
          "metric_name": "F1",
          "metric_val": 0.32,
          "step": 6,
          "tag": "ADR",
          "trial_num": 4,
          "weak_weight": 1
         },
         {
          "metric_name": "F1",
          "metric_val": 0.31,
          "step": 16,
          "tag": "ADR",
          "trial_num": 4,
          "weak_weight": 1
         },
         {
          "metric_name": "F1",
          "metric_val": 0.52,
          "step": 41,
          "tag": "ADR",
          "trial_num": 4,
          "weak_weight": 1
         },
         {
          "metric_name": "F1",
          "metric_val": 0.6,
          "step": 91,
          "tag": "ADR",
          "trial_num": 4,
          "weak_weight": 1
         },
         {
          "metric_name": "F1",
          "metric_val": 0.61,
          "step": 191,
          "tag": "ADR",
          "trial_num": 4,
          "weak_weight": 1
         },
         {
          "metric_name": "F1",
          "metric_val": 0.67,
          "step": 391,
          "tag": "ADR",
          "trial_num": 4,
          "weak_weight": 1
         },
         {
          "metric_name": "F1",
          "metric_val": 0.69,
          "step": 791,
          "tag": "ADR",
          "trial_num": 4,
          "weak_weight": 1
         },
         {
          "metric_name": "F1",
          "metric_val": 0.71,
          "step": 999,
          "tag": "ADR",
          "trial_num": 4,
          "weak_weight": 1
         },
         {
          "metric_name": "Precesion",
          "metric_val": 0.1,
          "step": 1,
          "tag": "ADR",
          "trial_num": 3,
          "weak_weight": 1
         },
         {
          "metric_name": "Precesion",
          "metric_val": 0.14,
          "step": 6,
          "tag": "ADR",
          "trial_num": 3,
          "weak_weight": 1
         },
         {
          "metric_name": "Precesion",
          "metric_val": 0,
          "step": 16,
          "tag": "ADR",
          "trial_num": 3,
          "weak_weight": 1
         },
         {
          "metric_name": "Precesion",
          "metric_val": 0.41,
          "step": 41,
          "tag": "ADR",
          "trial_num": 3,
          "weak_weight": 1
         },
         {
          "metric_name": "Precesion",
          "metric_val": 0.03,
          "step": 91,
          "tag": "ADR",
          "trial_num": 3,
          "weak_weight": 1
         },
         {
          "metric_name": "Precesion",
          "metric_val": 0.22,
          "step": 191,
          "tag": "ADR",
          "trial_num": 3,
          "weak_weight": 1
         },
         {
          "metric_name": "Precesion",
          "metric_val": 0.05,
          "step": 391,
          "tag": "ADR",
          "trial_num": 3,
          "weak_weight": 1
         },
         {
          "metric_name": "Precesion",
          "metric_val": 0.25,
          "step": 791,
          "tag": "ADR",
          "trial_num": 3,
          "weak_weight": 1
         },
         {
          "metric_name": "Precesion",
          "metric_val": 0.53,
          "step": 999,
          "tag": "ADR",
          "trial_num": 3,
          "weak_weight": 1
         },
         {
          "metric_name": "Recall",
          "metric_val": 0.17,
          "step": 1,
          "tag": "ADR",
          "trial_num": 3,
          "weak_weight": 1
         },
         {
          "metric_name": "Recall",
          "metric_val": 0.14,
          "step": 6,
          "tag": "ADR",
          "trial_num": 3,
          "weak_weight": 1
         },
         {
          "metric_name": "Recall",
          "metric_val": 0,
          "step": 16,
          "tag": "ADR",
          "trial_num": 3,
          "weak_weight": 1
         },
         {
          "metric_name": "Recall",
          "metric_val": 0.14,
          "step": 41,
          "tag": "ADR",
          "trial_num": 3,
          "weak_weight": 1
         },
         {
          "metric_name": "Recall",
          "metric_val": 0.4,
          "step": 91,
          "tag": "ADR",
          "trial_num": 3,
          "weak_weight": 1
         },
         {
          "metric_name": "Recall",
          "metric_val": 0.16,
          "step": 191,
          "tag": "ADR",
          "trial_num": 3,
          "weak_weight": 1
         },
         {
          "metric_name": "Recall",
          "metric_val": 0.23,
          "step": 391,
          "tag": "ADR",
          "trial_num": 3,
          "weak_weight": 1
         },
         {
          "metric_name": "Recall",
          "metric_val": 0.43,
          "step": 791,
          "tag": "ADR",
          "trial_num": 3,
          "weak_weight": 1
         },
         {
          "metric_name": "Recall",
          "metric_val": 0.54,
          "step": 999,
          "tag": "ADR",
          "trial_num": 3,
          "weak_weight": 1
         },
         {
          "metric_name": "F1",
          "metric_val": 0.13,
          "step": 1,
          "tag": "ADR",
          "trial_num": 3,
          "weak_weight": 1
         },
         {
          "metric_name": "F1",
          "metric_val": 0.14,
          "step": 6,
          "tag": "ADR",
          "trial_num": 3,
          "weak_weight": 1
         },
         {
          "metric_name": "F1",
          "metric_val": 0,
          "step": 16,
          "tag": "ADR",
          "trial_num": 3,
          "weak_weight": 1
         },
         {
          "metric_name": "F1",
          "metric_val": 0.2,
          "step": 41,
          "tag": "ADR",
          "trial_num": 3,
          "weak_weight": 1
         },
         {
          "metric_name": "F1",
          "metric_val": 0.05,
          "step": 91,
          "tag": "ADR",
          "trial_num": 3,
          "weak_weight": 1
         },
         {
          "metric_name": "F1",
          "metric_val": 0.18,
          "step": 191,
          "tag": "ADR",
          "trial_num": 3,
          "weak_weight": 1
         },
         {
          "metric_name": "F1",
          "metric_val": 0.08,
          "step": 391,
          "tag": "ADR",
          "trial_num": 3,
          "weak_weight": 1
         },
         {
          "metric_name": "F1",
          "metric_val": 0.32,
          "step": 791,
          "tag": "ADR",
          "trial_num": 3,
          "weak_weight": 1
         },
         {
          "metric_name": "F1",
          "metric_val": 0.54,
          "step": 999,
          "tag": "ADR",
          "trial_num": 3,
          "weak_weight": 1
         },
         {
          "metric_name": "Precesion",
          "metric_val": 0.01,
          "step": 1,
          "tag": "ADR",
          "trial_num": 1,
          "weak_weight": 1
         },
         {
          "metric_name": "Precesion",
          "metric_val": 0.12,
          "step": 6,
          "tag": "ADR",
          "trial_num": 1,
          "weak_weight": 1
         },
         {
          "metric_name": "Precesion",
          "metric_val": 0.21,
          "step": 16,
          "tag": "ADR",
          "trial_num": 1,
          "weak_weight": 1
         },
         {
          "metric_name": "Precesion",
          "metric_val": 0.47,
          "step": 41,
          "tag": "ADR",
          "trial_num": 1,
          "weak_weight": 1
         },
         {
          "metric_name": "Precesion",
          "metric_val": 0.49,
          "step": 91,
          "tag": "ADR",
          "trial_num": 1,
          "weak_weight": 1
         },
         {
          "metric_name": "Precesion",
          "metric_val": 0.55,
          "step": 191,
          "tag": "ADR",
          "trial_num": 1,
          "weak_weight": 1
         },
         {
          "metric_name": "Precesion",
          "metric_val": 0.28,
          "step": 391,
          "tag": "ADR",
          "trial_num": 1,
          "weak_weight": 1
         },
         {
          "metric_name": "Precesion",
          "metric_val": 0.68,
          "step": 791,
          "tag": "ADR",
          "trial_num": 1,
          "weak_weight": 1
         },
         {
          "metric_name": "Precesion",
          "metric_val": 0.77,
          "step": 999,
          "tag": "ADR",
          "trial_num": 1,
          "weak_weight": 1
         },
         {
          "metric_name": "Recall",
          "metric_val": 0.62,
          "step": 1,
          "tag": "ADR",
          "trial_num": 1,
          "weak_weight": 1
         },
         {
          "metric_name": "Recall",
          "metric_val": 0.48,
          "step": 6,
          "tag": "ADR",
          "trial_num": 1,
          "weak_weight": 1
         },
         {
          "metric_name": "Recall",
          "metric_val": 0.67,
          "step": 16,
          "tag": "ADR",
          "trial_num": 1,
          "weak_weight": 1
         },
         {
          "metric_name": "Recall",
          "metric_val": 0.6,
          "step": 41,
          "tag": "ADR",
          "trial_num": 1,
          "weak_weight": 1
         },
         {
          "metric_name": "Recall",
          "metric_val": 0.54,
          "step": 91,
          "tag": "ADR",
          "trial_num": 1,
          "weak_weight": 1
         },
         {
          "metric_name": "Recall",
          "metric_val": 0.7,
          "step": 191,
          "tag": "ADR",
          "trial_num": 1,
          "weak_weight": 1
         },
         {
          "metric_name": "Recall",
          "metric_val": 0.86,
          "step": 391,
          "tag": "ADR",
          "trial_num": 1,
          "weak_weight": 1
         },
         {
          "metric_name": "Recall",
          "metric_val": 0.71,
          "step": 791,
          "tag": "ADR",
          "trial_num": 1,
          "weak_weight": 1
         },
         {
          "metric_name": "Recall",
          "metric_val": 0.7,
          "step": 999,
          "tag": "ADR",
          "trial_num": 1,
          "weak_weight": 1
         },
         {
          "metric_name": "F1",
          "metric_val": 0.02,
          "step": 1,
          "tag": "ADR",
          "trial_num": 1,
          "weak_weight": 1
         },
         {
          "metric_name": "F1",
          "metric_val": 0.2,
          "step": 6,
          "tag": "ADR",
          "trial_num": 1,
          "weak_weight": 1
         },
         {
          "metric_name": "F1",
          "metric_val": 0.32,
          "step": 16,
          "tag": "ADR",
          "trial_num": 1,
          "weak_weight": 1
         },
         {
          "metric_name": "F1",
          "metric_val": 0.52,
          "step": 41,
          "tag": "ADR",
          "trial_num": 1,
          "weak_weight": 1
         },
         {
          "metric_name": "F1",
          "metric_val": 0.52,
          "step": 91,
          "tag": "ADR",
          "trial_num": 1,
          "weak_weight": 1
         },
         {
          "metric_name": "F1",
          "metric_val": 0.62,
          "step": 191,
          "tag": "ADR",
          "trial_num": 1,
          "weak_weight": 1
         },
         {
          "metric_name": "F1",
          "metric_val": 0.42,
          "step": 391,
          "tag": "ADR",
          "trial_num": 1,
          "weak_weight": 1
         },
         {
          "metric_name": "F1",
          "metric_val": 0.69,
          "step": 791,
          "tag": "ADR",
          "trial_num": 1,
          "weak_weight": 1
         },
         {
          "metric_name": "F1",
          "metric_val": 0.73,
          "step": 999,
          "tag": "ADR",
          "trial_num": 1,
          "weak_weight": 1
         },
         {
          "metric_name": "Precesion",
          "metric_val": 0.13,
          "step": 1,
          "tag": "ADR",
          "trial_num": 0,
          "weak_weight": 1
         },
         {
          "metric_name": "Precesion",
          "metric_val": 0.34,
          "step": 6,
          "tag": "ADR",
          "trial_num": 0,
          "weak_weight": 1
         },
         {
          "metric_name": "Precesion",
          "metric_val": 0.42,
          "step": 16,
          "tag": "ADR",
          "trial_num": 0,
          "weak_weight": 1
         },
         {
          "metric_name": "Precesion",
          "metric_val": 0.36,
          "step": 41,
          "tag": "ADR",
          "trial_num": 0,
          "weak_weight": 1
         },
         {
          "metric_name": "Precesion",
          "metric_val": 0.42,
          "step": 91,
          "tag": "ADR",
          "trial_num": 0,
          "weak_weight": 1
         },
         {
          "metric_name": "Precesion",
          "metric_val": 0.71,
          "step": 191,
          "tag": "ADR",
          "trial_num": 0,
          "weak_weight": 1
         },
         {
          "metric_name": "Precesion",
          "metric_val": 0.57,
          "step": 391,
          "tag": "ADR",
          "trial_num": 0,
          "weak_weight": 1
         },
         {
          "metric_name": "Precesion",
          "metric_val": 0.64,
          "step": 791,
          "tag": "ADR",
          "trial_num": 0,
          "weak_weight": 1
         },
         {
          "metric_name": "Precesion",
          "metric_val": 0.73,
          "step": 999,
          "tag": "ADR",
          "trial_num": 0,
          "weak_weight": 1
         },
         {
          "metric_name": "Recall",
          "metric_val": 0.2,
          "step": 1,
          "tag": "ADR",
          "trial_num": 0,
          "weak_weight": 1
         },
         {
          "metric_name": "Recall",
          "metric_val": 0.37,
          "step": 6,
          "tag": "ADR",
          "trial_num": 0,
          "weak_weight": 1
         },
         {
          "metric_name": "Recall",
          "metric_val": 0.49,
          "step": 16,
          "tag": "ADR",
          "trial_num": 0,
          "weak_weight": 1
         },
         {
          "metric_name": "Recall",
          "metric_val": 0.74,
          "step": 41,
          "tag": "ADR",
          "trial_num": 0,
          "weak_weight": 1
         },
         {
          "metric_name": "Recall",
          "metric_val": 0.65,
          "step": 91,
          "tag": "ADR",
          "trial_num": 0,
          "weak_weight": 1
         },
         {
          "metric_name": "Recall",
          "metric_val": 0.5,
          "step": 191,
          "tag": "ADR",
          "trial_num": 0,
          "weak_weight": 1
         },
         {
          "metric_name": "Recall",
          "metric_val": 0.75,
          "step": 391,
          "tag": "ADR",
          "trial_num": 0,
          "weak_weight": 1
         },
         {
          "metric_name": "Recall",
          "metric_val": 0.76,
          "step": 791,
          "tag": "ADR",
          "trial_num": 0,
          "weak_weight": 1
         },
         {
          "metric_name": "Recall",
          "metric_val": 0.73,
          "step": 999,
          "tag": "ADR",
          "trial_num": 0,
          "weak_weight": 1
         },
         {
          "metric_name": "F1",
          "metric_val": 0.16,
          "step": 1,
          "tag": "ADR",
          "trial_num": 0,
          "weak_weight": 1
         },
         {
          "metric_name": "F1",
          "metric_val": 0.35,
          "step": 6,
          "tag": "ADR",
          "trial_num": 0,
          "weak_weight": 1
         },
         {
          "metric_name": "F1",
          "metric_val": 0.45,
          "step": 16,
          "tag": "ADR",
          "trial_num": 0,
          "weak_weight": 1
         },
         {
          "metric_name": "F1",
          "metric_val": 0.49,
          "step": 41,
          "tag": "ADR",
          "trial_num": 0,
          "weak_weight": 1
         },
         {
          "metric_name": "F1",
          "metric_val": 0.51,
          "step": 91,
          "tag": "ADR",
          "trial_num": 0,
          "weak_weight": 1
         },
         {
          "metric_name": "F1",
          "metric_val": 0.58,
          "step": 191,
          "tag": "ADR",
          "trial_num": 0,
          "weak_weight": 1
         },
         {
          "metric_name": "F1",
          "metric_val": 0.64,
          "step": 391,
          "tag": "ADR",
          "trial_num": 0,
          "weak_weight": 1
         },
         {
          "metric_name": "F1",
          "metric_val": 0.69,
          "step": 791,
          "tag": "ADR",
          "trial_num": 0,
          "weak_weight": 1
         },
         {
          "metric_name": "F1",
          "metric_val": 0.73,
          "step": 999,
          "tag": "ADR",
          "trial_num": 0,
          "weak_weight": 1
         },
         {
          "metric_name": "Precesion",
          "metric_val": 0.01,
          "step": 1,
          "tag": "ADR",
          "trial_num": 2,
          "weak_weight": 0.1
         },
         {
          "metric_name": "Precesion",
          "metric_val": 0.06,
          "step": 6,
          "tag": "ADR",
          "trial_num": 2,
          "weak_weight": 0.1
         },
         {
          "metric_name": "Precesion",
          "metric_val": 0.48,
          "step": 16,
          "tag": "ADR",
          "trial_num": 2,
          "weak_weight": 0.1
         },
         {
          "metric_name": "Precesion",
          "metric_val": 0.65,
          "step": 41,
          "tag": "ADR",
          "trial_num": 2,
          "weak_weight": 0.1
         },
         {
          "metric_name": "Precesion",
          "metric_val": 0.6,
          "step": 91,
          "tag": "ADR",
          "trial_num": 2,
          "weak_weight": 0.1
         },
         {
          "metric_name": "Precesion",
          "metric_val": 0.63,
          "step": 191,
          "tag": "ADR",
          "trial_num": 2,
          "weak_weight": 0.1
         },
         {
          "metric_name": "Precesion",
          "metric_val": 0.64,
          "step": 391,
          "tag": "ADR",
          "trial_num": 2,
          "weak_weight": 0.1
         },
         {
          "metric_name": "Precesion",
          "metric_val": 0.71,
          "step": 791,
          "tag": "ADR",
          "trial_num": 2,
          "weak_weight": 0.1
         },
         {
          "metric_name": "Precesion",
          "metric_val": 0.8,
          "step": 999,
          "tag": "ADR",
          "trial_num": 2,
          "weak_weight": 0.1
         },
         {
          "metric_name": "Recall",
          "metric_val": 0.29,
          "step": 1,
          "tag": "ADR",
          "trial_num": 2,
          "weak_weight": 0.1
         },
         {
          "metric_name": "Recall",
          "metric_val": 0.85,
          "step": 6,
          "tag": "ADR",
          "trial_num": 2,
          "weak_weight": 0.1
         },
         {
          "metric_name": "Recall",
          "metric_val": 0.4,
          "step": 16,
          "tag": "ADR",
          "trial_num": 2,
          "weak_weight": 0.1
         },
         {
          "metric_name": "Recall",
          "metric_val": 0.27,
          "step": 41,
          "tag": "ADR",
          "trial_num": 2,
          "weak_weight": 0.1
         },
         {
          "metric_name": "Recall",
          "metric_val": 0.75,
          "step": 91,
          "tag": "ADR",
          "trial_num": 2,
          "weak_weight": 0.1
         },
         {
          "metric_name": "Recall",
          "metric_val": 0.57,
          "step": 191,
          "tag": "ADR",
          "trial_num": 2,
          "weak_weight": 0.1
         },
         {
          "metric_name": "Recall",
          "metric_val": 0.74,
          "step": 391,
          "tag": "ADR",
          "trial_num": 2,
          "weak_weight": 0.1
         },
         {
          "metric_name": "Recall",
          "metric_val": 0.73,
          "step": 791,
          "tag": "ADR",
          "trial_num": 2,
          "weak_weight": 0.1
         },
         {
          "metric_name": "Recall",
          "metric_val": 0.67,
          "step": 999,
          "tag": "ADR",
          "trial_num": 2,
          "weak_weight": 0.1
         },
         {
          "metric_name": "F1",
          "metric_val": 0.02,
          "step": 1,
          "tag": "ADR",
          "trial_num": 2,
          "weak_weight": 0.1
         },
         {
          "metric_name": "F1",
          "metric_val": 0.12,
          "step": 6,
          "tag": "ADR",
          "trial_num": 2,
          "weak_weight": 0.1
         },
         {
          "metric_name": "F1",
          "metric_val": 0.43,
          "step": 16,
          "tag": "ADR",
          "trial_num": 2,
          "weak_weight": 0.1
         },
         {
          "metric_name": "F1",
          "metric_val": 0.38,
          "step": 41,
          "tag": "ADR",
          "trial_num": 2,
          "weak_weight": 0.1
         },
         {
          "metric_name": "F1",
          "metric_val": 0.67,
          "step": 91,
          "tag": "ADR",
          "trial_num": 2,
          "weak_weight": 0.1
         },
         {
          "metric_name": "F1",
          "metric_val": 0.6,
          "step": 191,
          "tag": "ADR",
          "trial_num": 2,
          "weak_weight": 0.1
         },
         {
          "metric_name": "F1",
          "metric_val": 0.69,
          "step": 391,
          "tag": "ADR",
          "trial_num": 2,
          "weak_weight": 0.1
         },
         {
          "metric_name": "F1",
          "metric_val": 0.72,
          "step": 791,
          "tag": "ADR",
          "trial_num": 2,
          "weak_weight": 0.1
         },
         {
          "metric_name": "F1",
          "metric_val": 0.73,
          "step": 999,
          "tag": "ADR",
          "trial_num": 2,
          "weak_weight": 0.1
         },
         {
          "metric_name": "Precesion",
          "metric_val": 0,
          "step": 1,
          "tag": "ADR",
          "trial_num": 4,
          "weak_weight": 0.1
         },
         {
          "metric_name": "Precesion",
          "metric_val": 0.34,
          "step": 6,
          "tag": "ADR",
          "trial_num": 4,
          "weak_weight": 0.1
         },
         {
          "metric_name": "Precesion",
          "metric_val": 0.34,
          "step": 16,
          "tag": "ADR",
          "trial_num": 4,
          "weak_weight": 0.1
         },
         {
          "metric_name": "Precesion",
          "metric_val": 0.37,
          "step": 41,
          "tag": "ADR",
          "trial_num": 4,
          "weak_weight": 0.1
         },
         {
          "metric_name": "Precesion",
          "metric_val": 0.31,
          "step": 91,
          "tag": "ADR",
          "trial_num": 4,
          "weak_weight": 0.1
         },
         {
          "metric_name": "Precesion",
          "metric_val": 0.35,
          "step": 191,
          "tag": "ADR",
          "trial_num": 4,
          "weak_weight": 0.1
         },
         {
          "metric_name": "Precesion",
          "metric_val": 0.64,
          "step": 391,
          "tag": "ADR",
          "trial_num": 4,
          "weak_weight": 0.1
         },
         {
          "metric_name": "Precesion",
          "metric_val": 0.62,
          "step": 791,
          "tag": "ADR",
          "trial_num": 4,
          "weak_weight": 0.1
         },
         {
          "metric_name": "Precesion",
          "metric_val": 0.85,
          "step": 999,
          "tag": "ADR",
          "trial_num": 4,
          "weak_weight": 0.1
         },
         {
          "metric_name": "Recall",
          "metric_val": 0.71,
          "step": 1,
          "tag": "ADR",
          "trial_num": 4,
          "weak_weight": 0.1
         },
         {
          "metric_name": "Recall",
          "metric_val": 0.59,
          "step": 6,
          "tag": "ADR",
          "trial_num": 4,
          "weak_weight": 0.1
         },
         {
          "metric_name": "Recall",
          "metric_val": 0.72,
          "step": 16,
          "tag": "ADR",
          "trial_num": 4,
          "weak_weight": 0.1
         },
         {
          "metric_name": "Recall",
          "metric_val": 0.7,
          "step": 41,
          "tag": "ADR",
          "trial_num": 4,
          "weak_weight": 0.1
         },
         {
          "metric_name": "Recall",
          "metric_val": 0.67,
          "step": 91,
          "tag": "ADR",
          "trial_num": 4,
          "weak_weight": 0.1
         },
         {
          "metric_name": "Recall",
          "metric_val": 0.74,
          "step": 191,
          "tag": "ADR",
          "trial_num": 4,
          "weak_weight": 0.1
         },
         {
          "metric_name": "Recall",
          "metric_val": 0.74,
          "step": 391,
          "tag": "ADR",
          "trial_num": 4,
          "weak_weight": 0.1
         },
         {
          "metric_name": "Recall",
          "metric_val": 0.84,
          "step": 791,
          "tag": "ADR",
          "trial_num": 4,
          "weak_weight": 0.1
         },
         {
          "metric_name": "Recall",
          "metric_val": 0.69,
          "step": 999,
          "tag": "ADR",
          "trial_num": 4,
          "weak_weight": 0.1
         },
         {
          "metric_name": "F1",
          "metric_val": 0,
          "step": 1,
          "tag": "ADR",
          "trial_num": 4,
          "weak_weight": 0.1
         },
         {
          "metric_name": "F1",
          "metric_val": 0.43,
          "step": 6,
          "tag": "ADR",
          "trial_num": 4,
          "weak_weight": 0.1
         },
         {
          "metric_name": "F1",
          "metric_val": 0.46,
          "step": 16,
          "tag": "ADR",
          "trial_num": 4,
          "weak_weight": 0.1
         },
         {
          "metric_name": "F1",
          "metric_val": 0.49,
          "step": 41,
          "tag": "ADR",
          "trial_num": 4,
          "weak_weight": 0.1
         },
         {
          "metric_name": "F1",
          "metric_val": 0.43,
          "step": 91,
          "tag": "ADR",
          "trial_num": 4,
          "weak_weight": 0.1
         },
         {
          "metric_name": "F1",
          "metric_val": 0.48,
          "step": 191,
          "tag": "ADR",
          "trial_num": 4,
          "weak_weight": 0.1
         },
         {
          "metric_name": "F1",
          "metric_val": 0.69,
          "step": 391,
          "tag": "ADR",
          "trial_num": 4,
          "weak_weight": 0.1
         },
         {
          "metric_name": "F1",
          "metric_val": 0.71,
          "step": 791,
          "tag": "ADR",
          "trial_num": 4,
          "weak_weight": 0.1
         },
         {
          "metric_name": "F1",
          "metric_val": 0.76,
          "step": 999,
          "tag": "ADR",
          "trial_num": 4,
          "weak_weight": 0.1
         },
         {
          "metric_name": "Precesion",
          "metric_val": 0.66,
          "step": 1,
          "tag": "ADR",
          "trial_num": 3,
          "weak_weight": 0.1
         },
         {
          "metric_name": "Precesion",
          "metric_val": 0.33,
          "step": 6,
          "tag": "ADR",
          "trial_num": 3,
          "weak_weight": 0.1
         },
         {
          "metric_name": "Precesion",
          "metric_val": 0.48,
          "step": 16,
          "tag": "ADR",
          "trial_num": 3,
          "weak_weight": 0.1
         },
         {
          "metric_name": "Precesion",
          "metric_val": 0.56,
          "step": 41,
          "tag": "ADR",
          "trial_num": 3,
          "weak_weight": 0.1
         },
         {
          "metric_name": "Precesion",
          "metric_val": 0.07,
          "step": 91,
          "tag": "ADR",
          "trial_num": 3,
          "weak_weight": 0.1
         },
         {
          "metric_name": "Precesion",
          "metric_val": 0.59,
          "step": 191,
          "tag": "ADR",
          "trial_num": 3,
          "weak_weight": 0.1
         },
         {
          "metric_name": "Precesion",
          "metric_val": 0.57,
          "step": 391,
          "tag": "ADR",
          "trial_num": 3,
          "weak_weight": 0.1
         },
         {
          "metric_name": "Precesion",
          "metric_val": 0.62,
          "step": 791,
          "tag": "ADR",
          "trial_num": 3,
          "weak_weight": 0.1
         },
         {
          "metric_name": "Precesion",
          "metric_val": 0.66,
          "step": 999,
          "tag": "ADR",
          "trial_num": 3,
          "weak_weight": 0.1
         },
         {
          "metric_name": "Recall",
          "metric_val": 0.2,
          "step": 1,
          "tag": "ADR",
          "trial_num": 3,
          "weak_weight": 0.1
         },
         {
          "metric_name": "Recall",
          "metric_val": 0.58,
          "step": 6,
          "tag": "ADR",
          "trial_num": 3,
          "weak_weight": 0.1
         },
         {
          "metric_name": "Recall",
          "metric_val": 0.46,
          "step": 16,
          "tag": "ADR",
          "trial_num": 3,
          "weak_weight": 0.1
         },
         {
          "metric_name": "Recall",
          "metric_val": 0.3,
          "step": 41,
          "tag": "ADR",
          "trial_num": 3,
          "weak_weight": 0.1
         },
         {
          "metric_name": "Recall",
          "metric_val": 0.79,
          "step": 91,
          "tag": "ADR",
          "trial_num": 3,
          "weak_weight": 0.1
         },
         {
          "metric_name": "Recall",
          "metric_val": 0.63,
          "step": 191,
          "tag": "ADR",
          "trial_num": 3,
          "weak_weight": 0.1
         },
         {
          "metric_name": "Recall",
          "metric_val": 0.72,
          "step": 391,
          "tag": "ADR",
          "trial_num": 3,
          "weak_weight": 0.1
         },
         {
          "metric_name": "Recall",
          "metric_val": 0.83,
          "step": 791,
          "tag": "ADR",
          "trial_num": 3,
          "weak_weight": 0.1
         },
         {
          "metric_name": "Recall",
          "metric_val": 0.83,
          "step": 999,
          "tag": "ADR",
          "trial_num": 3,
          "weak_weight": 0.1
         },
         {
          "metric_name": "F1",
          "metric_val": 0.31,
          "step": 1,
          "tag": "ADR",
          "trial_num": 3,
          "weak_weight": 0.1
         },
         {
          "metric_name": "F1",
          "metric_val": 0.42,
          "step": 6,
          "tag": "ADR",
          "trial_num": 3,
          "weak_weight": 0.1
         },
         {
          "metric_name": "F1",
          "metric_val": 0.47,
          "step": 16,
          "tag": "ADR",
          "trial_num": 3,
          "weak_weight": 0.1
         },
         {
          "metric_name": "F1",
          "metric_val": 0.39,
          "step": 41,
          "tag": "ADR",
          "trial_num": 3,
          "weak_weight": 0.1
         },
         {
          "metric_name": "F1",
          "metric_val": 0.14,
          "step": 91,
          "tag": "ADR",
          "trial_num": 3,
          "weak_weight": 0.1
         },
         {
          "metric_name": "F1",
          "metric_val": 0.61,
          "step": 191,
          "tag": "ADR",
          "trial_num": 3,
          "weak_weight": 0.1
         },
         {
          "metric_name": "F1",
          "metric_val": 0.64,
          "step": 391,
          "tag": "ADR",
          "trial_num": 3,
          "weak_weight": 0.1
         },
         {
          "metric_name": "F1",
          "metric_val": 0.71,
          "step": 791,
          "tag": "ADR",
          "trial_num": 3,
          "weak_weight": 0.1
         },
         {
          "metric_name": "F1",
          "metric_val": 0.74,
          "step": 999,
          "tag": "ADR",
          "trial_num": 3,
          "weak_weight": 0.1
         },
         {
          "metric_name": "Precesion",
          "metric_val": 0.53,
          "step": 1,
          "tag": "ADR",
          "trial_num": 1,
          "weak_weight": 0.1
         },
         {
          "metric_name": "Precesion",
          "metric_val": 0.04,
          "step": 6,
          "tag": "ADR",
          "trial_num": 1,
          "weak_weight": 0.1
         },
         {
          "metric_name": "Precesion",
          "metric_val": 0.45,
          "step": 16,
          "tag": "ADR",
          "trial_num": 1,
          "weak_weight": 0.1
         },
         {
          "metric_name": "Precesion",
          "metric_val": 0.19,
          "step": 41,
          "tag": "ADR",
          "trial_num": 1,
          "weak_weight": 0.1
         },
         {
          "metric_name": "Precesion",
          "metric_val": 0.65,
          "step": 91,
          "tag": "ADR",
          "trial_num": 1,
          "weak_weight": 0.1
         },
         {
          "metric_name": "Precesion",
          "metric_val": 0.5,
          "step": 191,
          "tag": "ADR",
          "trial_num": 1,
          "weak_weight": 0.1
         },
         {
          "metric_name": "Precesion",
          "metric_val": 0.8,
          "step": 391,
          "tag": "ADR",
          "trial_num": 1,
          "weak_weight": 0.1
         },
         {
          "metric_name": "Precesion",
          "metric_val": 0.79,
          "step": 791,
          "tag": "ADR",
          "trial_num": 1,
          "weak_weight": 0.1
         },
         {
          "metric_name": "Precesion",
          "metric_val": 0.77,
          "step": 999,
          "tag": "ADR",
          "trial_num": 1,
          "weak_weight": 0.1
         },
         {
          "metric_name": "Recall",
          "metric_val": 0.17,
          "step": 1,
          "tag": "ADR",
          "trial_num": 1,
          "weak_weight": 0.1
         },
         {
          "metric_name": "Recall",
          "metric_val": 0.46,
          "step": 6,
          "tag": "ADR",
          "trial_num": 1,
          "weak_weight": 0.1
         },
         {
          "metric_name": "Recall",
          "metric_val": 0.54,
          "step": 16,
          "tag": "ADR",
          "trial_num": 1,
          "weak_weight": 0.1
         },
         {
          "metric_name": "Recall",
          "metric_val": 0.45,
          "step": 41,
          "tag": "ADR",
          "trial_num": 1,
          "weak_weight": 0.1
         },
         {
          "metric_name": "Recall",
          "metric_val": 0.47,
          "step": 91,
          "tag": "ADR",
          "trial_num": 1,
          "weak_weight": 0.1
         },
         {
          "metric_name": "Recall",
          "metric_val": 0.77,
          "step": 191,
          "tag": "ADR",
          "trial_num": 1,
          "weak_weight": 0.1
         },
         {
          "metric_name": "Recall",
          "metric_val": 0.43,
          "step": 391,
          "tag": "ADR",
          "trial_num": 1,
          "weak_weight": 0.1
         },
         {
          "metric_name": "Recall",
          "metric_val": 0.66,
          "step": 791,
          "tag": "ADR",
          "trial_num": 1,
          "weak_weight": 0.1
         },
         {
          "metric_name": "Recall",
          "metric_val": 0.72,
          "step": 999,
          "tag": "ADR",
          "trial_num": 1,
          "weak_weight": 0.1
         },
         {
          "metric_name": "F1",
          "metric_val": 0.26,
          "step": 1,
          "tag": "ADR",
          "trial_num": 1,
          "weak_weight": 0.1
         },
         {
          "metric_name": "F1",
          "metric_val": 0.07,
          "step": 6,
          "tag": "ADR",
          "trial_num": 1,
          "weak_weight": 0.1
         },
         {
          "metric_name": "F1",
          "metric_val": 0.49,
          "step": 16,
          "tag": "ADR",
          "trial_num": 1,
          "weak_weight": 0.1
         },
         {
          "metric_name": "F1",
          "metric_val": 0.27,
          "step": 41,
          "tag": "ADR",
          "trial_num": 1,
          "weak_weight": 0.1
         },
         {
          "metric_name": "F1",
          "metric_val": 0.55,
          "step": 91,
          "tag": "ADR",
          "trial_num": 1,
          "weak_weight": 0.1
         },
         {
          "metric_name": "F1",
          "metric_val": 0.61,
          "step": 191,
          "tag": "ADR",
          "trial_num": 1,
          "weak_weight": 0.1
         },
         {
          "metric_name": "F1",
          "metric_val": 0.56,
          "step": 391,
          "tag": "ADR",
          "trial_num": 1,
          "weak_weight": 0.1
         },
         {
          "metric_name": "F1",
          "metric_val": 0.72,
          "step": 791,
          "tag": "ADR",
          "trial_num": 1,
          "weak_weight": 0.1
         },
         {
          "metric_name": "F1",
          "metric_val": 0.74,
          "step": 999,
          "tag": "ADR",
          "trial_num": 1,
          "weak_weight": 0.1
         },
         {
          "metric_name": "Precesion",
          "metric_val": 0.03,
          "step": 1,
          "tag": "ADR",
          "trial_num": 0,
          "weak_weight": 0.1
         },
         {
          "metric_name": "Precesion",
          "metric_val": 0.49,
          "step": 6,
          "tag": "ADR",
          "trial_num": 0,
          "weak_weight": 0.1
         },
         {
          "metric_name": "Precesion",
          "metric_val": 0.42,
          "step": 16,
          "tag": "ADR",
          "trial_num": 0,
          "weak_weight": 0.1
         },
         {
          "metric_name": "Precesion",
          "metric_val": 0.46,
          "step": 41,
          "tag": "ADR",
          "trial_num": 0,
          "weak_weight": 0.1
         },
         {
          "metric_name": "Precesion",
          "metric_val": 0.53,
          "step": 91,
          "tag": "ADR",
          "trial_num": 0,
          "weak_weight": 0.1
         },
         {
          "metric_name": "Precesion",
          "metric_val": 0.56,
          "step": 191,
          "tag": "ADR",
          "trial_num": 0,
          "weak_weight": 0.1
         },
         {
          "metric_name": "Precesion",
          "metric_val": 0.67,
          "step": 391,
          "tag": "ADR",
          "trial_num": 0,
          "weak_weight": 0.1
         },
         {
          "metric_name": "Precesion",
          "metric_val": 0.63,
          "step": 791,
          "tag": "ADR",
          "trial_num": 0,
          "weak_weight": 0.1
         },
         {
          "metric_name": "Precesion",
          "metric_val": 0.73,
          "step": 999,
          "tag": "ADR",
          "trial_num": 0,
          "weak_weight": 0.1
         },
         {
          "metric_name": "Recall",
          "metric_val": 0.58,
          "step": 1,
          "tag": "ADR",
          "trial_num": 0,
          "weak_weight": 0.1
         },
         {
          "metric_name": "Recall",
          "metric_val": 0.15,
          "step": 6,
          "tag": "ADR",
          "trial_num": 0,
          "weak_weight": 0.1
         },
         {
          "metric_name": "Recall",
          "metric_val": 0.19,
          "step": 16,
          "tag": "ADR",
          "trial_num": 0,
          "weak_weight": 0.1
         },
         {
          "metric_name": "Recall",
          "metric_val": 0.53,
          "step": 41,
          "tag": "ADR",
          "trial_num": 0,
          "weak_weight": 0.1
         },
         {
          "metric_name": "Recall",
          "metric_val": 0.58,
          "step": 91,
          "tag": "ADR",
          "trial_num": 0,
          "weak_weight": 0.1
         },
         {
          "metric_name": "Recall",
          "metric_val": 0.22,
          "step": 191,
          "tag": "ADR",
          "trial_num": 0,
          "weak_weight": 0.1
         },
         {
          "metric_name": "Recall",
          "metric_val": 0.67,
          "step": 391,
          "tag": "ADR",
          "trial_num": 0,
          "weak_weight": 0.1
         },
         {
          "metric_name": "Recall",
          "metric_val": 0.82,
          "step": 791,
          "tag": "ADR",
          "trial_num": 0,
          "weak_weight": 0.1
         },
         {
          "metric_name": "Recall",
          "metric_val": 0.78,
          "step": 999,
          "tag": "ADR",
          "trial_num": 0,
          "weak_weight": 0.1
         },
         {
          "metric_name": "F1",
          "metric_val": 0.05,
          "step": 1,
          "tag": "ADR",
          "trial_num": 0,
          "weak_weight": 0.1
         },
         {
          "metric_name": "F1",
          "metric_val": 0.23,
          "step": 6,
          "tag": "ADR",
          "trial_num": 0,
          "weak_weight": 0.1
         },
         {
          "metric_name": "F1",
          "metric_val": 0.26,
          "step": 16,
          "tag": "ADR",
          "trial_num": 0,
          "weak_weight": 0.1
         },
         {
          "metric_name": "F1",
          "metric_val": 0.49,
          "step": 41,
          "tag": "ADR",
          "trial_num": 0,
          "weak_weight": 0.1
         },
         {
          "metric_name": "F1",
          "metric_val": 0.55,
          "step": 91,
          "tag": "ADR",
          "trial_num": 0,
          "weak_weight": 0.1
         },
         {
          "metric_name": "F1",
          "metric_val": 0.31,
          "step": 191,
          "tag": "ADR",
          "trial_num": 0,
          "weak_weight": 0.1
         },
         {
          "metric_name": "F1",
          "metric_val": 0.67,
          "step": 391,
          "tag": "ADR",
          "trial_num": 0,
          "weak_weight": 0.1
         },
         {
          "metric_name": "F1",
          "metric_val": 0.71,
          "step": 791,
          "tag": "ADR",
          "trial_num": 0,
          "weak_weight": 0.1
         },
         {
          "metric_name": "F1",
          "metric_val": 0.75,
          "step": 999,
          "tag": "ADR",
          "trial_num": 0,
          "weak_weight": 0.1
         }
        ]
       },
       "layer": [
        {
         "data": {
          "name": "data-4c42344587e6f78b29f548ba60030983"
         },
         "encoding": {
          "color": {
           "field": "weak_weight",
           "type": "nominal"
          },
          "x": {
           "field": "step",
           "title": "Dataset Size",
           "type": "quantitative"
          },
          "y": {
           "aggregate": "mean",
           "field": "metric_val",
           "scale": {
            "domain": [
             0,
             1
            ]
           },
           "title": "F1",
           "type": "quantitative"
          }
         },
         "mark": {
          "point": true,
          "type": "line"
         },
         "title": "F1 vs Dataset Size",
         "transform": [
          {
           "filter": "(datum.metric_name === 'F1')"
          },
          {
           "filter": "(datum.weak_weight <= 1.0)"
          },
          {
           "filter": "(datum.step <= 10000)"
          }
         ]
        },
        {
         "data": {
          "name": "data-4c42344587e6f78b29f548ba60030983"
         },
         "encoding": {
          "color": {
           "field": "weak_weight",
           "type": "nominal"
          },
          "x": {
           "field": "step",
           "type": "quantitative"
          },
          "y": {
           "aggregate": "ci0",
           "field": "metric_val",
           "scale": {
            "domain": [
             0,
             1
            ]
           },
           "type": "quantitative"
          },
          "y2": {
           "aggregate": "ci1",
           "field": "metric_val",
           "type": "quantitative"
          }
         },
         "mark": {
          "interpolate": "monotone",
          "opacity": 0.3,
          "type": "area"
         },
         "title": "F1 vs Dataset Size",
         "transform": [
          {
           "filter": "(datum.metric_name === 'F1')"
          },
          {
           "filter": "(datum.weak_weight <= 1.0)"
          },
          {
           "filter": "(datum.step <= 10000)"
          }
         ]
        }
       ],
       "width": 1000
      },
      "image/png": "[encoded data removed]",
      "text/plain": [
       "<VegaLite 2 object>\n",
       "\n",
       "If you see this message, it means the renderer has not been properly enabled\n",
       "for the frontend that you are using. For more information, see\n",
       "https://altair-viz.github.io/user_guide/troubleshooting.html\n"
      ]
     },
     "execution_count": 52,
     "metadata": {},
     "output_type": "execute_result"
    }
   ],
   "source": [
    "WEAK_WEIGHT = 1.0\n",
    "MAX_DATASET_SIZE = 10000\n",
    "\n",
    "def metric_graph(data_frame: pd.DataFrame, metric: str) -> alt.Chart:\n",
    "    base = alt.Chart(data_frame, title=f'{metric} vs Dataset Size')\n",
    "    line = base.mark_line(point=True).encode(\n",
    "        x=alt.X('step', title='Dataset Size'),\n",
    "        y=alt.Y('mean(metric_val)', title=metric, scale=alt.Scale(domain=[0, 1])),\n",
    "        color='weak_weight:N',\n",
    "    ).transform_filter(\n",
    "        alt.datum.metric_name == metric\n",
    "    ).transform_filter(\n",
    "        alt.datum.weak_weight <= WEAK_WEIGHT\n",
    "    ).transform_filter(\n",
    "        alt.datum.step <= MAX_DATASET_SIZE\n",
    "    )\n",
    "    \n",
    "    confidence_interval = base.mark_area(interpolate='monotone', opacity=0.3).encode(\n",
    "        x=alt.X('step'),\n",
    "        y=alt.Y('ci0(metric_val)', scale=alt.Scale(domain=[0, 1])),\n",
    "        y2='ci1(metric_val)',\n",
    "        color='weak_weight:N',\n",
    "    ).transform_filter(\n",
    "        alt.datum.metric_name == metric\n",
    "    ).transform_filter(\n",
    "        alt.datum.weak_weight <= WEAK_WEIGHT\n",
    "    ).transform_filter(\n",
    "        alt.datum.step <= MAX_DATASET_SIZE\n",
    "    )\n",
    "\n",
    "    return (line + confidence_interval).properties(width=1000)\n",
    "metric_graph(data_frame, 'F1')"
   ]
  },
  {
   "cell_type": "code",
   "execution_count": null,
   "metadata": {},
   "outputs": [],
   "source": []
  }
 ],
 "metadata": {
  "kernelspec": {
   "display_name": "Environment (conda_snorkel)",
   "language": "python",
   "name": "conda_snorkel"
  },
  "language_info": {
   "codemirror_mode": {
    "name": "ipython",
    "version": 3
   },
   "file_extension": ".py",
   "mimetype": "text/x-python",
   "name": "python",
   "nbconvert_exporter": "python",
   "pygments_lexer": "ipython3",
   "version": "3.6.7"
  }
 },
 "nbformat": 4,
 "nbformat_minor": 2
}
