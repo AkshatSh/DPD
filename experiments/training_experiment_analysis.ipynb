{
 "cells": [
  {
   "cell_type": "code",
   "execution_count": 1,
   "metadata": {},
   "outputs": [],
   "source": [
    "from typing import (\n",
    "    List,\n",
    "    Tuple,\n",
    "    Dict,\n",
    "    Optional,\n",
    ")\n",
    "\n",
    "import os\n",
    "import sys\n",
    "import csv\n",
    "\n",
    "import altair as alt\n",
    "import pandas as pd\n",
    "\n",
    "EXPERIMENT_DIR = 'data/cached'"
   ]
  },
  {
   "cell_type": "code",
   "execution_count": 119,
   "metadata": {},
   "outputs": [
    {
     "data": {
      "text/html": [
       "<div>\n",
       "<style scoped>\n",
       "    .dataframe tbody tr th:only-of-type {\n",
       "        vertical-align: middle;\n",
       "    }\n",
       "\n",
       "    .dataframe tbody tr th {\n",
       "        vertical-align: top;\n",
       "    }\n",
       "\n",
       "    .dataframe thead th {\n",
       "        text-align: right;\n",
       "    }\n",
       "</style>\n",
       "<table border=\"1\" class=\"dataframe\">\n",
       "  <thead>\n",
       "    <tr style=\"text-align: right;\">\n",
       "      <th></th>\n",
       "      <th>metric_name</th>\n",
       "      <th>metric_val</th>\n",
       "      <th>step</th>\n",
       "      <th>tag</th>\n",
       "      <th>trial</th>\n",
       "      <th>weak_function</th>\n",
       "      <th>weak_train_method</th>\n",
       "      <th>weak_weight</th>\n",
       "    </tr>\n",
       "  </thead>\n",
       "  <tbody>\n",
       "    <tr>\n",
       "      <th>0</th>\n",
       "      <td>Token F1</td>\n",
       "      <td>0.70</td>\n",
       "      <td>10.0</td>\n",
       "      <td>ADR</td>\n",
       "      <td>2</td>\n",
       "      <td>knn</td>\n",
       "      <td>fine_tune</td>\n",
       "      <td>0.01</td>\n",
       "    </tr>\n",
       "    <tr>\n",
       "      <th>1</th>\n",
       "      <td>Token F1</td>\n",
       "      <td>0.73</td>\n",
       "      <td>50.0</td>\n",
       "      <td>ADR</td>\n",
       "      <td>2</td>\n",
       "      <td>knn</td>\n",
       "      <td>fine_tune</td>\n",
       "      <td>0.01</td>\n",
       "    </tr>\n",
       "  </tbody>\n",
       "</table>\n",
       "</div>"
      ],
      "text/plain": [
       "  metric_name  metric_val  step  tag  trial weak_function weak_train_method  \\\n",
       "0    Token F1        0.70  10.0  ADR      2           knn         fine_tune   \n",
       "1    Token F1        0.73  50.0  ADR      2           knn         fine_tune   \n",
       "\n",
       "   weak_weight  \n",
       "0         0.01  \n",
       "1         0.01  "
      ]
     },
     "execution_count": 119,
     "metadata": {},
     "output_type": "execute_result"
    }
   ],
   "source": [
    "METRICS = {\n",
    "    'al/valid/f1-measure-overall': 'Span F1',\n",
    "    'al/valid/precision-measure-overall': 'Span Precision',\n",
    "    'al/valid/recall-measure-overall': 'Span Recall',\n",
    "    'al/valid/tag_f1': 'Token F1',\n",
    "    'al/valid/tag_precision': 'Token Precision',\n",
    "    'al/valid/tag_recall': 'Token Recall',\n",
    "}\n",
    "\n",
    "DataDef = List[\n",
    "    Dict[str, object]\n",
    "]\n",
    "\n",
    "def parse_file(\n",
    "    file_name: str,\n",
    "    experiment_tag: str,\n",
    "    weak_weight: float,\n",
    "    weak_function: str,\n",
    "    weak_train_method: str,\n",
    "    trial: int,\n",
    ") -> DataDef:\n",
    "    output = []\n",
    "    with open(file_name, 'r') as csv_file:\n",
    "        csv_reader = csv.reader(csv_file, delimiter=',')\n",
    "        for row in csv_reader:\n",
    "            \n",
    "            # tag, value, step\n",
    "            metric_name, metric_val, step = row\n",
    "            if metric_name not in METRICS:\n",
    "                continue\n",
    "            output.append({\n",
    "                'metric_name': METRICS[metric_name],\n",
    "                'metric_val': round(float(metric_val), 2),\n",
    "                'step': float(step),\n",
    "                'tag': experiment_tag,\n",
    "                'weak_function': weak_function,\n",
    "                'weak_weight': weak_weight,\n",
    "                'trial': trial,\n",
    "                'weak_train_method': weak_train_method,\n",
    "            })\n",
    "    return output\n",
    "\n",
    "def get_experiment_data(root_dir: str) -> DataDef:\n",
    "    res = []\n",
    "    for weak_train in os.listdir(root_dir):\n",
    "        no_weak = weak_train == 'no_weak'\n",
    "        weak_train_dir = os.path.join(\n",
    "            root_dir,\n",
    "            weak_train,\n",
    "        )\n",
    "        \n",
    "        if no_weak:\n",
    "            for trial_dir in os.listdir(weak_train_dir):\n",
    "                if not trial_dir.startswith('trial_'):\n",
    "                    print(f'skipping: {trial_dir}')\n",
    "                    continue\n",
    "                trial_num = int(trial_dir[len('trial_'):])\n",
    "                summary_file = os.path.join(\n",
    "                    weak_train_dir,\n",
    "                    trial_dir,\n",
    "                    'summary.csv',\n",
    "                )\n",
    "\n",
    "                parsed_data = parse_file(\n",
    "                    file_name=summary_file,\n",
    "                    experiment_tag='ADR',\n",
    "                    weak_weight=0.01,\n",
    "                    weak_function='no_weak',\n",
    "                    weak_train_method='fine_tune',\n",
    "                    trial=trial_num,\n",
    "                )\n",
    "\n",
    "                res.extend(parsed_data)\n",
    "                \n",
    "                parsed_data = parse_file(\n",
    "                    file_name=summary_file,\n",
    "                    experiment_tag='ADR',\n",
    "                    weak_weight=0.01,\n",
    "                    weak_function='no_weak',\n",
    "                    weak_train_method='weighted',\n",
    "                    trial=trial_num,\n",
    "                )\n",
    "\n",
    "                res.extend(parsed_data)\n",
    "            continue\n",
    "        for weak_weight in os.listdir(weak_train_dir):\n",
    "            weak_weight = float(weak_weight)\n",
    "            weight_dir = os.path.join(\n",
    "                weak_train_dir,\n",
    "                f'{weak_weight}',\n",
    "            )\n",
    "            for weak_function in os.listdir(weight_dir):\n",
    "                weak_function_dir = os.path.join(\n",
    "                    weight_dir,\n",
    "                    weak_function,\n",
    "                )\n",
    "\n",
    "                for trial_dir in os.listdir(weak_function_dir):\n",
    "                    if not trial_dir.startswith('trial_'):\n",
    "                        print(f'skipping: {trial_dir}')\n",
    "                        continue\n",
    "                    trial_num = int(trial_dir[len('trial_'):])\n",
    "                    summary_file = os.path.join(\n",
    "                        weak_function_dir,\n",
    "                        trial_dir,\n",
    "                        'summary.csv',\n",
    "                    )\n",
    "\n",
    "                    parsed_data = parse_file(\n",
    "                        file_name=summary_file,\n",
    "                        experiment_tag='ADR',\n",
    "                        weak_weight=weak_weight,\n",
    "                        weak_function=weak_function,\n",
    "                        weak_train_method=weak_train,\n",
    "                        trial=trial_num,\n",
    "                    )\n",
    "\n",
    "                    res.extend(parsed_data)\n",
    "    return res\n",
    "\n",
    "data = get_experiment_data(EXPERIMENT_DIR)\n",
    "data_frame = pd.DataFrame(data)\n",
    "data_frame.head(2)"
   ]
  },
  {
   "cell_type": "code",
   "execution_count": 153,
   "metadata": {},
   "outputs": [
    {
     "data": {
      "application/vnd.vegalite.v2+json": {
       "$schema": "https://vega.github.io/schema/vega-lite/v2.6.0.json",
       "config": {
        "view": {
         "height": 300,
         "width": 400
        }
       },
       "data": {
        "name": "data-13fc662b0cdf74c1e41d0013a39344e6"
       },
       "datasets": {
        "data-13fc662b0cdf74c1e41d0013a39344e6": [
         {
          "metric_name": "Token F1",
          "metric_val": 0.7,
          "step": 10,
          "tag": "ADR",
          "trial": 2,
          "weak_function": "knn",
          "weak_train_method": "fine_tune",
          "weak_weight": 0.01
         },
         {
          "metric_name": "Token F1",
          "metric_val": 0.73,
          "step": 50,
          "tag": "ADR",
          "trial": 2,
          "weak_function": "knn",
          "weak_train_method": "fine_tune",
          "weak_weight": 0.01
         },
         {
          "metric_name": "Token F1",
          "metric_val": 0.76,
          "step": 100,
          "tag": "ADR",
          "trial": 2,
          "weak_function": "knn",
          "weak_train_method": "fine_tune",
          "weak_weight": 0.01
         },
         {
          "metric_name": "Token Precision",
          "metric_val": 0.69,
          "step": 10,
          "tag": "ADR",
          "trial": 2,
          "weak_function": "knn",
          "weak_train_method": "fine_tune",
          "weak_weight": 0.01
         },
         {
          "metric_name": "Token Precision",
          "metric_val": 0.8,
          "step": 50,
          "tag": "ADR",
          "trial": 2,
          "weak_function": "knn",
          "weak_train_method": "fine_tune",
          "weak_weight": 0.01
         },
         {
          "metric_name": "Token Precision",
          "metric_val": 0.78,
          "step": 100,
          "tag": "ADR",
          "trial": 2,
          "weak_function": "knn",
          "weak_train_method": "fine_tune",
          "weak_weight": 0.01
         },
         {
          "metric_name": "Token Recall",
          "metric_val": 0.72,
          "step": 10,
          "tag": "ADR",
          "trial": 2,
          "weak_function": "knn",
          "weak_train_method": "fine_tune",
          "weak_weight": 0.01
         },
         {
          "metric_name": "Token Recall",
          "metric_val": 0.66,
          "step": 50,
          "tag": "ADR",
          "trial": 2,
          "weak_function": "knn",
          "weak_train_method": "fine_tune",
          "weak_weight": 0.01
         },
         {
          "metric_name": "Token Recall",
          "metric_val": 0.75,
          "step": 100,
          "tag": "ADR",
          "trial": 2,
          "weak_function": "knn",
          "weak_train_method": "fine_tune",
          "weak_weight": 0.01
         },
         {
          "metric_name": "Span F1",
          "metric_val": 0.46,
          "step": 10,
          "tag": "ADR",
          "trial": 2,
          "weak_function": "knn",
          "weak_train_method": "fine_tune",
          "weak_weight": 0.01
         },
         {
          "metric_name": "Span F1",
          "metric_val": 0.57,
          "step": 50,
          "tag": "ADR",
          "trial": 2,
          "weak_function": "knn",
          "weak_train_method": "fine_tune",
          "weak_weight": 0.01
         },
         {
          "metric_name": "Span F1",
          "metric_val": 0.59,
          "step": 100,
          "tag": "ADR",
          "trial": 2,
          "weak_function": "knn",
          "weak_train_method": "fine_tune",
          "weak_weight": 0.01
         },
         {
          "metric_name": "Token F1",
          "metric_val": 0.69,
          "step": 10,
          "tag": "ADR",
          "trial": 3,
          "weak_function": "knn",
          "weak_train_method": "fine_tune",
          "weak_weight": 0.01
         },
         {
          "metric_name": "Token F1",
          "metric_val": 0.73,
          "step": 50,
          "tag": "ADR",
          "trial": 3,
          "weak_function": "knn",
          "weak_train_method": "fine_tune",
          "weak_weight": 0.01
         },
         {
          "metric_name": "Token F1",
          "metric_val": 0.69,
          "step": 100,
          "tag": "ADR",
          "trial": 3,
          "weak_function": "knn",
          "weak_train_method": "fine_tune",
          "weak_weight": 0.01
         },
         {
          "metric_name": "Token Precision",
          "metric_val": 0.8,
          "step": 10,
          "tag": "ADR",
          "trial": 3,
          "weak_function": "knn",
          "weak_train_method": "fine_tune",
          "weak_weight": 0.01
         },
         {
          "metric_name": "Token Precision",
          "metric_val": 0.82,
          "step": 50,
          "tag": "ADR",
          "trial": 3,
          "weak_function": "knn",
          "weak_train_method": "fine_tune",
          "weak_weight": 0.01
         },
         {
          "metric_name": "Token Precision",
          "metric_val": 0.89,
          "step": 100,
          "tag": "ADR",
          "trial": 3,
          "weak_function": "knn",
          "weak_train_method": "fine_tune",
          "weak_weight": 0.01
         },
         {
          "metric_name": "Token Recall",
          "metric_val": 0.6,
          "step": 10,
          "tag": "ADR",
          "trial": 3,
          "weak_function": "knn",
          "weak_train_method": "fine_tune",
          "weak_weight": 0.01
         },
         {
          "metric_name": "Token Recall",
          "metric_val": 0.66,
          "step": 50,
          "tag": "ADR",
          "trial": 3,
          "weak_function": "knn",
          "weak_train_method": "fine_tune",
          "weak_weight": 0.01
         },
         {
          "metric_name": "Token Recall",
          "metric_val": 0.57,
          "step": 100,
          "tag": "ADR",
          "trial": 3,
          "weak_function": "knn",
          "weak_train_method": "fine_tune",
          "weak_weight": 0.01
         },
         {
          "metric_name": "Span F1",
          "metric_val": 0.53,
          "step": 10,
          "tag": "ADR",
          "trial": 3,
          "weak_function": "knn",
          "weak_train_method": "fine_tune",
          "weak_weight": 0.01
         },
         {
          "metric_name": "Span F1",
          "metric_val": 0.59,
          "step": 50,
          "tag": "ADR",
          "trial": 3,
          "weak_function": "knn",
          "weak_train_method": "fine_tune",
          "weak_weight": 0.01
         },
         {
          "metric_name": "Span F1",
          "metric_val": 0.59,
          "step": 100,
          "tag": "ADR",
          "trial": 3,
          "weak_function": "knn",
          "weak_train_method": "fine_tune",
          "weak_weight": 0.01
         },
         {
          "metric_name": "Token F1",
          "metric_val": 0.67,
          "step": 10,
          "tag": "ADR",
          "trial": 4,
          "weak_function": "knn",
          "weak_train_method": "fine_tune",
          "weak_weight": 0.01
         },
         {
          "metric_name": "Token F1",
          "metric_val": 0.74,
          "step": 50,
          "tag": "ADR",
          "trial": 4,
          "weak_function": "knn",
          "weak_train_method": "fine_tune",
          "weak_weight": 0.01
         },
         {
          "metric_name": "Token F1",
          "metric_val": 0.74,
          "step": 100,
          "tag": "ADR",
          "trial": 4,
          "weak_function": "knn",
          "weak_train_method": "fine_tune",
          "weak_weight": 0.01
         },
         {
          "metric_name": "Token Precision",
          "metric_val": 0.83,
          "step": 10,
          "tag": "ADR",
          "trial": 4,
          "weak_function": "knn",
          "weak_train_method": "fine_tune",
          "weak_weight": 0.01
         },
         {
          "metric_name": "Token Precision",
          "metric_val": 0.74,
          "step": 50,
          "tag": "ADR",
          "trial": 4,
          "weak_function": "knn",
          "weak_train_method": "fine_tune",
          "weak_weight": 0.01
         },
         {
          "metric_name": "Token Precision",
          "metric_val": 0.8,
          "step": 100,
          "tag": "ADR",
          "trial": 4,
          "weak_function": "knn",
          "weak_train_method": "fine_tune",
          "weak_weight": 0.01
         },
         {
          "metric_name": "Token Recall",
          "metric_val": 0.57,
          "step": 10,
          "tag": "ADR",
          "trial": 4,
          "weak_function": "knn",
          "weak_train_method": "fine_tune",
          "weak_weight": 0.01
         },
         {
          "metric_name": "Token Recall",
          "metric_val": 0.75,
          "step": 50,
          "tag": "ADR",
          "trial": 4,
          "weak_function": "knn",
          "weak_train_method": "fine_tune",
          "weak_weight": 0.01
         },
         {
          "metric_name": "Token Recall",
          "metric_val": 0.69,
          "step": 100,
          "tag": "ADR",
          "trial": 4,
          "weak_function": "knn",
          "weak_train_method": "fine_tune",
          "weak_weight": 0.01
         },
         {
          "metric_name": "Span F1",
          "metric_val": 0.51,
          "step": 10,
          "tag": "ADR",
          "trial": 4,
          "weak_function": "knn",
          "weak_train_method": "fine_tune",
          "weak_weight": 0.01
         },
         {
          "metric_name": "Span F1",
          "metric_val": 0.59,
          "step": 50,
          "tag": "ADR",
          "trial": 4,
          "weak_function": "knn",
          "weak_train_method": "fine_tune",
          "weak_weight": 0.01
         },
         {
          "metric_name": "Span F1",
          "metric_val": 0.6,
          "step": 100,
          "tag": "ADR",
          "trial": 4,
          "weak_function": "knn",
          "weak_train_method": "fine_tune",
          "weak_weight": 0.01
         },
         {
          "metric_name": "Token F1",
          "metric_val": 0.65,
          "step": 10,
          "tag": "ADR",
          "trial": 1,
          "weak_function": "knn",
          "weak_train_method": "fine_tune",
          "weak_weight": 0.01
         },
         {
          "metric_name": "Token F1",
          "metric_val": 0.73,
          "step": 50,
          "tag": "ADR",
          "trial": 1,
          "weak_function": "knn",
          "weak_train_method": "fine_tune",
          "weak_weight": 0.01
         },
         {
          "metric_name": "Token F1",
          "metric_val": 0.77,
          "step": 100,
          "tag": "ADR",
          "trial": 1,
          "weak_function": "knn",
          "weak_train_method": "fine_tune",
          "weak_weight": 0.01
         },
         {
          "metric_name": "Token Precision",
          "metric_val": 0.81,
          "step": 10,
          "tag": "ADR",
          "trial": 1,
          "weak_function": "knn",
          "weak_train_method": "fine_tune",
          "weak_weight": 0.01
         },
         {
          "metric_name": "Token Precision",
          "metric_val": 0.78,
          "step": 50,
          "tag": "ADR",
          "trial": 1,
          "weak_function": "knn",
          "weak_train_method": "fine_tune",
          "weak_weight": 0.01
         },
         {
          "metric_name": "Token Precision",
          "metric_val": 0.79,
          "step": 100,
          "tag": "ADR",
          "trial": 1,
          "weak_function": "knn",
          "weak_train_method": "fine_tune",
          "weak_weight": 0.01
         },
         {
          "metric_name": "Token Recall",
          "metric_val": 0.55,
          "step": 10,
          "tag": "ADR",
          "trial": 1,
          "weak_function": "knn",
          "weak_train_method": "fine_tune",
          "weak_weight": 0.01
         },
         {
          "metric_name": "Token Recall",
          "metric_val": 0.68,
          "step": 50,
          "tag": "ADR",
          "trial": 1,
          "weak_function": "knn",
          "weak_train_method": "fine_tune",
          "weak_weight": 0.01
         },
         {
          "metric_name": "Token Recall",
          "metric_val": 0.76,
          "step": 100,
          "tag": "ADR",
          "trial": 1,
          "weak_function": "knn",
          "weak_train_method": "fine_tune",
          "weak_weight": 0.01
         },
         {
          "metric_name": "Span F1",
          "metric_val": 0.5,
          "step": 10,
          "tag": "ADR",
          "trial": 1,
          "weak_function": "knn",
          "weak_train_method": "fine_tune",
          "weak_weight": 0.01
         },
         {
          "metric_name": "Span F1",
          "metric_val": 0.56,
          "step": 50,
          "tag": "ADR",
          "trial": 1,
          "weak_function": "knn",
          "weak_train_method": "fine_tune",
          "weak_weight": 0.01
         },
         {
          "metric_name": "Span F1",
          "metric_val": 0.63,
          "step": 100,
          "tag": "ADR",
          "trial": 1,
          "weak_function": "knn",
          "weak_train_method": "fine_tune",
          "weak_weight": 0.01
         },
         {
          "metric_name": "Token F1",
          "metric_val": 0.52,
          "step": 10,
          "tag": "ADR",
          "trial": 0,
          "weak_function": "knn",
          "weak_train_method": "fine_tune",
          "weak_weight": 0.01
         },
         {
          "metric_name": "Token F1",
          "metric_val": 0.7,
          "step": 50,
          "tag": "ADR",
          "trial": 0,
          "weak_function": "knn",
          "weak_train_method": "fine_tune",
          "weak_weight": 0.01
         },
         {
          "metric_name": "Token F1",
          "metric_val": 0.75,
          "step": 100,
          "tag": "ADR",
          "trial": 0,
          "weak_function": "knn",
          "weak_train_method": "fine_tune",
          "weak_weight": 0.01
         },
         {
          "metric_name": "Token Precision",
          "metric_val": 0.88,
          "step": 10,
          "tag": "ADR",
          "trial": 0,
          "weak_function": "knn",
          "weak_train_method": "fine_tune",
          "weak_weight": 0.01
         },
         {
          "metric_name": "Token Precision",
          "metric_val": 0.84,
          "step": 50,
          "tag": "ADR",
          "trial": 0,
          "weak_function": "knn",
          "weak_train_method": "fine_tune",
          "weak_weight": 0.01
         },
         {
          "metric_name": "Token Precision",
          "metric_val": 0.75,
          "step": 100,
          "tag": "ADR",
          "trial": 0,
          "weak_function": "knn",
          "weak_train_method": "fine_tune",
          "weak_weight": 0.01
         },
         {
          "metric_name": "Token Recall",
          "metric_val": 0.37,
          "step": 10,
          "tag": "ADR",
          "trial": 0,
          "weak_function": "knn",
          "weak_train_method": "fine_tune",
          "weak_weight": 0.01
         },
         {
          "metric_name": "Token Recall",
          "metric_val": 0.6,
          "step": 50,
          "tag": "ADR",
          "trial": 0,
          "weak_function": "knn",
          "weak_train_method": "fine_tune",
          "weak_weight": 0.01
         },
         {
          "metric_name": "Token Recall",
          "metric_val": 0.75,
          "step": 100,
          "tag": "ADR",
          "trial": 0,
          "weak_function": "knn",
          "weak_train_method": "fine_tune",
          "weak_weight": 0.01
         },
         {
          "metric_name": "Span F1",
          "metric_val": 0.43,
          "step": 10,
          "tag": "ADR",
          "trial": 0,
          "weak_function": "knn",
          "weak_train_method": "fine_tune",
          "weak_weight": 0.01
         },
         {
          "metric_name": "Span F1",
          "metric_val": 0.59,
          "step": 50,
          "tag": "ADR",
          "trial": 0,
          "weak_function": "knn",
          "weak_train_method": "fine_tune",
          "weak_weight": 0.01
         },
         {
          "metric_name": "Span F1",
          "metric_val": 0.61,
          "step": 100,
          "tag": "ADR",
          "trial": 0,
          "weak_function": "knn",
          "weak_train_method": "fine_tune",
          "weak_weight": 0.01
         },
         {
          "metric_name": "Token F1",
          "metric_val": 0.22,
          "step": 10,
          "tag": "ADR",
          "trial": 2,
          "weak_function": "linear",
          "weak_train_method": "fine_tune",
          "weak_weight": 0.01
         },
         {
          "metric_name": "Token F1",
          "metric_val": 0.68,
          "step": 50,
          "tag": "ADR",
          "trial": 2,
          "weak_function": "linear",
          "weak_train_method": "fine_tune",
          "weak_weight": 0.01
         },
         {
          "metric_name": "Token F1",
          "metric_val": 0.76,
          "step": 100,
          "tag": "ADR",
          "trial": 2,
          "weak_function": "linear",
          "weak_train_method": "fine_tune",
          "weak_weight": 0.01
         },
         {
          "metric_name": "Token Precision",
          "metric_val": 0.87,
          "step": 10,
          "tag": "ADR",
          "trial": 2,
          "weak_function": "linear",
          "weak_train_method": "fine_tune",
          "weak_weight": 0.01
         },
         {
          "metric_name": "Token Precision",
          "metric_val": 0.76,
          "step": 50,
          "tag": "ADR",
          "trial": 2,
          "weak_function": "linear",
          "weak_train_method": "fine_tune",
          "weak_weight": 0.01
         },
         {
          "metric_name": "Token Precision",
          "metric_val": 0.7,
          "step": 100,
          "tag": "ADR",
          "trial": 2,
          "weak_function": "linear",
          "weak_train_method": "fine_tune",
          "weak_weight": 0.01
         },
         {
          "metric_name": "Token Recall",
          "metric_val": 0.13,
          "step": 10,
          "tag": "ADR",
          "trial": 2,
          "weak_function": "linear",
          "weak_train_method": "fine_tune",
          "weak_weight": 0.01
         },
         {
          "metric_name": "Token Recall",
          "metric_val": 0.62,
          "step": 50,
          "tag": "ADR",
          "trial": 2,
          "weak_function": "linear",
          "weak_train_method": "fine_tune",
          "weak_weight": 0.01
         },
         {
          "metric_name": "Token Recall",
          "metric_val": 0.83,
          "step": 100,
          "tag": "ADR",
          "trial": 2,
          "weak_function": "linear",
          "weak_train_method": "fine_tune",
          "weak_weight": 0.01
         },
         {
          "metric_name": "Span F1",
          "metric_val": 0.16,
          "step": 10,
          "tag": "ADR",
          "trial": 2,
          "weak_function": "linear",
          "weak_train_method": "fine_tune",
          "weak_weight": 0.01
         },
         {
          "metric_name": "Span F1",
          "metric_val": 0.57,
          "step": 50,
          "tag": "ADR",
          "trial": 2,
          "weak_function": "linear",
          "weak_train_method": "fine_tune",
          "weak_weight": 0.01
         },
         {
          "metric_name": "Span F1",
          "metric_val": 0.6,
          "step": 100,
          "tag": "ADR",
          "trial": 2,
          "weak_function": "linear",
          "weak_train_method": "fine_tune",
          "weak_weight": 0.01
         },
         {
          "metric_name": "Token F1",
          "metric_val": 0.69,
          "step": 10,
          "tag": "ADR",
          "trial": 3,
          "weak_function": "linear",
          "weak_train_method": "fine_tune",
          "weak_weight": 0.01
         },
         {
          "metric_name": "Token F1",
          "metric_val": 0.72,
          "step": 50,
          "tag": "ADR",
          "trial": 3,
          "weak_function": "linear",
          "weak_train_method": "fine_tune",
          "weak_weight": 0.01
         },
         {
          "metric_name": "Token F1",
          "metric_val": 0.72,
          "step": 100,
          "tag": "ADR",
          "trial": 3,
          "weak_function": "linear",
          "weak_train_method": "fine_tune",
          "weak_weight": 0.01
         },
         {
          "metric_name": "Token Precision",
          "metric_val": 0.77,
          "step": 10,
          "tag": "ADR",
          "trial": 3,
          "weak_function": "linear",
          "weak_train_method": "fine_tune",
          "weak_weight": 0.01
         },
         {
          "metric_name": "Token Precision",
          "metric_val": 0.82,
          "step": 50,
          "tag": "ADR",
          "trial": 3,
          "weak_function": "linear",
          "weak_train_method": "fine_tune",
          "weak_weight": 0.01
         },
         {
          "metric_name": "Token Precision",
          "metric_val": 0.8,
          "step": 100,
          "tag": "ADR",
          "trial": 3,
          "weak_function": "linear",
          "weak_train_method": "fine_tune",
          "weak_weight": 0.01
         },
         {
          "metric_name": "Token Recall",
          "metric_val": 0.62,
          "step": 10,
          "tag": "ADR",
          "trial": 3,
          "weak_function": "linear",
          "weak_train_method": "fine_tune",
          "weak_weight": 0.01
         },
         {
          "metric_name": "Token Recall",
          "metric_val": 0.64,
          "step": 50,
          "tag": "ADR",
          "trial": 3,
          "weak_function": "linear",
          "weak_train_method": "fine_tune",
          "weak_weight": 0.01
         },
         {
          "metric_name": "Token Recall",
          "metric_val": 0.65,
          "step": 100,
          "tag": "ADR",
          "trial": 3,
          "weak_function": "linear",
          "weak_train_method": "fine_tune",
          "weak_weight": 0.01
         },
         {
          "metric_name": "Span F1",
          "metric_val": 0.42,
          "step": 10,
          "tag": "ADR",
          "trial": 3,
          "weak_function": "linear",
          "weak_train_method": "fine_tune",
          "weak_weight": 0.01
         },
         {
          "metric_name": "Span F1",
          "metric_val": 0.57,
          "step": 50,
          "tag": "ADR",
          "trial": 3,
          "weak_function": "linear",
          "weak_train_method": "fine_tune",
          "weak_weight": 0.01
         },
         {
          "metric_name": "Span F1",
          "metric_val": 0.58,
          "step": 100,
          "tag": "ADR",
          "trial": 3,
          "weak_function": "linear",
          "weak_train_method": "fine_tune",
          "weak_weight": 0.01
         },
         {
          "metric_name": "Token F1",
          "metric_val": 0.7,
          "step": 10,
          "tag": "ADR",
          "trial": 4,
          "weak_function": "linear",
          "weak_train_method": "fine_tune",
          "weak_weight": 0.01
         },
         {
          "metric_name": "Token F1",
          "metric_val": 0.75,
          "step": 50,
          "tag": "ADR",
          "trial": 4,
          "weak_function": "linear",
          "weak_train_method": "fine_tune",
          "weak_weight": 0.01
         },
         {
          "metric_name": "Token F1",
          "metric_val": 0.77,
          "step": 100,
          "tag": "ADR",
          "trial": 4,
          "weak_function": "linear",
          "weak_train_method": "fine_tune",
          "weak_weight": 0.01
         },
         {
          "metric_name": "Token Precision",
          "metric_val": 0.64,
          "step": 10,
          "tag": "ADR",
          "trial": 4,
          "weak_function": "linear",
          "weak_train_method": "fine_tune",
          "weak_weight": 0.01
         },
         {
          "metric_name": "Token Precision",
          "metric_val": 0.76,
          "step": 50,
          "tag": "ADR",
          "trial": 4,
          "weak_function": "linear",
          "weak_train_method": "fine_tune",
          "weak_weight": 0.01
         },
         {
          "metric_name": "Token Precision",
          "metric_val": 0.74,
          "step": 100,
          "tag": "ADR",
          "trial": 4,
          "weak_function": "linear",
          "weak_train_method": "fine_tune",
          "weak_weight": 0.01
         },
         {
          "metric_name": "Token Recall",
          "metric_val": 0.78,
          "step": 10,
          "tag": "ADR",
          "trial": 4,
          "weak_function": "linear",
          "weak_train_method": "fine_tune",
          "weak_weight": 0.01
         },
         {
          "metric_name": "Token Recall",
          "metric_val": 0.74,
          "step": 50,
          "tag": "ADR",
          "trial": 4,
          "weak_function": "linear",
          "weak_train_method": "fine_tune",
          "weak_weight": 0.01
         },
         {
          "metric_name": "Token Recall",
          "metric_val": 0.8,
          "step": 100,
          "tag": "ADR",
          "trial": 4,
          "weak_function": "linear",
          "weak_train_method": "fine_tune",
          "weak_weight": 0.01
         },
         {
          "metric_name": "Span F1",
          "metric_val": 0.49,
          "step": 10,
          "tag": "ADR",
          "trial": 4,
          "weak_function": "linear",
          "weak_train_method": "fine_tune",
          "weak_weight": 0.01
         },
         {
          "metric_name": "Span F1",
          "metric_val": 0.57,
          "step": 50,
          "tag": "ADR",
          "trial": 4,
          "weak_function": "linear",
          "weak_train_method": "fine_tune",
          "weak_weight": 0.01
         },
         {
          "metric_name": "Span F1",
          "metric_val": 0.61,
          "step": 100,
          "tag": "ADR",
          "trial": 4,
          "weak_function": "linear",
          "weak_train_method": "fine_tune",
          "weak_weight": 0.01
         },
         {
          "metric_name": "Token F1",
          "metric_val": 0.71,
          "step": 10,
          "tag": "ADR",
          "trial": 1,
          "weak_function": "linear",
          "weak_train_method": "fine_tune",
          "weak_weight": 0.01
         },
         {
          "metric_name": "Token F1",
          "metric_val": 0.76,
          "step": 50,
          "tag": "ADR",
          "trial": 1,
          "weak_function": "linear",
          "weak_train_method": "fine_tune",
          "weak_weight": 0.01
         },
         {
          "metric_name": "Token F1",
          "metric_val": 0.76,
          "step": 100,
          "tag": "ADR",
          "trial": 1,
          "weak_function": "linear",
          "weak_train_method": "fine_tune",
          "weak_weight": 0.01
         },
         {
          "metric_name": "Token Precision",
          "metric_val": 0.75,
          "step": 10,
          "tag": "ADR",
          "trial": 1,
          "weak_function": "linear",
          "weak_train_method": "fine_tune",
          "weak_weight": 0.01
         },
         {
          "metric_name": "Token Precision",
          "metric_val": 0.8,
          "step": 50,
          "tag": "ADR",
          "trial": 1,
          "weak_function": "linear",
          "weak_train_method": "fine_tune",
          "weak_weight": 0.01
         },
         {
          "metric_name": "Token Precision",
          "metric_val": 0.75,
          "step": 100,
          "tag": "ADR",
          "trial": 1,
          "weak_function": "linear",
          "weak_train_method": "fine_tune",
          "weak_weight": 0.01
         },
         {
          "metric_name": "Token Recall",
          "metric_val": 0.68,
          "step": 10,
          "tag": "ADR",
          "trial": 1,
          "weak_function": "linear",
          "weak_train_method": "fine_tune",
          "weak_weight": 0.01
         },
         {
          "metric_name": "Token Recall",
          "metric_val": 0.72,
          "step": 50,
          "tag": "ADR",
          "trial": 1,
          "weak_function": "linear",
          "weak_train_method": "fine_tune",
          "weak_weight": 0.01
         },
         {
          "metric_name": "Token Recall",
          "metric_val": 0.78,
          "step": 100,
          "tag": "ADR",
          "trial": 1,
          "weak_function": "linear",
          "weak_train_method": "fine_tune",
          "weak_weight": 0.01
         },
         {
          "metric_name": "Span F1",
          "metric_val": 0.52,
          "step": 10,
          "tag": "ADR",
          "trial": 1,
          "weak_function": "linear",
          "weak_train_method": "fine_tune",
          "weak_weight": 0.01
         },
         {
          "metric_name": "Span F1",
          "metric_val": 0.6,
          "step": 50,
          "tag": "ADR",
          "trial": 1,
          "weak_function": "linear",
          "weak_train_method": "fine_tune",
          "weak_weight": 0.01
         },
         {
          "metric_name": "Span F1",
          "metric_val": 0.6,
          "step": 100,
          "tag": "ADR",
          "trial": 1,
          "weak_function": "linear",
          "weak_train_method": "fine_tune",
          "weak_weight": 0.01
         },
         {
          "metric_name": "Token F1",
          "metric_val": 0.69,
          "step": 10,
          "tag": "ADR",
          "trial": 0,
          "weak_function": "linear",
          "weak_train_method": "fine_tune",
          "weak_weight": 0.01
         },
         {
          "metric_name": "Token F1",
          "metric_val": 0.74,
          "step": 50,
          "tag": "ADR",
          "trial": 0,
          "weak_function": "linear",
          "weak_train_method": "fine_tune",
          "weak_weight": 0.01
         },
         {
          "metric_name": "Token F1",
          "metric_val": 0.72,
          "step": 100,
          "tag": "ADR",
          "trial": 0,
          "weak_function": "linear",
          "weak_train_method": "fine_tune",
          "weak_weight": 0.01
         },
         {
          "metric_name": "Token Precision",
          "metric_val": 0.8,
          "step": 10,
          "tag": "ADR",
          "trial": 0,
          "weak_function": "linear",
          "weak_train_method": "fine_tune",
          "weak_weight": 0.01
         },
         {
          "metric_name": "Token Precision",
          "metric_val": 0.76,
          "step": 50,
          "tag": "ADR",
          "trial": 0,
          "weak_function": "linear",
          "weak_train_method": "fine_tune",
          "weak_weight": 0.01
         },
         {
          "metric_name": "Token Precision",
          "metric_val": 0.85,
          "step": 100,
          "tag": "ADR",
          "trial": 0,
          "weak_function": "linear",
          "weak_train_method": "fine_tune",
          "weak_weight": 0.01
         },
         {
          "metric_name": "Token Recall",
          "metric_val": 0.6,
          "step": 10,
          "tag": "ADR",
          "trial": 0,
          "weak_function": "linear",
          "weak_train_method": "fine_tune",
          "weak_weight": 0.01
         },
         {
          "metric_name": "Token Recall",
          "metric_val": 0.73,
          "step": 50,
          "tag": "ADR",
          "trial": 0,
          "weak_function": "linear",
          "weak_train_method": "fine_tune",
          "weak_weight": 0.01
         },
         {
          "metric_name": "Token Recall",
          "metric_val": 0.62,
          "step": 100,
          "tag": "ADR",
          "trial": 0,
          "weak_function": "linear",
          "weak_train_method": "fine_tune",
          "weak_weight": 0.01
         },
         {
          "metric_name": "Span F1",
          "metric_val": 0.51,
          "step": 10,
          "tag": "ADR",
          "trial": 0,
          "weak_function": "linear",
          "weak_train_method": "fine_tune",
          "weak_weight": 0.01
         },
         {
          "metric_name": "Span F1",
          "metric_val": 0.58,
          "step": 50,
          "tag": "ADR",
          "trial": 0,
          "weak_function": "linear",
          "weak_train_method": "fine_tune",
          "weak_weight": 0.01
         },
         {
          "metric_name": "Span F1",
          "metric_val": 0.62,
          "step": 100,
          "tag": "ADR",
          "trial": 0,
          "weak_function": "linear",
          "weak_train_method": "fine_tune",
          "weak_weight": 0.01
         },
         {
          "metric_name": "Token F1",
          "metric_val": 0.14,
          "step": 10,
          "tag": "ADR",
          "trial": 2,
          "weak_function": "keyword",
          "weak_train_method": "fine_tune",
          "weak_weight": 0.01
         },
         {
          "metric_name": "Token F1",
          "metric_val": 0.69,
          "step": 50,
          "tag": "ADR",
          "trial": 2,
          "weak_function": "keyword",
          "weak_train_method": "fine_tune",
          "weak_weight": 0.01
         },
         {
          "metric_name": "Token F1",
          "metric_val": 0.71,
          "step": 100,
          "tag": "ADR",
          "trial": 2,
          "weak_function": "keyword",
          "weak_train_method": "fine_tune",
          "weak_weight": 0.01
         },
         {
          "metric_name": "Token Precision",
          "metric_val": 0.89,
          "step": 10,
          "tag": "ADR",
          "trial": 2,
          "weak_function": "keyword",
          "weak_train_method": "fine_tune",
          "weak_weight": 0.01
         },
         {
          "metric_name": "Token Precision",
          "metric_val": 0.84,
          "step": 50,
          "tag": "ADR",
          "trial": 2,
          "weak_function": "keyword",
          "weak_train_method": "fine_tune",
          "weak_weight": 0.01
         },
         {
          "metric_name": "Token Precision",
          "metric_val": 0.8,
          "step": 100,
          "tag": "ADR",
          "trial": 2,
          "weak_function": "keyword",
          "weak_train_method": "fine_tune",
          "weak_weight": 0.01
         },
         {
          "metric_name": "Token Recall",
          "metric_val": 0.07,
          "step": 10,
          "tag": "ADR",
          "trial": 2,
          "weak_function": "keyword",
          "weak_train_method": "fine_tune",
          "weak_weight": 0.01
         },
         {
          "metric_name": "Token Recall",
          "metric_val": 0.58,
          "step": 50,
          "tag": "ADR",
          "trial": 2,
          "weak_function": "keyword",
          "weak_train_method": "fine_tune",
          "weak_weight": 0.01
         },
         {
          "metric_name": "Token Recall",
          "metric_val": 0.63,
          "step": 100,
          "tag": "ADR",
          "trial": 2,
          "weak_function": "keyword",
          "weak_train_method": "fine_tune",
          "weak_weight": 0.01
         },
         {
          "metric_name": "Span F1",
          "metric_val": 0.08,
          "step": 10,
          "tag": "ADR",
          "trial": 2,
          "weak_function": "keyword",
          "weak_train_method": "fine_tune",
          "weak_weight": 0.01
         },
         {
          "metric_name": "Span F1",
          "metric_val": 0.53,
          "step": 50,
          "tag": "ADR",
          "trial": 2,
          "weak_function": "keyword",
          "weak_train_method": "fine_tune",
          "weak_weight": 0.01
         },
         {
          "metric_name": "Span F1",
          "metric_val": 0.56,
          "step": 100,
          "tag": "ADR",
          "trial": 2,
          "weak_function": "keyword",
          "weak_train_method": "fine_tune",
          "weak_weight": 0.01
         },
         {
          "metric_name": "Token F1",
          "metric_val": 0.66,
          "step": 10,
          "tag": "ADR",
          "trial": 3,
          "weak_function": "keyword",
          "weak_train_method": "fine_tune",
          "weak_weight": 0.01
         },
         {
          "metric_name": "Token F1",
          "metric_val": 0.73,
          "step": 50,
          "tag": "ADR",
          "trial": 3,
          "weak_function": "keyword",
          "weak_train_method": "fine_tune",
          "weak_weight": 0.01
         },
         {
          "metric_name": "Token F1",
          "metric_val": 0.65,
          "step": 100,
          "tag": "ADR",
          "trial": 3,
          "weak_function": "keyword",
          "weak_train_method": "fine_tune",
          "weak_weight": 0.01
         },
         {
          "metric_name": "Token Precision",
          "metric_val": 0.78,
          "step": 10,
          "tag": "ADR",
          "trial": 3,
          "weak_function": "keyword",
          "weak_train_method": "fine_tune",
          "weak_weight": 0.01
         },
         {
          "metric_name": "Token Precision",
          "metric_val": 0.76,
          "step": 50,
          "tag": "ADR",
          "trial": 3,
          "weak_function": "keyword",
          "weak_train_method": "fine_tune",
          "weak_weight": 0.01
         },
         {
          "metric_name": "Token Precision",
          "metric_val": 0.78,
          "step": 100,
          "tag": "ADR",
          "trial": 3,
          "weak_function": "keyword",
          "weak_train_method": "fine_tune",
          "weak_weight": 0.01
         },
         {
          "metric_name": "Token Recall",
          "metric_val": 0.57,
          "step": 10,
          "tag": "ADR",
          "trial": 3,
          "weak_function": "keyword",
          "weak_train_method": "fine_tune",
          "weak_weight": 0.01
         },
         {
          "metric_name": "Token Recall",
          "metric_val": 0.7,
          "step": 50,
          "tag": "ADR",
          "trial": 3,
          "weak_function": "keyword",
          "weak_train_method": "fine_tune",
          "weak_weight": 0.01
         },
         {
          "metric_name": "Token Recall",
          "metric_val": 0.56,
          "step": 100,
          "tag": "ADR",
          "trial": 3,
          "weak_function": "keyword",
          "weak_train_method": "fine_tune",
          "weak_weight": 0.01
         },
         {
          "metric_name": "Span F1",
          "metric_val": 0.42,
          "step": 10,
          "tag": "ADR",
          "trial": 3,
          "weak_function": "keyword",
          "weak_train_method": "fine_tune",
          "weak_weight": 0.01
         },
         {
          "metric_name": "Span F1",
          "metric_val": 0.58,
          "step": 50,
          "tag": "ADR",
          "trial": 3,
          "weak_function": "keyword",
          "weak_train_method": "fine_tune",
          "weak_weight": 0.01
         },
         {
          "metric_name": "Span F1",
          "metric_val": 0.53,
          "step": 100,
          "tag": "ADR",
          "trial": 3,
          "weak_function": "keyword",
          "weak_train_method": "fine_tune",
          "weak_weight": 0.01
         },
         {
          "metric_name": "Token F1",
          "metric_val": 0.72,
          "step": 10,
          "tag": "ADR",
          "trial": 4,
          "weak_function": "keyword",
          "weak_train_method": "fine_tune",
          "weak_weight": 0.01
         },
         {
          "metric_name": "Token F1",
          "metric_val": 0.74,
          "step": 50,
          "tag": "ADR",
          "trial": 4,
          "weak_function": "keyword",
          "weak_train_method": "fine_tune",
          "weak_weight": 0.01
         },
         {
          "metric_name": "Token F1",
          "metric_val": 0.75,
          "step": 100,
          "tag": "ADR",
          "trial": 4,
          "weak_function": "keyword",
          "weak_train_method": "fine_tune",
          "weak_weight": 0.01
         },
         {
          "metric_name": "Token Precision",
          "metric_val": 0.77,
          "step": 10,
          "tag": "ADR",
          "trial": 4,
          "weak_function": "keyword",
          "weak_train_method": "fine_tune",
          "weak_weight": 0.01
         },
         {
          "metric_name": "Token Precision",
          "metric_val": 0.8,
          "step": 50,
          "tag": "ADR",
          "trial": 4,
          "weak_function": "keyword",
          "weak_train_method": "fine_tune",
          "weak_weight": 0.01
         },
         {
          "metric_name": "Token Precision",
          "metric_val": 0.76,
          "step": 100,
          "tag": "ADR",
          "trial": 4,
          "weak_function": "keyword",
          "weak_train_method": "fine_tune",
          "weak_weight": 0.01
         },
         {
          "metric_name": "Token Recall",
          "metric_val": 0.67,
          "step": 10,
          "tag": "ADR",
          "trial": 4,
          "weak_function": "keyword",
          "weak_train_method": "fine_tune",
          "weak_weight": 0.01
         },
         {
          "metric_name": "Token Recall",
          "metric_val": 0.69,
          "step": 50,
          "tag": "ADR",
          "trial": 4,
          "weak_function": "keyword",
          "weak_train_method": "fine_tune",
          "weak_weight": 0.01
         },
         {
          "metric_name": "Token Recall",
          "metric_val": 0.74,
          "step": 100,
          "tag": "ADR",
          "trial": 4,
          "weak_function": "keyword",
          "weak_train_method": "fine_tune",
          "weak_weight": 0.01
         },
         {
          "metric_name": "Span F1",
          "metric_val": 0.56,
          "step": 10,
          "tag": "ADR",
          "trial": 4,
          "weak_function": "keyword",
          "weak_train_method": "fine_tune",
          "weak_weight": 0.01
         },
         {
          "metric_name": "Span F1",
          "metric_val": 0.58,
          "step": 50,
          "tag": "ADR",
          "trial": 4,
          "weak_function": "keyword",
          "weak_train_method": "fine_tune",
          "weak_weight": 0.01
         },
         {
          "metric_name": "Span F1",
          "metric_val": 0.58,
          "step": 100,
          "tag": "ADR",
          "trial": 4,
          "weak_function": "keyword",
          "weak_train_method": "fine_tune",
          "weak_weight": 0.01
         },
         {
          "metric_name": "Token F1",
          "metric_val": 0.66,
          "step": 10,
          "tag": "ADR",
          "trial": 1,
          "weak_function": "keyword",
          "weak_train_method": "fine_tune",
          "weak_weight": 0.01
         },
         {
          "metric_name": "Token F1",
          "metric_val": 0.75,
          "step": 50,
          "tag": "ADR",
          "trial": 1,
          "weak_function": "keyword",
          "weak_train_method": "fine_tune",
          "weak_weight": 0.01
         },
         {
          "metric_name": "Token F1",
          "metric_val": 0.75,
          "step": 100,
          "tag": "ADR",
          "trial": 1,
          "weak_function": "keyword",
          "weak_train_method": "fine_tune",
          "weak_weight": 0.01
         },
         {
          "metric_name": "Token Precision",
          "metric_val": 0.77,
          "step": 10,
          "tag": "ADR",
          "trial": 1,
          "weak_function": "keyword",
          "weak_train_method": "fine_tune",
          "weak_weight": 0.01
         },
         {
          "metric_name": "Token Precision",
          "metric_val": 0.76,
          "step": 50,
          "tag": "ADR",
          "trial": 1,
          "weak_function": "keyword",
          "weak_train_method": "fine_tune",
          "weak_weight": 0.01
         },
         {
          "metric_name": "Token Precision",
          "metric_val": 0.83,
          "step": 100,
          "tag": "ADR",
          "trial": 1,
          "weak_function": "keyword",
          "weak_train_method": "fine_tune",
          "weak_weight": 0.01
         },
         {
          "metric_name": "Token Recall",
          "metric_val": 0.58,
          "step": 10,
          "tag": "ADR",
          "trial": 1,
          "weak_function": "keyword",
          "weak_train_method": "fine_tune",
          "weak_weight": 0.01
         },
         {
          "metric_name": "Token Recall",
          "metric_val": 0.73,
          "step": 50,
          "tag": "ADR",
          "trial": 1,
          "weak_function": "keyword",
          "weak_train_method": "fine_tune",
          "weak_weight": 0.01
         },
         {
          "metric_name": "Token Recall",
          "metric_val": 0.69,
          "step": 100,
          "tag": "ADR",
          "trial": 1,
          "weak_function": "keyword",
          "weak_train_method": "fine_tune",
          "weak_weight": 0.01
         },
         {
          "metric_name": "Span F1",
          "metric_val": 0.47,
          "step": 10,
          "tag": "ADR",
          "trial": 1,
          "weak_function": "keyword",
          "weak_train_method": "fine_tune",
          "weak_weight": 0.01
         },
         {
          "metric_name": "Span F1",
          "metric_val": 0.58,
          "step": 50,
          "tag": "ADR",
          "trial": 1,
          "weak_function": "keyword",
          "weak_train_method": "fine_tune",
          "weak_weight": 0.01
         },
         {
          "metric_name": "Span F1",
          "metric_val": 0.61,
          "step": 100,
          "tag": "ADR",
          "trial": 1,
          "weak_function": "keyword",
          "weak_train_method": "fine_tune",
          "weak_weight": 0.01
         },
         {
          "metric_name": "Token F1",
          "metric_val": 0.69,
          "step": 10,
          "tag": "ADR",
          "trial": 0,
          "weak_function": "keyword",
          "weak_train_method": "fine_tune",
          "weak_weight": 0.01
         },
         {
          "metric_name": "Token F1",
          "metric_val": 0.71,
          "step": 50,
          "tag": "ADR",
          "trial": 0,
          "weak_function": "keyword",
          "weak_train_method": "fine_tune",
          "weak_weight": 0.01
         },
         {
          "metric_name": "Token F1",
          "metric_val": 0.76,
          "step": 100,
          "tag": "ADR",
          "trial": 0,
          "weak_function": "keyword",
          "weak_train_method": "fine_tune",
          "weak_weight": 0.01
         },
         {
          "metric_name": "Token Precision",
          "metric_val": 0.78,
          "step": 10,
          "tag": "ADR",
          "trial": 0,
          "weak_function": "keyword",
          "weak_train_method": "fine_tune",
          "weak_weight": 0.01
         },
         {
          "metric_name": "Token Precision",
          "metric_val": 0.81,
          "step": 50,
          "tag": "ADR",
          "trial": 0,
          "weak_function": "keyword",
          "weak_train_method": "fine_tune",
          "weak_weight": 0.01
         },
         {
          "metric_name": "Token Precision",
          "metric_val": 0.77,
          "step": 100,
          "tag": "ADR",
          "trial": 0,
          "weak_function": "keyword",
          "weak_train_method": "fine_tune",
          "weak_weight": 0.01
         },
         {
          "metric_name": "Token Recall",
          "metric_val": 0.61,
          "step": 10,
          "tag": "ADR",
          "trial": 0,
          "weak_function": "keyword",
          "weak_train_method": "fine_tune",
          "weak_weight": 0.01
         },
         {
          "metric_name": "Token Recall",
          "metric_val": 0.63,
          "step": 50,
          "tag": "ADR",
          "trial": 0,
          "weak_function": "keyword",
          "weak_train_method": "fine_tune",
          "weak_weight": 0.01
         },
         {
          "metric_name": "Token Recall",
          "metric_val": 0.75,
          "step": 100,
          "tag": "ADR",
          "trial": 0,
          "weak_function": "keyword",
          "weak_train_method": "fine_tune",
          "weak_weight": 0.01
         },
         {
          "metric_name": "Span F1",
          "metric_val": 0.54,
          "step": 10,
          "tag": "ADR",
          "trial": 0,
          "weak_function": "keyword",
          "weak_train_method": "fine_tune",
          "weak_weight": 0.01
         },
         {
          "metric_name": "Span F1",
          "metric_val": 0.57,
          "step": 50,
          "tag": "ADR",
          "trial": 0,
          "weak_function": "keyword",
          "weak_train_method": "fine_tune",
          "weak_weight": 0.01
         },
         {
          "metric_name": "Span F1",
          "metric_val": 0.59,
          "step": 100,
          "tag": "ADR",
          "trial": 0,
          "weak_function": "keyword",
          "weak_train_method": "fine_tune",
          "weak_weight": 0.01
         },
         {
          "metric_name": "Token F1",
          "metric_val": 0.58,
          "step": 10,
          "tag": "ADR",
          "trial": 2,
          "weak_function": "knn",
          "weak_train_method": "weighted",
          "weak_weight": 0.01
         },
         {
          "metric_name": "Token F1",
          "metric_val": 0.69,
          "step": 50,
          "tag": "ADR",
          "trial": 2,
          "weak_function": "knn",
          "weak_train_method": "weighted",
          "weak_weight": 0.01
         },
         {
          "metric_name": "Token F1",
          "metric_val": 0.74,
          "step": 100,
          "tag": "ADR",
          "trial": 2,
          "weak_function": "knn",
          "weak_train_method": "weighted",
          "weak_weight": 0.01
         },
         {
          "metric_name": "Token Precision",
          "metric_val": 0.78,
          "step": 10,
          "tag": "ADR",
          "trial": 2,
          "weak_function": "knn",
          "weak_train_method": "weighted",
          "weak_weight": 0.01
         },
         {
          "metric_name": "Token Precision",
          "metric_val": 0.83,
          "step": 50,
          "tag": "ADR",
          "trial": 2,
          "weak_function": "knn",
          "weak_train_method": "weighted",
          "weak_weight": 0.01
         },
         {
          "metric_name": "Token Precision",
          "metric_val": 0.83,
          "step": 100,
          "tag": "ADR",
          "trial": 2,
          "weak_function": "knn",
          "weak_train_method": "weighted",
          "weak_weight": 0.01
         },
         {
          "metric_name": "Token Recall",
          "metric_val": 0.46,
          "step": 10,
          "tag": "ADR",
          "trial": 2,
          "weak_function": "knn",
          "weak_train_method": "weighted",
          "weak_weight": 0.01
         },
         {
          "metric_name": "Token Recall",
          "metric_val": 0.6,
          "step": 50,
          "tag": "ADR",
          "trial": 2,
          "weak_function": "knn",
          "weak_train_method": "weighted",
          "weak_weight": 0.01
         },
         {
          "metric_name": "Token Recall",
          "metric_val": 0.67,
          "step": 100,
          "tag": "ADR",
          "trial": 2,
          "weak_function": "knn",
          "weak_train_method": "weighted",
          "weak_weight": 0.01
         },
         {
          "metric_name": "Span F1",
          "metric_val": 0.37,
          "step": 10,
          "tag": "ADR",
          "trial": 2,
          "weak_function": "knn",
          "weak_train_method": "weighted",
          "weak_weight": 0.01
         },
         {
          "metric_name": "Span F1",
          "metric_val": 0.58,
          "step": 50,
          "tag": "ADR",
          "trial": 2,
          "weak_function": "knn",
          "weak_train_method": "weighted",
          "weak_weight": 0.01
         },
         {
          "metric_name": "Span F1",
          "metric_val": 0.59,
          "step": 100,
          "tag": "ADR",
          "trial": 2,
          "weak_function": "knn",
          "weak_train_method": "weighted",
          "weak_weight": 0.01
         },
         {
          "metric_name": "Token F1",
          "metric_val": 0.27,
          "step": 10,
          "tag": "ADR",
          "trial": 3,
          "weak_function": "knn",
          "weak_train_method": "weighted",
          "weak_weight": 0.01
         },
         {
          "metric_name": "Token F1",
          "metric_val": 0.68,
          "step": 50,
          "tag": "ADR",
          "trial": 3,
          "weak_function": "knn",
          "weak_train_method": "weighted",
          "weak_weight": 0.01
         },
         {
          "metric_name": "Token F1",
          "metric_val": 0.72,
          "step": 100,
          "tag": "ADR",
          "trial": 3,
          "weak_function": "knn",
          "weak_train_method": "weighted",
          "weak_weight": 0.01
         },
         {
          "metric_name": "Token Precision",
          "metric_val": 0.85,
          "step": 10,
          "tag": "ADR",
          "trial": 3,
          "weak_function": "knn",
          "weak_train_method": "weighted",
          "weak_weight": 0.01
         },
         {
          "metric_name": "Token Precision",
          "metric_val": 0.85,
          "step": 50,
          "tag": "ADR",
          "trial": 3,
          "weak_function": "knn",
          "weak_train_method": "weighted",
          "weak_weight": 0.01
         },
         {
          "metric_name": "Token Precision",
          "metric_val": 0.8,
          "step": 100,
          "tag": "ADR",
          "trial": 3,
          "weak_function": "knn",
          "weak_train_method": "weighted",
          "weak_weight": 0.01
         },
         {
          "metric_name": "Token Recall",
          "metric_val": 0.16,
          "step": 10,
          "tag": "ADR",
          "trial": 3,
          "weak_function": "knn",
          "weak_train_method": "weighted",
          "weak_weight": 0.01
         },
         {
          "metric_name": "Token Recall",
          "metric_val": 0.57,
          "step": 50,
          "tag": "ADR",
          "trial": 3,
          "weak_function": "knn",
          "weak_train_method": "weighted",
          "weak_weight": 0.01
         },
         {
          "metric_name": "Token Recall",
          "metric_val": 0.65,
          "step": 100,
          "tag": "ADR",
          "trial": 3,
          "weak_function": "knn",
          "weak_train_method": "weighted",
          "weak_weight": 0.01
         },
         {
          "metric_name": "Span F1",
          "metric_val": 0.16,
          "step": 10,
          "tag": "ADR",
          "trial": 3,
          "weak_function": "knn",
          "weak_train_method": "weighted",
          "weak_weight": 0.01
         },
         {
          "metric_name": "Span F1",
          "metric_val": 0.56,
          "step": 50,
          "tag": "ADR",
          "trial": 3,
          "weak_function": "knn",
          "weak_train_method": "weighted",
          "weak_weight": 0.01
         },
         {
          "metric_name": "Span F1",
          "metric_val": 0.6,
          "step": 100,
          "tag": "ADR",
          "trial": 3,
          "weak_function": "knn",
          "weak_train_method": "weighted",
          "weak_weight": 0.01
         },
         {
          "metric_name": "Token F1",
          "metric_val": 0.53,
          "step": 10,
          "tag": "ADR",
          "trial": 4,
          "weak_function": "knn",
          "weak_train_method": "weighted",
          "weak_weight": 0.01
         },
         {
          "metric_name": "Token F1",
          "metric_val": 0.71,
          "step": 50,
          "tag": "ADR",
          "trial": 4,
          "weak_function": "knn",
          "weak_train_method": "weighted",
          "weak_weight": 0.01
         },
         {
          "metric_name": "Token F1",
          "metric_val": 0.73,
          "step": 100,
          "tag": "ADR",
          "trial": 4,
          "weak_function": "knn",
          "weak_train_method": "weighted",
          "weak_weight": 0.01
         },
         {
          "metric_name": "Token Precision",
          "metric_val": 0.8,
          "step": 10,
          "tag": "ADR",
          "trial": 4,
          "weak_function": "knn",
          "weak_train_method": "weighted",
          "weak_weight": 0.01
         },
         {
          "metric_name": "Token Precision",
          "metric_val": 0.79,
          "step": 50,
          "tag": "ADR",
          "trial": 4,
          "weak_function": "knn",
          "weak_train_method": "weighted",
          "weak_weight": 0.01
         },
         {
          "metric_name": "Token Precision",
          "metric_val": 0.72,
          "step": 100,
          "tag": "ADR",
          "trial": 4,
          "weak_function": "knn",
          "weak_train_method": "weighted",
          "weak_weight": 0.01
         },
         {
          "metric_name": "Token Recall",
          "metric_val": 0.4,
          "step": 10,
          "tag": "ADR",
          "trial": 4,
          "weak_function": "knn",
          "weak_train_method": "weighted",
          "weak_weight": 0.01
         },
         {
          "metric_name": "Token Recall",
          "metric_val": 0.65,
          "step": 50,
          "tag": "ADR",
          "trial": 4,
          "weak_function": "knn",
          "weak_train_method": "weighted",
          "weak_weight": 0.01
         },
         {
          "metric_name": "Token Recall",
          "metric_val": 0.75,
          "step": 100,
          "tag": "ADR",
          "trial": 4,
          "weak_function": "knn",
          "weak_train_method": "weighted",
          "weak_weight": 0.01
         },
         {
          "metric_name": "Span F1",
          "metric_val": 0.32,
          "step": 10,
          "tag": "ADR",
          "trial": 4,
          "weak_function": "knn",
          "weak_train_method": "weighted",
          "weak_weight": 0.01
         },
         {
          "metric_name": "Span F1",
          "metric_val": 0.58,
          "step": 50,
          "tag": "ADR",
          "trial": 4,
          "weak_function": "knn",
          "weak_train_method": "weighted",
          "weak_weight": 0.01
         },
         {
          "metric_name": "Span F1",
          "metric_val": 0.6,
          "step": 100,
          "tag": "ADR",
          "trial": 4,
          "weak_function": "knn",
          "weak_train_method": "weighted",
          "weak_weight": 0.01
         },
         {
          "metric_name": "Token F1",
          "metric_val": 0.54,
          "step": 10,
          "tag": "ADR",
          "trial": 1,
          "weak_function": "knn",
          "weak_train_method": "weighted",
          "weak_weight": 0.01
         },
         {
          "metric_name": "Token F1",
          "metric_val": 0.64,
          "step": 50,
          "tag": "ADR",
          "trial": 1,
          "weak_function": "knn",
          "weak_train_method": "weighted",
          "weak_weight": 0.01
         },
         {
          "metric_name": "Token F1",
          "metric_val": 0.75,
          "step": 100,
          "tag": "ADR",
          "trial": 1,
          "weak_function": "knn",
          "weak_train_method": "weighted",
          "weak_weight": 0.01
         },
         {
          "metric_name": "Token Precision",
          "metric_val": 0.71,
          "step": 10,
          "tag": "ADR",
          "trial": 1,
          "weak_function": "knn",
          "weak_train_method": "weighted",
          "weak_weight": 0.01
         },
         {
          "metric_name": "Token Precision",
          "metric_val": 0.75,
          "step": 50,
          "tag": "ADR",
          "trial": 1,
          "weak_function": "knn",
          "weak_train_method": "weighted",
          "weak_weight": 0.01
         },
         {
          "metric_name": "Token Precision",
          "metric_val": 0.71,
          "step": 100,
          "tag": "ADR",
          "trial": 1,
          "weak_function": "knn",
          "weak_train_method": "weighted",
          "weak_weight": 0.01
         },
         {
          "metric_name": "Token Recall",
          "metric_val": 0.43,
          "step": 10,
          "tag": "ADR",
          "trial": 1,
          "weak_function": "knn",
          "weak_train_method": "weighted",
          "weak_weight": 0.01
         },
         {
          "metric_name": "Token Recall",
          "metric_val": 0.57,
          "step": 50,
          "tag": "ADR",
          "trial": 1,
          "weak_function": "knn",
          "weak_train_method": "weighted",
          "weak_weight": 0.01
         },
         {
          "metric_name": "Token Recall",
          "metric_val": 0.8,
          "step": 100,
          "tag": "ADR",
          "trial": 1,
          "weak_function": "knn",
          "weak_train_method": "weighted",
          "weak_weight": 0.01
         },
         {
          "metric_name": "Span F1",
          "metric_val": 0.34,
          "step": 10,
          "tag": "ADR",
          "trial": 1,
          "weak_function": "knn",
          "weak_train_method": "weighted",
          "weak_weight": 0.01
         },
         {
          "metric_name": "Span F1",
          "metric_val": 0.54,
          "step": 50,
          "tag": "ADR",
          "trial": 1,
          "weak_function": "knn",
          "weak_train_method": "weighted",
          "weak_weight": 0.01
         },
         {
          "metric_name": "Span F1",
          "metric_val": 0.58,
          "step": 100,
          "tag": "ADR",
          "trial": 1,
          "weak_function": "knn",
          "weak_train_method": "weighted",
          "weak_weight": 0.01
         },
         {
          "metric_name": "Token F1",
          "metric_val": 0.58,
          "step": 10,
          "tag": "ADR",
          "trial": 0,
          "weak_function": "knn",
          "weak_train_method": "weighted",
          "weak_weight": 0.01
         },
         {
          "metric_name": "Token F1",
          "metric_val": 0.58,
          "step": 50,
          "tag": "ADR",
          "trial": 0,
          "weak_function": "knn",
          "weak_train_method": "weighted",
          "weak_weight": 0.01
         },
         {
          "metric_name": "Token F1",
          "metric_val": 0.73,
          "step": 100,
          "tag": "ADR",
          "trial": 0,
          "weak_function": "knn",
          "weak_train_method": "weighted",
          "weak_weight": 0.01
         },
         {
          "metric_name": "Token Precision",
          "metric_val": 0.78,
          "step": 10,
          "tag": "ADR",
          "trial": 0,
          "weak_function": "knn",
          "weak_train_method": "weighted",
          "weak_weight": 0.01
         },
         {
          "metric_name": "Token Precision",
          "metric_val": 0.85,
          "step": 50,
          "tag": "ADR",
          "trial": 0,
          "weak_function": "knn",
          "weak_train_method": "weighted",
          "weak_weight": 0.01
         },
         {
          "metric_name": "Token Precision",
          "metric_val": 0.82,
          "step": 100,
          "tag": "ADR",
          "trial": 0,
          "weak_function": "knn",
          "weak_train_method": "weighted",
          "weak_weight": 0.01
         },
         {
          "metric_name": "Token Recall",
          "metric_val": 0.46,
          "step": 10,
          "tag": "ADR",
          "trial": 0,
          "weak_function": "knn",
          "weak_train_method": "weighted",
          "weak_weight": 0.01
         },
         {
          "metric_name": "Token Recall",
          "metric_val": 0.44,
          "step": 50,
          "tag": "ADR",
          "trial": 0,
          "weak_function": "knn",
          "weak_train_method": "weighted",
          "weak_weight": 0.01
         },
         {
          "metric_name": "Token Recall",
          "metric_val": 0.66,
          "step": 100,
          "tag": "ADR",
          "trial": 0,
          "weak_function": "knn",
          "weak_train_method": "weighted",
          "weak_weight": 0.01
         },
         {
          "metric_name": "Span F1",
          "metric_val": 0.44,
          "step": 10,
          "tag": "ADR",
          "trial": 0,
          "weak_function": "knn",
          "weak_train_method": "weighted",
          "weak_weight": 0.01
         },
         {
          "metric_name": "Span F1",
          "metric_val": 0.48,
          "step": 50,
          "tag": "ADR",
          "trial": 0,
          "weak_function": "knn",
          "weak_train_method": "weighted",
          "weak_weight": 0.01
         },
         {
          "metric_name": "Span F1",
          "metric_val": 0.62,
          "step": 100,
          "tag": "ADR",
          "trial": 0,
          "weak_function": "knn",
          "weak_train_method": "weighted",
          "weak_weight": 0.01
         },
         {
          "metric_name": "Token F1",
          "metric_val": 0.39,
          "step": 10,
          "tag": "ADR",
          "trial": 2,
          "weak_function": "linear",
          "weak_train_method": "weighted",
          "weak_weight": 0.01
         },
         {
          "metric_name": "Token F1",
          "metric_val": 0.66,
          "step": 50,
          "tag": "ADR",
          "trial": 2,
          "weak_function": "linear",
          "weak_train_method": "weighted",
          "weak_weight": 0.01
         },
         {
          "metric_name": "Token F1",
          "metric_val": 0.76,
          "step": 100,
          "tag": "ADR",
          "trial": 2,
          "weak_function": "linear",
          "weak_train_method": "weighted",
          "weak_weight": 0.01
         },
         {
          "metric_name": "Token Precision",
          "metric_val": 0.86,
          "step": 10,
          "tag": "ADR",
          "trial": 2,
          "weak_function": "linear",
          "weak_train_method": "weighted",
          "weak_weight": 0.01
         },
         {
          "metric_name": "Token Precision",
          "metric_val": 0.87,
          "step": 50,
          "tag": "ADR",
          "trial": 2,
          "weak_function": "linear",
          "weak_train_method": "weighted",
          "weak_weight": 0.01
         },
         {
          "metric_name": "Token Precision",
          "metric_val": 0.8,
          "step": 100,
          "tag": "ADR",
          "trial": 2,
          "weak_function": "linear",
          "weak_train_method": "weighted",
          "weak_weight": 0.01
         },
         {
          "metric_name": "Token Recall",
          "metric_val": 0.25,
          "step": 10,
          "tag": "ADR",
          "trial": 2,
          "weak_function": "linear",
          "weak_train_method": "weighted",
          "weak_weight": 0.01
         },
         {
          "metric_name": "Token Recall",
          "metric_val": 0.53,
          "step": 50,
          "tag": "ADR",
          "trial": 2,
          "weak_function": "linear",
          "weak_train_method": "weighted",
          "weak_weight": 0.01
         },
         {
          "metric_name": "Token Recall",
          "metric_val": 0.72,
          "step": 100,
          "tag": "ADR",
          "trial": 2,
          "weak_function": "linear",
          "weak_train_method": "weighted",
          "weak_weight": 0.01
         },
         {
          "metric_name": "Span F1",
          "metric_val": 0.24,
          "step": 10,
          "tag": "ADR",
          "trial": 2,
          "weak_function": "linear",
          "weak_train_method": "weighted",
          "weak_weight": 0.01
         },
         {
          "metric_name": "Span F1",
          "metric_val": 0.55,
          "step": 50,
          "tag": "ADR",
          "trial": 2,
          "weak_function": "linear",
          "weak_train_method": "weighted",
          "weak_weight": 0.01
         },
         {
          "metric_name": "Span F1",
          "metric_val": 0.62,
          "step": 100,
          "tag": "ADR",
          "trial": 2,
          "weak_function": "linear",
          "weak_train_method": "weighted",
          "weak_weight": 0.01
         },
         {
          "metric_name": "Token F1",
          "metric_val": 0.4,
          "step": 10,
          "tag": "ADR",
          "trial": 3,
          "weak_function": "linear",
          "weak_train_method": "weighted",
          "weak_weight": 0.01
         },
         {
          "metric_name": "Token F1",
          "metric_val": 0.72,
          "step": 50,
          "tag": "ADR",
          "trial": 3,
          "weak_function": "linear",
          "weak_train_method": "weighted",
          "weak_weight": 0.01
         },
         {
          "metric_name": "Token F1",
          "metric_val": 0.74,
          "step": 100,
          "tag": "ADR",
          "trial": 3,
          "weak_function": "linear",
          "weak_train_method": "weighted",
          "weak_weight": 0.01
         },
         {
          "metric_name": "Token Precision",
          "metric_val": 0.89,
          "step": 10,
          "tag": "ADR",
          "trial": 3,
          "weak_function": "linear",
          "weak_train_method": "weighted",
          "weak_weight": 0.01
         },
         {
          "metric_name": "Token Precision",
          "metric_val": 0.8,
          "step": 50,
          "tag": "ADR",
          "trial": 3,
          "weak_function": "linear",
          "weak_train_method": "weighted",
          "weak_weight": 0.01
         },
         {
          "metric_name": "Token Precision",
          "metric_val": 0.79,
          "step": 100,
          "tag": "ADR",
          "trial": 3,
          "weak_function": "linear",
          "weak_train_method": "weighted",
          "weak_weight": 0.01
         },
         {
          "metric_name": "Token Recall",
          "metric_val": 0.26,
          "step": 10,
          "tag": "ADR",
          "trial": 3,
          "weak_function": "linear",
          "weak_train_method": "weighted",
          "weak_weight": 0.01
         },
         {
          "metric_name": "Token Recall",
          "metric_val": 0.66,
          "step": 50,
          "tag": "ADR",
          "trial": 3,
          "weak_function": "linear",
          "weak_train_method": "weighted",
          "weak_weight": 0.01
         },
         {
          "metric_name": "Token Recall",
          "metric_val": 0.7,
          "step": 100,
          "tag": "ADR",
          "trial": 3,
          "weak_function": "linear",
          "weak_train_method": "weighted",
          "weak_weight": 0.01
         },
         {
          "metric_name": "Span F1",
          "metric_val": 0.25,
          "step": 10,
          "tag": "ADR",
          "trial": 3,
          "weak_function": "linear",
          "weak_train_method": "weighted",
          "weak_weight": 0.01
         },
         {
          "metric_name": "Span F1",
          "metric_val": 0.58,
          "step": 50,
          "tag": "ADR",
          "trial": 3,
          "weak_function": "linear",
          "weak_train_method": "weighted",
          "weak_weight": 0.01
         },
         {
          "metric_name": "Span F1",
          "metric_val": 0.6,
          "step": 100,
          "tag": "ADR",
          "trial": 3,
          "weak_function": "linear",
          "weak_train_method": "weighted",
          "weak_weight": 0.01
         },
         {
          "metric_name": "Token F1",
          "metric_val": 0.32,
          "step": 10,
          "tag": "ADR",
          "trial": 4,
          "weak_function": "linear",
          "weak_train_method": "weighted",
          "weak_weight": 0.01
         },
         {
          "metric_name": "Token F1",
          "metric_val": 0.71,
          "step": 50,
          "tag": "ADR",
          "trial": 4,
          "weak_function": "linear",
          "weak_train_method": "weighted",
          "weak_weight": 0.01
         },
         {
          "metric_name": "Token F1",
          "metric_val": 0.76,
          "step": 100,
          "tag": "ADR",
          "trial": 4,
          "weak_function": "linear",
          "weak_train_method": "weighted",
          "weak_weight": 0.01
         },
         {
          "metric_name": "Token Precision",
          "metric_val": 0.85,
          "step": 10,
          "tag": "ADR",
          "trial": 4,
          "weak_function": "linear",
          "weak_train_method": "weighted",
          "weak_weight": 0.01
         },
         {
          "metric_name": "Token Precision",
          "metric_val": 0.64,
          "step": 50,
          "tag": "ADR",
          "trial": 4,
          "weak_function": "linear",
          "weak_train_method": "weighted",
          "weak_weight": 0.01
         },
         {
          "metric_name": "Token Precision",
          "metric_val": 0.73,
          "step": 100,
          "tag": "ADR",
          "trial": 4,
          "weak_function": "linear",
          "weak_train_method": "weighted",
          "weak_weight": 0.01
         },
         {
          "metric_name": "Token Recall",
          "metric_val": 0.19,
          "step": 10,
          "tag": "ADR",
          "trial": 4,
          "weak_function": "linear",
          "weak_train_method": "weighted",
          "weak_weight": 0.01
         },
         {
          "metric_name": "Token Recall",
          "metric_val": 0.8,
          "step": 50,
          "tag": "ADR",
          "trial": 4,
          "weak_function": "linear",
          "weak_train_method": "weighted",
          "weak_weight": 0.01
         },
         {
          "metric_name": "Token Recall",
          "metric_val": 0.79,
          "step": 100,
          "tag": "ADR",
          "trial": 4,
          "weak_function": "linear",
          "weak_train_method": "weighted",
          "weak_weight": 0.01
         },
         {
          "metric_name": "Span F1",
          "metric_val": 0.17,
          "step": 10,
          "tag": "ADR",
          "trial": 4,
          "weak_function": "linear",
          "weak_train_method": "weighted",
          "weak_weight": 0.01
         },
         {
          "metric_name": "Span F1",
          "metric_val": 0.51,
          "step": 50,
          "tag": "ADR",
          "trial": 4,
          "weak_function": "linear",
          "weak_train_method": "weighted",
          "weak_weight": 0.01
         },
         {
          "metric_name": "Span F1",
          "metric_val": 0.59,
          "step": 100,
          "tag": "ADR",
          "trial": 4,
          "weak_function": "linear",
          "weak_train_method": "weighted",
          "weak_weight": 0.01
         },
         {
          "metric_name": "Token F1",
          "metric_val": 0.59,
          "step": 10,
          "tag": "ADR",
          "trial": 1,
          "weak_function": "linear",
          "weak_train_method": "weighted",
          "weak_weight": 0.01
         },
         {
          "metric_name": "Token F1",
          "metric_val": 0.73,
          "step": 50,
          "tag": "ADR",
          "trial": 1,
          "weak_function": "linear",
          "weak_train_method": "weighted",
          "weak_weight": 0.01
         },
         {
          "metric_name": "Token F1",
          "metric_val": 0.75,
          "step": 100,
          "tag": "ADR",
          "trial": 1,
          "weak_function": "linear",
          "weak_train_method": "weighted",
          "weak_weight": 0.01
         },
         {
          "metric_name": "Token Precision",
          "metric_val": 0.77,
          "step": 10,
          "tag": "ADR",
          "trial": 1,
          "weak_function": "linear",
          "weak_train_method": "weighted",
          "weak_weight": 0.01
         },
         {
          "metric_name": "Token Precision",
          "metric_val": 0.78,
          "step": 50,
          "tag": "ADR",
          "trial": 1,
          "weak_function": "linear",
          "weak_train_method": "weighted",
          "weak_weight": 0.01
         },
         {
          "metric_name": "Token Precision",
          "metric_val": 0.81,
          "step": 100,
          "tag": "ADR",
          "trial": 1,
          "weak_function": "linear",
          "weak_train_method": "weighted",
          "weak_weight": 0.01
         },
         {
          "metric_name": "Token Recall",
          "metric_val": 0.48,
          "step": 10,
          "tag": "ADR",
          "trial": 1,
          "weak_function": "linear",
          "weak_train_method": "weighted",
          "weak_weight": 0.01
         },
         {
          "metric_name": "Token Recall",
          "metric_val": 0.68,
          "step": 50,
          "tag": "ADR",
          "trial": 1,
          "weak_function": "linear",
          "weak_train_method": "weighted",
          "weak_weight": 0.01
         },
         {
          "metric_name": "Token Recall",
          "metric_val": 0.7,
          "step": 100,
          "tag": "ADR",
          "trial": 1,
          "weak_function": "linear",
          "weak_train_method": "weighted",
          "weak_weight": 0.01
         },
         {
          "metric_name": "Span F1",
          "metric_val": 0.39,
          "step": 10,
          "tag": "ADR",
          "trial": 1,
          "weak_function": "linear",
          "weak_train_method": "weighted",
          "weak_weight": 0.01
         },
         {
          "metric_name": "Span F1",
          "metric_val": 0.58,
          "step": 50,
          "tag": "ADR",
          "trial": 1,
          "weak_function": "linear",
          "weak_train_method": "weighted",
          "weak_weight": 0.01
         },
         {
          "metric_name": "Span F1",
          "metric_val": 0.61,
          "step": 100,
          "tag": "ADR",
          "trial": 1,
          "weak_function": "linear",
          "weak_train_method": "weighted",
          "weak_weight": 0.01
         },
         {
          "metric_name": "Token F1",
          "metric_val": 0.61,
          "step": 10,
          "tag": "ADR",
          "trial": 0,
          "weak_function": "linear",
          "weak_train_method": "weighted",
          "weak_weight": 0.01
         },
         {
          "metric_name": "Token F1",
          "metric_val": 0.74,
          "step": 50,
          "tag": "ADR",
          "trial": 0,
          "weak_function": "linear",
          "weak_train_method": "weighted",
          "weak_weight": 0.01
         },
         {
          "metric_name": "Token F1",
          "metric_val": 0.74,
          "step": 100,
          "tag": "ADR",
          "trial": 0,
          "weak_function": "linear",
          "weak_train_method": "weighted",
          "weak_weight": 0.01
         },
         {
          "metric_name": "Token Precision",
          "metric_val": 0.72,
          "step": 10,
          "tag": "ADR",
          "trial": 0,
          "weak_function": "linear",
          "weak_train_method": "weighted",
          "weak_weight": 0.01
         },
         {
          "metric_name": "Token Precision",
          "metric_val": 0.7,
          "step": 50,
          "tag": "ADR",
          "trial": 0,
          "weak_function": "linear",
          "weak_train_method": "weighted",
          "weak_weight": 0.01
         },
         {
          "metric_name": "Token Precision",
          "metric_val": 0.79,
          "step": 100,
          "tag": "ADR",
          "trial": 0,
          "weak_function": "linear",
          "weak_train_method": "weighted",
          "weak_weight": 0.01
         },
         {
          "metric_name": "Token Recall",
          "metric_val": 0.53,
          "step": 10,
          "tag": "ADR",
          "trial": 0,
          "weak_function": "linear",
          "weak_train_method": "weighted",
          "weak_weight": 0.01
         },
         {
          "metric_name": "Token Recall",
          "metric_val": 0.79,
          "step": 50,
          "tag": "ADR",
          "trial": 0,
          "weak_function": "linear",
          "weak_train_method": "weighted",
          "weak_weight": 0.01
         },
         {
          "metric_name": "Token Recall",
          "metric_val": 0.7,
          "step": 100,
          "tag": "ADR",
          "trial": 0,
          "weak_function": "linear",
          "weak_train_method": "weighted",
          "weak_weight": 0.01
         },
         {
          "metric_name": "Span F1",
          "metric_val": 0.45,
          "step": 10,
          "tag": "ADR",
          "trial": 0,
          "weak_function": "linear",
          "weak_train_method": "weighted",
          "weak_weight": 0.01
         },
         {
          "metric_name": "Span F1",
          "metric_val": 0.56,
          "step": 50,
          "tag": "ADR",
          "trial": 0,
          "weak_function": "linear",
          "weak_train_method": "weighted",
          "weak_weight": 0.01
         },
         {
          "metric_name": "Span F1",
          "metric_val": 0.61,
          "step": 100,
          "tag": "ADR",
          "trial": 0,
          "weak_function": "linear",
          "weak_train_method": "weighted",
          "weak_weight": 0.01
         },
         {
          "metric_name": "Token F1",
          "metric_val": 0.64,
          "step": 10,
          "tag": "ADR",
          "trial": 2,
          "weak_function": "keyword",
          "weak_train_method": "weighted",
          "weak_weight": 0.01
         },
         {
          "metric_name": "Token F1",
          "metric_val": 0.72,
          "step": 50,
          "tag": "ADR",
          "trial": 2,
          "weak_function": "keyword",
          "weak_train_method": "weighted",
          "weak_weight": 0.01
         },
         {
          "metric_name": "Token F1",
          "metric_val": 0.74,
          "step": 100,
          "tag": "ADR",
          "trial": 2,
          "weak_function": "keyword",
          "weak_train_method": "weighted",
          "weak_weight": 0.01
         },
         {
          "metric_name": "Token Precision",
          "metric_val": 0.82,
          "step": 10,
          "tag": "ADR",
          "trial": 2,
          "weak_function": "keyword",
          "weak_train_method": "weighted",
          "weak_weight": 0.01
         },
         {
          "metric_name": "Token Precision",
          "metric_val": 0.78,
          "step": 50,
          "tag": "ADR",
          "trial": 2,
          "weak_function": "keyword",
          "weak_train_method": "weighted",
          "weak_weight": 0.01
         },
         {
          "metric_name": "Token Precision",
          "metric_val": 0.79,
          "step": 100,
          "tag": "ADR",
          "trial": 2,
          "weak_function": "keyword",
          "weak_train_method": "weighted",
          "weak_weight": 0.01
         },
         {
          "metric_name": "Token Recall",
          "metric_val": 0.52,
          "step": 10,
          "tag": "ADR",
          "trial": 2,
          "weak_function": "keyword",
          "weak_train_method": "weighted",
          "weak_weight": 0.01
         },
         {
          "metric_name": "Token Recall",
          "metric_val": 0.66,
          "step": 50,
          "tag": "ADR",
          "trial": 2,
          "weak_function": "keyword",
          "weak_train_method": "weighted",
          "weak_weight": 0.01
         },
         {
          "metric_name": "Token Recall",
          "metric_val": 0.69,
          "step": 100,
          "tag": "ADR",
          "trial": 2,
          "weak_function": "keyword",
          "weak_train_method": "weighted",
          "weak_weight": 0.01
         },
         {
          "metric_name": "Span F1",
          "metric_val": 0.5,
          "step": 10,
          "tag": "ADR",
          "trial": 2,
          "weak_function": "keyword",
          "weak_train_method": "weighted",
          "weak_weight": 0.01
         },
         {
          "metric_name": "Span F1",
          "metric_val": 0.56,
          "step": 50,
          "tag": "ADR",
          "trial": 2,
          "weak_function": "keyword",
          "weak_train_method": "weighted",
          "weak_weight": 0.01
         },
         {
          "metric_name": "Span F1",
          "metric_val": 0.6,
          "step": 100,
          "tag": "ADR",
          "trial": 2,
          "weak_function": "keyword",
          "weak_train_method": "weighted",
          "weak_weight": 0.01
         },
         {
          "metric_name": "Token F1",
          "metric_val": 0.37,
          "step": 10,
          "tag": "ADR",
          "trial": 3,
          "weak_function": "keyword",
          "weak_train_method": "weighted",
          "weak_weight": 0.01
         },
         {
          "metric_name": "Token F1",
          "metric_val": 0.72,
          "step": 50,
          "tag": "ADR",
          "trial": 3,
          "weak_function": "keyword",
          "weak_train_method": "weighted",
          "weak_weight": 0.01
         },
         {
          "metric_name": "Token F1",
          "metric_val": 0.75,
          "step": 100,
          "tag": "ADR",
          "trial": 3,
          "weak_function": "keyword",
          "weak_train_method": "weighted",
          "weak_weight": 0.01
         },
         {
          "metric_name": "Token Precision",
          "metric_val": 0.81,
          "step": 10,
          "tag": "ADR",
          "trial": 3,
          "weak_function": "keyword",
          "weak_train_method": "weighted",
          "weak_weight": 0.01
         },
         {
          "metric_name": "Token Precision",
          "metric_val": 0.79,
          "step": 50,
          "tag": "ADR",
          "trial": 3,
          "weak_function": "keyword",
          "weak_train_method": "weighted",
          "weak_weight": 0.01
         },
         {
          "metric_name": "Token Precision",
          "metric_val": 0.75,
          "step": 100,
          "tag": "ADR",
          "trial": 3,
          "weak_function": "keyword",
          "weak_train_method": "weighted",
          "weak_weight": 0.01
         },
         {
          "metric_name": "Token Recall",
          "metric_val": 0.24,
          "step": 10,
          "tag": "ADR",
          "trial": 3,
          "weak_function": "keyword",
          "weak_train_method": "weighted",
          "weak_weight": 0.01
         },
         {
          "metric_name": "Token Recall",
          "metric_val": 0.66,
          "step": 50,
          "tag": "ADR",
          "trial": 3,
          "weak_function": "keyword",
          "weak_train_method": "weighted",
          "weak_weight": 0.01
         },
         {
          "metric_name": "Token Recall",
          "metric_val": 0.74,
          "step": 100,
          "tag": "ADR",
          "trial": 3,
          "weak_function": "keyword",
          "weak_train_method": "weighted",
          "weak_weight": 0.01
         },
         {
          "metric_name": "Span F1",
          "metric_val": 0.24,
          "step": 10,
          "tag": "ADR",
          "trial": 3,
          "weak_function": "keyword",
          "weak_train_method": "weighted",
          "weak_weight": 0.01
         },
         {
          "metric_name": "Span F1",
          "metric_val": 0.56,
          "step": 50,
          "tag": "ADR",
          "trial": 3,
          "weak_function": "keyword",
          "weak_train_method": "weighted",
          "weak_weight": 0.01
         },
         {
          "metric_name": "Span F1",
          "metric_val": 0.59,
          "step": 100,
          "tag": "ADR",
          "trial": 3,
          "weak_function": "keyword",
          "weak_train_method": "weighted",
          "weak_weight": 0.01
         },
         {
          "metric_name": "Token F1",
          "metric_val": 0.47,
          "step": 10,
          "tag": "ADR",
          "trial": 4,
          "weak_function": "keyword",
          "weak_train_method": "weighted",
          "weak_weight": 0.01
         },
         {
          "metric_name": "Token F1",
          "metric_val": 0.72,
          "step": 50,
          "tag": "ADR",
          "trial": 4,
          "weak_function": "keyword",
          "weak_train_method": "weighted",
          "weak_weight": 0.01
         },
         {
          "metric_name": "Token F1",
          "metric_val": 0.76,
          "step": 100,
          "tag": "ADR",
          "trial": 4,
          "weak_function": "keyword",
          "weak_train_method": "weighted",
          "weak_weight": 0.01
         },
         {
          "metric_name": "Token Precision",
          "metric_val": 0.6,
          "step": 10,
          "tag": "ADR",
          "trial": 4,
          "weak_function": "keyword",
          "weak_train_method": "weighted",
          "weak_weight": 0.01
         },
         {
          "metric_name": "Token Precision",
          "metric_val": 0.81,
          "step": 50,
          "tag": "ADR",
          "trial": 4,
          "weak_function": "keyword",
          "weak_train_method": "weighted",
          "weak_weight": 0.01
         },
         {
          "metric_name": "Token Precision",
          "metric_val": 0.75,
          "step": 100,
          "tag": "ADR",
          "trial": 4,
          "weak_function": "keyword",
          "weak_train_method": "weighted",
          "weak_weight": 0.01
         },
         {
          "metric_name": "Token Recall",
          "metric_val": 0.38,
          "step": 10,
          "tag": "ADR",
          "trial": 4,
          "weak_function": "keyword",
          "weak_train_method": "weighted",
          "weak_weight": 0.01
         },
         {
          "metric_name": "Token Recall",
          "metric_val": 0.65,
          "step": 50,
          "tag": "ADR",
          "trial": 4,
          "weak_function": "keyword",
          "weak_train_method": "weighted",
          "weak_weight": 0.01
         },
         {
          "metric_name": "Token Recall",
          "metric_val": 0.76,
          "step": 100,
          "tag": "ADR",
          "trial": 4,
          "weak_function": "keyword",
          "weak_train_method": "weighted",
          "weak_weight": 0.01
         },
         {
          "metric_name": "Span F1",
          "metric_val": 0.28,
          "step": 10,
          "tag": "ADR",
          "trial": 4,
          "weak_function": "keyword",
          "weak_train_method": "weighted",
          "weak_weight": 0.01
         },
         {
          "metric_name": "Span F1",
          "metric_val": 0.59,
          "step": 50,
          "tag": "ADR",
          "trial": 4,
          "weak_function": "keyword",
          "weak_train_method": "weighted",
          "weak_weight": 0.01
         },
         {
          "metric_name": "Span F1",
          "metric_val": 0.6,
          "step": 100,
          "tag": "ADR",
          "trial": 4,
          "weak_function": "keyword",
          "weak_train_method": "weighted",
          "weak_weight": 0.01
         },
         {
          "metric_name": "Token F1",
          "metric_val": 0.3,
          "step": 10,
          "tag": "ADR",
          "trial": 1,
          "weak_function": "keyword",
          "weak_train_method": "weighted",
          "weak_weight": 0.01
         },
         {
          "metric_name": "Token F1",
          "metric_val": 0.72,
          "step": 50,
          "tag": "ADR",
          "trial": 1,
          "weak_function": "keyword",
          "weak_train_method": "weighted",
          "weak_weight": 0.01
         },
         {
          "metric_name": "Token F1",
          "metric_val": 0.73,
          "step": 100,
          "tag": "ADR",
          "trial": 1,
          "weak_function": "keyword",
          "weak_train_method": "weighted",
          "weak_weight": 0.01
         },
         {
          "metric_name": "Token Precision",
          "metric_val": 0.8,
          "step": 10,
          "tag": "ADR",
          "trial": 1,
          "weak_function": "keyword",
          "weak_train_method": "weighted",
          "weak_weight": 0.01
         },
         {
          "metric_name": "Token Precision",
          "metric_val": 0.82,
          "step": 50,
          "tag": "ADR",
          "trial": 1,
          "weak_function": "keyword",
          "weak_train_method": "weighted",
          "weak_weight": 0.01
         },
         {
          "metric_name": "Token Precision",
          "metric_val": 0.83,
          "step": 100,
          "tag": "ADR",
          "trial": 1,
          "weak_function": "keyword",
          "weak_train_method": "weighted",
          "weak_weight": 0.01
         },
         {
          "metric_name": "Token Recall",
          "metric_val": 0.18,
          "step": 10,
          "tag": "ADR",
          "trial": 1,
          "weak_function": "keyword",
          "weak_train_method": "weighted",
          "weak_weight": 0.01
         },
         {
          "metric_name": "Token Recall",
          "metric_val": 0.64,
          "step": 50,
          "tag": "ADR",
          "trial": 1,
          "weak_function": "keyword",
          "weak_train_method": "weighted",
          "weak_weight": 0.01
         },
         {
          "metric_name": "Token Recall",
          "metric_val": 0.65,
          "step": 100,
          "tag": "ADR",
          "trial": 1,
          "weak_function": "keyword",
          "weak_train_method": "weighted",
          "weak_weight": 0.01
         },
         {
          "metric_name": "Span F1",
          "metric_val": 0.11,
          "step": 10,
          "tag": "ADR",
          "trial": 1,
          "weak_function": "keyword",
          "weak_train_method": "weighted",
          "weak_weight": 0.01
         },
         {
          "metric_name": "Span F1",
          "metric_val": 0.57,
          "step": 50,
          "tag": "ADR",
          "trial": 1,
          "weak_function": "keyword",
          "weak_train_method": "weighted",
          "weak_weight": 0.01
         },
         {
          "metric_name": "Span F1",
          "metric_val": 0.61,
          "step": 100,
          "tag": "ADR",
          "trial": 1,
          "weak_function": "keyword",
          "weak_train_method": "weighted",
          "weak_weight": 0.01
         },
         {
          "metric_name": "Token F1",
          "metric_val": 0.65,
          "step": 10,
          "tag": "ADR",
          "trial": 0,
          "weak_function": "keyword",
          "weak_train_method": "weighted",
          "weak_weight": 0.01
         },
         {
          "metric_name": "Token F1",
          "metric_val": 0.63,
          "step": 50,
          "tag": "ADR",
          "trial": 0,
          "weak_function": "keyword",
          "weak_train_method": "weighted",
          "weak_weight": 0.01
         },
         {
          "metric_name": "Token F1",
          "metric_val": 0.73,
          "step": 100,
          "tag": "ADR",
          "trial": 0,
          "weak_function": "keyword",
          "weak_train_method": "weighted",
          "weak_weight": 0.01
         },
         {
          "metric_name": "Token Precision",
          "metric_val": 0.66,
          "step": 10,
          "tag": "ADR",
          "trial": 0,
          "weak_function": "keyword",
          "weak_train_method": "weighted",
          "weak_weight": 0.01
         },
         {
          "metric_name": "Token Precision",
          "metric_val": 0.89,
          "step": 50,
          "tag": "ADR",
          "trial": 0,
          "weak_function": "keyword",
          "weak_train_method": "weighted",
          "weak_weight": 0.01
         },
         {
          "metric_name": "Token Precision",
          "metric_val": 0.77,
          "step": 100,
          "tag": "ADR",
          "trial": 0,
          "weak_function": "keyword",
          "weak_train_method": "weighted",
          "weak_weight": 0.01
         },
         {
          "metric_name": "Token Recall",
          "metric_val": 0.64,
          "step": 10,
          "tag": "ADR",
          "trial": 0,
          "weak_function": "keyword",
          "weak_train_method": "weighted",
          "weak_weight": 0.01
         },
         {
          "metric_name": "Token Recall",
          "metric_val": 0.49,
          "step": 50,
          "tag": "ADR",
          "trial": 0,
          "weak_function": "keyword",
          "weak_train_method": "weighted",
          "weak_weight": 0.01
         },
         {
          "metric_name": "Token Recall",
          "metric_val": 0.69,
          "step": 100,
          "tag": "ADR",
          "trial": 0,
          "weak_function": "keyword",
          "weak_train_method": "weighted",
          "weak_weight": 0.01
         },
         {
          "metric_name": "Span F1",
          "metric_val": 0.36,
          "step": 10,
          "tag": "ADR",
          "trial": 0,
          "weak_function": "keyword",
          "weak_train_method": "weighted",
          "weak_weight": 0.01
         },
         {
          "metric_name": "Span F1",
          "metric_val": 0.52,
          "step": 50,
          "tag": "ADR",
          "trial": 0,
          "weak_function": "keyword",
          "weak_train_method": "weighted",
          "weak_weight": 0.01
         },
         {
          "metric_name": "Span F1",
          "metric_val": 0.6,
          "step": 100,
          "tag": "ADR",
          "trial": 0,
          "weak_function": "keyword",
          "weak_train_method": "weighted",
          "weak_weight": 0.01
         },
         {
          "metric_name": "Token F1",
          "metric_val": 0.67,
          "step": 10,
          "tag": "ADR",
          "trial": 2,
          "weak_function": "no_weak",
          "weak_train_method": "fine_tune",
          "weak_weight": 0.01
         },
         {
          "metric_name": "Token F1",
          "metric_val": 0.73,
          "step": 50,
          "tag": "ADR",
          "trial": 2,
          "weak_function": "no_weak",
          "weak_train_method": "fine_tune",
          "weak_weight": 0.01
         },
         {
          "metric_name": "Token F1",
          "metric_val": 0.68,
          "step": 100,
          "tag": "ADR",
          "trial": 2,
          "weak_function": "no_weak",
          "weak_train_method": "fine_tune",
          "weak_weight": 0.01
         },
         {
          "metric_name": "Token Precision",
          "metric_val": 0.7,
          "step": 10,
          "tag": "ADR",
          "trial": 2,
          "weak_function": "no_weak",
          "weak_train_method": "fine_tune",
          "weak_weight": 0.01
         },
         {
          "metric_name": "Token Precision",
          "metric_val": 0.76,
          "step": 50,
          "tag": "ADR",
          "trial": 2,
          "weak_function": "no_weak",
          "weak_train_method": "fine_tune",
          "weak_weight": 0.01
         },
         {
          "metric_name": "Token Precision",
          "metric_val": 0.86,
          "step": 100,
          "tag": "ADR",
          "trial": 2,
          "weak_function": "no_weak",
          "weak_train_method": "fine_tune",
          "weak_weight": 0.01
         },
         {
          "metric_name": "Token Recall",
          "metric_val": 0.64,
          "step": 10,
          "tag": "ADR",
          "trial": 2,
          "weak_function": "no_weak",
          "weak_train_method": "fine_tune",
          "weak_weight": 0.01
         },
         {
          "metric_name": "Token Recall",
          "metric_val": 0.7,
          "step": 50,
          "tag": "ADR",
          "trial": 2,
          "weak_function": "no_weak",
          "weak_train_method": "fine_tune",
          "weak_weight": 0.01
         },
         {
          "metric_name": "Token Recall",
          "metric_val": 0.56,
          "step": 100,
          "tag": "ADR",
          "trial": 2,
          "weak_function": "no_weak",
          "weak_train_method": "fine_tune",
          "weak_weight": 0.01
         },
         {
          "metric_name": "Span F1",
          "metric_val": 0.42,
          "step": 10,
          "tag": "ADR",
          "trial": 2,
          "weak_function": "no_weak",
          "weak_train_method": "fine_tune",
          "weak_weight": 0.01
         },
         {
          "metric_name": "Span F1",
          "metric_val": 0.57,
          "step": 50,
          "tag": "ADR",
          "trial": 2,
          "weak_function": "no_weak",
          "weak_train_method": "fine_tune",
          "weak_weight": 0.01
         },
         {
          "metric_name": "Span F1",
          "metric_val": 0.54,
          "step": 100,
          "tag": "ADR",
          "trial": 2,
          "weak_function": "no_weak",
          "weak_train_method": "fine_tune",
          "weak_weight": 0.01
         },
         {
          "metric_name": "Token F1",
          "metric_val": 0.67,
          "step": 10,
          "tag": "ADR",
          "trial": 2,
          "weak_function": "no_weak",
          "weak_train_method": "weighted",
          "weak_weight": 0.01
         },
         {
          "metric_name": "Token F1",
          "metric_val": 0.73,
          "step": 50,
          "tag": "ADR",
          "trial": 2,
          "weak_function": "no_weak",
          "weak_train_method": "weighted",
          "weak_weight": 0.01
         },
         {
          "metric_name": "Token F1",
          "metric_val": 0.68,
          "step": 100,
          "tag": "ADR",
          "trial": 2,
          "weak_function": "no_weak",
          "weak_train_method": "weighted",
          "weak_weight": 0.01
         },
         {
          "metric_name": "Token Precision",
          "metric_val": 0.7,
          "step": 10,
          "tag": "ADR",
          "trial": 2,
          "weak_function": "no_weak",
          "weak_train_method": "weighted",
          "weak_weight": 0.01
         },
         {
          "metric_name": "Token Precision",
          "metric_val": 0.76,
          "step": 50,
          "tag": "ADR",
          "trial": 2,
          "weak_function": "no_weak",
          "weak_train_method": "weighted",
          "weak_weight": 0.01
         },
         {
          "metric_name": "Token Precision",
          "metric_val": 0.86,
          "step": 100,
          "tag": "ADR",
          "trial": 2,
          "weak_function": "no_weak",
          "weak_train_method": "weighted",
          "weak_weight": 0.01
         },
         {
          "metric_name": "Token Recall",
          "metric_val": 0.64,
          "step": 10,
          "tag": "ADR",
          "trial": 2,
          "weak_function": "no_weak",
          "weak_train_method": "weighted",
          "weak_weight": 0.01
         },
         {
          "metric_name": "Token Recall",
          "metric_val": 0.7,
          "step": 50,
          "tag": "ADR",
          "trial": 2,
          "weak_function": "no_weak",
          "weak_train_method": "weighted",
          "weak_weight": 0.01
         },
         {
          "metric_name": "Token Recall",
          "metric_val": 0.56,
          "step": 100,
          "tag": "ADR",
          "trial": 2,
          "weak_function": "no_weak",
          "weak_train_method": "weighted",
          "weak_weight": 0.01
         },
         {
          "metric_name": "Span F1",
          "metric_val": 0.42,
          "step": 10,
          "tag": "ADR",
          "trial": 2,
          "weak_function": "no_weak",
          "weak_train_method": "weighted",
          "weak_weight": 0.01
         },
         {
          "metric_name": "Span F1",
          "metric_val": 0.57,
          "step": 50,
          "tag": "ADR",
          "trial": 2,
          "weak_function": "no_weak",
          "weak_train_method": "weighted",
          "weak_weight": 0.01
         },
         {
          "metric_name": "Span F1",
          "metric_val": 0.54,
          "step": 100,
          "tag": "ADR",
          "trial": 2,
          "weak_function": "no_weak",
          "weak_train_method": "weighted",
          "weak_weight": 0.01
         },
         {
          "metric_name": "Token F1",
          "metric_val": 0.7,
          "step": 10,
          "tag": "ADR",
          "trial": 3,
          "weak_function": "no_weak",
          "weak_train_method": "fine_tune",
          "weak_weight": 0.01
         },
         {
          "metric_name": "Token F1",
          "metric_val": 0.73,
          "step": 50,
          "tag": "ADR",
          "trial": 3,
          "weak_function": "no_weak",
          "weak_train_method": "fine_tune",
          "weak_weight": 0.01
         },
         {
          "metric_name": "Token F1",
          "metric_val": 0.75,
          "step": 100,
          "tag": "ADR",
          "trial": 3,
          "weak_function": "no_weak",
          "weak_train_method": "fine_tune",
          "weak_weight": 0.01
         },
         {
          "metric_name": "Token Precision",
          "metric_val": 0.79,
          "step": 10,
          "tag": "ADR",
          "trial": 3,
          "weak_function": "no_weak",
          "weak_train_method": "fine_tune",
          "weak_weight": 0.01
         },
         {
          "metric_name": "Token Precision",
          "metric_val": 0.82,
          "step": 50,
          "tag": "ADR",
          "trial": 3,
          "weak_function": "no_weak",
          "weak_train_method": "fine_tune",
          "weak_weight": 0.01
         },
         {
          "metric_name": "Token Precision",
          "metric_val": 0.78,
          "step": 100,
          "tag": "ADR",
          "trial": 3,
          "weak_function": "no_weak",
          "weak_train_method": "fine_tune",
          "weak_weight": 0.01
         },
         {
          "metric_name": "Token Recall",
          "metric_val": 0.63,
          "step": 10,
          "tag": "ADR",
          "trial": 3,
          "weak_function": "no_weak",
          "weak_train_method": "fine_tune",
          "weak_weight": 0.01
         },
         {
          "metric_name": "Token Recall",
          "metric_val": 0.66,
          "step": 50,
          "tag": "ADR",
          "trial": 3,
          "weak_function": "no_weak",
          "weak_train_method": "fine_tune",
          "weak_weight": 0.01
         },
         {
          "metric_name": "Token Recall",
          "metric_val": 0.72,
          "step": 100,
          "tag": "ADR",
          "trial": 3,
          "weak_function": "no_weak",
          "weak_train_method": "fine_tune",
          "weak_weight": 0.01
         },
         {
          "metric_name": "Span F1",
          "metric_val": 0.48,
          "step": 10,
          "tag": "ADR",
          "trial": 3,
          "weak_function": "no_weak",
          "weak_train_method": "fine_tune",
          "weak_weight": 0.01
         },
         {
          "metric_name": "Span F1",
          "metric_val": 0.58,
          "step": 50,
          "tag": "ADR",
          "trial": 3,
          "weak_function": "no_weak",
          "weak_train_method": "fine_tune",
          "weak_weight": 0.01
         },
         {
          "metric_name": "Span F1",
          "metric_val": 0.62,
          "step": 100,
          "tag": "ADR",
          "trial": 3,
          "weak_function": "no_weak",
          "weak_train_method": "fine_tune",
          "weak_weight": 0.01
         },
         {
          "metric_name": "Token F1",
          "metric_val": 0.7,
          "step": 10,
          "tag": "ADR",
          "trial": 3,
          "weak_function": "no_weak",
          "weak_train_method": "weighted",
          "weak_weight": 0.01
         },
         {
          "metric_name": "Token F1",
          "metric_val": 0.73,
          "step": 50,
          "tag": "ADR",
          "trial": 3,
          "weak_function": "no_weak",
          "weak_train_method": "weighted",
          "weak_weight": 0.01
         },
         {
          "metric_name": "Token F1",
          "metric_val": 0.75,
          "step": 100,
          "tag": "ADR",
          "trial": 3,
          "weak_function": "no_weak",
          "weak_train_method": "weighted",
          "weak_weight": 0.01
         },
         {
          "metric_name": "Token Precision",
          "metric_val": 0.79,
          "step": 10,
          "tag": "ADR",
          "trial": 3,
          "weak_function": "no_weak",
          "weak_train_method": "weighted",
          "weak_weight": 0.01
         },
         {
          "metric_name": "Token Precision",
          "metric_val": 0.82,
          "step": 50,
          "tag": "ADR",
          "trial": 3,
          "weak_function": "no_weak",
          "weak_train_method": "weighted",
          "weak_weight": 0.01
         },
         {
          "metric_name": "Token Precision",
          "metric_val": 0.78,
          "step": 100,
          "tag": "ADR",
          "trial": 3,
          "weak_function": "no_weak",
          "weak_train_method": "weighted",
          "weak_weight": 0.01
         },
         {
          "metric_name": "Token Recall",
          "metric_val": 0.63,
          "step": 10,
          "tag": "ADR",
          "trial": 3,
          "weak_function": "no_weak",
          "weak_train_method": "weighted",
          "weak_weight": 0.01
         },
         {
          "metric_name": "Token Recall",
          "metric_val": 0.66,
          "step": 50,
          "tag": "ADR",
          "trial": 3,
          "weak_function": "no_weak",
          "weak_train_method": "weighted",
          "weak_weight": 0.01
         },
         {
          "metric_name": "Token Recall",
          "metric_val": 0.72,
          "step": 100,
          "tag": "ADR",
          "trial": 3,
          "weak_function": "no_weak",
          "weak_train_method": "weighted",
          "weak_weight": 0.01
         },
         {
          "metric_name": "Span F1",
          "metric_val": 0.48,
          "step": 10,
          "tag": "ADR",
          "trial": 3,
          "weak_function": "no_weak",
          "weak_train_method": "weighted",
          "weak_weight": 0.01
         },
         {
          "metric_name": "Span F1",
          "metric_val": 0.58,
          "step": 50,
          "tag": "ADR",
          "trial": 3,
          "weak_function": "no_weak",
          "weak_train_method": "weighted",
          "weak_weight": 0.01
         },
         {
          "metric_name": "Span F1",
          "metric_val": 0.62,
          "step": 100,
          "tag": "ADR",
          "trial": 3,
          "weak_function": "no_weak",
          "weak_train_method": "weighted",
          "weak_weight": 0.01
         },
         {
          "metric_name": "Token F1",
          "metric_val": 0.68,
          "step": 10,
          "tag": "ADR",
          "trial": 4,
          "weak_function": "no_weak",
          "weak_train_method": "fine_tune",
          "weak_weight": 0.01
         },
         {
          "metric_name": "Token F1",
          "metric_val": 0.71,
          "step": 50,
          "tag": "ADR",
          "trial": 4,
          "weak_function": "no_weak",
          "weak_train_method": "fine_tune",
          "weak_weight": 0.01
         },
         {
          "metric_name": "Token F1",
          "metric_val": 0.76,
          "step": 100,
          "tag": "ADR",
          "trial": 4,
          "weak_function": "no_weak",
          "weak_train_method": "fine_tune",
          "weak_weight": 0.01
         },
         {
          "metric_name": "Token Precision",
          "metric_val": 0.74,
          "step": 10,
          "tag": "ADR",
          "trial": 4,
          "weak_function": "no_weak",
          "weak_train_method": "fine_tune",
          "weak_weight": 0.01
         },
         {
          "metric_name": "Token Precision",
          "metric_val": 0.81,
          "step": 50,
          "tag": "ADR",
          "trial": 4,
          "weak_function": "no_weak",
          "weak_train_method": "fine_tune",
          "weak_weight": 0.01
         },
         {
          "metric_name": "Token Precision",
          "metric_val": 0.75,
          "step": 100,
          "tag": "ADR",
          "trial": 4,
          "weak_function": "no_weak",
          "weak_train_method": "fine_tune",
          "weak_weight": 0.01
         },
         {
          "metric_name": "Token Recall",
          "metric_val": 0.63,
          "step": 10,
          "tag": "ADR",
          "trial": 4,
          "weak_function": "no_weak",
          "weak_train_method": "fine_tune",
          "weak_weight": 0.01
         },
         {
          "metric_name": "Token Recall",
          "metric_val": 0.63,
          "step": 50,
          "tag": "ADR",
          "trial": 4,
          "weak_function": "no_weak",
          "weak_train_method": "fine_tune",
          "weak_weight": 0.01
         },
         {
          "metric_name": "Token Recall",
          "metric_val": 0.77,
          "step": 100,
          "tag": "ADR",
          "trial": 4,
          "weak_function": "no_weak",
          "weak_train_method": "fine_tune",
          "weak_weight": 0.01
         },
         {
          "metric_name": "Span F1",
          "metric_val": 0.38,
          "step": 10,
          "tag": "ADR",
          "trial": 4,
          "weak_function": "no_weak",
          "weak_train_method": "fine_tune",
          "weak_weight": 0.01
         },
         {
          "metric_name": "Span F1",
          "metric_val": 0.55,
          "step": 50,
          "tag": "ADR",
          "trial": 4,
          "weak_function": "no_weak",
          "weak_train_method": "fine_tune",
          "weak_weight": 0.01
         },
         {
          "metric_name": "Span F1",
          "metric_val": 0.59,
          "step": 100,
          "tag": "ADR",
          "trial": 4,
          "weak_function": "no_weak",
          "weak_train_method": "fine_tune",
          "weak_weight": 0.01
         },
         {
          "metric_name": "Token F1",
          "metric_val": 0.68,
          "step": 10,
          "tag": "ADR",
          "trial": 4,
          "weak_function": "no_weak",
          "weak_train_method": "weighted",
          "weak_weight": 0.01
         },
         {
          "metric_name": "Token F1",
          "metric_val": 0.71,
          "step": 50,
          "tag": "ADR",
          "trial": 4,
          "weak_function": "no_weak",
          "weak_train_method": "weighted",
          "weak_weight": 0.01
         },
         {
          "metric_name": "Token F1",
          "metric_val": 0.76,
          "step": 100,
          "tag": "ADR",
          "trial": 4,
          "weak_function": "no_weak",
          "weak_train_method": "weighted",
          "weak_weight": 0.01
         },
         {
          "metric_name": "Token Precision",
          "metric_val": 0.74,
          "step": 10,
          "tag": "ADR",
          "trial": 4,
          "weak_function": "no_weak",
          "weak_train_method": "weighted",
          "weak_weight": 0.01
         },
         {
          "metric_name": "Token Precision",
          "metric_val": 0.81,
          "step": 50,
          "tag": "ADR",
          "trial": 4,
          "weak_function": "no_weak",
          "weak_train_method": "weighted",
          "weak_weight": 0.01
         },
         {
          "metric_name": "Token Precision",
          "metric_val": 0.75,
          "step": 100,
          "tag": "ADR",
          "trial": 4,
          "weak_function": "no_weak",
          "weak_train_method": "weighted",
          "weak_weight": 0.01
         },
         {
          "metric_name": "Token Recall",
          "metric_val": 0.63,
          "step": 10,
          "tag": "ADR",
          "trial": 4,
          "weak_function": "no_weak",
          "weak_train_method": "weighted",
          "weak_weight": 0.01
         },
         {
          "metric_name": "Token Recall",
          "metric_val": 0.63,
          "step": 50,
          "tag": "ADR",
          "trial": 4,
          "weak_function": "no_weak",
          "weak_train_method": "weighted",
          "weak_weight": 0.01
         },
         {
          "metric_name": "Token Recall",
          "metric_val": 0.77,
          "step": 100,
          "tag": "ADR",
          "trial": 4,
          "weak_function": "no_weak",
          "weak_train_method": "weighted",
          "weak_weight": 0.01
         },
         {
          "metric_name": "Span F1",
          "metric_val": 0.38,
          "step": 10,
          "tag": "ADR",
          "trial": 4,
          "weak_function": "no_weak",
          "weak_train_method": "weighted",
          "weak_weight": 0.01
         },
         {
          "metric_name": "Span F1",
          "metric_val": 0.55,
          "step": 50,
          "tag": "ADR",
          "trial": 4,
          "weak_function": "no_weak",
          "weak_train_method": "weighted",
          "weak_weight": 0.01
         },
         {
          "metric_name": "Span F1",
          "metric_val": 0.59,
          "step": 100,
          "tag": "ADR",
          "trial": 4,
          "weak_function": "no_weak",
          "weak_train_method": "weighted",
          "weak_weight": 0.01
         },
         {
          "metric_name": "Token F1",
          "metric_val": 0.54,
          "step": 10,
          "tag": "ADR",
          "trial": 1,
          "weak_function": "no_weak",
          "weak_train_method": "fine_tune",
          "weak_weight": 0.01
         },
         {
          "metric_name": "Token F1",
          "metric_val": 0.73,
          "step": 50,
          "tag": "ADR",
          "trial": 1,
          "weak_function": "no_weak",
          "weak_train_method": "fine_tune",
          "weak_weight": 0.01
         },
         {
          "metric_name": "Token F1",
          "metric_val": 0.74,
          "step": 100,
          "tag": "ADR",
          "trial": 1,
          "weak_function": "no_weak",
          "weak_train_method": "fine_tune",
          "weak_weight": 0.01
         },
         {
          "metric_name": "Token Precision",
          "metric_val": 0.88,
          "step": 10,
          "tag": "ADR",
          "trial": 1,
          "weak_function": "no_weak",
          "weak_train_method": "fine_tune",
          "weak_weight": 0.01
         },
         {
          "metric_name": "Token Precision",
          "metric_val": 0.73,
          "step": 50,
          "tag": "ADR",
          "trial": 1,
          "weak_function": "no_weak",
          "weak_train_method": "fine_tune",
          "weak_weight": 0.01
         },
         {
          "metric_name": "Token Precision",
          "metric_val": 0.79,
          "step": 100,
          "tag": "ADR",
          "trial": 1,
          "weak_function": "no_weak",
          "weak_train_method": "fine_tune",
          "weak_weight": 0.01
         },
         {
          "metric_name": "Token Recall",
          "metric_val": 0.39,
          "step": 10,
          "tag": "ADR",
          "trial": 1,
          "weak_function": "no_weak",
          "weak_train_method": "fine_tune",
          "weak_weight": 0.01
         },
         {
          "metric_name": "Token Recall",
          "metric_val": 0.73,
          "step": 50,
          "tag": "ADR",
          "trial": 1,
          "weak_function": "no_weak",
          "weak_train_method": "fine_tune",
          "weak_weight": 0.01
         },
         {
          "metric_name": "Token Recall",
          "metric_val": 0.69,
          "step": 100,
          "tag": "ADR",
          "trial": 1,
          "weak_function": "no_weak",
          "weak_train_method": "fine_tune",
          "weak_weight": 0.01
         },
         {
          "metric_name": "Span F1",
          "metric_val": 0.4,
          "step": 10,
          "tag": "ADR",
          "trial": 1,
          "weak_function": "no_weak",
          "weak_train_method": "fine_tune",
          "weak_weight": 0.01
         },
         {
          "metric_name": "Span F1",
          "metric_val": 0.56,
          "step": 50,
          "tag": "ADR",
          "trial": 1,
          "weak_function": "no_weak",
          "weak_train_method": "fine_tune",
          "weak_weight": 0.01
         },
         {
          "metric_name": "Span F1",
          "metric_val": 0.6,
          "step": 100,
          "tag": "ADR",
          "trial": 1,
          "weak_function": "no_weak",
          "weak_train_method": "fine_tune",
          "weak_weight": 0.01
         },
         {
          "metric_name": "Token F1",
          "metric_val": 0.54,
          "step": 10,
          "tag": "ADR",
          "trial": 1,
          "weak_function": "no_weak",
          "weak_train_method": "weighted",
          "weak_weight": 0.01
         },
         {
          "metric_name": "Token F1",
          "metric_val": 0.73,
          "step": 50,
          "tag": "ADR",
          "trial": 1,
          "weak_function": "no_weak",
          "weak_train_method": "weighted",
          "weak_weight": 0.01
         },
         {
          "metric_name": "Token F1",
          "metric_val": 0.74,
          "step": 100,
          "tag": "ADR",
          "trial": 1,
          "weak_function": "no_weak",
          "weak_train_method": "weighted",
          "weak_weight": 0.01
         },
         {
          "metric_name": "Token Precision",
          "metric_val": 0.88,
          "step": 10,
          "tag": "ADR",
          "trial": 1,
          "weak_function": "no_weak",
          "weak_train_method": "weighted",
          "weak_weight": 0.01
         },
         {
          "metric_name": "Token Precision",
          "metric_val": 0.73,
          "step": 50,
          "tag": "ADR",
          "trial": 1,
          "weak_function": "no_weak",
          "weak_train_method": "weighted",
          "weak_weight": 0.01
         },
         {
          "metric_name": "Token Precision",
          "metric_val": 0.79,
          "step": 100,
          "tag": "ADR",
          "trial": 1,
          "weak_function": "no_weak",
          "weak_train_method": "weighted",
          "weak_weight": 0.01
         },
         {
          "metric_name": "Token Recall",
          "metric_val": 0.39,
          "step": 10,
          "tag": "ADR",
          "trial": 1,
          "weak_function": "no_weak",
          "weak_train_method": "weighted",
          "weak_weight": 0.01
         },
         {
          "metric_name": "Token Recall",
          "metric_val": 0.73,
          "step": 50,
          "tag": "ADR",
          "trial": 1,
          "weak_function": "no_weak",
          "weak_train_method": "weighted",
          "weak_weight": 0.01
         },
         {
          "metric_name": "Token Recall",
          "metric_val": 0.69,
          "step": 100,
          "tag": "ADR",
          "trial": 1,
          "weak_function": "no_weak",
          "weak_train_method": "weighted",
          "weak_weight": 0.01
         },
         {
          "metric_name": "Span F1",
          "metric_val": 0.4,
          "step": 10,
          "tag": "ADR",
          "trial": 1,
          "weak_function": "no_weak",
          "weak_train_method": "weighted",
          "weak_weight": 0.01
         },
         {
          "metric_name": "Span F1",
          "metric_val": 0.56,
          "step": 50,
          "tag": "ADR",
          "trial": 1,
          "weak_function": "no_weak",
          "weak_train_method": "weighted",
          "weak_weight": 0.01
         },
         {
          "metric_name": "Span F1",
          "metric_val": 0.6,
          "step": 100,
          "tag": "ADR",
          "trial": 1,
          "weak_function": "no_weak",
          "weak_train_method": "weighted",
          "weak_weight": 0.01
         },
         {
          "metric_name": "Token F1",
          "metric_val": 0.35,
          "step": 10,
          "tag": "ADR",
          "trial": 0,
          "weak_function": "no_weak",
          "weak_train_method": "fine_tune",
          "weak_weight": 0.01
         },
         {
          "metric_name": "Token F1",
          "metric_val": 0.72,
          "step": 50,
          "tag": "ADR",
          "trial": 0,
          "weak_function": "no_weak",
          "weak_train_method": "fine_tune",
          "weak_weight": 0.01
         },
         {
          "metric_name": "Token F1",
          "metric_val": 0.76,
          "step": 100,
          "tag": "ADR",
          "trial": 0,
          "weak_function": "no_weak",
          "weak_train_method": "fine_tune",
          "weak_weight": 0.01
         },
         {
          "metric_name": "Token Precision",
          "metric_val": 0.81,
          "step": 10,
          "tag": "ADR",
          "trial": 0,
          "weak_function": "no_weak",
          "weak_train_method": "fine_tune",
          "weak_weight": 0.01
         },
         {
          "metric_name": "Token Precision",
          "metric_val": 0.77,
          "step": 50,
          "tag": "ADR",
          "trial": 0,
          "weak_function": "no_weak",
          "weak_train_method": "fine_tune",
          "weak_weight": 0.01
         },
         {
          "metric_name": "Token Precision",
          "metric_val": 0.76,
          "step": 100,
          "tag": "ADR",
          "trial": 0,
          "weak_function": "no_weak",
          "weak_train_method": "fine_tune",
          "weak_weight": 0.01
         },
         {
          "metric_name": "Token Recall",
          "metric_val": 0.22,
          "step": 10,
          "tag": "ADR",
          "trial": 0,
          "weak_function": "no_weak",
          "weak_train_method": "fine_tune",
          "weak_weight": 0.01
         },
         {
          "metric_name": "Token Recall",
          "metric_val": 0.67,
          "step": 50,
          "tag": "ADR",
          "trial": 0,
          "weak_function": "no_weak",
          "weak_train_method": "fine_tune",
          "weak_weight": 0.01
         },
         {
          "metric_name": "Token Recall",
          "metric_val": 0.76,
          "step": 100,
          "tag": "ADR",
          "trial": 0,
          "weak_function": "no_weak",
          "weak_train_method": "fine_tune",
          "weak_weight": 0.01
         },
         {
          "metric_name": "Span F1",
          "metric_val": 0.18,
          "step": 10,
          "tag": "ADR",
          "trial": 0,
          "weak_function": "no_weak",
          "weak_train_method": "fine_tune",
          "weak_weight": 0.01
         },
         {
          "metric_name": "Span F1",
          "metric_val": 0.5,
          "step": 50,
          "tag": "ADR",
          "trial": 0,
          "weak_function": "no_weak",
          "weak_train_method": "fine_tune",
          "weak_weight": 0.01
         },
         {
          "metric_name": "Span F1",
          "metric_val": 0.59,
          "step": 100,
          "tag": "ADR",
          "trial": 0,
          "weak_function": "no_weak",
          "weak_train_method": "fine_tune",
          "weak_weight": 0.01
         },
         {
          "metric_name": "Token F1",
          "metric_val": 0.35,
          "step": 10,
          "tag": "ADR",
          "trial": 0,
          "weak_function": "no_weak",
          "weak_train_method": "weighted",
          "weak_weight": 0.01
         },
         {
          "metric_name": "Token F1",
          "metric_val": 0.72,
          "step": 50,
          "tag": "ADR",
          "trial": 0,
          "weak_function": "no_weak",
          "weak_train_method": "weighted",
          "weak_weight": 0.01
         },
         {
          "metric_name": "Token F1",
          "metric_val": 0.76,
          "step": 100,
          "tag": "ADR",
          "trial": 0,
          "weak_function": "no_weak",
          "weak_train_method": "weighted",
          "weak_weight": 0.01
         },
         {
          "metric_name": "Token Precision",
          "metric_val": 0.81,
          "step": 10,
          "tag": "ADR",
          "trial": 0,
          "weak_function": "no_weak",
          "weak_train_method": "weighted",
          "weak_weight": 0.01
         },
         {
          "metric_name": "Token Precision",
          "metric_val": 0.77,
          "step": 50,
          "tag": "ADR",
          "trial": 0,
          "weak_function": "no_weak",
          "weak_train_method": "weighted",
          "weak_weight": 0.01
         },
         {
          "metric_name": "Token Precision",
          "metric_val": 0.76,
          "step": 100,
          "tag": "ADR",
          "trial": 0,
          "weak_function": "no_weak",
          "weak_train_method": "weighted",
          "weak_weight": 0.01
         },
         {
          "metric_name": "Token Recall",
          "metric_val": 0.22,
          "step": 10,
          "tag": "ADR",
          "trial": 0,
          "weak_function": "no_weak",
          "weak_train_method": "weighted",
          "weak_weight": 0.01
         },
         {
          "metric_name": "Token Recall",
          "metric_val": 0.67,
          "step": 50,
          "tag": "ADR",
          "trial": 0,
          "weak_function": "no_weak",
          "weak_train_method": "weighted",
          "weak_weight": 0.01
         },
         {
          "metric_name": "Token Recall",
          "metric_val": 0.76,
          "step": 100,
          "tag": "ADR",
          "trial": 0,
          "weak_function": "no_weak",
          "weak_train_method": "weighted",
          "weak_weight": 0.01
         },
         {
          "metric_name": "Span F1",
          "metric_val": 0.18,
          "step": 10,
          "tag": "ADR",
          "trial": 0,
          "weak_function": "no_weak",
          "weak_train_method": "weighted",
          "weak_weight": 0.01
         },
         {
          "metric_name": "Span F1",
          "metric_val": 0.5,
          "step": 50,
          "tag": "ADR",
          "trial": 0,
          "weak_function": "no_weak",
          "weak_train_method": "weighted",
          "weak_weight": 0.01
         },
         {
          "metric_name": "Span F1",
          "metric_val": 0.59,
          "step": 100,
          "tag": "ADR",
          "trial": 0,
          "weak_function": "no_weak",
          "weak_train_method": "weighted",
          "weak_weight": 0.01
         }
        ]
       },
       "encoding": {
        "color": {
         "field": "weak_function",
         "type": "nominal"
        },
        "x": {
         "field": "step",
         "title": "Dataset Size",
         "type": "quantitative"
        },
        "y": {
         "aggregate": "mean",
         "field": "metric_val",
         "scale": {
          "zero": false
         },
         "title": "Token F1",
         "type": "quantitative"
        }
       },
       "mark": {
        "point": true,
        "type": "line"
       },
       "selection": {
        "selector004": {
         "bind": "scales",
         "encodings": [
          "x",
          "y"
         ],
         "mark": {
          "fill": "#333",
          "fillOpacity": 0.125,
          "stroke": "white"
         },
         "on": "[mousedown, window:mouseup] > window:mousemove!",
         "resolve": "global",
         "translate": "[mousedown, window:mouseup] > window:mousemove!",
         "type": "interval",
         "zoom": "wheel!"
        }
       },
       "title": "Token F1 vs Dataset Size",
       "transform": [
        {
         "filter": "(datum.metric_name === 'Token F1')"
        },
        {
         "filter": "(datum.weak_weight === 0.01)"
        },
        {
         "filter": "(datum.weak_train_method === 'fine_tune')"
        }
       ],
       "width": 1000
      },
      "image/png": "[encoded data removed]",
      "text/plain": [
       "<VegaLite 2 object>\n",
       "\n",
       "If you see this message, it means the renderer has not been properly enabled\n",
       "for the frontend that you are using. For more information, see\n",
       "https://altair-viz.github.io/user_guide/troubleshooting.html\n"
      ]
     },
     "execution_count": 153,
     "metadata": {},
     "output_type": "execute_result"
    }
   ],
   "source": [
    "WEAK_WEIGHT = 0.01\n",
    "WEAK_TRAIN_METHOD = 'fine_tune'\n",
    "\n",
    "def metric_graph(data_frame: pd.DataFrame, metric: str) -> alt.Chart:\n",
    "    def filter_graph(chart: alt.Chart) -> alt.Chart:\n",
    "        return chart.transform_filter(\n",
    "            alt.datum.metric_name == metric\n",
    "        ).transform_filter(\n",
    "            alt.datum.weak_weight == WEAK_WEIGHT\n",
    "        ).transform_filter(\n",
    "            alt.datum.weak_train_method == WEAK_TRAIN_METHOD,\n",
    "        )\n",
    "\n",
    "    base = alt.Chart(data_frame, title=f'{metric} vs Dataset Size')\n",
    "    line = filter_graph(base.mark_line(point=True).encode(\n",
    "        x=alt.X('step', title='Dataset Size'),\n",
    "        y=alt.Y('mean(metric_val)', title=metric, scale=alt.Scale(zero=False)),\n",
    "        color='weak_function:N',\n",
    "    ))\n",
    "    \n",
    "    confidence_interval = filter_graph(base.mark_area(interpolate='monotone', opacity=0.3).encode(\n",
    "        x=alt.X('step'),\n",
    "        y=alt.Y('ci0(metric_val):Q'),\n",
    "        y2='ci1(metric_val):Q',\n",
    "        color='weak_function:N',\n",
    "    ))\n",
    "\n",
    "    return (line).properties(width=1000).interactive()\n",
    "metric_graph(data_frame, 'Token F1')"
   ]
  },
  {
   "cell_type": "code",
   "execution_count": 107,
   "metadata": {},
   "outputs": [
    {
     "name": "stdout",
     "output_type": "stream",
     "text": [
      "no_weak: 0.29800000000000004\n",
      "keyword: 0.29800000000000004\n"
     ]
    }
   ],
   "source": [
    "temp = {'no_weak': [], 'keyword': []}\n",
    "metric = 'Span F1'\n",
    "step = 10\n",
    "for entry in data:\n",
    "    if entry['metric_name'] != metric:\n",
    "        continue\n",
    "    if entry['step'] != step:\n",
    "        continue\n",
    "    if entry['weak_train_method'] != 'weighted':\n",
    "        continue\n",
    "    if entry['weak_function'] == 'no_weak':\n",
    "        temp['no_weak'].append(entry['metric_val'])\n",
    "    if entry['weak_function'] == 'keyword':\n",
    "        temp['keyword'].append(entry['metric_val'])\n",
    "for key, val in temp.items():\n",
    "    print(f'{key}: {sum(val) / len(val)}')"
   ]
  },
  {
   "cell_type": "code",
   "execution_count": 108,
   "metadata": {},
   "outputs": [
    {
     "data": {
      "text/plain": [
       "{'no_weak': [0.5, 0.24, 0.28, 0.11, 0.36],\n",
       " 'keyword': [0.5, 0.24, 0.28, 0.11, 0.36]}"
      ]
     },
     "execution_count": 108,
     "metadata": {},
     "output_type": "execute_result"
    }
   ],
   "source": [
    "temp"
   ]
  },
  {
   "cell_type": "code",
   "execution_count": null,
   "metadata": {},
   "outputs": [],
   "source": []
  }
 ],
 "metadata": {
  "kernelspec": {
   "display_name": "Environment (conda_snorkel)",
   "language": "python",
   "name": "conda_snorkel"
  },
  "language_info": {
   "codemirror_mode": {
    "name": "ipython",
    "version": 3
   },
   "file_extension": ".py",
   "mimetype": "text/x-python",
   "name": "python",
   "nbconvert_exporter": "python",
   "pygments_lexer": "ipython3",
   "version": "3.6.7"
  }
 },
 "nbformat": 4,
 "nbformat_minor": 2
}
