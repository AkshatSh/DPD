{
 "cells": [
  {
   "cell_type": "code",
   "execution_count": 109,
   "metadata": {},
   "outputs": [],
   "source": [
    "from typing import (\n",
    "    List,\n",
    "    Tuple,\n",
    "    Dict,\n",
    "    Optional,\n",
    ")\n",
    "\n",
    "import os\n",
    "import sys\n",
    "import csv\n",
    "\n",
    "import altair as alt\n",
    "import pandas as pd\n",
    "\n",
    "EXPERIMENT_DIR = 'data/window_collation'"
   ]
  },
  {
   "cell_type": "code",
   "execution_count": 113,
   "metadata": {},
   "outputs": [],
   "source": [
    "METRICS = {\n",
    "    'al/valid/f1-measure-overall': 'Span F1',\n",
    "    'al/valid/precision-measure-overall': 'Span Precision',\n",
    "    'al/valid/recall-measure-overall': 'Span Recall',\n",
    "    'al/valid/tag_f1': 'Token F1',\n",
    "    'al/valid/tag_precision': 'Token Precision',\n",
    "    'al/valid/tag_recall': 'Token Recall',\n",
    "}\n",
    "\n",
    "DataDef = List[\n",
    "    Dict[str, object]\n",
    "]\n",
    "\n",
    "def parse_file(\n",
    "    file_name: str,\n",
    "    **kwargs,\n",
    ") -> DataDef:\n",
    "    output = []\n",
    "    with open(file_name, 'r') as csv_file:\n",
    "        csv_reader = csv.reader(csv_file, delimiter=',')\n",
    "        for row in csv_reader:\n",
    "            # tag, value, step\n",
    "            metric_name, metric_val, step = row\n",
    "            if metric_name not in METRICS:\n",
    "                continue\n",
    "            vals = {\n",
    "                'metric_name': METRICS[metric_name],\n",
    "                'metric_val': round(float(metric_val), 2),\n",
    "                'step': float(step),\n",
    "            }\n",
    "\n",
    "            vals.update(kwargs)\n",
    "            output.append(vals)\n",
    "    return output\n",
    "\n",
    "def load_baseline(root_dir: str = 'data/cached/no_weak', collation_type='no_weak') -> DataDef:\n",
    "    res = []\n",
    "    for trial_dir in os.listdir(root_dir):\n",
    "        if not trial_dir.startswith('trial_'):\n",
    "            print(f'skipping: {trial_dir}')\n",
    "            continue\n",
    "        trial_num = int(trial_dir[len('trial_'):])\n",
    "        summary_file = os.path.join(\n",
    "            root_dir,\n",
    "            trial_dir,\n",
    "            'summary.csv',\n",
    "        )\n",
    "\n",
    "        for method in ['fine_tune', 'weighted']:\n",
    "            parsed_data = parse_file(\n",
    "                file_name=summary_file,\n",
    "                experiment_tag='ADR',\n",
    "                weak_weight=0.01,\n",
    "                weak_train_method=method,\n",
    "                trial=trial_num,\n",
    "                collation_type=collation_type,\n",
    "            )\n",
    "\n",
    "            res.extend(parsed_data)\n",
    "            \n",
    "            parsed_data = parse_file(\n",
    "                file_name=summary_file,\n",
    "                experiment_tag='ADR',\n",
    "                weak_weight=0.1,\n",
    "                weak_train_method=method,\n",
    "                trial=trial_num,\n",
    "                collation_type=collation_type,\n",
    "            )\n",
    "\n",
    "            res.extend(parsed_data)\n",
    "            \n",
    "            parsed_data = parse_file(\n",
    "                file_name=summary_file,\n",
    "                experiment_tag='ADR',\n",
    "                weak_weight=1.0,\n",
    "                weak_train_method=method,\n",
    "                trial=trial_num,\n",
    "                collation_type=collation_type,\n",
    "            )\n",
    "\n",
    "            res.extend(parsed_data)\n",
    "    return res\n",
    "\n",
    "def get_experiment_data(root_dir: str) -> DataDef:\n",
    "    res = []\n",
    "    for weak_train in os.listdir(root_dir):\n",
    "        weak_train_dir = os.path.join(\n",
    "            root_dir,\n",
    "            weak_train,\n",
    "        )\n",
    "        for collation_type in os.listdir(weak_train_dir):\n",
    "            collation_dir = os.path.join(\n",
    "                weak_train_dir,\n",
    "                collation_type,\n",
    "            )\n",
    "            for weak_weight in os.listdir(collation_dir):\n",
    "                weak_weight = float(weak_weight)\n",
    "                weight_dir = os.path.join(\n",
    "                    collation_dir,\n",
    "                    f'{weak_weight}',\n",
    "                )\n",
    "\n",
    "                for trial_dir in os.listdir(weight_dir):\n",
    "                    if not trial_dir.startswith('trial_'):\n",
    "                        print(f'skipping: {trial_dir}')\n",
    "                        continue\n",
    "                    trial_num = int(trial_dir[len('trial_'):])\n",
    "                    summary_file = os.path.join(\n",
    "                        weight_dir,\n",
    "                        trial_dir,\n",
    "                        'summary.csv',\n",
    "                    )\n",
    "\n",
    "                    parsed_data = parse_file(\n",
    "                        file_name=summary_file,\n",
    "                        experiment_tag='ADR',\n",
    "                        weak_weight=weak_weight,\n",
    "                        weak_train_method=weak_train,\n",
    "                        trial=trial_num,\n",
    "                        collation_type=collation_type,\n",
    "                    )\n",
    "\n",
    "                    res.extend(parsed_data)\n",
    "    return res\n",
    "\n",
    "baseline = load_baseline()\n",
    "baseline.extend(load_baseline(root_dir='data/cached/fine_tune/0.01/linear', collation_type='linear'))\n",
    "data = get_experiment_data(EXPERIMENT_DIR)\n",
    "data.extend(baseline)\n",
    "data_frame = pd.DataFrame(data)"
   ]
  },
  {
   "cell_type": "code",
   "execution_count": 115,
   "metadata": {},
   "outputs": [
    {
     "data": {
      "application/vnd.vegalite.v2+json": {
       "$schema": "https://vega.github.io/schema/vega-lite/v2.6.0.json",
       "config": {
        "view": {
         "height": 300,
         "width": 400
        }
       },
       "datasets": {
        "data-04e4c91638b7851180660f9f7d6dd46a": [
         {
          "collation_type": "metal",
          "experiment_tag": "ADR",
          "metric_name": "Token F1",
          "metric_val": 0.69,
          "step": 10,
          "trial": 2,
          "weak_train_method": "fine_tune",
          "weak_weight": 0.01
         },
         {
          "collation_type": "metal",
          "experiment_tag": "ADR",
          "metric_name": "Token F1",
          "metric_val": 0.77,
          "step": 50,
          "trial": 2,
          "weak_train_method": "fine_tune",
          "weak_weight": 0.01
         },
         {
          "collation_type": "metal",
          "experiment_tag": "ADR",
          "metric_name": "Token F1",
          "metric_val": 0.72,
          "step": 100,
          "trial": 2,
          "weak_train_method": "fine_tune",
          "weak_weight": 0.01
         },
         {
          "collation_type": "metal",
          "experiment_tag": "ADR",
          "metric_name": "Token Precision",
          "metric_val": 0.79,
          "step": 10,
          "trial": 2,
          "weak_train_method": "fine_tune",
          "weak_weight": 0.01
         },
         {
          "collation_type": "metal",
          "experiment_tag": "ADR",
          "metric_name": "Token Precision",
          "metric_val": 0.72,
          "step": 50,
          "trial": 2,
          "weak_train_method": "fine_tune",
          "weak_weight": 0.01
         },
         {
          "collation_type": "metal",
          "experiment_tag": "ADR",
          "metric_name": "Token Precision",
          "metric_val": 0.74,
          "step": 100,
          "trial": 2,
          "weak_train_method": "fine_tune",
          "weak_weight": 0.01
         },
         {
          "collation_type": "metal",
          "experiment_tag": "ADR",
          "metric_name": "Token Recall",
          "metric_val": 0.61,
          "step": 10,
          "trial": 2,
          "weak_train_method": "fine_tune",
          "weak_weight": 0.01
         },
         {
          "collation_type": "metal",
          "experiment_tag": "ADR",
          "metric_name": "Token Recall",
          "metric_val": 0.82,
          "step": 50,
          "trial": 2,
          "weak_train_method": "fine_tune",
          "weak_weight": 0.01
         },
         {
          "collation_type": "metal",
          "experiment_tag": "ADR",
          "metric_name": "Token Recall",
          "metric_val": 0.7,
          "step": 100,
          "trial": 2,
          "weak_train_method": "fine_tune",
          "weak_weight": 0.01
         },
         {
          "collation_type": "metal",
          "experiment_tag": "ADR",
          "metric_name": "Span F1",
          "metric_val": 0.55,
          "step": 10,
          "trial": 2,
          "weak_train_method": "fine_tune",
          "weak_weight": 0.01
         },
         {
          "collation_type": "metal",
          "experiment_tag": "ADR",
          "metric_name": "Span F1",
          "metric_val": 0.6,
          "step": 50,
          "trial": 2,
          "weak_train_method": "fine_tune",
          "weak_weight": 0.01
         },
         {
          "collation_type": "metal",
          "experiment_tag": "ADR",
          "metric_name": "Span F1",
          "metric_val": 0.59,
          "step": 100,
          "trial": 2,
          "weak_train_method": "fine_tune",
          "weak_weight": 0.01
         },
         {
          "collation_type": "metal",
          "experiment_tag": "ADR",
          "metric_name": "Token F1",
          "metric_val": 0.69,
          "step": 10,
          "trial": 3,
          "weak_train_method": "fine_tune",
          "weak_weight": 0.01
         },
         {
          "collation_type": "metal",
          "experiment_tag": "ADR",
          "metric_name": "Token F1",
          "metric_val": 0.7,
          "step": 50,
          "trial": 3,
          "weak_train_method": "fine_tune",
          "weak_weight": 0.01
         },
         {
          "collation_type": "metal",
          "experiment_tag": "ADR",
          "metric_name": "Token F1",
          "metric_val": 0.7,
          "step": 100,
          "trial": 3,
          "weak_train_method": "fine_tune",
          "weak_weight": 0.01
         },
         {
          "collation_type": "metal",
          "experiment_tag": "ADR",
          "metric_name": "Token Precision",
          "metric_val": 0.78,
          "step": 10,
          "trial": 3,
          "weak_train_method": "fine_tune",
          "weak_weight": 0.01
         },
         {
          "collation_type": "metal",
          "experiment_tag": "ADR",
          "metric_name": "Token Precision",
          "metric_val": 0.86,
          "step": 50,
          "trial": 3,
          "weak_train_method": "fine_tune",
          "weak_weight": 0.01
         },
         {
          "collation_type": "metal",
          "experiment_tag": "ADR",
          "metric_name": "Token Precision",
          "metric_val": 0.77,
          "step": 100,
          "trial": 3,
          "weak_train_method": "fine_tune",
          "weak_weight": 0.01
         },
         {
          "collation_type": "metal",
          "experiment_tag": "ADR",
          "metric_name": "Token Recall",
          "metric_val": 0.62,
          "step": 10,
          "trial": 3,
          "weak_train_method": "fine_tune",
          "weak_weight": 0.01
         },
         {
          "collation_type": "metal",
          "experiment_tag": "ADR",
          "metric_name": "Token Recall",
          "metric_val": 0.59,
          "step": 50,
          "trial": 3,
          "weak_train_method": "fine_tune",
          "weak_weight": 0.01
         },
         {
          "collation_type": "metal",
          "experiment_tag": "ADR",
          "metric_name": "Token Recall",
          "metric_val": 0.64,
          "step": 100,
          "trial": 3,
          "weak_train_method": "fine_tune",
          "weak_weight": 0.01
         },
         {
          "collation_type": "metal",
          "experiment_tag": "ADR",
          "metric_name": "Span F1",
          "metric_val": 0.55,
          "step": 10,
          "trial": 3,
          "weak_train_method": "fine_tune",
          "weak_weight": 0.01
         },
         {
          "collation_type": "metal",
          "experiment_tag": "ADR",
          "metric_name": "Span F1",
          "metric_val": 0.6,
          "step": 50,
          "trial": 3,
          "weak_train_method": "fine_tune",
          "weak_weight": 0.01
         },
         {
          "collation_type": "metal",
          "experiment_tag": "ADR",
          "metric_name": "Span F1",
          "metric_val": 0.57,
          "step": 100,
          "trial": 3,
          "weak_train_method": "fine_tune",
          "weak_weight": 0.01
         },
         {
          "collation_type": "metal",
          "experiment_tag": "ADR",
          "metric_name": "Token F1",
          "metric_val": 0.69,
          "step": 10,
          "trial": 4,
          "weak_train_method": "fine_tune",
          "weak_weight": 0.01
         },
         {
          "collation_type": "metal",
          "experiment_tag": "ADR",
          "metric_name": "Token F1",
          "metric_val": 0.69,
          "step": 50,
          "trial": 4,
          "weak_train_method": "fine_tune",
          "weak_weight": 0.01
         },
         {
          "collation_type": "metal",
          "experiment_tag": "ADR",
          "metric_name": "Token F1",
          "metric_val": 0.72,
          "step": 100,
          "trial": 4,
          "weak_train_method": "fine_tune",
          "weak_weight": 0.01
         },
         {
          "collation_type": "metal",
          "experiment_tag": "ADR",
          "metric_name": "Token Precision",
          "metric_val": 0.78,
          "step": 10,
          "trial": 4,
          "weak_train_method": "fine_tune",
          "weak_weight": 0.01
         },
         {
          "collation_type": "metal",
          "experiment_tag": "ADR",
          "metric_name": "Token Precision",
          "metric_val": 0.86,
          "step": 50,
          "trial": 4,
          "weak_train_method": "fine_tune",
          "weak_weight": 0.01
         },
         {
          "collation_type": "metal",
          "experiment_tag": "ADR",
          "metric_name": "Token Precision",
          "metric_val": 0.81,
          "step": 100,
          "trial": 4,
          "weak_train_method": "fine_tune",
          "weak_weight": 0.01
         },
         {
          "collation_type": "metal",
          "experiment_tag": "ADR",
          "metric_name": "Token Recall",
          "metric_val": 0.62,
          "step": 10,
          "trial": 4,
          "weak_train_method": "fine_tune",
          "weak_weight": 0.01
         },
         {
          "collation_type": "metal",
          "experiment_tag": "ADR",
          "metric_name": "Token Recall",
          "metric_val": 0.58,
          "step": 50,
          "trial": 4,
          "weak_train_method": "fine_tune",
          "weak_weight": 0.01
         },
         {
          "collation_type": "metal",
          "experiment_tag": "ADR",
          "metric_name": "Token Recall",
          "metric_val": 0.65,
          "step": 100,
          "trial": 4,
          "weak_train_method": "fine_tune",
          "weak_weight": 0.01
         },
         {
          "collation_type": "metal",
          "experiment_tag": "ADR",
          "metric_name": "Span F1",
          "metric_val": 0.54,
          "step": 10,
          "trial": 4,
          "weak_train_method": "fine_tune",
          "weak_weight": 0.01
         },
         {
          "collation_type": "metal",
          "experiment_tag": "ADR",
          "metric_name": "Span F1",
          "metric_val": 0.59,
          "step": 50,
          "trial": 4,
          "weak_train_method": "fine_tune",
          "weak_weight": 0.01
         },
         {
          "collation_type": "metal",
          "experiment_tag": "ADR",
          "metric_name": "Span F1",
          "metric_val": 0.57,
          "step": 100,
          "trial": 4,
          "weak_train_method": "fine_tune",
          "weak_weight": 0.01
         },
         {
          "collation_type": "metal",
          "experiment_tag": "ADR",
          "metric_name": "Token F1",
          "metric_val": 0.69,
          "step": 10,
          "trial": 1,
          "weak_train_method": "fine_tune",
          "weak_weight": 0.01
         },
         {
          "collation_type": "metal",
          "experiment_tag": "ADR",
          "metric_name": "Token F1",
          "metric_val": 0.76,
          "step": 50,
          "trial": 1,
          "weak_train_method": "fine_tune",
          "weak_weight": 0.01
         },
         {
          "collation_type": "metal",
          "experiment_tag": "ADR",
          "metric_name": "Token F1",
          "metric_val": 0.72,
          "step": 100,
          "trial": 1,
          "weak_train_method": "fine_tune",
          "weak_weight": 0.01
         },
         {
          "collation_type": "metal",
          "experiment_tag": "ADR",
          "metric_name": "Token Precision",
          "metric_val": 0.79,
          "step": 10,
          "trial": 1,
          "weak_train_method": "fine_tune",
          "weak_weight": 0.01
         },
         {
          "collation_type": "metal",
          "experiment_tag": "ADR",
          "metric_name": "Token Precision",
          "metric_val": 0.72,
          "step": 50,
          "trial": 1,
          "weak_train_method": "fine_tune",
          "weak_weight": 0.01
         },
         {
          "collation_type": "metal",
          "experiment_tag": "ADR",
          "metric_name": "Token Precision",
          "metric_val": 0.81,
          "step": 100,
          "trial": 1,
          "weak_train_method": "fine_tune",
          "weak_weight": 0.01
         },
         {
          "collation_type": "metal",
          "experiment_tag": "ADR",
          "metric_name": "Token Recall",
          "metric_val": 0.61,
          "step": 10,
          "trial": 1,
          "weak_train_method": "fine_tune",
          "weak_weight": 0.01
         },
         {
          "collation_type": "metal",
          "experiment_tag": "ADR",
          "metric_name": "Token Recall",
          "metric_val": 0.81,
          "step": 50,
          "trial": 1,
          "weak_train_method": "fine_tune",
          "weak_weight": 0.01
         },
         {
          "collation_type": "metal",
          "experiment_tag": "ADR",
          "metric_name": "Token Recall",
          "metric_val": 0.65,
          "step": 100,
          "trial": 1,
          "weak_train_method": "fine_tune",
          "weak_weight": 0.01
         },
         {
          "collation_type": "metal",
          "experiment_tag": "ADR",
          "metric_name": "Span F1",
          "metric_val": 0.53,
          "step": 10,
          "trial": 1,
          "weak_train_method": "fine_tune",
          "weak_weight": 0.01
         },
         {
          "collation_type": "metal",
          "experiment_tag": "ADR",
          "metric_name": "Span F1",
          "metric_val": 0.61,
          "step": 50,
          "trial": 1,
          "weak_train_method": "fine_tune",
          "weak_weight": 0.01
         },
         {
          "collation_type": "metal",
          "experiment_tag": "ADR",
          "metric_name": "Span F1",
          "metric_val": 0.59,
          "step": 100,
          "trial": 1,
          "weak_train_method": "fine_tune",
          "weak_weight": 0.01
         },
         {
          "collation_type": "metal",
          "experiment_tag": "ADR",
          "metric_name": "Token F1",
          "metric_val": 0.7,
          "step": 10,
          "trial": 0,
          "weak_train_method": "fine_tune",
          "weak_weight": 0.01
         },
         {
          "collation_type": "metal",
          "experiment_tag": "ADR",
          "metric_name": "Token F1",
          "metric_val": 0.7,
          "step": 50,
          "trial": 0,
          "weak_train_method": "fine_tune",
          "weak_weight": 0.01
         },
         {
          "collation_type": "metal",
          "experiment_tag": "ADR",
          "metric_name": "Token F1",
          "metric_val": 0.74,
          "step": 100,
          "trial": 0,
          "weak_train_method": "fine_tune",
          "weak_weight": 0.01
         },
         {
          "collation_type": "metal",
          "experiment_tag": "ADR",
          "metric_name": "Token Precision",
          "metric_val": 0.78,
          "step": 10,
          "trial": 0,
          "weak_train_method": "fine_tune",
          "weak_weight": 0.01
         },
         {
          "collation_type": "metal",
          "experiment_tag": "ADR",
          "metric_name": "Token Precision",
          "metric_val": 0.87,
          "step": 50,
          "trial": 0,
          "weak_train_method": "fine_tune",
          "weak_weight": 0.01
         },
         {
          "collation_type": "metal",
          "experiment_tag": "ADR",
          "metric_name": "Token Precision",
          "metric_val": 0.75,
          "step": 100,
          "trial": 0,
          "weak_train_method": "fine_tune",
          "weak_weight": 0.01
         },
         {
          "collation_type": "metal",
          "experiment_tag": "ADR",
          "metric_name": "Token Recall",
          "metric_val": 0.63,
          "step": 10,
          "trial": 0,
          "weak_train_method": "fine_tune",
          "weak_weight": 0.01
         },
         {
          "collation_type": "metal",
          "experiment_tag": "ADR",
          "metric_name": "Token Recall",
          "metric_val": 0.58,
          "step": 50,
          "trial": 0,
          "weak_train_method": "fine_tune",
          "weak_weight": 0.01
         },
         {
          "collation_type": "metal",
          "experiment_tag": "ADR",
          "metric_name": "Token Recall",
          "metric_val": 0.73,
          "step": 100,
          "trial": 0,
          "weak_train_method": "fine_tune",
          "weak_weight": 0.01
         },
         {
          "collation_type": "metal",
          "experiment_tag": "ADR",
          "metric_name": "Span F1",
          "metric_val": 0.56,
          "step": 10,
          "trial": 0,
          "weak_train_method": "fine_tune",
          "weak_weight": 0.01
         },
         {
          "collation_type": "metal",
          "experiment_tag": "ADR",
          "metric_name": "Span F1",
          "metric_val": 0.59,
          "step": 50,
          "trial": 0,
          "weak_train_method": "fine_tune",
          "weak_weight": 0.01
         },
         {
          "collation_type": "metal",
          "experiment_tag": "ADR",
          "metric_name": "Span F1",
          "metric_val": 0.6,
          "step": 100,
          "trial": 0,
          "weak_train_method": "fine_tune",
          "weak_weight": 0.01
         },
         {
          "collation_type": "metal",
          "experiment_tag": "ADR",
          "metric_name": "Token F1",
          "metric_val": 0.68,
          "step": 10,
          "trial": 2,
          "weak_train_method": "fine_tune",
          "weak_weight": 1
         },
         {
          "collation_type": "metal",
          "experiment_tag": "ADR",
          "metric_name": "Token F1",
          "metric_val": 0.74,
          "step": 50,
          "trial": 2,
          "weak_train_method": "fine_tune",
          "weak_weight": 1
         },
         {
          "collation_type": "metal",
          "experiment_tag": "ADR",
          "metric_name": "Token F1",
          "metric_val": 0.76,
          "step": 100,
          "trial": 2,
          "weak_train_method": "fine_tune",
          "weak_weight": 1
         },
         {
          "collation_type": "metal",
          "experiment_tag": "ADR",
          "metric_name": "Token Precision",
          "metric_val": 0.76,
          "step": 10,
          "trial": 2,
          "weak_train_method": "fine_tune",
          "weak_weight": 1
         },
         {
          "collation_type": "metal",
          "experiment_tag": "ADR",
          "metric_name": "Token Precision",
          "metric_val": 0.8,
          "step": 50,
          "trial": 2,
          "weak_train_method": "fine_tune",
          "weak_weight": 1
         },
         {
          "collation_type": "metal",
          "experiment_tag": "ADR",
          "metric_name": "Token Precision",
          "metric_val": 0.76,
          "step": 100,
          "trial": 2,
          "weak_train_method": "fine_tune",
          "weak_weight": 1
         },
         {
          "collation_type": "metal",
          "experiment_tag": "ADR",
          "metric_name": "Token Recall",
          "metric_val": 0.61,
          "step": 10,
          "trial": 2,
          "weak_train_method": "fine_tune",
          "weak_weight": 1
         },
         {
          "collation_type": "metal",
          "experiment_tag": "ADR",
          "metric_name": "Token Recall",
          "metric_val": 0.7,
          "step": 50,
          "trial": 2,
          "weak_train_method": "fine_tune",
          "weak_weight": 1
         },
         {
          "collation_type": "metal",
          "experiment_tag": "ADR",
          "metric_name": "Token Recall",
          "metric_val": 0.77,
          "step": 100,
          "trial": 2,
          "weak_train_method": "fine_tune",
          "weak_weight": 1
         },
         {
          "collation_type": "metal",
          "experiment_tag": "ADR",
          "metric_name": "Span F1",
          "metric_val": 0.52,
          "step": 10,
          "trial": 2,
          "weak_train_method": "fine_tune",
          "weak_weight": 1
         },
         {
          "collation_type": "metal",
          "experiment_tag": "ADR",
          "metric_name": "Span F1",
          "metric_val": 0.57,
          "step": 50,
          "trial": 2,
          "weak_train_method": "fine_tune",
          "weak_weight": 1
         },
         {
          "collation_type": "metal",
          "experiment_tag": "ADR",
          "metric_name": "Span F1",
          "metric_val": 0.58,
          "step": 100,
          "trial": 2,
          "weak_train_method": "fine_tune",
          "weak_weight": 1
         },
         {
          "collation_type": "metal",
          "experiment_tag": "ADR",
          "metric_name": "Token F1",
          "metric_val": 0.67,
          "step": 10,
          "trial": 3,
          "weak_train_method": "fine_tune",
          "weak_weight": 1
         },
         {
          "collation_type": "metal",
          "experiment_tag": "ADR",
          "metric_name": "Token F1",
          "metric_val": 0.74,
          "step": 50,
          "trial": 3,
          "weak_train_method": "fine_tune",
          "weak_weight": 1
         },
         {
          "collation_type": "metal",
          "experiment_tag": "ADR",
          "metric_name": "Token F1",
          "metric_val": 0.76,
          "step": 100,
          "trial": 3,
          "weak_train_method": "fine_tune",
          "weak_weight": 1
         },
         {
          "collation_type": "metal",
          "experiment_tag": "ADR",
          "metric_name": "Token Precision",
          "metric_val": 0.78,
          "step": 10,
          "trial": 3,
          "weak_train_method": "fine_tune",
          "weak_weight": 1
         },
         {
          "collation_type": "metal",
          "experiment_tag": "ADR",
          "metric_name": "Token Precision",
          "metric_val": 0.79,
          "step": 50,
          "trial": 3,
          "weak_train_method": "fine_tune",
          "weak_weight": 1
         },
         {
          "collation_type": "metal",
          "experiment_tag": "ADR",
          "metric_name": "Token Precision",
          "metric_val": 0.78,
          "step": 100,
          "trial": 3,
          "weak_train_method": "fine_tune",
          "weak_weight": 1
         },
         {
          "collation_type": "metal",
          "experiment_tag": "ADR",
          "metric_name": "Token Recall",
          "metric_val": 0.58,
          "step": 10,
          "trial": 3,
          "weak_train_method": "fine_tune",
          "weak_weight": 1
         },
         {
          "collation_type": "metal",
          "experiment_tag": "ADR",
          "metric_name": "Token Recall",
          "metric_val": 0.69,
          "step": 50,
          "trial": 3,
          "weak_train_method": "fine_tune",
          "weak_weight": 1
         },
         {
          "collation_type": "metal",
          "experiment_tag": "ADR",
          "metric_name": "Token Recall",
          "metric_val": 0.75,
          "step": 100,
          "trial": 3,
          "weak_train_method": "fine_tune",
          "weak_weight": 1
         },
         {
          "collation_type": "metal",
          "experiment_tag": "ADR",
          "metric_name": "Span F1",
          "metric_val": 0.51,
          "step": 10,
          "trial": 3,
          "weak_train_method": "fine_tune",
          "weak_weight": 1
         },
         {
          "collation_type": "metal",
          "experiment_tag": "ADR",
          "metric_name": "Span F1",
          "metric_val": 0.57,
          "step": 50,
          "trial": 3,
          "weak_train_method": "fine_tune",
          "weak_weight": 1
         },
         {
          "collation_type": "metal",
          "experiment_tag": "ADR",
          "metric_name": "Span F1",
          "metric_val": 0.6,
          "step": 100,
          "trial": 3,
          "weak_train_method": "fine_tune",
          "weak_weight": 1
         },
         {
          "collation_type": "metal",
          "experiment_tag": "ADR",
          "metric_name": "Token F1",
          "metric_val": 0.66,
          "step": 10,
          "trial": 4,
          "weak_train_method": "fine_tune",
          "weak_weight": 1
         },
         {
          "collation_type": "metal",
          "experiment_tag": "ADR",
          "metric_name": "Token F1",
          "metric_val": 0.74,
          "step": 50,
          "trial": 4,
          "weak_train_method": "fine_tune",
          "weak_weight": 1
         },
         {
          "collation_type": "metal",
          "experiment_tag": "ADR",
          "metric_name": "Token F1",
          "metric_val": 0.77,
          "step": 100,
          "trial": 4,
          "weak_train_method": "fine_tune",
          "weak_weight": 1
         },
         {
          "collation_type": "metal",
          "experiment_tag": "ADR",
          "metric_name": "Token Precision",
          "metric_val": 0.77,
          "step": 10,
          "trial": 4,
          "weak_train_method": "fine_tune",
          "weak_weight": 1
         },
         {
          "collation_type": "metal",
          "experiment_tag": "ADR",
          "metric_name": "Token Precision",
          "metric_val": 0.78,
          "step": 50,
          "trial": 4,
          "weak_train_method": "fine_tune",
          "weak_weight": 1
         },
         {
          "collation_type": "metal",
          "experiment_tag": "ADR",
          "metric_name": "Token Precision",
          "metric_val": 0.75,
          "step": 100,
          "trial": 4,
          "weak_train_method": "fine_tune",
          "weak_weight": 1
         },
         {
          "collation_type": "metal",
          "experiment_tag": "ADR",
          "metric_name": "Token Recall",
          "metric_val": 0.58,
          "step": 10,
          "trial": 4,
          "weak_train_method": "fine_tune",
          "weak_weight": 1
         },
         {
          "collation_type": "metal",
          "experiment_tag": "ADR",
          "metric_name": "Token Recall",
          "metric_val": 0.71,
          "step": 50,
          "trial": 4,
          "weak_train_method": "fine_tune",
          "weak_weight": 1
         },
         {
          "collation_type": "metal",
          "experiment_tag": "ADR",
          "metric_name": "Token Recall",
          "metric_val": 0.79,
          "step": 100,
          "trial": 4,
          "weak_train_method": "fine_tune",
          "weak_weight": 1
         },
         {
          "collation_type": "metal",
          "experiment_tag": "ADR",
          "metric_name": "Span F1",
          "metric_val": 0.5,
          "step": 10,
          "trial": 4,
          "weak_train_method": "fine_tune",
          "weak_weight": 1
         },
         {
          "collation_type": "metal",
          "experiment_tag": "ADR",
          "metric_name": "Span F1",
          "metric_val": 0.55,
          "step": 50,
          "trial": 4,
          "weak_train_method": "fine_tune",
          "weak_weight": 1
         },
         {
          "collation_type": "metal",
          "experiment_tag": "ADR",
          "metric_name": "Span F1",
          "metric_val": 0.59,
          "step": 100,
          "trial": 4,
          "weak_train_method": "fine_tune",
          "weak_weight": 1
         },
         {
          "collation_type": "metal",
          "experiment_tag": "ADR",
          "metric_name": "Token F1",
          "metric_val": 0.67,
          "step": 10,
          "trial": 1,
          "weak_train_method": "fine_tune",
          "weak_weight": 1
         },
         {
          "collation_type": "metal",
          "experiment_tag": "ADR",
          "metric_name": "Token F1",
          "metric_val": 0.74,
          "step": 50,
          "trial": 1,
          "weak_train_method": "fine_tune",
          "weak_weight": 1
         },
         {
          "collation_type": "metal",
          "experiment_tag": "ADR",
          "metric_name": "Token F1",
          "metric_val": 0.76,
          "step": 100,
          "trial": 1,
          "weak_train_method": "fine_tune",
          "weak_weight": 1
         },
         {
          "collation_type": "metal",
          "experiment_tag": "ADR",
          "metric_name": "Token Precision",
          "metric_val": 0.76,
          "step": 10,
          "trial": 1,
          "weak_train_method": "fine_tune",
          "weak_weight": 1
         },
         {
          "collation_type": "metal",
          "experiment_tag": "ADR",
          "metric_name": "Token Precision",
          "metric_val": 0.76,
          "step": 50,
          "trial": 1,
          "weak_train_method": "fine_tune",
          "weak_weight": 1
         },
         {
          "collation_type": "metal",
          "experiment_tag": "ADR",
          "metric_name": "Token Precision",
          "metric_val": 0.79,
          "step": 100,
          "trial": 1,
          "weak_train_method": "fine_tune",
          "weak_weight": 1
         },
         {
          "collation_type": "metal",
          "experiment_tag": "ADR",
          "metric_name": "Token Recall",
          "metric_val": 0.59,
          "step": 10,
          "trial": 1,
          "weak_train_method": "fine_tune",
          "weak_weight": 1
         },
         {
          "collation_type": "metal",
          "experiment_tag": "ADR",
          "metric_name": "Token Recall",
          "metric_val": 0.73,
          "step": 50,
          "trial": 1,
          "weak_train_method": "fine_tune",
          "weak_weight": 1
         },
         {
          "collation_type": "metal",
          "experiment_tag": "ADR",
          "metric_name": "Token Recall",
          "metric_val": 0.72,
          "step": 100,
          "trial": 1,
          "weak_train_method": "fine_tune",
          "weak_weight": 1
         },
         {
          "collation_type": "metal",
          "experiment_tag": "ADR",
          "metric_name": "Span F1",
          "metric_val": 0.5,
          "step": 10,
          "trial": 1,
          "weak_train_method": "fine_tune",
          "weak_weight": 1
         },
         {
          "collation_type": "metal",
          "experiment_tag": "ADR",
          "metric_name": "Span F1",
          "metric_val": 0.56,
          "step": 50,
          "trial": 1,
          "weak_train_method": "fine_tune",
          "weak_weight": 1
         },
         {
          "collation_type": "metal",
          "experiment_tag": "ADR",
          "metric_name": "Span F1",
          "metric_val": 0.57,
          "step": 100,
          "trial": 1,
          "weak_train_method": "fine_tune",
          "weak_weight": 1
         },
         {
          "collation_type": "metal",
          "experiment_tag": "ADR",
          "metric_name": "Token F1",
          "metric_val": 0.68,
          "step": 10,
          "trial": 0,
          "weak_train_method": "fine_tune",
          "weak_weight": 1
         },
         {
          "collation_type": "metal",
          "experiment_tag": "ADR",
          "metric_name": "Token F1",
          "metric_val": 0.75,
          "step": 50,
          "trial": 0,
          "weak_train_method": "fine_tune",
          "weak_weight": 1
         },
         {
          "collation_type": "metal",
          "experiment_tag": "ADR",
          "metric_name": "Token F1",
          "metric_val": 0.76,
          "step": 100,
          "trial": 0,
          "weak_train_method": "fine_tune",
          "weak_weight": 1
         },
         {
          "collation_type": "metal",
          "experiment_tag": "ADR",
          "metric_name": "Token Precision",
          "metric_val": 0.76,
          "step": 10,
          "trial": 0,
          "weak_train_method": "fine_tune",
          "weak_weight": 1
         },
         {
          "collation_type": "metal",
          "experiment_tag": "ADR",
          "metric_name": "Token Precision",
          "metric_val": 0.77,
          "step": 50,
          "trial": 0,
          "weak_train_method": "fine_tune",
          "weak_weight": 1
         },
         {
          "collation_type": "metal",
          "experiment_tag": "ADR",
          "metric_name": "Token Precision",
          "metric_val": 0.77,
          "step": 100,
          "trial": 0,
          "weak_train_method": "fine_tune",
          "weak_weight": 1
         },
         {
          "collation_type": "metal",
          "experiment_tag": "ADR",
          "metric_name": "Token Recall",
          "metric_val": 0.62,
          "step": 10,
          "trial": 0,
          "weak_train_method": "fine_tune",
          "weak_weight": 1
         },
         {
          "collation_type": "metal",
          "experiment_tag": "ADR",
          "metric_name": "Token Recall",
          "metric_val": 0.73,
          "step": 50,
          "trial": 0,
          "weak_train_method": "fine_tune",
          "weak_weight": 1
         },
         {
          "collation_type": "metal",
          "experiment_tag": "ADR",
          "metric_name": "Token Recall",
          "metric_val": 0.76,
          "step": 100,
          "trial": 0,
          "weak_train_method": "fine_tune",
          "weak_weight": 1
         },
         {
          "collation_type": "metal",
          "experiment_tag": "ADR",
          "metric_name": "Span F1",
          "metric_val": 0.52,
          "step": 10,
          "trial": 0,
          "weak_train_method": "fine_tune",
          "weak_weight": 1
         },
         {
          "collation_type": "metal",
          "experiment_tag": "ADR",
          "metric_name": "Span F1",
          "metric_val": 0.56,
          "step": 50,
          "trial": 0,
          "weak_train_method": "fine_tune",
          "weak_weight": 1
         },
         {
          "collation_type": "metal",
          "experiment_tag": "ADR",
          "metric_name": "Span F1",
          "metric_val": 0.57,
          "step": 100,
          "trial": 0,
          "weak_train_method": "fine_tune",
          "weak_weight": 1
         },
         {
          "collation_type": "metal",
          "experiment_tag": "ADR",
          "metric_name": "Token F1",
          "metric_val": 0.68,
          "step": 10,
          "trial": 2,
          "weak_train_method": "fine_tune",
          "weak_weight": 0.1
         },
         {
          "collation_type": "metal",
          "experiment_tag": "ADR",
          "metric_name": "Token F1",
          "metric_val": 0.71,
          "step": 50,
          "trial": 2,
          "weak_train_method": "fine_tune",
          "weak_weight": 0.1
         },
         {
          "collation_type": "metal",
          "experiment_tag": "ADR",
          "metric_name": "Token F1",
          "metric_val": 0.73,
          "step": 100,
          "trial": 2,
          "weak_train_method": "fine_tune",
          "weak_weight": 0.1
         },
         {
          "collation_type": "metal",
          "experiment_tag": "ADR",
          "metric_name": "Token Precision",
          "metric_val": 0.78,
          "step": 10,
          "trial": 2,
          "weak_train_method": "fine_tune",
          "weak_weight": 0.1
         },
         {
          "collation_type": "metal",
          "experiment_tag": "ADR",
          "metric_name": "Token Precision",
          "metric_val": 0.85,
          "step": 50,
          "trial": 2,
          "weak_train_method": "fine_tune",
          "weak_weight": 0.1
         },
         {
          "collation_type": "metal",
          "experiment_tag": "ADR",
          "metric_name": "Token Precision",
          "metric_val": 0.79,
          "step": 100,
          "trial": 2,
          "weak_train_method": "fine_tune",
          "weak_weight": 0.1
         },
         {
          "collation_type": "metal",
          "experiment_tag": "ADR",
          "metric_name": "Token Recall",
          "metric_val": 0.61,
          "step": 10,
          "trial": 2,
          "weak_train_method": "fine_tune",
          "weak_weight": 0.1
         },
         {
          "collation_type": "metal",
          "experiment_tag": "ADR",
          "metric_name": "Token Recall",
          "metric_val": 0.61,
          "step": 50,
          "trial": 2,
          "weak_train_method": "fine_tune",
          "weak_weight": 0.1
         },
         {
          "collation_type": "metal",
          "experiment_tag": "ADR",
          "metric_name": "Token Recall",
          "metric_val": 0.68,
          "step": 100,
          "trial": 2,
          "weak_train_method": "fine_tune",
          "weak_weight": 0.1
         },
         {
          "collation_type": "metal",
          "experiment_tag": "ADR",
          "metric_name": "Span F1",
          "metric_val": 0.54,
          "step": 10,
          "trial": 2,
          "weak_train_method": "fine_tune",
          "weak_weight": 0.1
         },
         {
          "collation_type": "metal",
          "experiment_tag": "ADR",
          "metric_name": "Span F1",
          "metric_val": 0.6,
          "step": 50,
          "trial": 2,
          "weak_train_method": "fine_tune",
          "weak_weight": 0.1
         },
         {
          "collation_type": "metal",
          "experiment_tag": "ADR",
          "metric_name": "Span F1",
          "metric_val": 0.6,
          "step": 100,
          "trial": 2,
          "weak_train_method": "fine_tune",
          "weak_weight": 0.1
         },
         {
          "collation_type": "metal",
          "experiment_tag": "ADR",
          "metric_name": "Token F1",
          "metric_val": 0.68,
          "step": 10,
          "trial": 3,
          "weak_train_method": "fine_tune",
          "weak_weight": 0.1
         },
         {
          "collation_type": "metal",
          "experiment_tag": "ADR",
          "metric_name": "Token F1",
          "metric_val": 0.66,
          "step": 50,
          "trial": 3,
          "weak_train_method": "fine_tune",
          "weak_weight": 0.1
         },
         {
          "collation_type": "metal",
          "experiment_tag": "ADR",
          "metric_name": "Token F1",
          "metric_val": 0.73,
          "step": 100,
          "trial": 3,
          "weak_train_method": "fine_tune",
          "weak_weight": 0.1
         },
         {
          "collation_type": "metal",
          "experiment_tag": "ADR",
          "metric_name": "Token Precision",
          "metric_val": 0.78,
          "step": 10,
          "trial": 3,
          "weak_train_method": "fine_tune",
          "weak_weight": 0.1
         },
         {
          "collation_type": "metal",
          "experiment_tag": "ADR",
          "metric_name": "Token Precision",
          "metric_val": 0.72,
          "step": 50,
          "trial": 3,
          "weak_train_method": "fine_tune",
          "weak_weight": 0.1
         },
         {
          "collation_type": "metal",
          "experiment_tag": "ADR",
          "metric_name": "Token Precision",
          "metric_val": 0.64,
          "step": 100,
          "trial": 3,
          "weak_train_method": "fine_tune",
          "weak_weight": 0.1
         },
         {
          "collation_type": "metal",
          "experiment_tag": "ADR",
          "metric_name": "Token Recall",
          "metric_val": 0.6,
          "step": 10,
          "trial": 3,
          "weak_train_method": "fine_tune",
          "weak_weight": 0.1
         },
         {
          "collation_type": "metal",
          "experiment_tag": "ADR",
          "metric_name": "Token Recall",
          "metric_val": 0.61,
          "step": 50,
          "trial": 3,
          "weak_train_method": "fine_tune",
          "weak_weight": 0.1
         },
         {
          "collation_type": "metal",
          "experiment_tag": "ADR",
          "metric_name": "Token Recall",
          "metric_val": 0.85,
          "step": 100,
          "trial": 3,
          "weak_train_method": "fine_tune",
          "weak_weight": 0.1
         },
         {
          "collation_type": "metal",
          "experiment_tag": "ADR",
          "metric_name": "Span F1",
          "metric_val": 0.53,
          "step": 10,
          "trial": 3,
          "weak_train_method": "fine_tune",
          "weak_weight": 0.1
         },
         {
          "collation_type": "metal",
          "experiment_tag": "ADR",
          "metric_name": "Span F1",
          "metric_val": 0.56,
          "step": 50,
          "trial": 3,
          "weak_train_method": "fine_tune",
          "weak_weight": 0.1
         },
         {
          "collation_type": "metal",
          "experiment_tag": "ADR",
          "metric_name": "Span F1",
          "metric_val": 0.56,
          "step": 100,
          "trial": 3,
          "weak_train_method": "fine_tune",
          "weak_weight": 0.1
         },
         {
          "collation_type": "metal",
          "experiment_tag": "ADR",
          "metric_name": "Token F1",
          "metric_val": 0.69,
          "step": 10,
          "trial": 4,
          "weak_train_method": "fine_tune",
          "weak_weight": 0.1
         },
         {
          "collation_type": "metal",
          "experiment_tag": "ADR",
          "metric_name": "Token F1",
          "metric_val": 0.71,
          "step": 50,
          "trial": 4,
          "weak_train_method": "fine_tune",
          "weak_weight": 0.1
         },
         {
          "collation_type": "metal",
          "experiment_tag": "ADR",
          "metric_name": "Token F1",
          "metric_val": 0.67,
          "step": 100,
          "trial": 4,
          "weak_train_method": "fine_tune",
          "weak_weight": 0.1
         },
         {
          "collation_type": "metal",
          "experiment_tag": "ADR",
          "metric_name": "Token Precision",
          "metric_val": 0.78,
          "step": 10,
          "trial": 4,
          "weak_train_method": "fine_tune",
          "weak_weight": 0.1
         },
         {
          "collation_type": "metal",
          "experiment_tag": "ADR",
          "metric_name": "Token Precision",
          "metric_val": 0.86,
          "step": 50,
          "trial": 4,
          "weak_train_method": "fine_tune",
          "weak_weight": 0.1
         },
         {
          "collation_type": "metal",
          "experiment_tag": "ADR",
          "metric_name": "Token Precision",
          "metric_val": 0.75,
          "step": 100,
          "trial": 4,
          "weak_train_method": "fine_tune",
          "weak_weight": 0.1
         },
         {
          "collation_type": "metal",
          "experiment_tag": "ADR",
          "metric_name": "Token Recall",
          "metric_val": 0.62,
          "step": 10,
          "trial": 4,
          "weak_train_method": "fine_tune",
          "weak_weight": 0.1
         },
         {
          "collation_type": "metal",
          "experiment_tag": "ADR",
          "metric_name": "Token Recall",
          "metric_val": 0.6,
          "step": 50,
          "trial": 4,
          "weak_train_method": "fine_tune",
          "weak_weight": 0.1
         },
         {
          "collation_type": "metal",
          "experiment_tag": "ADR",
          "metric_name": "Token Recall",
          "metric_val": 0.61,
          "step": 100,
          "trial": 4,
          "weak_train_method": "fine_tune",
          "weak_weight": 0.1
         },
         {
          "collation_type": "metal",
          "experiment_tag": "ADR",
          "metric_name": "Span F1",
          "metric_val": 0.54,
          "step": 10,
          "trial": 4,
          "weak_train_method": "fine_tune",
          "weak_weight": 0.1
         },
         {
          "collation_type": "metal",
          "experiment_tag": "ADR",
          "metric_name": "Span F1",
          "metric_val": 0.59,
          "step": 50,
          "trial": 4,
          "weak_train_method": "fine_tune",
          "weak_weight": 0.1
         },
         {
          "collation_type": "metal",
          "experiment_tag": "ADR",
          "metric_name": "Span F1",
          "metric_val": 0.56,
          "step": 100,
          "trial": 4,
          "weak_train_method": "fine_tune",
          "weak_weight": 0.1
         },
         {
          "collation_type": "metal",
          "experiment_tag": "ADR",
          "metric_name": "Token F1",
          "metric_val": 0.68,
          "step": 10,
          "trial": 1,
          "weak_train_method": "fine_tune",
          "weak_weight": 0.1
         },
         {
          "collation_type": "metal",
          "experiment_tag": "ADR",
          "metric_name": "Token F1",
          "metric_val": 0.72,
          "step": 50,
          "trial": 1,
          "weak_train_method": "fine_tune",
          "weak_weight": 0.1
         },
         {
          "collation_type": "metal",
          "experiment_tag": "ADR",
          "metric_name": "Token F1",
          "metric_val": 0.75,
          "step": 100,
          "trial": 1,
          "weak_train_method": "fine_tune",
          "weak_weight": 0.1
         },
         {
          "collation_type": "metal",
          "experiment_tag": "ADR",
          "metric_name": "Token Precision",
          "metric_val": 0.78,
          "step": 10,
          "trial": 1,
          "weak_train_method": "fine_tune",
          "weak_weight": 0.1
         },
         {
          "collation_type": "metal",
          "experiment_tag": "ADR",
          "metric_name": "Token Precision",
          "metric_val": 0.88,
          "step": 50,
          "trial": 1,
          "weak_train_method": "fine_tune",
          "weak_weight": 0.1
         },
         {
          "collation_type": "metal",
          "experiment_tag": "ADR",
          "metric_name": "Token Precision",
          "metric_val": 0.67,
          "step": 100,
          "trial": 1,
          "weak_train_method": "fine_tune",
          "weak_weight": 0.1
         },
         {
          "collation_type": "metal",
          "experiment_tag": "ADR",
          "metric_name": "Token Recall",
          "metric_val": 0.61,
          "step": 10,
          "trial": 1,
          "weak_train_method": "fine_tune",
          "weak_weight": 0.1
         },
         {
          "collation_type": "metal",
          "experiment_tag": "ADR",
          "metric_name": "Token Recall",
          "metric_val": 0.61,
          "step": 50,
          "trial": 1,
          "weak_train_method": "fine_tune",
          "weak_weight": 0.1
         },
         {
          "collation_type": "metal",
          "experiment_tag": "ADR",
          "metric_name": "Token Recall",
          "metric_val": 0.85,
          "step": 100,
          "trial": 1,
          "weak_train_method": "fine_tune",
          "weak_weight": 0.1
         },
         {
          "collation_type": "metal",
          "experiment_tag": "ADR",
          "metric_name": "Span F1",
          "metric_val": 0.54,
          "step": 10,
          "trial": 1,
          "weak_train_method": "fine_tune",
          "weak_weight": 0.1
         },
         {
          "collation_type": "metal",
          "experiment_tag": "ADR",
          "metric_name": "Span F1",
          "metric_val": 0.58,
          "step": 50,
          "trial": 1,
          "weak_train_method": "fine_tune",
          "weak_weight": 0.1
         },
         {
          "collation_type": "metal",
          "experiment_tag": "ADR",
          "metric_name": "Span F1",
          "metric_val": 0.58,
          "step": 100,
          "trial": 1,
          "weak_train_method": "fine_tune",
          "weak_weight": 0.1
         },
         {
          "collation_type": "metal",
          "experiment_tag": "ADR",
          "metric_name": "Token F1",
          "metric_val": 0.69,
          "step": 10,
          "trial": 0,
          "weak_train_method": "fine_tune",
          "weak_weight": 0.1
         },
         {
          "collation_type": "metal",
          "experiment_tag": "ADR",
          "metric_name": "Token F1",
          "metric_val": 0.72,
          "step": 50,
          "trial": 0,
          "weak_train_method": "fine_tune",
          "weak_weight": 0.1
         },
         {
          "collation_type": "metal",
          "experiment_tag": "ADR",
          "metric_name": "Token F1",
          "metric_val": 0.76,
          "step": 100,
          "trial": 0,
          "weak_train_method": "fine_tune",
          "weak_weight": 0.1
         },
         {
          "collation_type": "metal",
          "experiment_tag": "ADR",
          "metric_name": "Token Precision",
          "metric_val": 0.78,
          "step": 10,
          "trial": 0,
          "weak_train_method": "fine_tune",
          "weak_weight": 0.1
         },
         {
          "collation_type": "metal",
          "experiment_tag": "ADR",
          "metric_name": "Token Precision",
          "metric_val": 0.86,
          "step": 50,
          "trial": 0,
          "weak_train_method": "fine_tune",
          "weak_weight": 0.1
         },
         {
          "collation_type": "metal",
          "experiment_tag": "ADR",
          "metric_name": "Token Precision",
          "metric_val": 0.69,
          "step": 100,
          "trial": 0,
          "weak_train_method": "fine_tune",
          "weak_weight": 0.1
         },
         {
          "collation_type": "metal",
          "experiment_tag": "ADR",
          "metric_name": "Token Recall",
          "metric_val": 0.62,
          "step": 10,
          "trial": 0,
          "weak_train_method": "fine_tune",
          "weak_weight": 0.1
         },
         {
          "collation_type": "metal",
          "experiment_tag": "ADR",
          "metric_name": "Token Recall",
          "metric_val": 0.62,
          "step": 50,
          "trial": 0,
          "weak_train_method": "fine_tune",
          "weak_weight": 0.1
         },
         {
          "collation_type": "metal",
          "experiment_tag": "ADR",
          "metric_name": "Token Recall",
          "metric_val": 0.84,
          "step": 100,
          "trial": 0,
          "weak_train_method": "fine_tune",
          "weak_weight": 0.1
         },
         {
          "collation_type": "metal",
          "experiment_tag": "ADR",
          "metric_name": "Span F1",
          "metric_val": 0.54,
          "step": 10,
          "trial": 0,
          "weak_train_method": "fine_tune",
          "weak_weight": 0.1
         },
         {
          "collation_type": "metal",
          "experiment_tag": "ADR",
          "metric_name": "Span F1",
          "metric_val": 0.6,
          "step": 50,
          "trial": 0,
          "weak_train_method": "fine_tune",
          "weak_weight": 0.1
         },
         {
          "collation_type": "metal",
          "experiment_tag": "ADR",
          "metric_name": "Span F1",
          "metric_val": 0.6,
          "step": 100,
          "trial": 0,
          "weak_train_method": "fine_tune",
          "weak_weight": 0.1
         },
         {
          "collation_type": "metal",
          "experiment_tag": "ADR",
          "metric_name": "Token F1",
          "metric_val": 0.55,
          "step": 10,
          "trial": 2,
          "weak_train_method": "weighted",
          "weak_weight": 0.01
         },
         {
          "collation_type": "metal",
          "experiment_tag": "ADR",
          "metric_name": "Token F1",
          "metric_val": 0.69,
          "step": 50,
          "trial": 2,
          "weak_train_method": "weighted",
          "weak_weight": 0.01
         },
         {
          "collation_type": "metal",
          "experiment_tag": "ADR",
          "metric_name": "Token F1",
          "metric_val": 0.75,
          "step": 100,
          "trial": 2,
          "weak_train_method": "weighted",
          "weak_weight": 0.01
         },
         {
          "collation_type": "metal",
          "experiment_tag": "ADR",
          "metric_name": "Token Precision",
          "metric_val": 0.81,
          "step": 10,
          "trial": 2,
          "weak_train_method": "weighted",
          "weak_weight": 0.01
         },
         {
          "collation_type": "metal",
          "experiment_tag": "ADR",
          "metric_name": "Token Precision",
          "metric_val": 0.66,
          "step": 50,
          "trial": 2,
          "weak_train_method": "weighted",
          "weak_weight": 0.01
         },
         {
          "collation_type": "metal",
          "experiment_tag": "ADR",
          "metric_name": "Token Precision",
          "metric_val": 0.81,
          "step": 100,
          "trial": 2,
          "weak_train_method": "weighted",
          "weak_weight": 0.01
         },
         {
          "collation_type": "metal",
          "experiment_tag": "ADR",
          "metric_name": "Token Recall",
          "metric_val": 0.41,
          "step": 10,
          "trial": 2,
          "weak_train_method": "weighted",
          "weak_weight": 0.01
         },
         {
          "collation_type": "metal",
          "experiment_tag": "ADR",
          "metric_name": "Token Recall",
          "metric_val": 0.73,
          "step": 50,
          "trial": 2,
          "weak_train_method": "weighted",
          "weak_weight": 0.01
         },
         {
          "collation_type": "metal",
          "experiment_tag": "ADR",
          "metric_name": "Token Recall",
          "metric_val": 0.7,
          "step": 100,
          "trial": 2,
          "weak_train_method": "weighted",
          "weak_weight": 0.01
         },
         {
          "collation_type": "metal",
          "experiment_tag": "ADR",
          "metric_name": "Span F1",
          "metric_val": 0.4,
          "step": 10,
          "trial": 2,
          "weak_train_method": "weighted",
          "weak_weight": 0.01
         },
         {
          "collation_type": "metal",
          "experiment_tag": "ADR",
          "metric_name": "Span F1",
          "metric_val": 0.55,
          "step": 50,
          "trial": 2,
          "weak_train_method": "weighted",
          "weak_weight": 0.01
         },
         {
          "collation_type": "metal",
          "experiment_tag": "ADR",
          "metric_name": "Span F1",
          "metric_val": 0.6,
          "step": 100,
          "trial": 2,
          "weak_train_method": "weighted",
          "weak_weight": 0.01
         },
         {
          "collation_type": "metal",
          "experiment_tag": "ADR",
          "metric_name": "Token F1",
          "metric_val": 0.71,
          "step": 10,
          "trial": 3,
          "weak_train_method": "weighted",
          "weak_weight": 0.01
         },
         {
          "collation_type": "metal",
          "experiment_tag": "ADR",
          "metric_name": "Token F1",
          "metric_val": 0.69,
          "step": 50,
          "trial": 3,
          "weak_train_method": "weighted",
          "weak_weight": 0.01
         },
         {
          "collation_type": "metal",
          "experiment_tag": "ADR",
          "metric_name": "Token F1",
          "metric_val": 0.75,
          "step": 100,
          "trial": 3,
          "weak_train_method": "weighted",
          "weak_weight": 0.01
         },
         {
          "collation_type": "metal",
          "experiment_tag": "ADR",
          "metric_name": "Token Precision",
          "metric_val": 0.74,
          "step": 10,
          "trial": 3,
          "weak_train_method": "weighted",
          "weak_weight": 0.01
         },
         {
          "collation_type": "metal",
          "experiment_tag": "ADR",
          "metric_name": "Token Precision",
          "metric_val": 0.65,
          "step": 50,
          "trial": 3,
          "weak_train_method": "weighted",
          "weak_weight": 0.01
         },
         {
          "collation_type": "metal",
          "experiment_tag": "ADR",
          "metric_name": "Token Precision",
          "metric_val": 0.79,
          "step": 100,
          "trial": 3,
          "weak_train_method": "weighted",
          "weak_weight": 0.01
         },
         {
          "collation_type": "metal",
          "experiment_tag": "ADR",
          "metric_name": "Token Recall",
          "metric_val": 0.68,
          "step": 10,
          "trial": 3,
          "weak_train_method": "weighted",
          "weak_weight": 0.01
         },
         {
          "collation_type": "metal",
          "experiment_tag": "ADR",
          "metric_name": "Token Recall",
          "metric_val": 0.74,
          "step": 50,
          "trial": 3,
          "weak_train_method": "weighted",
          "weak_weight": 0.01
         },
         {
          "collation_type": "metal",
          "experiment_tag": "ADR",
          "metric_name": "Token Recall",
          "metric_val": 0.72,
          "step": 100,
          "trial": 3,
          "weak_train_method": "weighted",
          "weak_weight": 0.01
         },
         {
          "collation_type": "metal",
          "experiment_tag": "ADR",
          "metric_name": "Span F1",
          "metric_val": 0.54,
          "step": 10,
          "trial": 3,
          "weak_train_method": "weighted",
          "weak_weight": 0.01
         },
         {
          "collation_type": "metal",
          "experiment_tag": "ADR",
          "metric_name": "Span F1",
          "metric_val": 0.55,
          "step": 50,
          "trial": 3,
          "weak_train_method": "weighted",
          "weak_weight": 0.01
         },
         {
          "collation_type": "metal",
          "experiment_tag": "ADR",
          "metric_name": "Span F1",
          "metric_val": 0.59,
          "step": 100,
          "trial": 3,
          "weak_train_method": "weighted",
          "weak_weight": 0.01
         },
         {
          "collation_type": "metal",
          "experiment_tag": "ADR",
          "metric_name": "Token F1",
          "metric_val": 0.71,
          "step": 10,
          "trial": 4,
          "weak_train_method": "weighted",
          "weak_weight": 0.01
         },
         {
          "collation_type": "metal",
          "experiment_tag": "ADR",
          "metric_name": "Token F1",
          "metric_val": 0.71,
          "step": 50,
          "trial": 4,
          "weak_train_method": "weighted",
          "weak_weight": 0.01
         },
         {
          "collation_type": "metal",
          "experiment_tag": "ADR",
          "metric_name": "Token F1",
          "metric_val": 0.74,
          "step": 100,
          "trial": 4,
          "weak_train_method": "weighted",
          "weak_weight": 0.01
         },
         {
          "collation_type": "metal",
          "experiment_tag": "ADR",
          "metric_name": "Token Precision",
          "metric_val": 0.72,
          "step": 10,
          "trial": 4,
          "weak_train_method": "weighted",
          "weak_weight": 0.01
         },
         {
          "collation_type": "metal",
          "experiment_tag": "ADR",
          "metric_name": "Token Precision",
          "metric_val": 0.68,
          "step": 50,
          "trial": 4,
          "weak_train_method": "weighted",
          "weak_weight": 0.01
         },
         {
          "collation_type": "metal",
          "experiment_tag": "ADR",
          "metric_name": "Token Precision",
          "metric_val": 0.79,
          "step": 100,
          "trial": 4,
          "weak_train_method": "weighted",
          "weak_weight": 0.01
         },
         {
          "collation_type": "metal",
          "experiment_tag": "ADR",
          "metric_name": "Token Recall",
          "metric_val": 0.7,
          "step": 10,
          "trial": 4,
          "weak_train_method": "weighted",
          "weak_weight": 0.01
         },
         {
          "collation_type": "metal",
          "experiment_tag": "ADR",
          "metric_name": "Token Recall",
          "metric_val": 0.73,
          "step": 50,
          "trial": 4,
          "weak_train_method": "weighted",
          "weak_weight": 0.01
         },
         {
          "collation_type": "metal",
          "experiment_tag": "ADR",
          "metric_name": "Token Recall",
          "metric_val": 0.7,
          "step": 100,
          "trial": 4,
          "weak_train_method": "weighted",
          "weak_weight": 0.01
         },
         {
          "collation_type": "metal",
          "experiment_tag": "ADR",
          "metric_name": "Span F1",
          "metric_val": 0.53,
          "step": 10,
          "trial": 4,
          "weak_train_method": "weighted",
          "weak_weight": 0.01
         },
         {
          "collation_type": "metal",
          "experiment_tag": "ADR",
          "metric_name": "Span F1",
          "metric_val": 0.54,
          "step": 50,
          "trial": 4,
          "weak_train_method": "weighted",
          "weak_weight": 0.01
         },
         {
          "collation_type": "metal",
          "experiment_tag": "ADR",
          "metric_name": "Span F1",
          "metric_val": 0.59,
          "step": 100,
          "trial": 4,
          "weak_train_method": "weighted",
          "weak_weight": 0.01
         },
         {
          "collation_type": "metal",
          "experiment_tag": "ADR",
          "metric_name": "Token F1",
          "metric_val": 0.7,
          "step": 10,
          "trial": 1,
          "weak_train_method": "weighted",
          "weak_weight": 0.01
         },
         {
          "collation_type": "metal",
          "experiment_tag": "ADR",
          "metric_name": "Token F1",
          "metric_val": 0.69,
          "step": 50,
          "trial": 1,
          "weak_train_method": "weighted",
          "weak_weight": 0.01
         },
         {
          "collation_type": "metal",
          "experiment_tag": "ADR",
          "metric_name": "Token F1",
          "metric_val": 0.75,
          "step": 100,
          "trial": 1,
          "weak_train_method": "weighted",
          "weak_weight": 0.01
         },
         {
          "collation_type": "metal",
          "experiment_tag": "ADR",
          "metric_name": "Token Precision",
          "metric_val": 0.71,
          "step": 10,
          "trial": 1,
          "weak_train_method": "weighted",
          "weak_weight": 0.01
         },
         {
          "collation_type": "metal",
          "experiment_tag": "ADR",
          "metric_name": "Token Precision",
          "metric_val": 0.68,
          "step": 50,
          "trial": 1,
          "weak_train_method": "weighted",
          "weak_weight": 0.01
         },
         {
          "collation_type": "metal",
          "experiment_tag": "ADR",
          "metric_name": "Token Precision",
          "metric_val": 0.81,
          "step": 100,
          "trial": 1,
          "weak_train_method": "weighted",
          "weak_weight": 0.01
         },
         {
          "collation_type": "metal",
          "experiment_tag": "ADR",
          "metric_name": "Token Recall",
          "metric_val": 0.69,
          "step": 10,
          "trial": 1,
          "weak_train_method": "weighted",
          "weak_weight": 0.01
         },
         {
          "collation_type": "metal",
          "experiment_tag": "ADR",
          "metric_name": "Token Recall",
          "metric_val": 0.71,
          "step": 50,
          "trial": 1,
          "weak_train_method": "weighted",
          "weak_weight": 0.01
         },
         {
          "collation_type": "metal",
          "experiment_tag": "ADR",
          "metric_name": "Token Recall",
          "metric_val": 0.71,
          "step": 100,
          "trial": 1,
          "weak_train_method": "weighted",
          "weak_weight": 0.01
         },
         {
          "collation_type": "metal",
          "experiment_tag": "ADR",
          "metric_name": "Span F1",
          "metric_val": 0.48,
          "step": 10,
          "trial": 1,
          "weak_train_method": "weighted",
          "weak_weight": 0.01
         },
         {
          "collation_type": "metal",
          "experiment_tag": "ADR",
          "metric_name": "Span F1",
          "metric_val": 0.56,
          "step": 50,
          "trial": 1,
          "weak_train_method": "weighted",
          "weak_weight": 0.01
         },
         {
          "collation_type": "metal",
          "experiment_tag": "ADR",
          "metric_name": "Span F1",
          "metric_val": 0.6,
          "step": 100,
          "trial": 1,
          "weak_train_method": "weighted",
          "weak_weight": 0.01
         },
         {
          "collation_type": "metal",
          "experiment_tag": "ADR",
          "metric_name": "Token F1",
          "metric_val": 0.51,
          "step": 10,
          "trial": 0,
          "weak_train_method": "weighted",
          "weak_weight": 0.01
         },
         {
          "collation_type": "metal",
          "experiment_tag": "ADR",
          "metric_name": "Token F1",
          "metric_val": 0.7,
          "step": 50,
          "trial": 0,
          "weak_train_method": "weighted",
          "weak_weight": 0.01
         },
         {
          "collation_type": "metal",
          "experiment_tag": "ADR",
          "metric_name": "Token F1",
          "metric_val": 0.74,
          "step": 100,
          "trial": 0,
          "weak_train_method": "weighted",
          "weak_weight": 0.01
         },
         {
          "collation_type": "metal",
          "experiment_tag": "ADR",
          "metric_name": "Token Precision",
          "metric_val": 0.84,
          "step": 10,
          "trial": 0,
          "weak_train_method": "weighted",
          "weak_weight": 0.01
         },
         {
          "collation_type": "metal",
          "experiment_tag": "ADR",
          "metric_name": "Token Precision",
          "metric_val": 0.67,
          "step": 50,
          "trial": 0,
          "weak_train_method": "weighted",
          "weak_weight": 0.01
         },
         {
          "collation_type": "metal",
          "experiment_tag": "ADR",
          "metric_name": "Token Precision",
          "metric_val": 0.81,
          "step": 100,
          "trial": 0,
          "weak_train_method": "weighted",
          "weak_weight": 0.01
         },
         {
          "collation_type": "metal",
          "experiment_tag": "ADR",
          "metric_name": "Token Recall",
          "metric_val": 0.37,
          "step": 10,
          "trial": 0,
          "weak_train_method": "weighted",
          "weak_weight": 0.01
         },
         {
          "collation_type": "metal",
          "experiment_tag": "ADR",
          "metric_name": "Token Recall",
          "metric_val": 0.74,
          "step": 50,
          "trial": 0,
          "weak_train_method": "weighted",
          "weak_weight": 0.01
         },
         {
          "collation_type": "metal",
          "experiment_tag": "ADR",
          "metric_name": "Token Recall",
          "metric_val": 0.69,
          "step": 100,
          "trial": 0,
          "weak_train_method": "weighted",
          "weak_weight": 0.01
         },
         {
          "collation_type": "metal",
          "experiment_tag": "ADR",
          "metric_name": "Span F1",
          "metric_val": 0.36,
          "step": 10,
          "trial": 0,
          "weak_train_method": "weighted",
          "weak_weight": 0.01
         },
         {
          "collation_type": "metal",
          "experiment_tag": "ADR",
          "metric_name": "Span F1",
          "metric_val": 0.58,
          "step": 50,
          "trial": 0,
          "weak_train_method": "weighted",
          "weak_weight": 0.01
         },
         {
          "collation_type": "metal",
          "experiment_tag": "ADR",
          "metric_name": "Span F1",
          "metric_val": 0.59,
          "step": 100,
          "trial": 0,
          "weak_train_method": "weighted",
          "weak_weight": 0.01
         },
         {
          "collation_type": "no_weak",
          "experiment_tag": "ADR",
          "metric_name": "Token F1",
          "metric_val": 0.41,
          "step": 10,
          "trial": 2,
          "weak_train_method": "fine_tune",
          "weak_weight": 0.01
         },
         {
          "collation_type": "no_weak",
          "experiment_tag": "ADR",
          "metric_name": "Token F1",
          "metric_val": 0.74,
          "step": 50,
          "trial": 2,
          "weak_train_method": "fine_tune",
          "weak_weight": 0.01
         },
         {
          "collation_type": "no_weak",
          "experiment_tag": "ADR",
          "metric_name": "Token F1",
          "metric_val": 0.75,
          "step": 100,
          "trial": 2,
          "weak_train_method": "fine_tune",
          "weak_weight": 0.01
         },
         {
          "collation_type": "no_weak",
          "experiment_tag": "ADR",
          "metric_name": "Token Precision",
          "metric_val": 0.83,
          "step": 10,
          "trial": 2,
          "weak_train_method": "fine_tune",
          "weak_weight": 0.01
         },
         {
          "collation_type": "no_weak",
          "experiment_tag": "ADR",
          "metric_name": "Token Precision",
          "metric_val": 0.76,
          "step": 50,
          "trial": 2,
          "weak_train_method": "fine_tune",
          "weak_weight": 0.01
         },
         {
          "collation_type": "no_weak",
          "experiment_tag": "ADR",
          "metric_name": "Token Precision",
          "metric_val": 0.76,
          "step": 100,
          "trial": 2,
          "weak_train_method": "fine_tune",
          "weak_weight": 0.01
         },
         {
          "collation_type": "no_weak",
          "experiment_tag": "ADR",
          "metric_name": "Token Recall",
          "metric_val": 0.27,
          "step": 10,
          "trial": 2,
          "weak_train_method": "fine_tune",
          "weak_weight": 0.01
         },
         {
          "collation_type": "no_weak",
          "experiment_tag": "ADR",
          "metric_name": "Token Recall",
          "metric_val": 0.73,
          "step": 50,
          "trial": 2,
          "weak_train_method": "fine_tune",
          "weak_weight": 0.01
         },
         {
          "collation_type": "no_weak",
          "experiment_tag": "ADR",
          "metric_name": "Token Recall",
          "metric_val": 0.73,
          "step": 100,
          "trial": 2,
          "weak_train_method": "fine_tune",
          "weak_weight": 0.01
         },
         {
          "collation_type": "no_weak",
          "experiment_tag": "ADR",
          "metric_name": "Span F1",
          "metric_val": 0.27,
          "step": 10,
          "trial": 2,
          "weak_train_method": "fine_tune",
          "weak_weight": 0.01
         },
         {
          "collation_type": "no_weak",
          "experiment_tag": "ADR",
          "metric_name": "Span F1",
          "metric_val": 0.58,
          "step": 50,
          "trial": 2,
          "weak_train_method": "fine_tune",
          "weak_weight": 0.01
         },
         {
          "collation_type": "no_weak",
          "experiment_tag": "ADR",
          "metric_name": "Span F1",
          "metric_val": 0.59,
          "step": 100,
          "trial": 2,
          "weak_train_method": "fine_tune",
          "weak_weight": 0.01
         },
         {
          "collation_type": "no_weak",
          "experiment_tag": "ADR",
          "metric_name": "Token F1",
          "metric_val": 0.41,
          "step": 10,
          "trial": 2,
          "weak_train_method": "fine_tune",
          "weak_weight": 0.1
         },
         {
          "collation_type": "no_weak",
          "experiment_tag": "ADR",
          "metric_name": "Token F1",
          "metric_val": 0.74,
          "step": 50,
          "trial": 2,
          "weak_train_method": "fine_tune",
          "weak_weight": 0.1
         },
         {
          "collation_type": "no_weak",
          "experiment_tag": "ADR",
          "metric_name": "Token F1",
          "metric_val": 0.75,
          "step": 100,
          "trial": 2,
          "weak_train_method": "fine_tune",
          "weak_weight": 0.1
         },
         {
          "collation_type": "no_weak",
          "experiment_tag": "ADR",
          "metric_name": "Token Precision",
          "metric_val": 0.83,
          "step": 10,
          "trial": 2,
          "weak_train_method": "fine_tune",
          "weak_weight": 0.1
         },
         {
          "collation_type": "no_weak",
          "experiment_tag": "ADR",
          "metric_name": "Token Precision",
          "metric_val": 0.76,
          "step": 50,
          "trial": 2,
          "weak_train_method": "fine_tune",
          "weak_weight": 0.1
         },
         {
          "collation_type": "no_weak",
          "experiment_tag": "ADR",
          "metric_name": "Token Precision",
          "metric_val": 0.76,
          "step": 100,
          "trial": 2,
          "weak_train_method": "fine_tune",
          "weak_weight": 0.1
         },
         {
          "collation_type": "no_weak",
          "experiment_tag": "ADR",
          "metric_name": "Token Recall",
          "metric_val": 0.27,
          "step": 10,
          "trial": 2,
          "weak_train_method": "fine_tune",
          "weak_weight": 0.1
         },
         {
          "collation_type": "no_weak",
          "experiment_tag": "ADR",
          "metric_name": "Token Recall",
          "metric_val": 0.73,
          "step": 50,
          "trial": 2,
          "weak_train_method": "fine_tune",
          "weak_weight": 0.1
         },
         {
          "collation_type": "no_weak",
          "experiment_tag": "ADR",
          "metric_name": "Token Recall",
          "metric_val": 0.73,
          "step": 100,
          "trial": 2,
          "weak_train_method": "fine_tune",
          "weak_weight": 0.1
         },
         {
          "collation_type": "no_weak",
          "experiment_tag": "ADR",
          "metric_name": "Span F1",
          "metric_val": 0.27,
          "step": 10,
          "trial": 2,
          "weak_train_method": "fine_tune",
          "weak_weight": 0.1
         },
         {
          "collation_type": "no_weak",
          "experiment_tag": "ADR",
          "metric_name": "Span F1",
          "metric_val": 0.58,
          "step": 50,
          "trial": 2,
          "weak_train_method": "fine_tune",
          "weak_weight": 0.1
         },
         {
          "collation_type": "no_weak",
          "experiment_tag": "ADR",
          "metric_name": "Span F1",
          "metric_val": 0.59,
          "step": 100,
          "trial": 2,
          "weak_train_method": "fine_tune",
          "weak_weight": 0.1
         },
         {
          "collation_type": "no_weak",
          "experiment_tag": "ADR",
          "metric_name": "Token F1",
          "metric_val": 0.41,
          "step": 10,
          "trial": 2,
          "weak_train_method": "fine_tune",
          "weak_weight": 1
         },
         {
          "collation_type": "no_weak",
          "experiment_tag": "ADR",
          "metric_name": "Token F1",
          "metric_val": 0.74,
          "step": 50,
          "trial": 2,
          "weak_train_method": "fine_tune",
          "weak_weight": 1
         },
         {
          "collation_type": "no_weak",
          "experiment_tag": "ADR",
          "metric_name": "Token F1",
          "metric_val": 0.75,
          "step": 100,
          "trial": 2,
          "weak_train_method": "fine_tune",
          "weak_weight": 1
         },
         {
          "collation_type": "no_weak",
          "experiment_tag": "ADR",
          "metric_name": "Token Precision",
          "metric_val": 0.83,
          "step": 10,
          "trial": 2,
          "weak_train_method": "fine_tune",
          "weak_weight": 1
         },
         {
          "collation_type": "no_weak",
          "experiment_tag": "ADR",
          "metric_name": "Token Precision",
          "metric_val": 0.76,
          "step": 50,
          "trial": 2,
          "weak_train_method": "fine_tune",
          "weak_weight": 1
         },
         {
          "collation_type": "no_weak",
          "experiment_tag": "ADR",
          "metric_name": "Token Precision",
          "metric_val": 0.76,
          "step": 100,
          "trial": 2,
          "weak_train_method": "fine_tune",
          "weak_weight": 1
         },
         {
          "collation_type": "no_weak",
          "experiment_tag": "ADR",
          "metric_name": "Token Recall",
          "metric_val": 0.27,
          "step": 10,
          "trial": 2,
          "weak_train_method": "fine_tune",
          "weak_weight": 1
         },
         {
          "collation_type": "no_weak",
          "experiment_tag": "ADR",
          "metric_name": "Token Recall",
          "metric_val": 0.73,
          "step": 50,
          "trial": 2,
          "weak_train_method": "fine_tune",
          "weak_weight": 1
         },
         {
          "collation_type": "no_weak",
          "experiment_tag": "ADR",
          "metric_name": "Token Recall",
          "metric_val": 0.73,
          "step": 100,
          "trial": 2,
          "weak_train_method": "fine_tune",
          "weak_weight": 1
         },
         {
          "collation_type": "no_weak",
          "experiment_tag": "ADR",
          "metric_name": "Span F1",
          "metric_val": 0.27,
          "step": 10,
          "trial": 2,
          "weak_train_method": "fine_tune",
          "weak_weight": 1
         },
         {
          "collation_type": "no_weak",
          "experiment_tag": "ADR",
          "metric_name": "Span F1",
          "metric_val": 0.58,
          "step": 50,
          "trial": 2,
          "weak_train_method": "fine_tune",
          "weak_weight": 1
         },
         {
          "collation_type": "no_weak",
          "experiment_tag": "ADR",
          "metric_name": "Span F1",
          "metric_val": 0.59,
          "step": 100,
          "trial": 2,
          "weak_train_method": "fine_tune",
          "weak_weight": 1
         },
         {
          "collation_type": "no_weak",
          "experiment_tag": "ADR",
          "metric_name": "Token F1",
          "metric_val": 0.41,
          "step": 10,
          "trial": 2,
          "weak_train_method": "weighted",
          "weak_weight": 0.01
         },
         {
          "collation_type": "no_weak",
          "experiment_tag": "ADR",
          "metric_name": "Token F1",
          "metric_val": 0.74,
          "step": 50,
          "trial": 2,
          "weak_train_method": "weighted",
          "weak_weight": 0.01
         },
         {
          "collation_type": "no_weak",
          "experiment_tag": "ADR",
          "metric_name": "Token F1",
          "metric_val": 0.75,
          "step": 100,
          "trial": 2,
          "weak_train_method": "weighted",
          "weak_weight": 0.01
         },
         {
          "collation_type": "no_weak",
          "experiment_tag": "ADR",
          "metric_name": "Token Precision",
          "metric_val": 0.83,
          "step": 10,
          "trial": 2,
          "weak_train_method": "weighted",
          "weak_weight": 0.01
         },
         {
          "collation_type": "no_weak",
          "experiment_tag": "ADR",
          "metric_name": "Token Precision",
          "metric_val": 0.76,
          "step": 50,
          "trial": 2,
          "weak_train_method": "weighted",
          "weak_weight": 0.01
         },
         {
          "collation_type": "no_weak",
          "experiment_tag": "ADR",
          "metric_name": "Token Precision",
          "metric_val": 0.76,
          "step": 100,
          "trial": 2,
          "weak_train_method": "weighted",
          "weak_weight": 0.01
         },
         {
          "collation_type": "no_weak",
          "experiment_tag": "ADR",
          "metric_name": "Token Recall",
          "metric_val": 0.27,
          "step": 10,
          "trial": 2,
          "weak_train_method": "weighted",
          "weak_weight": 0.01
         },
         {
          "collation_type": "no_weak",
          "experiment_tag": "ADR",
          "metric_name": "Token Recall",
          "metric_val": 0.73,
          "step": 50,
          "trial": 2,
          "weak_train_method": "weighted",
          "weak_weight": 0.01
         },
         {
          "collation_type": "no_weak",
          "experiment_tag": "ADR",
          "metric_name": "Token Recall",
          "metric_val": 0.73,
          "step": 100,
          "trial": 2,
          "weak_train_method": "weighted",
          "weak_weight": 0.01
         },
         {
          "collation_type": "no_weak",
          "experiment_tag": "ADR",
          "metric_name": "Span F1",
          "metric_val": 0.27,
          "step": 10,
          "trial": 2,
          "weak_train_method": "weighted",
          "weak_weight": 0.01
         },
         {
          "collation_type": "no_weak",
          "experiment_tag": "ADR",
          "metric_name": "Span F1",
          "metric_val": 0.58,
          "step": 50,
          "trial": 2,
          "weak_train_method": "weighted",
          "weak_weight": 0.01
         },
         {
          "collation_type": "no_weak",
          "experiment_tag": "ADR",
          "metric_name": "Span F1",
          "metric_val": 0.59,
          "step": 100,
          "trial": 2,
          "weak_train_method": "weighted",
          "weak_weight": 0.01
         },
         {
          "collation_type": "no_weak",
          "experiment_tag": "ADR",
          "metric_name": "Token F1",
          "metric_val": 0.41,
          "step": 10,
          "trial": 2,
          "weak_train_method": "weighted",
          "weak_weight": 0.1
         },
         {
          "collation_type": "no_weak",
          "experiment_tag": "ADR",
          "metric_name": "Token F1",
          "metric_val": 0.74,
          "step": 50,
          "trial": 2,
          "weak_train_method": "weighted",
          "weak_weight": 0.1
         },
         {
          "collation_type": "no_weak",
          "experiment_tag": "ADR",
          "metric_name": "Token F1",
          "metric_val": 0.75,
          "step": 100,
          "trial": 2,
          "weak_train_method": "weighted",
          "weak_weight": 0.1
         },
         {
          "collation_type": "no_weak",
          "experiment_tag": "ADR",
          "metric_name": "Token Precision",
          "metric_val": 0.83,
          "step": 10,
          "trial": 2,
          "weak_train_method": "weighted",
          "weak_weight": 0.1
         },
         {
          "collation_type": "no_weak",
          "experiment_tag": "ADR",
          "metric_name": "Token Precision",
          "metric_val": 0.76,
          "step": 50,
          "trial": 2,
          "weak_train_method": "weighted",
          "weak_weight": 0.1
         },
         {
          "collation_type": "no_weak",
          "experiment_tag": "ADR",
          "metric_name": "Token Precision",
          "metric_val": 0.76,
          "step": 100,
          "trial": 2,
          "weak_train_method": "weighted",
          "weak_weight": 0.1
         },
         {
          "collation_type": "no_weak",
          "experiment_tag": "ADR",
          "metric_name": "Token Recall",
          "metric_val": 0.27,
          "step": 10,
          "trial": 2,
          "weak_train_method": "weighted",
          "weak_weight": 0.1
         },
         {
          "collation_type": "no_weak",
          "experiment_tag": "ADR",
          "metric_name": "Token Recall",
          "metric_val": 0.73,
          "step": 50,
          "trial": 2,
          "weak_train_method": "weighted",
          "weak_weight": 0.1
         },
         {
          "collation_type": "no_weak",
          "experiment_tag": "ADR",
          "metric_name": "Token Recall",
          "metric_val": 0.73,
          "step": 100,
          "trial": 2,
          "weak_train_method": "weighted",
          "weak_weight": 0.1
         },
         {
          "collation_type": "no_weak",
          "experiment_tag": "ADR",
          "metric_name": "Span F1",
          "metric_val": 0.27,
          "step": 10,
          "trial": 2,
          "weak_train_method": "weighted",
          "weak_weight": 0.1
         },
         {
          "collation_type": "no_weak",
          "experiment_tag": "ADR",
          "metric_name": "Span F1",
          "metric_val": 0.58,
          "step": 50,
          "trial": 2,
          "weak_train_method": "weighted",
          "weak_weight": 0.1
         },
         {
          "collation_type": "no_weak",
          "experiment_tag": "ADR",
          "metric_name": "Span F1",
          "metric_val": 0.59,
          "step": 100,
          "trial": 2,
          "weak_train_method": "weighted",
          "weak_weight": 0.1
         },
         {
          "collation_type": "no_weak",
          "experiment_tag": "ADR",
          "metric_name": "Token F1",
          "metric_val": 0.41,
          "step": 10,
          "trial": 2,
          "weak_train_method": "weighted",
          "weak_weight": 1
         },
         {
          "collation_type": "no_weak",
          "experiment_tag": "ADR",
          "metric_name": "Token F1",
          "metric_val": 0.74,
          "step": 50,
          "trial": 2,
          "weak_train_method": "weighted",
          "weak_weight": 1
         },
         {
          "collation_type": "no_weak",
          "experiment_tag": "ADR",
          "metric_name": "Token F1",
          "metric_val": 0.75,
          "step": 100,
          "trial": 2,
          "weak_train_method": "weighted",
          "weak_weight": 1
         },
         {
          "collation_type": "no_weak",
          "experiment_tag": "ADR",
          "metric_name": "Token Precision",
          "metric_val": 0.83,
          "step": 10,
          "trial": 2,
          "weak_train_method": "weighted",
          "weak_weight": 1
         },
         {
          "collation_type": "no_weak",
          "experiment_tag": "ADR",
          "metric_name": "Token Precision",
          "metric_val": 0.76,
          "step": 50,
          "trial": 2,
          "weak_train_method": "weighted",
          "weak_weight": 1
         },
         {
          "collation_type": "no_weak",
          "experiment_tag": "ADR",
          "metric_name": "Token Precision",
          "metric_val": 0.76,
          "step": 100,
          "trial": 2,
          "weak_train_method": "weighted",
          "weak_weight": 1
         },
         {
          "collation_type": "no_weak",
          "experiment_tag": "ADR",
          "metric_name": "Token Recall",
          "metric_val": 0.27,
          "step": 10,
          "trial": 2,
          "weak_train_method": "weighted",
          "weak_weight": 1
         },
         {
          "collation_type": "no_weak",
          "experiment_tag": "ADR",
          "metric_name": "Token Recall",
          "metric_val": 0.73,
          "step": 50,
          "trial": 2,
          "weak_train_method": "weighted",
          "weak_weight": 1
         },
         {
          "collation_type": "no_weak",
          "experiment_tag": "ADR",
          "metric_name": "Token Recall",
          "metric_val": 0.73,
          "step": 100,
          "trial": 2,
          "weak_train_method": "weighted",
          "weak_weight": 1
         },
         {
          "collation_type": "no_weak",
          "experiment_tag": "ADR",
          "metric_name": "Span F1",
          "metric_val": 0.27,
          "step": 10,
          "trial": 2,
          "weak_train_method": "weighted",
          "weak_weight": 1
         },
         {
          "collation_type": "no_weak",
          "experiment_tag": "ADR",
          "metric_name": "Span F1",
          "metric_val": 0.58,
          "step": 50,
          "trial": 2,
          "weak_train_method": "weighted",
          "weak_weight": 1
         },
         {
          "collation_type": "no_weak",
          "experiment_tag": "ADR",
          "metric_name": "Span F1",
          "metric_val": 0.59,
          "step": 100,
          "trial": 2,
          "weak_train_method": "weighted",
          "weak_weight": 1
         },
         {
          "collation_type": "no_weak",
          "experiment_tag": "ADR",
          "metric_name": "Token F1",
          "metric_val": 0.65,
          "step": 10,
          "trial": 3,
          "weak_train_method": "fine_tune",
          "weak_weight": 0.01
         },
         {
          "collation_type": "no_weak",
          "experiment_tag": "ADR",
          "metric_name": "Token F1",
          "metric_val": 0.67,
          "step": 50,
          "trial": 3,
          "weak_train_method": "fine_tune",
          "weak_weight": 0.01
         },
         {
          "collation_type": "no_weak",
          "experiment_tag": "ADR",
          "metric_name": "Token F1",
          "metric_val": 0.74,
          "step": 100,
          "trial": 3,
          "weak_train_method": "fine_tune",
          "weak_weight": 0.01
         },
         {
          "collation_type": "no_weak",
          "experiment_tag": "ADR",
          "metric_name": "Token Precision",
          "metric_val": 0.82,
          "step": 10,
          "trial": 3,
          "weak_train_method": "fine_tune",
          "weak_weight": 0.01
         },
         {
          "collation_type": "no_weak",
          "experiment_tag": "ADR",
          "metric_name": "Token Precision",
          "metric_val": 0.85,
          "step": 50,
          "trial": 3,
          "weak_train_method": "fine_tune",
          "weak_weight": 0.01
         },
         {
          "collation_type": "no_weak",
          "experiment_tag": "ADR",
          "metric_name": "Token Precision",
          "metric_val": 0.76,
          "step": 100,
          "trial": 3,
          "weak_train_method": "fine_tune",
          "weak_weight": 0.01
         },
         {
          "collation_type": "no_weak",
          "experiment_tag": "ADR",
          "metric_name": "Token Recall",
          "metric_val": 0.54,
          "step": 10,
          "trial": 3,
          "weak_train_method": "fine_tune",
          "weak_weight": 0.01
         },
         {
          "collation_type": "no_weak",
          "experiment_tag": "ADR",
          "metric_name": "Token Recall",
          "metric_val": 0.55,
          "step": 50,
          "trial": 3,
          "weak_train_method": "fine_tune",
          "weak_weight": 0.01
         },
         {
          "collation_type": "no_weak",
          "experiment_tag": "ADR",
          "metric_name": "Token Recall",
          "metric_val": 0.73,
          "step": 100,
          "trial": 3,
          "weak_train_method": "fine_tune",
          "weak_weight": 0.01
         },
         {
          "collation_type": "no_weak",
          "experiment_tag": "ADR",
          "metric_name": "Span F1",
          "metric_val": 0.49,
          "step": 10,
          "trial": 3,
          "weak_train_method": "fine_tune",
          "weak_weight": 0.01
         },
         {
          "collation_type": "no_weak",
          "experiment_tag": "ADR",
          "metric_name": "Span F1",
          "metric_val": 0.55,
          "step": 50,
          "trial": 3,
          "weak_train_method": "fine_tune",
          "weak_weight": 0.01
         },
         {
          "collation_type": "no_weak",
          "experiment_tag": "ADR",
          "metric_name": "Span F1",
          "metric_val": 0.59,
          "step": 100,
          "trial": 3,
          "weak_train_method": "fine_tune",
          "weak_weight": 0.01
         },
         {
          "collation_type": "no_weak",
          "experiment_tag": "ADR",
          "metric_name": "Token F1",
          "metric_val": 0.65,
          "step": 10,
          "trial": 3,
          "weak_train_method": "fine_tune",
          "weak_weight": 0.1
         },
         {
          "collation_type": "no_weak",
          "experiment_tag": "ADR",
          "metric_name": "Token F1",
          "metric_val": 0.67,
          "step": 50,
          "trial": 3,
          "weak_train_method": "fine_tune",
          "weak_weight": 0.1
         },
         {
          "collation_type": "no_weak",
          "experiment_tag": "ADR",
          "metric_name": "Token F1",
          "metric_val": 0.74,
          "step": 100,
          "trial": 3,
          "weak_train_method": "fine_tune",
          "weak_weight": 0.1
         },
         {
          "collation_type": "no_weak",
          "experiment_tag": "ADR",
          "metric_name": "Token Precision",
          "metric_val": 0.82,
          "step": 10,
          "trial": 3,
          "weak_train_method": "fine_tune",
          "weak_weight": 0.1
         },
         {
          "collation_type": "no_weak",
          "experiment_tag": "ADR",
          "metric_name": "Token Precision",
          "metric_val": 0.85,
          "step": 50,
          "trial": 3,
          "weak_train_method": "fine_tune",
          "weak_weight": 0.1
         },
         {
          "collation_type": "no_weak",
          "experiment_tag": "ADR",
          "metric_name": "Token Precision",
          "metric_val": 0.76,
          "step": 100,
          "trial": 3,
          "weak_train_method": "fine_tune",
          "weak_weight": 0.1
         },
         {
          "collation_type": "no_weak",
          "experiment_tag": "ADR",
          "metric_name": "Token Recall",
          "metric_val": 0.54,
          "step": 10,
          "trial": 3,
          "weak_train_method": "fine_tune",
          "weak_weight": 0.1
         },
         {
          "collation_type": "no_weak",
          "experiment_tag": "ADR",
          "metric_name": "Token Recall",
          "metric_val": 0.55,
          "step": 50,
          "trial": 3,
          "weak_train_method": "fine_tune",
          "weak_weight": 0.1
         },
         {
          "collation_type": "no_weak",
          "experiment_tag": "ADR",
          "metric_name": "Token Recall",
          "metric_val": 0.73,
          "step": 100,
          "trial": 3,
          "weak_train_method": "fine_tune",
          "weak_weight": 0.1
         },
         {
          "collation_type": "no_weak",
          "experiment_tag": "ADR",
          "metric_name": "Span F1",
          "metric_val": 0.49,
          "step": 10,
          "trial": 3,
          "weak_train_method": "fine_tune",
          "weak_weight": 0.1
         },
         {
          "collation_type": "no_weak",
          "experiment_tag": "ADR",
          "metric_name": "Span F1",
          "metric_val": 0.55,
          "step": 50,
          "trial": 3,
          "weak_train_method": "fine_tune",
          "weak_weight": 0.1
         },
         {
          "collation_type": "no_weak",
          "experiment_tag": "ADR",
          "metric_name": "Span F1",
          "metric_val": 0.59,
          "step": 100,
          "trial": 3,
          "weak_train_method": "fine_tune",
          "weak_weight": 0.1
         },
         {
          "collation_type": "no_weak",
          "experiment_tag": "ADR",
          "metric_name": "Token F1",
          "metric_val": 0.65,
          "step": 10,
          "trial": 3,
          "weak_train_method": "fine_tune",
          "weak_weight": 1
         },
         {
          "collation_type": "no_weak",
          "experiment_tag": "ADR",
          "metric_name": "Token F1",
          "metric_val": 0.67,
          "step": 50,
          "trial": 3,
          "weak_train_method": "fine_tune",
          "weak_weight": 1
         },
         {
          "collation_type": "no_weak",
          "experiment_tag": "ADR",
          "metric_name": "Token F1",
          "metric_val": 0.74,
          "step": 100,
          "trial": 3,
          "weak_train_method": "fine_tune",
          "weak_weight": 1
         },
         {
          "collation_type": "no_weak",
          "experiment_tag": "ADR",
          "metric_name": "Token Precision",
          "metric_val": 0.82,
          "step": 10,
          "trial": 3,
          "weak_train_method": "fine_tune",
          "weak_weight": 1
         },
         {
          "collation_type": "no_weak",
          "experiment_tag": "ADR",
          "metric_name": "Token Precision",
          "metric_val": 0.85,
          "step": 50,
          "trial": 3,
          "weak_train_method": "fine_tune",
          "weak_weight": 1
         },
         {
          "collation_type": "no_weak",
          "experiment_tag": "ADR",
          "metric_name": "Token Precision",
          "metric_val": 0.76,
          "step": 100,
          "trial": 3,
          "weak_train_method": "fine_tune",
          "weak_weight": 1
         },
         {
          "collation_type": "no_weak",
          "experiment_tag": "ADR",
          "metric_name": "Token Recall",
          "metric_val": 0.54,
          "step": 10,
          "trial": 3,
          "weak_train_method": "fine_tune",
          "weak_weight": 1
         },
         {
          "collation_type": "no_weak",
          "experiment_tag": "ADR",
          "metric_name": "Token Recall",
          "metric_val": 0.55,
          "step": 50,
          "trial": 3,
          "weak_train_method": "fine_tune",
          "weak_weight": 1
         },
         {
          "collation_type": "no_weak",
          "experiment_tag": "ADR",
          "metric_name": "Token Recall",
          "metric_val": 0.73,
          "step": 100,
          "trial": 3,
          "weak_train_method": "fine_tune",
          "weak_weight": 1
         },
         {
          "collation_type": "no_weak",
          "experiment_tag": "ADR",
          "metric_name": "Span F1",
          "metric_val": 0.49,
          "step": 10,
          "trial": 3,
          "weak_train_method": "fine_tune",
          "weak_weight": 1
         },
         {
          "collation_type": "no_weak",
          "experiment_tag": "ADR",
          "metric_name": "Span F1",
          "metric_val": 0.55,
          "step": 50,
          "trial": 3,
          "weak_train_method": "fine_tune",
          "weak_weight": 1
         },
         {
          "collation_type": "no_weak",
          "experiment_tag": "ADR",
          "metric_name": "Span F1",
          "metric_val": 0.59,
          "step": 100,
          "trial": 3,
          "weak_train_method": "fine_tune",
          "weak_weight": 1
         },
         {
          "collation_type": "no_weak",
          "experiment_tag": "ADR",
          "metric_name": "Token F1",
          "metric_val": 0.65,
          "step": 10,
          "trial": 3,
          "weak_train_method": "weighted",
          "weak_weight": 0.01
         },
         {
          "collation_type": "no_weak",
          "experiment_tag": "ADR",
          "metric_name": "Token F1",
          "metric_val": 0.67,
          "step": 50,
          "trial": 3,
          "weak_train_method": "weighted",
          "weak_weight": 0.01
         },
         {
          "collation_type": "no_weak",
          "experiment_tag": "ADR",
          "metric_name": "Token F1",
          "metric_val": 0.74,
          "step": 100,
          "trial": 3,
          "weak_train_method": "weighted",
          "weak_weight": 0.01
         },
         {
          "collation_type": "no_weak",
          "experiment_tag": "ADR",
          "metric_name": "Token Precision",
          "metric_val": 0.82,
          "step": 10,
          "trial": 3,
          "weak_train_method": "weighted",
          "weak_weight": 0.01
         },
         {
          "collation_type": "no_weak",
          "experiment_tag": "ADR",
          "metric_name": "Token Precision",
          "metric_val": 0.85,
          "step": 50,
          "trial": 3,
          "weak_train_method": "weighted",
          "weak_weight": 0.01
         },
         {
          "collation_type": "no_weak",
          "experiment_tag": "ADR",
          "metric_name": "Token Precision",
          "metric_val": 0.76,
          "step": 100,
          "trial": 3,
          "weak_train_method": "weighted",
          "weak_weight": 0.01
         },
         {
          "collation_type": "no_weak",
          "experiment_tag": "ADR",
          "metric_name": "Token Recall",
          "metric_val": 0.54,
          "step": 10,
          "trial": 3,
          "weak_train_method": "weighted",
          "weak_weight": 0.01
         },
         {
          "collation_type": "no_weak",
          "experiment_tag": "ADR",
          "metric_name": "Token Recall",
          "metric_val": 0.55,
          "step": 50,
          "trial": 3,
          "weak_train_method": "weighted",
          "weak_weight": 0.01
         },
         {
          "collation_type": "no_weak",
          "experiment_tag": "ADR",
          "metric_name": "Token Recall",
          "metric_val": 0.73,
          "step": 100,
          "trial": 3,
          "weak_train_method": "weighted",
          "weak_weight": 0.01
         },
         {
          "collation_type": "no_weak",
          "experiment_tag": "ADR",
          "metric_name": "Span F1",
          "metric_val": 0.49,
          "step": 10,
          "trial": 3,
          "weak_train_method": "weighted",
          "weak_weight": 0.01
         },
         {
          "collation_type": "no_weak",
          "experiment_tag": "ADR",
          "metric_name": "Span F1",
          "metric_val": 0.55,
          "step": 50,
          "trial": 3,
          "weak_train_method": "weighted",
          "weak_weight": 0.01
         },
         {
          "collation_type": "no_weak",
          "experiment_tag": "ADR",
          "metric_name": "Span F1",
          "metric_val": 0.59,
          "step": 100,
          "trial": 3,
          "weak_train_method": "weighted",
          "weak_weight": 0.01
         },
         {
          "collation_type": "no_weak",
          "experiment_tag": "ADR",
          "metric_name": "Token F1",
          "metric_val": 0.65,
          "step": 10,
          "trial": 3,
          "weak_train_method": "weighted",
          "weak_weight": 0.1
         },
         {
          "collation_type": "no_weak",
          "experiment_tag": "ADR",
          "metric_name": "Token F1",
          "metric_val": 0.67,
          "step": 50,
          "trial": 3,
          "weak_train_method": "weighted",
          "weak_weight": 0.1
         },
         {
          "collation_type": "no_weak",
          "experiment_tag": "ADR",
          "metric_name": "Token F1",
          "metric_val": 0.74,
          "step": 100,
          "trial": 3,
          "weak_train_method": "weighted",
          "weak_weight": 0.1
         },
         {
          "collation_type": "no_weak",
          "experiment_tag": "ADR",
          "metric_name": "Token Precision",
          "metric_val": 0.82,
          "step": 10,
          "trial": 3,
          "weak_train_method": "weighted",
          "weak_weight": 0.1
         },
         {
          "collation_type": "no_weak",
          "experiment_tag": "ADR",
          "metric_name": "Token Precision",
          "metric_val": 0.85,
          "step": 50,
          "trial": 3,
          "weak_train_method": "weighted",
          "weak_weight": 0.1
         },
         {
          "collation_type": "no_weak",
          "experiment_tag": "ADR",
          "metric_name": "Token Precision",
          "metric_val": 0.76,
          "step": 100,
          "trial": 3,
          "weak_train_method": "weighted",
          "weak_weight": 0.1
         },
         {
          "collation_type": "no_weak",
          "experiment_tag": "ADR",
          "metric_name": "Token Recall",
          "metric_val": 0.54,
          "step": 10,
          "trial": 3,
          "weak_train_method": "weighted",
          "weak_weight": 0.1
         },
         {
          "collation_type": "no_weak",
          "experiment_tag": "ADR",
          "metric_name": "Token Recall",
          "metric_val": 0.55,
          "step": 50,
          "trial": 3,
          "weak_train_method": "weighted",
          "weak_weight": 0.1
         },
         {
          "collation_type": "no_weak",
          "experiment_tag": "ADR",
          "metric_name": "Token Recall",
          "metric_val": 0.73,
          "step": 100,
          "trial": 3,
          "weak_train_method": "weighted",
          "weak_weight": 0.1
         },
         {
          "collation_type": "no_weak",
          "experiment_tag": "ADR",
          "metric_name": "Span F1",
          "metric_val": 0.49,
          "step": 10,
          "trial": 3,
          "weak_train_method": "weighted",
          "weak_weight": 0.1
         },
         {
          "collation_type": "no_weak",
          "experiment_tag": "ADR",
          "metric_name": "Span F1",
          "metric_val": 0.55,
          "step": 50,
          "trial": 3,
          "weak_train_method": "weighted",
          "weak_weight": 0.1
         },
         {
          "collation_type": "no_weak",
          "experiment_tag": "ADR",
          "metric_name": "Span F1",
          "metric_val": 0.59,
          "step": 100,
          "trial": 3,
          "weak_train_method": "weighted",
          "weak_weight": 0.1
         },
         {
          "collation_type": "no_weak",
          "experiment_tag": "ADR",
          "metric_name": "Token F1",
          "metric_val": 0.65,
          "step": 10,
          "trial": 3,
          "weak_train_method": "weighted",
          "weak_weight": 1
         },
         {
          "collation_type": "no_weak",
          "experiment_tag": "ADR",
          "metric_name": "Token F1",
          "metric_val": 0.67,
          "step": 50,
          "trial": 3,
          "weak_train_method": "weighted",
          "weak_weight": 1
         },
         {
          "collation_type": "no_weak",
          "experiment_tag": "ADR",
          "metric_name": "Token F1",
          "metric_val": 0.74,
          "step": 100,
          "trial": 3,
          "weak_train_method": "weighted",
          "weak_weight": 1
         },
         {
          "collation_type": "no_weak",
          "experiment_tag": "ADR",
          "metric_name": "Token Precision",
          "metric_val": 0.82,
          "step": 10,
          "trial": 3,
          "weak_train_method": "weighted",
          "weak_weight": 1
         },
         {
          "collation_type": "no_weak",
          "experiment_tag": "ADR",
          "metric_name": "Token Precision",
          "metric_val": 0.85,
          "step": 50,
          "trial": 3,
          "weak_train_method": "weighted",
          "weak_weight": 1
         },
         {
          "collation_type": "no_weak",
          "experiment_tag": "ADR",
          "metric_name": "Token Precision",
          "metric_val": 0.76,
          "step": 100,
          "trial": 3,
          "weak_train_method": "weighted",
          "weak_weight": 1
         },
         {
          "collation_type": "no_weak",
          "experiment_tag": "ADR",
          "metric_name": "Token Recall",
          "metric_val": 0.54,
          "step": 10,
          "trial": 3,
          "weak_train_method": "weighted",
          "weak_weight": 1
         },
         {
          "collation_type": "no_weak",
          "experiment_tag": "ADR",
          "metric_name": "Token Recall",
          "metric_val": 0.55,
          "step": 50,
          "trial": 3,
          "weak_train_method": "weighted",
          "weak_weight": 1
         },
         {
          "collation_type": "no_weak",
          "experiment_tag": "ADR",
          "metric_name": "Token Recall",
          "metric_val": 0.73,
          "step": 100,
          "trial": 3,
          "weak_train_method": "weighted",
          "weak_weight": 1
         },
         {
          "collation_type": "no_weak",
          "experiment_tag": "ADR",
          "metric_name": "Span F1",
          "metric_val": 0.49,
          "step": 10,
          "trial": 3,
          "weak_train_method": "weighted",
          "weak_weight": 1
         },
         {
          "collation_type": "no_weak",
          "experiment_tag": "ADR",
          "metric_name": "Span F1",
          "metric_val": 0.55,
          "step": 50,
          "trial": 3,
          "weak_train_method": "weighted",
          "weak_weight": 1
         },
         {
          "collation_type": "no_weak",
          "experiment_tag": "ADR",
          "metric_name": "Span F1",
          "metric_val": 0.59,
          "step": 100,
          "trial": 3,
          "weak_train_method": "weighted",
          "weak_weight": 1
         },
         {
          "collation_type": "no_weak",
          "experiment_tag": "ADR",
          "metric_name": "Token F1",
          "metric_val": 0.58,
          "step": 10,
          "trial": 4,
          "weak_train_method": "fine_tune",
          "weak_weight": 0.01
         },
         {
          "collation_type": "no_weak",
          "experiment_tag": "ADR",
          "metric_name": "Token F1",
          "metric_val": 0.73,
          "step": 50,
          "trial": 4,
          "weak_train_method": "fine_tune",
          "weak_weight": 0.01
         },
         {
          "collation_type": "no_weak",
          "experiment_tag": "ADR",
          "metric_name": "Token F1",
          "metric_val": 0.69,
          "step": 100,
          "trial": 4,
          "weak_train_method": "fine_tune",
          "weak_weight": 0.01
         },
         {
          "collation_type": "no_weak",
          "experiment_tag": "ADR",
          "metric_name": "Token Precision",
          "metric_val": 0.86,
          "step": 10,
          "trial": 4,
          "weak_train_method": "fine_tune",
          "weak_weight": 0.01
         },
         {
          "collation_type": "no_weak",
          "experiment_tag": "ADR",
          "metric_name": "Token Precision",
          "metric_val": 0.69,
          "step": 50,
          "trial": 4,
          "weak_train_method": "fine_tune",
          "weak_weight": 0.01
         },
         {
          "collation_type": "no_weak",
          "experiment_tag": "ADR",
          "metric_name": "Token Precision",
          "metric_val": 0.79,
          "step": 100,
          "trial": 4,
          "weak_train_method": "fine_tune",
          "weak_weight": 0.01
         },
         {
          "collation_type": "no_weak",
          "experiment_tag": "ADR",
          "metric_name": "Token Recall",
          "metric_val": 0.43,
          "step": 10,
          "trial": 4,
          "weak_train_method": "fine_tune",
          "weak_weight": 0.01
         },
         {
          "collation_type": "no_weak",
          "experiment_tag": "ADR",
          "metric_name": "Token Recall",
          "metric_val": 0.77,
          "step": 50,
          "trial": 4,
          "weak_train_method": "fine_tune",
          "weak_weight": 0.01
         },
         {
          "collation_type": "no_weak",
          "experiment_tag": "ADR",
          "metric_name": "Token Recall",
          "metric_val": 0.62,
          "step": 100,
          "trial": 4,
          "weak_train_method": "fine_tune",
          "weak_weight": 0.01
         },
         {
          "collation_type": "no_weak",
          "experiment_tag": "ADR",
          "metric_name": "Span F1",
          "metric_val": 0.44,
          "step": 10,
          "trial": 4,
          "weak_train_method": "fine_tune",
          "weak_weight": 0.01
         },
         {
          "collation_type": "no_weak",
          "experiment_tag": "ADR",
          "metric_name": "Span F1",
          "metric_val": 0.46,
          "step": 50,
          "trial": 4,
          "weak_train_method": "fine_tune",
          "weak_weight": 0.01
         },
         {
          "collation_type": "no_weak",
          "experiment_tag": "ADR",
          "metric_name": "Span F1",
          "metric_val": 0.5,
          "step": 100,
          "trial": 4,
          "weak_train_method": "fine_tune",
          "weak_weight": 0.01
         },
         {
          "collation_type": "no_weak",
          "experiment_tag": "ADR",
          "metric_name": "Token F1",
          "metric_val": 0.58,
          "step": 10,
          "trial": 4,
          "weak_train_method": "fine_tune",
          "weak_weight": 0.1
         },
         {
          "collation_type": "no_weak",
          "experiment_tag": "ADR",
          "metric_name": "Token F1",
          "metric_val": 0.73,
          "step": 50,
          "trial": 4,
          "weak_train_method": "fine_tune",
          "weak_weight": 0.1
         },
         {
          "collation_type": "no_weak",
          "experiment_tag": "ADR",
          "metric_name": "Token F1",
          "metric_val": 0.69,
          "step": 100,
          "trial": 4,
          "weak_train_method": "fine_tune",
          "weak_weight": 0.1
         },
         {
          "collation_type": "no_weak",
          "experiment_tag": "ADR",
          "metric_name": "Token Precision",
          "metric_val": 0.86,
          "step": 10,
          "trial": 4,
          "weak_train_method": "fine_tune",
          "weak_weight": 0.1
         },
         {
          "collation_type": "no_weak",
          "experiment_tag": "ADR",
          "metric_name": "Token Precision",
          "metric_val": 0.69,
          "step": 50,
          "trial": 4,
          "weak_train_method": "fine_tune",
          "weak_weight": 0.1
         },
         {
          "collation_type": "no_weak",
          "experiment_tag": "ADR",
          "metric_name": "Token Precision",
          "metric_val": 0.79,
          "step": 100,
          "trial": 4,
          "weak_train_method": "fine_tune",
          "weak_weight": 0.1
         },
         {
          "collation_type": "no_weak",
          "experiment_tag": "ADR",
          "metric_name": "Token Recall",
          "metric_val": 0.43,
          "step": 10,
          "trial": 4,
          "weak_train_method": "fine_tune",
          "weak_weight": 0.1
         },
         {
          "collation_type": "no_weak",
          "experiment_tag": "ADR",
          "metric_name": "Token Recall",
          "metric_val": 0.77,
          "step": 50,
          "trial": 4,
          "weak_train_method": "fine_tune",
          "weak_weight": 0.1
         },
         {
          "collation_type": "no_weak",
          "experiment_tag": "ADR",
          "metric_name": "Token Recall",
          "metric_val": 0.62,
          "step": 100,
          "trial": 4,
          "weak_train_method": "fine_tune",
          "weak_weight": 0.1
         },
         {
          "collation_type": "no_weak",
          "experiment_tag": "ADR",
          "metric_name": "Span F1",
          "metric_val": 0.44,
          "step": 10,
          "trial": 4,
          "weak_train_method": "fine_tune",
          "weak_weight": 0.1
         },
         {
          "collation_type": "no_weak",
          "experiment_tag": "ADR",
          "metric_name": "Span F1",
          "metric_val": 0.46,
          "step": 50,
          "trial": 4,
          "weak_train_method": "fine_tune",
          "weak_weight": 0.1
         },
         {
          "collation_type": "no_weak",
          "experiment_tag": "ADR",
          "metric_name": "Span F1",
          "metric_val": 0.5,
          "step": 100,
          "trial": 4,
          "weak_train_method": "fine_tune",
          "weak_weight": 0.1
         },
         {
          "collation_type": "no_weak",
          "experiment_tag": "ADR",
          "metric_name": "Token F1",
          "metric_val": 0.58,
          "step": 10,
          "trial": 4,
          "weak_train_method": "fine_tune",
          "weak_weight": 1
         },
         {
          "collation_type": "no_weak",
          "experiment_tag": "ADR",
          "metric_name": "Token F1",
          "metric_val": 0.73,
          "step": 50,
          "trial": 4,
          "weak_train_method": "fine_tune",
          "weak_weight": 1
         },
         {
          "collation_type": "no_weak",
          "experiment_tag": "ADR",
          "metric_name": "Token F1",
          "metric_val": 0.69,
          "step": 100,
          "trial": 4,
          "weak_train_method": "fine_tune",
          "weak_weight": 1
         },
         {
          "collation_type": "no_weak",
          "experiment_tag": "ADR",
          "metric_name": "Token Precision",
          "metric_val": 0.86,
          "step": 10,
          "trial": 4,
          "weak_train_method": "fine_tune",
          "weak_weight": 1
         },
         {
          "collation_type": "no_weak",
          "experiment_tag": "ADR",
          "metric_name": "Token Precision",
          "metric_val": 0.69,
          "step": 50,
          "trial": 4,
          "weak_train_method": "fine_tune",
          "weak_weight": 1
         },
         {
          "collation_type": "no_weak",
          "experiment_tag": "ADR",
          "metric_name": "Token Precision",
          "metric_val": 0.79,
          "step": 100,
          "trial": 4,
          "weak_train_method": "fine_tune",
          "weak_weight": 1
         },
         {
          "collation_type": "no_weak",
          "experiment_tag": "ADR",
          "metric_name": "Token Recall",
          "metric_val": 0.43,
          "step": 10,
          "trial": 4,
          "weak_train_method": "fine_tune",
          "weak_weight": 1
         },
         {
          "collation_type": "no_weak",
          "experiment_tag": "ADR",
          "metric_name": "Token Recall",
          "metric_val": 0.77,
          "step": 50,
          "trial": 4,
          "weak_train_method": "fine_tune",
          "weak_weight": 1
         },
         {
          "collation_type": "no_weak",
          "experiment_tag": "ADR",
          "metric_name": "Token Recall",
          "metric_val": 0.62,
          "step": 100,
          "trial": 4,
          "weak_train_method": "fine_tune",
          "weak_weight": 1
         },
         {
          "collation_type": "no_weak",
          "experiment_tag": "ADR",
          "metric_name": "Span F1",
          "metric_val": 0.44,
          "step": 10,
          "trial": 4,
          "weak_train_method": "fine_tune",
          "weak_weight": 1
         },
         {
          "collation_type": "no_weak",
          "experiment_tag": "ADR",
          "metric_name": "Span F1",
          "metric_val": 0.46,
          "step": 50,
          "trial": 4,
          "weak_train_method": "fine_tune",
          "weak_weight": 1
         },
         {
          "collation_type": "no_weak",
          "experiment_tag": "ADR",
          "metric_name": "Span F1",
          "metric_val": 0.5,
          "step": 100,
          "trial": 4,
          "weak_train_method": "fine_tune",
          "weak_weight": 1
         },
         {
          "collation_type": "no_weak",
          "experiment_tag": "ADR",
          "metric_name": "Token F1",
          "metric_val": 0.58,
          "step": 10,
          "trial": 4,
          "weak_train_method": "weighted",
          "weak_weight": 0.01
         },
         {
          "collation_type": "no_weak",
          "experiment_tag": "ADR",
          "metric_name": "Token F1",
          "metric_val": 0.73,
          "step": 50,
          "trial": 4,
          "weak_train_method": "weighted",
          "weak_weight": 0.01
         },
         {
          "collation_type": "no_weak",
          "experiment_tag": "ADR",
          "metric_name": "Token F1",
          "metric_val": 0.69,
          "step": 100,
          "trial": 4,
          "weak_train_method": "weighted",
          "weak_weight": 0.01
         },
         {
          "collation_type": "no_weak",
          "experiment_tag": "ADR",
          "metric_name": "Token Precision",
          "metric_val": 0.86,
          "step": 10,
          "trial": 4,
          "weak_train_method": "weighted",
          "weak_weight": 0.01
         },
         {
          "collation_type": "no_weak",
          "experiment_tag": "ADR",
          "metric_name": "Token Precision",
          "metric_val": 0.69,
          "step": 50,
          "trial": 4,
          "weak_train_method": "weighted",
          "weak_weight": 0.01
         },
         {
          "collation_type": "no_weak",
          "experiment_tag": "ADR",
          "metric_name": "Token Precision",
          "metric_val": 0.79,
          "step": 100,
          "trial": 4,
          "weak_train_method": "weighted",
          "weak_weight": 0.01
         },
         {
          "collation_type": "no_weak",
          "experiment_tag": "ADR",
          "metric_name": "Token Recall",
          "metric_val": 0.43,
          "step": 10,
          "trial": 4,
          "weak_train_method": "weighted",
          "weak_weight": 0.01
         },
         {
          "collation_type": "no_weak",
          "experiment_tag": "ADR",
          "metric_name": "Token Recall",
          "metric_val": 0.77,
          "step": 50,
          "trial": 4,
          "weak_train_method": "weighted",
          "weak_weight": 0.01
         },
         {
          "collation_type": "no_weak",
          "experiment_tag": "ADR",
          "metric_name": "Token Recall",
          "metric_val": 0.62,
          "step": 100,
          "trial": 4,
          "weak_train_method": "weighted",
          "weak_weight": 0.01
         },
         {
          "collation_type": "no_weak",
          "experiment_tag": "ADR",
          "metric_name": "Span F1",
          "metric_val": 0.44,
          "step": 10,
          "trial": 4,
          "weak_train_method": "weighted",
          "weak_weight": 0.01
         },
         {
          "collation_type": "no_weak",
          "experiment_tag": "ADR",
          "metric_name": "Span F1",
          "metric_val": 0.46,
          "step": 50,
          "trial": 4,
          "weak_train_method": "weighted",
          "weak_weight": 0.01
         },
         {
          "collation_type": "no_weak",
          "experiment_tag": "ADR",
          "metric_name": "Span F1",
          "metric_val": 0.5,
          "step": 100,
          "trial": 4,
          "weak_train_method": "weighted",
          "weak_weight": 0.01
         },
         {
          "collation_type": "no_weak",
          "experiment_tag": "ADR",
          "metric_name": "Token F1",
          "metric_val": 0.58,
          "step": 10,
          "trial": 4,
          "weak_train_method": "weighted",
          "weak_weight": 0.1
         },
         {
          "collation_type": "no_weak",
          "experiment_tag": "ADR",
          "metric_name": "Token F1",
          "metric_val": 0.73,
          "step": 50,
          "trial": 4,
          "weak_train_method": "weighted",
          "weak_weight": 0.1
         },
         {
          "collation_type": "no_weak",
          "experiment_tag": "ADR",
          "metric_name": "Token F1",
          "metric_val": 0.69,
          "step": 100,
          "trial": 4,
          "weak_train_method": "weighted",
          "weak_weight": 0.1
         },
         {
          "collation_type": "no_weak",
          "experiment_tag": "ADR",
          "metric_name": "Token Precision",
          "metric_val": 0.86,
          "step": 10,
          "trial": 4,
          "weak_train_method": "weighted",
          "weak_weight": 0.1
         },
         {
          "collation_type": "no_weak",
          "experiment_tag": "ADR",
          "metric_name": "Token Precision",
          "metric_val": 0.69,
          "step": 50,
          "trial": 4,
          "weak_train_method": "weighted",
          "weak_weight": 0.1
         },
         {
          "collation_type": "no_weak",
          "experiment_tag": "ADR",
          "metric_name": "Token Precision",
          "metric_val": 0.79,
          "step": 100,
          "trial": 4,
          "weak_train_method": "weighted",
          "weak_weight": 0.1
         },
         {
          "collation_type": "no_weak",
          "experiment_tag": "ADR",
          "metric_name": "Token Recall",
          "metric_val": 0.43,
          "step": 10,
          "trial": 4,
          "weak_train_method": "weighted",
          "weak_weight": 0.1
         },
         {
          "collation_type": "no_weak",
          "experiment_tag": "ADR",
          "metric_name": "Token Recall",
          "metric_val": 0.77,
          "step": 50,
          "trial": 4,
          "weak_train_method": "weighted",
          "weak_weight": 0.1
         },
         {
          "collation_type": "no_weak",
          "experiment_tag": "ADR",
          "metric_name": "Token Recall",
          "metric_val": 0.62,
          "step": 100,
          "trial": 4,
          "weak_train_method": "weighted",
          "weak_weight": 0.1
         },
         {
          "collation_type": "no_weak",
          "experiment_tag": "ADR",
          "metric_name": "Span F1",
          "metric_val": 0.44,
          "step": 10,
          "trial": 4,
          "weak_train_method": "weighted",
          "weak_weight": 0.1
         },
         {
          "collation_type": "no_weak",
          "experiment_tag": "ADR",
          "metric_name": "Span F1",
          "metric_val": 0.46,
          "step": 50,
          "trial": 4,
          "weak_train_method": "weighted",
          "weak_weight": 0.1
         },
         {
          "collation_type": "no_weak",
          "experiment_tag": "ADR",
          "metric_name": "Span F1",
          "metric_val": 0.5,
          "step": 100,
          "trial": 4,
          "weak_train_method": "weighted",
          "weak_weight": 0.1
         },
         {
          "collation_type": "no_weak",
          "experiment_tag": "ADR",
          "metric_name": "Token F1",
          "metric_val": 0.58,
          "step": 10,
          "trial": 4,
          "weak_train_method": "weighted",
          "weak_weight": 1
         },
         {
          "collation_type": "no_weak",
          "experiment_tag": "ADR",
          "metric_name": "Token F1",
          "metric_val": 0.73,
          "step": 50,
          "trial": 4,
          "weak_train_method": "weighted",
          "weak_weight": 1
         },
         {
          "collation_type": "no_weak",
          "experiment_tag": "ADR",
          "metric_name": "Token F1",
          "metric_val": 0.69,
          "step": 100,
          "trial": 4,
          "weak_train_method": "weighted",
          "weak_weight": 1
         },
         {
          "collation_type": "no_weak",
          "experiment_tag": "ADR",
          "metric_name": "Token Precision",
          "metric_val": 0.86,
          "step": 10,
          "trial": 4,
          "weak_train_method": "weighted",
          "weak_weight": 1
         },
         {
          "collation_type": "no_weak",
          "experiment_tag": "ADR",
          "metric_name": "Token Precision",
          "metric_val": 0.69,
          "step": 50,
          "trial": 4,
          "weak_train_method": "weighted",
          "weak_weight": 1
         },
         {
          "collation_type": "no_weak",
          "experiment_tag": "ADR",
          "metric_name": "Token Precision",
          "metric_val": 0.79,
          "step": 100,
          "trial": 4,
          "weak_train_method": "weighted",
          "weak_weight": 1
         },
         {
          "collation_type": "no_weak",
          "experiment_tag": "ADR",
          "metric_name": "Token Recall",
          "metric_val": 0.43,
          "step": 10,
          "trial": 4,
          "weak_train_method": "weighted",
          "weak_weight": 1
         },
         {
          "collation_type": "no_weak",
          "experiment_tag": "ADR",
          "metric_name": "Token Recall",
          "metric_val": 0.77,
          "step": 50,
          "trial": 4,
          "weak_train_method": "weighted",
          "weak_weight": 1
         },
         {
          "collation_type": "no_weak",
          "experiment_tag": "ADR",
          "metric_name": "Token Recall",
          "metric_val": 0.62,
          "step": 100,
          "trial": 4,
          "weak_train_method": "weighted",
          "weak_weight": 1
         },
         {
          "collation_type": "no_weak",
          "experiment_tag": "ADR",
          "metric_name": "Span F1",
          "metric_val": 0.44,
          "step": 10,
          "trial": 4,
          "weak_train_method": "weighted",
          "weak_weight": 1
         },
         {
          "collation_type": "no_weak",
          "experiment_tag": "ADR",
          "metric_name": "Span F1",
          "metric_val": 0.46,
          "step": 50,
          "trial": 4,
          "weak_train_method": "weighted",
          "weak_weight": 1
         },
         {
          "collation_type": "no_weak",
          "experiment_tag": "ADR",
          "metric_name": "Span F1",
          "metric_val": 0.5,
          "step": 100,
          "trial": 4,
          "weak_train_method": "weighted",
          "weak_weight": 1
         },
         {
          "collation_type": "no_weak",
          "experiment_tag": "ADR",
          "metric_name": "Token F1",
          "metric_val": 0.2,
          "step": 10,
          "trial": 1,
          "weak_train_method": "fine_tune",
          "weak_weight": 0.01
         },
         {
          "collation_type": "no_weak",
          "experiment_tag": "ADR",
          "metric_name": "Token F1",
          "metric_val": 0.76,
          "step": 50,
          "trial": 1,
          "weak_train_method": "fine_tune",
          "weak_weight": 0.01
         },
         {
          "collation_type": "no_weak",
          "experiment_tag": "ADR",
          "metric_name": "Token F1",
          "metric_val": 0.76,
          "step": 100,
          "trial": 1,
          "weak_train_method": "fine_tune",
          "weak_weight": 0.01
         },
         {
          "collation_type": "no_weak",
          "experiment_tag": "ADR",
          "metric_name": "Token Precision",
          "metric_val": 0.9,
          "step": 10,
          "trial": 1,
          "weak_train_method": "fine_tune",
          "weak_weight": 0.01
         },
         {
          "collation_type": "no_weak",
          "experiment_tag": "ADR",
          "metric_name": "Token Precision",
          "metric_val": 0.74,
          "step": 50,
          "trial": 1,
          "weak_train_method": "fine_tune",
          "weak_weight": 0.01
         },
         {
          "collation_type": "no_weak",
          "experiment_tag": "ADR",
          "metric_name": "Token Precision",
          "metric_val": 0.71,
          "step": 100,
          "trial": 1,
          "weak_train_method": "fine_tune",
          "weak_weight": 0.01
         },
         {
          "collation_type": "no_weak",
          "experiment_tag": "ADR",
          "metric_name": "Token Recall",
          "metric_val": 0.11,
          "step": 10,
          "trial": 1,
          "weak_train_method": "fine_tune",
          "weak_weight": 0.01
         },
         {
          "collation_type": "no_weak",
          "experiment_tag": "ADR",
          "metric_name": "Token Recall",
          "metric_val": 0.78,
          "step": 50,
          "trial": 1,
          "weak_train_method": "fine_tune",
          "weak_weight": 0.01
         },
         {
          "collation_type": "no_weak",
          "experiment_tag": "ADR",
          "metric_name": "Token Recall",
          "metric_val": 0.81,
          "step": 100,
          "trial": 1,
          "weak_train_method": "fine_tune",
          "weak_weight": 0.01
         },
         {
          "collation_type": "no_weak",
          "experiment_tag": "ADR",
          "metric_name": "Span F1",
          "metric_val": 0.08,
          "step": 10,
          "trial": 1,
          "weak_train_method": "fine_tune",
          "weak_weight": 0.01
         },
         {
          "collation_type": "no_weak",
          "experiment_tag": "ADR",
          "metric_name": "Span F1",
          "metric_val": 0.59,
          "step": 50,
          "trial": 1,
          "weak_train_method": "fine_tune",
          "weak_weight": 0.01
         },
         {
          "collation_type": "no_weak",
          "experiment_tag": "ADR",
          "metric_name": "Span F1",
          "metric_val": 0.6,
          "step": 100,
          "trial": 1,
          "weak_train_method": "fine_tune",
          "weak_weight": 0.01
         },
         {
          "collation_type": "no_weak",
          "experiment_tag": "ADR",
          "metric_name": "Token F1",
          "metric_val": 0.2,
          "step": 10,
          "trial": 1,
          "weak_train_method": "fine_tune",
          "weak_weight": 0.1
         },
         {
          "collation_type": "no_weak",
          "experiment_tag": "ADR",
          "metric_name": "Token F1",
          "metric_val": 0.76,
          "step": 50,
          "trial": 1,
          "weak_train_method": "fine_tune",
          "weak_weight": 0.1
         },
         {
          "collation_type": "no_weak",
          "experiment_tag": "ADR",
          "metric_name": "Token F1",
          "metric_val": 0.76,
          "step": 100,
          "trial": 1,
          "weak_train_method": "fine_tune",
          "weak_weight": 0.1
         },
         {
          "collation_type": "no_weak",
          "experiment_tag": "ADR",
          "metric_name": "Token Precision",
          "metric_val": 0.9,
          "step": 10,
          "trial": 1,
          "weak_train_method": "fine_tune",
          "weak_weight": 0.1
         },
         {
          "collation_type": "no_weak",
          "experiment_tag": "ADR",
          "metric_name": "Token Precision",
          "metric_val": 0.74,
          "step": 50,
          "trial": 1,
          "weak_train_method": "fine_tune",
          "weak_weight": 0.1
         },
         {
          "collation_type": "no_weak",
          "experiment_tag": "ADR",
          "metric_name": "Token Precision",
          "metric_val": 0.71,
          "step": 100,
          "trial": 1,
          "weak_train_method": "fine_tune",
          "weak_weight": 0.1
         },
         {
          "collation_type": "no_weak",
          "experiment_tag": "ADR",
          "metric_name": "Token Recall",
          "metric_val": 0.11,
          "step": 10,
          "trial": 1,
          "weak_train_method": "fine_tune",
          "weak_weight": 0.1
         },
         {
          "collation_type": "no_weak",
          "experiment_tag": "ADR",
          "metric_name": "Token Recall",
          "metric_val": 0.78,
          "step": 50,
          "trial": 1,
          "weak_train_method": "fine_tune",
          "weak_weight": 0.1
         },
         {
          "collation_type": "no_weak",
          "experiment_tag": "ADR",
          "metric_name": "Token Recall",
          "metric_val": 0.81,
          "step": 100,
          "trial": 1,
          "weak_train_method": "fine_tune",
          "weak_weight": 0.1
         },
         {
          "collation_type": "no_weak",
          "experiment_tag": "ADR",
          "metric_name": "Span F1",
          "metric_val": 0.08,
          "step": 10,
          "trial": 1,
          "weak_train_method": "fine_tune",
          "weak_weight": 0.1
         },
         {
          "collation_type": "no_weak",
          "experiment_tag": "ADR",
          "metric_name": "Span F1",
          "metric_val": 0.59,
          "step": 50,
          "trial": 1,
          "weak_train_method": "fine_tune",
          "weak_weight": 0.1
         },
         {
          "collation_type": "no_weak",
          "experiment_tag": "ADR",
          "metric_name": "Span F1",
          "metric_val": 0.6,
          "step": 100,
          "trial": 1,
          "weak_train_method": "fine_tune",
          "weak_weight": 0.1
         },
         {
          "collation_type": "no_weak",
          "experiment_tag": "ADR",
          "metric_name": "Token F1",
          "metric_val": 0.2,
          "step": 10,
          "trial": 1,
          "weak_train_method": "fine_tune",
          "weak_weight": 1
         },
         {
          "collation_type": "no_weak",
          "experiment_tag": "ADR",
          "metric_name": "Token F1",
          "metric_val": 0.76,
          "step": 50,
          "trial": 1,
          "weak_train_method": "fine_tune",
          "weak_weight": 1
         },
         {
          "collation_type": "no_weak",
          "experiment_tag": "ADR",
          "metric_name": "Token F1",
          "metric_val": 0.76,
          "step": 100,
          "trial": 1,
          "weak_train_method": "fine_tune",
          "weak_weight": 1
         },
         {
          "collation_type": "no_weak",
          "experiment_tag": "ADR",
          "metric_name": "Token Precision",
          "metric_val": 0.9,
          "step": 10,
          "trial": 1,
          "weak_train_method": "fine_tune",
          "weak_weight": 1
         },
         {
          "collation_type": "no_weak",
          "experiment_tag": "ADR",
          "metric_name": "Token Precision",
          "metric_val": 0.74,
          "step": 50,
          "trial": 1,
          "weak_train_method": "fine_tune",
          "weak_weight": 1
         },
         {
          "collation_type": "no_weak",
          "experiment_tag": "ADR",
          "metric_name": "Token Precision",
          "metric_val": 0.71,
          "step": 100,
          "trial": 1,
          "weak_train_method": "fine_tune",
          "weak_weight": 1
         },
         {
          "collation_type": "no_weak",
          "experiment_tag": "ADR",
          "metric_name": "Token Recall",
          "metric_val": 0.11,
          "step": 10,
          "trial": 1,
          "weak_train_method": "fine_tune",
          "weak_weight": 1
         },
         {
          "collation_type": "no_weak",
          "experiment_tag": "ADR",
          "metric_name": "Token Recall",
          "metric_val": 0.78,
          "step": 50,
          "trial": 1,
          "weak_train_method": "fine_tune",
          "weak_weight": 1
         },
         {
          "collation_type": "no_weak",
          "experiment_tag": "ADR",
          "metric_name": "Token Recall",
          "metric_val": 0.81,
          "step": 100,
          "trial": 1,
          "weak_train_method": "fine_tune",
          "weak_weight": 1
         },
         {
          "collation_type": "no_weak",
          "experiment_tag": "ADR",
          "metric_name": "Span F1",
          "metric_val": 0.08,
          "step": 10,
          "trial": 1,
          "weak_train_method": "fine_tune",
          "weak_weight": 1
         },
         {
          "collation_type": "no_weak",
          "experiment_tag": "ADR",
          "metric_name": "Span F1",
          "metric_val": 0.59,
          "step": 50,
          "trial": 1,
          "weak_train_method": "fine_tune",
          "weak_weight": 1
         },
         {
          "collation_type": "no_weak",
          "experiment_tag": "ADR",
          "metric_name": "Span F1",
          "metric_val": 0.6,
          "step": 100,
          "trial": 1,
          "weak_train_method": "fine_tune",
          "weak_weight": 1
         },
         {
          "collation_type": "no_weak",
          "experiment_tag": "ADR",
          "metric_name": "Token F1",
          "metric_val": 0.2,
          "step": 10,
          "trial": 1,
          "weak_train_method": "weighted",
          "weak_weight": 0.01
         },
         {
          "collation_type": "no_weak",
          "experiment_tag": "ADR",
          "metric_name": "Token F1",
          "metric_val": 0.76,
          "step": 50,
          "trial": 1,
          "weak_train_method": "weighted",
          "weak_weight": 0.01
         },
         {
          "collation_type": "no_weak",
          "experiment_tag": "ADR",
          "metric_name": "Token F1",
          "metric_val": 0.76,
          "step": 100,
          "trial": 1,
          "weak_train_method": "weighted",
          "weak_weight": 0.01
         },
         {
          "collation_type": "no_weak",
          "experiment_tag": "ADR",
          "metric_name": "Token Precision",
          "metric_val": 0.9,
          "step": 10,
          "trial": 1,
          "weak_train_method": "weighted",
          "weak_weight": 0.01
         },
         {
          "collation_type": "no_weak",
          "experiment_tag": "ADR",
          "metric_name": "Token Precision",
          "metric_val": 0.74,
          "step": 50,
          "trial": 1,
          "weak_train_method": "weighted",
          "weak_weight": 0.01
         },
         {
          "collation_type": "no_weak",
          "experiment_tag": "ADR",
          "metric_name": "Token Precision",
          "metric_val": 0.71,
          "step": 100,
          "trial": 1,
          "weak_train_method": "weighted",
          "weak_weight": 0.01
         },
         {
          "collation_type": "no_weak",
          "experiment_tag": "ADR",
          "metric_name": "Token Recall",
          "metric_val": 0.11,
          "step": 10,
          "trial": 1,
          "weak_train_method": "weighted",
          "weak_weight": 0.01
         },
         {
          "collation_type": "no_weak",
          "experiment_tag": "ADR",
          "metric_name": "Token Recall",
          "metric_val": 0.78,
          "step": 50,
          "trial": 1,
          "weak_train_method": "weighted",
          "weak_weight": 0.01
         },
         {
          "collation_type": "no_weak",
          "experiment_tag": "ADR",
          "metric_name": "Token Recall",
          "metric_val": 0.81,
          "step": 100,
          "trial": 1,
          "weak_train_method": "weighted",
          "weak_weight": 0.01
         },
         {
          "collation_type": "no_weak",
          "experiment_tag": "ADR",
          "metric_name": "Span F1",
          "metric_val": 0.08,
          "step": 10,
          "trial": 1,
          "weak_train_method": "weighted",
          "weak_weight": 0.01
         },
         {
          "collation_type": "no_weak",
          "experiment_tag": "ADR",
          "metric_name": "Span F1",
          "metric_val": 0.59,
          "step": 50,
          "trial": 1,
          "weak_train_method": "weighted",
          "weak_weight": 0.01
         },
         {
          "collation_type": "no_weak",
          "experiment_tag": "ADR",
          "metric_name": "Span F1",
          "metric_val": 0.6,
          "step": 100,
          "trial": 1,
          "weak_train_method": "weighted",
          "weak_weight": 0.01
         },
         {
          "collation_type": "no_weak",
          "experiment_tag": "ADR",
          "metric_name": "Token F1",
          "metric_val": 0.2,
          "step": 10,
          "trial": 1,
          "weak_train_method": "weighted",
          "weak_weight": 0.1
         },
         {
          "collation_type": "no_weak",
          "experiment_tag": "ADR",
          "metric_name": "Token F1",
          "metric_val": 0.76,
          "step": 50,
          "trial": 1,
          "weak_train_method": "weighted",
          "weak_weight": 0.1
         },
         {
          "collation_type": "no_weak",
          "experiment_tag": "ADR",
          "metric_name": "Token F1",
          "metric_val": 0.76,
          "step": 100,
          "trial": 1,
          "weak_train_method": "weighted",
          "weak_weight": 0.1
         },
         {
          "collation_type": "no_weak",
          "experiment_tag": "ADR",
          "metric_name": "Token Precision",
          "metric_val": 0.9,
          "step": 10,
          "trial": 1,
          "weak_train_method": "weighted",
          "weak_weight": 0.1
         },
         {
          "collation_type": "no_weak",
          "experiment_tag": "ADR",
          "metric_name": "Token Precision",
          "metric_val": 0.74,
          "step": 50,
          "trial": 1,
          "weak_train_method": "weighted",
          "weak_weight": 0.1
         },
         {
          "collation_type": "no_weak",
          "experiment_tag": "ADR",
          "metric_name": "Token Precision",
          "metric_val": 0.71,
          "step": 100,
          "trial": 1,
          "weak_train_method": "weighted",
          "weak_weight": 0.1
         },
         {
          "collation_type": "no_weak",
          "experiment_tag": "ADR",
          "metric_name": "Token Recall",
          "metric_val": 0.11,
          "step": 10,
          "trial": 1,
          "weak_train_method": "weighted",
          "weak_weight": 0.1
         },
         {
          "collation_type": "no_weak",
          "experiment_tag": "ADR",
          "metric_name": "Token Recall",
          "metric_val": 0.78,
          "step": 50,
          "trial": 1,
          "weak_train_method": "weighted",
          "weak_weight": 0.1
         },
         {
          "collation_type": "no_weak",
          "experiment_tag": "ADR",
          "metric_name": "Token Recall",
          "metric_val": 0.81,
          "step": 100,
          "trial": 1,
          "weak_train_method": "weighted",
          "weak_weight": 0.1
         },
         {
          "collation_type": "no_weak",
          "experiment_tag": "ADR",
          "metric_name": "Span F1",
          "metric_val": 0.08,
          "step": 10,
          "trial": 1,
          "weak_train_method": "weighted",
          "weak_weight": 0.1
         },
         {
          "collation_type": "no_weak",
          "experiment_tag": "ADR",
          "metric_name": "Span F1",
          "metric_val": 0.59,
          "step": 50,
          "trial": 1,
          "weak_train_method": "weighted",
          "weak_weight": 0.1
         },
         {
          "collation_type": "no_weak",
          "experiment_tag": "ADR",
          "metric_name": "Span F1",
          "metric_val": 0.6,
          "step": 100,
          "trial": 1,
          "weak_train_method": "weighted",
          "weak_weight": 0.1
         },
         {
          "collation_type": "no_weak",
          "experiment_tag": "ADR",
          "metric_name": "Token F1",
          "metric_val": 0.2,
          "step": 10,
          "trial": 1,
          "weak_train_method": "weighted",
          "weak_weight": 1
         },
         {
          "collation_type": "no_weak",
          "experiment_tag": "ADR",
          "metric_name": "Token F1",
          "metric_val": 0.76,
          "step": 50,
          "trial": 1,
          "weak_train_method": "weighted",
          "weak_weight": 1
         },
         {
          "collation_type": "no_weak",
          "experiment_tag": "ADR",
          "metric_name": "Token F1",
          "metric_val": 0.76,
          "step": 100,
          "trial": 1,
          "weak_train_method": "weighted",
          "weak_weight": 1
         },
         {
          "collation_type": "no_weak",
          "experiment_tag": "ADR",
          "metric_name": "Token Precision",
          "metric_val": 0.9,
          "step": 10,
          "trial": 1,
          "weak_train_method": "weighted",
          "weak_weight": 1
         },
         {
          "collation_type": "no_weak",
          "experiment_tag": "ADR",
          "metric_name": "Token Precision",
          "metric_val": 0.74,
          "step": 50,
          "trial": 1,
          "weak_train_method": "weighted",
          "weak_weight": 1
         },
         {
          "collation_type": "no_weak",
          "experiment_tag": "ADR",
          "metric_name": "Token Precision",
          "metric_val": 0.71,
          "step": 100,
          "trial": 1,
          "weak_train_method": "weighted",
          "weak_weight": 1
         },
         {
          "collation_type": "no_weak",
          "experiment_tag": "ADR",
          "metric_name": "Token Recall",
          "metric_val": 0.11,
          "step": 10,
          "trial": 1,
          "weak_train_method": "weighted",
          "weak_weight": 1
         },
         {
          "collation_type": "no_weak",
          "experiment_tag": "ADR",
          "metric_name": "Token Recall",
          "metric_val": 0.78,
          "step": 50,
          "trial": 1,
          "weak_train_method": "weighted",
          "weak_weight": 1
         },
         {
          "collation_type": "no_weak",
          "experiment_tag": "ADR",
          "metric_name": "Token Recall",
          "metric_val": 0.81,
          "step": 100,
          "trial": 1,
          "weak_train_method": "weighted",
          "weak_weight": 1
         },
         {
          "collation_type": "no_weak",
          "experiment_tag": "ADR",
          "metric_name": "Span F1",
          "metric_val": 0.08,
          "step": 10,
          "trial": 1,
          "weak_train_method": "weighted",
          "weak_weight": 1
         },
         {
          "collation_type": "no_weak",
          "experiment_tag": "ADR",
          "metric_name": "Span F1",
          "metric_val": 0.59,
          "step": 50,
          "trial": 1,
          "weak_train_method": "weighted",
          "weak_weight": 1
         },
         {
          "collation_type": "no_weak",
          "experiment_tag": "ADR",
          "metric_name": "Span F1",
          "metric_val": 0.6,
          "step": 100,
          "trial": 1,
          "weak_train_method": "weighted",
          "weak_weight": 1
         },
         {
          "collation_type": "no_weak",
          "experiment_tag": "ADR",
          "metric_name": "Token F1",
          "metric_val": 0.63,
          "step": 10,
          "trial": 0,
          "weak_train_method": "fine_tune",
          "weak_weight": 0.01
         },
         {
          "collation_type": "no_weak",
          "experiment_tag": "ADR",
          "metric_name": "Token F1",
          "metric_val": 0.68,
          "step": 50,
          "trial": 0,
          "weak_train_method": "fine_tune",
          "weak_weight": 0.01
         },
         {
          "collation_type": "no_weak",
          "experiment_tag": "ADR",
          "metric_name": "Token F1",
          "metric_val": 0.76,
          "step": 100,
          "trial": 0,
          "weak_train_method": "fine_tune",
          "weak_weight": 0.01
         },
         {
          "collation_type": "no_weak",
          "experiment_tag": "ADR",
          "metric_name": "Token Precision",
          "metric_val": 0.83,
          "step": 10,
          "trial": 0,
          "weak_train_method": "fine_tune",
          "weak_weight": 0.01
         },
         {
          "collation_type": "no_weak",
          "experiment_tag": "ADR",
          "metric_name": "Token Precision",
          "metric_val": 0.65,
          "step": 50,
          "trial": 0,
          "weak_train_method": "fine_tune",
          "weak_weight": 0.01
         },
         {
          "collation_type": "no_weak",
          "experiment_tag": "ADR",
          "metric_name": "Token Precision",
          "metric_val": 0.76,
          "step": 100,
          "trial": 0,
          "weak_train_method": "fine_tune",
          "weak_weight": 0.01
         },
         {
          "collation_type": "no_weak",
          "experiment_tag": "ADR",
          "metric_name": "Token Recall",
          "metric_val": 0.5,
          "step": 10,
          "trial": 0,
          "weak_train_method": "fine_tune",
          "weak_weight": 0.01
         },
         {
          "collation_type": "no_weak",
          "experiment_tag": "ADR",
          "metric_name": "Token Recall",
          "metric_val": 0.71,
          "step": 50,
          "trial": 0,
          "weak_train_method": "fine_tune",
          "weak_weight": 0.01
         },
         {
          "collation_type": "no_weak",
          "experiment_tag": "ADR",
          "metric_name": "Token Recall",
          "metric_val": 0.75,
          "step": 100,
          "trial": 0,
          "weak_train_method": "fine_tune",
          "weak_weight": 0.01
         },
         {
          "collation_type": "no_weak",
          "experiment_tag": "ADR",
          "metric_name": "Span F1",
          "metric_val": 0.5,
          "step": 10,
          "trial": 0,
          "weak_train_method": "fine_tune",
          "weak_weight": 0.01
         },
         {
          "collation_type": "no_weak",
          "experiment_tag": "ADR",
          "metric_name": "Span F1",
          "metric_val": 0.58,
          "step": 50,
          "trial": 0,
          "weak_train_method": "fine_tune",
          "weak_weight": 0.01
         },
         {
          "collation_type": "no_weak",
          "experiment_tag": "ADR",
          "metric_name": "Span F1",
          "metric_val": 0.61,
          "step": 100,
          "trial": 0,
          "weak_train_method": "fine_tune",
          "weak_weight": 0.01
         },
         {
          "collation_type": "no_weak",
          "experiment_tag": "ADR",
          "metric_name": "Token F1",
          "metric_val": 0.63,
          "step": 10,
          "trial": 0,
          "weak_train_method": "fine_tune",
          "weak_weight": 0.1
         },
         {
          "collation_type": "no_weak",
          "experiment_tag": "ADR",
          "metric_name": "Token F1",
          "metric_val": 0.68,
          "step": 50,
          "trial": 0,
          "weak_train_method": "fine_tune",
          "weak_weight": 0.1
         },
         {
          "collation_type": "no_weak",
          "experiment_tag": "ADR",
          "metric_name": "Token F1",
          "metric_val": 0.76,
          "step": 100,
          "trial": 0,
          "weak_train_method": "fine_tune",
          "weak_weight": 0.1
         },
         {
          "collation_type": "no_weak",
          "experiment_tag": "ADR",
          "metric_name": "Token Precision",
          "metric_val": 0.83,
          "step": 10,
          "trial": 0,
          "weak_train_method": "fine_tune",
          "weak_weight": 0.1
         },
         {
          "collation_type": "no_weak",
          "experiment_tag": "ADR",
          "metric_name": "Token Precision",
          "metric_val": 0.65,
          "step": 50,
          "trial": 0,
          "weak_train_method": "fine_tune",
          "weak_weight": 0.1
         },
         {
          "collation_type": "no_weak",
          "experiment_tag": "ADR",
          "metric_name": "Token Precision",
          "metric_val": 0.76,
          "step": 100,
          "trial": 0,
          "weak_train_method": "fine_tune",
          "weak_weight": 0.1
         },
         {
          "collation_type": "no_weak",
          "experiment_tag": "ADR",
          "metric_name": "Token Recall",
          "metric_val": 0.5,
          "step": 10,
          "trial": 0,
          "weak_train_method": "fine_tune",
          "weak_weight": 0.1
         },
         {
          "collation_type": "no_weak",
          "experiment_tag": "ADR",
          "metric_name": "Token Recall",
          "metric_val": 0.71,
          "step": 50,
          "trial": 0,
          "weak_train_method": "fine_tune",
          "weak_weight": 0.1
         },
         {
          "collation_type": "no_weak",
          "experiment_tag": "ADR",
          "metric_name": "Token Recall",
          "metric_val": 0.75,
          "step": 100,
          "trial": 0,
          "weak_train_method": "fine_tune",
          "weak_weight": 0.1
         },
         {
          "collation_type": "no_weak",
          "experiment_tag": "ADR",
          "metric_name": "Span F1",
          "metric_val": 0.5,
          "step": 10,
          "trial": 0,
          "weak_train_method": "fine_tune",
          "weak_weight": 0.1
         },
         {
          "collation_type": "no_weak",
          "experiment_tag": "ADR",
          "metric_name": "Span F1",
          "metric_val": 0.58,
          "step": 50,
          "trial": 0,
          "weak_train_method": "fine_tune",
          "weak_weight": 0.1
         },
         {
          "collation_type": "no_weak",
          "experiment_tag": "ADR",
          "metric_name": "Span F1",
          "metric_val": 0.61,
          "step": 100,
          "trial": 0,
          "weak_train_method": "fine_tune",
          "weak_weight": 0.1
         },
         {
          "collation_type": "no_weak",
          "experiment_tag": "ADR",
          "metric_name": "Token F1",
          "metric_val": 0.63,
          "step": 10,
          "trial": 0,
          "weak_train_method": "fine_tune",
          "weak_weight": 1
         },
         {
          "collation_type": "no_weak",
          "experiment_tag": "ADR",
          "metric_name": "Token F1",
          "metric_val": 0.68,
          "step": 50,
          "trial": 0,
          "weak_train_method": "fine_tune",
          "weak_weight": 1
         },
         {
          "collation_type": "no_weak",
          "experiment_tag": "ADR",
          "metric_name": "Token F1",
          "metric_val": 0.76,
          "step": 100,
          "trial": 0,
          "weak_train_method": "fine_tune",
          "weak_weight": 1
         },
         {
          "collation_type": "no_weak",
          "experiment_tag": "ADR",
          "metric_name": "Token Precision",
          "metric_val": 0.83,
          "step": 10,
          "trial": 0,
          "weak_train_method": "fine_tune",
          "weak_weight": 1
         },
         {
          "collation_type": "no_weak",
          "experiment_tag": "ADR",
          "metric_name": "Token Precision",
          "metric_val": 0.65,
          "step": 50,
          "trial": 0,
          "weak_train_method": "fine_tune",
          "weak_weight": 1
         },
         {
          "collation_type": "no_weak",
          "experiment_tag": "ADR",
          "metric_name": "Token Precision",
          "metric_val": 0.76,
          "step": 100,
          "trial": 0,
          "weak_train_method": "fine_tune",
          "weak_weight": 1
         },
         {
          "collation_type": "no_weak",
          "experiment_tag": "ADR",
          "metric_name": "Token Recall",
          "metric_val": 0.5,
          "step": 10,
          "trial": 0,
          "weak_train_method": "fine_tune",
          "weak_weight": 1
         },
         {
          "collation_type": "no_weak",
          "experiment_tag": "ADR",
          "metric_name": "Token Recall",
          "metric_val": 0.71,
          "step": 50,
          "trial": 0,
          "weak_train_method": "fine_tune",
          "weak_weight": 1
         },
         {
          "collation_type": "no_weak",
          "experiment_tag": "ADR",
          "metric_name": "Token Recall",
          "metric_val": 0.75,
          "step": 100,
          "trial": 0,
          "weak_train_method": "fine_tune",
          "weak_weight": 1
         },
         {
          "collation_type": "no_weak",
          "experiment_tag": "ADR",
          "metric_name": "Span F1",
          "metric_val": 0.5,
          "step": 10,
          "trial": 0,
          "weak_train_method": "fine_tune",
          "weak_weight": 1
         },
         {
          "collation_type": "no_weak",
          "experiment_tag": "ADR",
          "metric_name": "Span F1",
          "metric_val": 0.58,
          "step": 50,
          "trial": 0,
          "weak_train_method": "fine_tune",
          "weak_weight": 1
         },
         {
          "collation_type": "no_weak",
          "experiment_tag": "ADR",
          "metric_name": "Span F1",
          "metric_val": 0.61,
          "step": 100,
          "trial": 0,
          "weak_train_method": "fine_tune",
          "weak_weight": 1
         },
         {
          "collation_type": "no_weak",
          "experiment_tag": "ADR",
          "metric_name": "Token F1",
          "metric_val": 0.63,
          "step": 10,
          "trial": 0,
          "weak_train_method": "weighted",
          "weak_weight": 0.01
         },
         {
          "collation_type": "no_weak",
          "experiment_tag": "ADR",
          "metric_name": "Token F1",
          "metric_val": 0.68,
          "step": 50,
          "trial": 0,
          "weak_train_method": "weighted",
          "weak_weight": 0.01
         },
         {
          "collation_type": "no_weak",
          "experiment_tag": "ADR",
          "metric_name": "Token F1",
          "metric_val": 0.76,
          "step": 100,
          "trial": 0,
          "weak_train_method": "weighted",
          "weak_weight": 0.01
         },
         {
          "collation_type": "no_weak",
          "experiment_tag": "ADR",
          "metric_name": "Token Precision",
          "metric_val": 0.83,
          "step": 10,
          "trial": 0,
          "weak_train_method": "weighted",
          "weak_weight": 0.01
         },
         {
          "collation_type": "no_weak",
          "experiment_tag": "ADR",
          "metric_name": "Token Precision",
          "metric_val": 0.65,
          "step": 50,
          "trial": 0,
          "weak_train_method": "weighted",
          "weak_weight": 0.01
         },
         {
          "collation_type": "no_weak",
          "experiment_tag": "ADR",
          "metric_name": "Token Precision",
          "metric_val": 0.76,
          "step": 100,
          "trial": 0,
          "weak_train_method": "weighted",
          "weak_weight": 0.01
         },
         {
          "collation_type": "no_weak",
          "experiment_tag": "ADR",
          "metric_name": "Token Recall",
          "metric_val": 0.5,
          "step": 10,
          "trial": 0,
          "weak_train_method": "weighted",
          "weak_weight": 0.01
         },
         {
          "collation_type": "no_weak",
          "experiment_tag": "ADR",
          "metric_name": "Token Recall",
          "metric_val": 0.71,
          "step": 50,
          "trial": 0,
          "weak_train_method": "weighted",
          "weak_weight": 0.01
         },
         {
          "collation_type": "no_weak",
          "experiment_tag": "ADR",
          "metric_name": "Token Recall",
          "metric_val": 0.75,
          "step": 100,
          "trial": 0,
          "weak_train_method": "weighted",
          "weak_weight": 0.01
         },
         {
          "collation_type": "no_weak",
          "experiment_tag": "ADR",
          "metric_name": "Span F1",
          "metric_val": 0.5,
          "step": 10,
          "trial": 0,
          "weak_train_method": "weighted",
          "weak_weight": 0.01
         },
         {
          "collation_type": "no_weak",
          "experiment_tag": "ADR",
          "metric_name": "Span F1",
          "metric_val": 0.58,
          "step": 50,
          "trial": 0,
          "weak_train_method": "weighted",
          "weak_weight": 0.01
         },
         {
          "collation_type": "no_weak",
          "experiment_tag": "ADR",
          "metric_name": "Span F1",
          "metric_val": 0.61,
          "step": 100,
          "trial": 0,
          "weak_train_method": "weighted",
          "weak_weight": 0.01
         },
         {
          "collation_type": "no_weak",
          "experiment_tag": "ADR",
          "metric_name": "Token F1",
          "metric_val": 0.63,
          "step": 10,
          "trial": 0,
          "weak_train_method": "weighted",
          "weak_weight": 0.1
         },
         {
          "collation_type": "no_weak",
          "experiment_tag": "ADR",
          "metric_name": "Token F1",
          "metric_val": 0.68,
          "step": 50,
          "trial": 0,
          "weak_train_method": "weighted",
          "weak_weight": 0.1
         },
         {
          "collation_type": "no_weak",
          "experiment_tag": "ADR",
          "metric_name": "Token F1",
          "metric_val": 0.76,
          "step": 100,
          "trial": 0,
          "weak_train_method": "weighted",
          "weak_weight": 0.1
         },
         {
          "collation_type": "no_weak",
          "experiment_tag": "ADR",
          "metric_name": "Token Precision",
          "metric_val": 0.83,
          "step": 10,
          "trial": 0,
          "weak_train_method": "weighted",
          "weak_weight": 0.1
         },
         {
          "collation_type": "no_weak",
          "experiment_tag": "ADR",
          "metric_name": "Token Precision",
          "metric_val": 0.65,
          "step": 50,
          "trial": 0,
          "weak_train_method": "weighted",
          "weak_weight": 0.1
         },
         {
          "collation_type": "no_weak",
          "experiment_tag": "ADR",
          "metric_name": "Token Precision",
          "metric_val": 0.76,
          "step": 100,
          "trial": 0,
          "weak_train_method": "weighted",
          "weak_weight": 0.1
         },
         {
          "collation_type": "no_weak",
          "experiment_tag": "ADR",
          "metric_name": "Token Recall",
          "metric_val": 0.5,
          "step": 10,
          "trial": 0,
          "weak_train_method": "weighted",
          "weak_weight": 0.1
         },
         {
          "collation_type": "no_weak",
          "experiment_tag": "ADR",
          "metric_name": "Token Recall",
          "metric_val": 0.71,
          "step": 50,
          "trial": 0,
          "weak_train_method": "weighted",
          "weak_weight": 0.1
         },
         {
          "collation_type": "no_weak",
          "experiment_tag": "ADR",
          "metric_name": "Token Recall",
          "metric_val": 0.75,
          "step": 100,
          "trial": 0,
          "weak_train_method": "weighted",
          "weak_weight": 0.1
         },
         {
          "collation_type": "no_weak",
          "experiment_tag": "ADR",
          "metric_name": "Span F1",
          "metric_val": 0.5,
          "step": 10,
          "trial": 0,
          "weak_train_method": "weighted",
          "weak_weight": 0.1
         },
         {
          "collation_type": "no_weak",
          "experiment_tag": "ADR",
          "metric_name": "Span F1",
          "metric_val": 0.58,
          "step": 50,
          "trial": 0,
          "weak_train_method": "weighted",
          "weak_weight": 0.1
         },
         {
          "collation_type": "no_weak",
          "experiment_tag": "ADR",
          "metric_name": "Span F1",
          "metric_val": 0.61,
          "step": 100,
          "trial": 0,
          "weak_train_method": "weighted",
          "weak_weight": 0.1
         },
         {
          "collation_type": "no_weak",
          "experiment_tag": "ADR",
          "metric_name": "Token F1",
          "metric_val": 0.63,
          "step": 10,
          "trial": 0,
          "weak_train_method": "weighted",
          "weak_weight": 1
         },
         {
          "collation_type": "no_weak",
          "experiment_tag": "ADR",
          "metric_name": "Token F1",
          "metric_val": 0.68,
          "step": 50,
          "trial": 0,
          "weak_train_method": "weighted",
          "weak_weight": 1
         },
         {
          "collation_type": "no_weak",
          "experiment_tag": "ADR",
          "metric_name": "Token F1",
          "metric_val": 0.76,
          "step": 100,
          "trial": 0,
          "weak_train_method": "weighted",
          "weak_weight": 1
         },
         {
          "collation_type": "no_weak",
          "experiment_tag": "ADR",
          "metric_name": "Token Precision",
          "metric_val": 0.83,
          "step": 10,
          "trial": 0,
          "weak_train_method": "weighted",
          "weak_weight": 1
         },
         {
          "collation_type": "no_weak",
          "experiment_tag": "ADR",
          "metric_name": "Token Precision",
          "metric_val": 0.65,
          "step": 50,
          "trial": 0,
          "weak_train_method": "weighted",
          "weak_weight": 1
         },
         {
          "collation_type": "no_weak",
          "experiment_tag": "ADR",
          "metric_name": "Token Precision",
          "metric_val": 0.76,
          "step": 100,
          "trial": 0,
          "weak_train_method": "weighted",
          "weak_weight": 1
         },
         {
          "collation_type": "no_weak",
          "experiment_tag": "ADR",
          "metric_name": "Token Recall",
          "metric_val": 0.5,
          "step": 10,
          "trial": 0,
          "weak_train_method": "weighted",
          "weak_weight": 1
         },
         {
          "collation_type": "no_weak",
          "experiment_tag": "ADR",
          "metric_name": "Token Recall",
          "metric_val": 0.71,
          "step": 50,
          "trial": 0,
          "weak_train_method": "weighted",
          "weak_weight": 1
         },
         {
          "collation_type": "no_weak",
          "experiment_tag": "ADR",
          "metric_name": "Token Recall",
          "metric_val": 0.75,
          "step": 100,
          "trial": 0,
          "weak_train_method": "weighted",
          "weak_weight": 1
         },
         {
          "collation_type": "no_weak",
          "experiment_tag": "ADR",
          "metric_name": "Span F1",
          "metric_val": 0.5,
          "step": 10,
          "trial": 0,
          "weak_train_method": "weighted",
          "weak_weight": 1
         },
         {
          "collation_type": "no_weak",
          "experiment_tag": "ADR",
          "metric_name": "Span F1",
          "metric_val": 0.58,
          "step": 50,
          "trial": 0,
          "weak_train_method": "weighted",
          "weak_weight": 1
         },
         {
          "collation_type": "no_weak",
          "experiment_tag": "ADR",
          "metric_name": "Span F1",
          "metric_val": 0.61,
          "step": 100,
          "trial": 0,
          "weak_train_method": "weighted",
          "weak_weight": 1
         },
         {
          "collation_type": "linear",
          "experiment_tag": "ADR",
          "metric_name": "Token F1",
          "metric_val": 0.66,
          "step": 10,
          "trial": 2,
          "weak_train_method": "fine_tune",
          "weak_weight": 0.01
         },
         {
          "collation_type": "linear",
          "experiment_tag": "ADR",
          "metric_name": "Token F1",
          "metric_val": 0.73,
          "step": 50,
          "trial": 2,
          "weak_train_method": "fine_tune",
          "weak_weight": 0.01
         },
         {
          "collation_type": "linear",
          "experiment_tag": "ADR",
          "metric_name": "Token F1",
          "metric_val": 0.76,
          "step": 100,
          "trial": 2,
          "weak_train_method": "fine_tune",
          "weak_weight": 0.01
         },
         {
          "collation_type": "linear",
          "experiment_tag": "ADR",
          "metric_name": "Token Precision",
          "metric_val": 0.77,
          "step": 10,
          "trial": 2,
          "weak_train_method": "fine_tune",
          "weak_weight": 0.01
         },
         {
          "collation_type": "linear",
          "experiment_tag": "ADR",
          "metric_name": "Token Precision",
          "metric_val": 0.79,
          "step": 50,
          "trial": 2,
          "weak_train_method": "fine_tune",
          "weak_weight": 0.01
         },
         {
          "collation_type": "linear",
          "experiment_tag": "ADR",
          "metric_name": "Token Precision",
          "metric_val": 0.77,
          "step": 100,
          "trial": 2,
          "weak_train_method": "fine_tune",
          "weak_weight": 0.01
         },
         {
          "collation_type": "linear",
          "experiment_tag": "ADR",
          "metric_name": "Token Recall",
          "metric_val": 0.59,
          "step": 10,
          "trial": 2,
          "weak_train_method": "fine_tune",
          "weak_weight": 0.01
         },
         {
          "collation_type": "linear",
          "experiment_tag": "ADR",
          "metric_name": "Token Recall",
          "metric_val": 0.68,
          "step": 50,
          "trial": 2,
          "weak_train_method": "fine_tune",
          "weak_weight": 0.01
         },
         {
          "collation_type": "linear",
          "experiment_tag": "ADR",
          "metric_name": "Token Recall",
          "metric_val": 0.75,
          "step": 100,
          "trial": 2,
          "weak_train_method": "fine_tune",
          "weak_weight": 0.01
         },
         {
          "collation_type": "linear",
          "experiment_tag": "ADR",
          "metric_name": "Span F1",
          "metric_val": 0.51,
          "step": 10,
          "trial": 2,
          "weak_train_method": "fine_tune",
          "weak_weight": 0.01
         },
         {
          "collation_type": "linear",
          "experiment_tag": "ADR",
          "metric_name": "Span F1",
          "metric_val": 0.6,
          "step": 50,
          "trial": 2,
          "weak_train_method": "fine_tune",
          "weak_weight": 0.01
         },
         {
          "collation_type": "linear",
          "experiment_tag": "ADR",
          "metric_name": "Span F1",
          "metric_val": 0.6,
          "step": 100,
          "trial": 2,
          "weak_train_method": "fine_tune",
          "weak_weight": 0.01
         },
         {
          "collation_type": "linear",
          "experiment_tag": "ADR",
          "metric_name": "Token F1",
          "metric_val": 0.66,
          "step": 10,
          "trial": 2,
          "weak_train_method": "fine_tune",
          "weak_weight": 0.1
         },
         {
          "collation_type": "linear",
          "experiment_tag": "ADR",
          "metric_name": "Token F1",
          "metric_val": 0.73,
          "step": 50,
          "trial": 2,
          "weak_train_method": "fine_tune",
          "weak_weight": 0.1
         },
         {
          "collation_type": "linear",
          "experiment_tag": "ADR",
          "metric_name": "Token F1",
          "metric_val": 0.76,
          "step": 100,
          "trial": 2,
          "weak_train_method": "fine_tune",
          "weak_weight": 0.1
         },
         {
          "collation_type": "linear",
          "experiment_tag": "ADR",
          "metric_name": "Token Precision",
          "metric_val": 0.77,
          "step": 10,
          "trial": 2,
          "weak_train_method": "fine_tune",
          "weak_weight": 0.1
         },
         {
          "collation_type": "linear",
          "experiment_tag": "ADR",
          "metric_name": "Token Precision",
          "metric_val": 0.79,
          "step": 50,
          "trial": 2,
          "weak_train_method": "fine_tune",
          "weak_weight": 0.1
         },
         {
          "collation_type": "linear",
          "experiment_tag": "ADR",
          "metric_name": "Token Precision",
          "metric_val": 0.77,
          "step": 100,
          "trial": 2,
          "weak_train_method": "fine_tune",
          "weak_weight": 0.1
         },
         {
          "collation_type": "linear",
          "experiment_tag": "ADR",
          "metric_name": "Token Recall",
          "metric_val": 0.59,
          "step": 10,
          "trial": 2,
          "weak_train_method": "fine_tune",
          "weak_weight": 0.1
         },
         {
          "collation_type": "linear",
          "experiment_tag": "ADR",
          "metric_name": "Token Recall",
          "metric_val": 0.68,
          "step": 50,
          "trial": 2,
          "weak_train_method": "fine_tune",
          "weak_weight": 0.1
         },
         {
          "collation_type": "linear",
          "experiment_tag": "ADR",
          "metric_name": "Token Recall",
          "metric_val": 0.75,
          "step": 100,
          "trial": 2,
          "weak_train_method": "fine_tune",
          "weak_weight": 0.1
         },
         {
          "collation_type": "linear",
          "experiment_tag": "ADR",
          "metric_name": "Span F1",
          "metric_val": 0.51,
          "step": 10,
          "trial": 2,
          "weak_train_method": "fine_tune",
          "weak_weight": 0.1
         },
         {
          "collation_type": "linear",
          "experiment_tag": "ADR",
          "metric_name": "Span F1",
          "metric_val": 0.6,
          "step": 50,
          "trial": 2,
          "weak_train_method": "fine_tune",
          "weak_weight": 0.1
         },
         {
          "collation_type": "linear",
          "experiment_tag": "ADR",
          "metric_name": "Span F1",
          "metric_val": 0.6,
          "step": 100,
          "trial": 2,
          "weak_train_method": "fine_tune",
          "weak_weight": 0.1
         },
         {
          "collation_type": "linear",
          "experiment_tag": "ADR",
          "metric_name": "Token F1",
          "metric_val": 0.66,
          "step": 10,
          "trial": 2,
          "weak_train_method": "fine_tune",
          "weak_weight": 1
         },
         {
          "collation_type": "linear",
          "experiment_tag": "ADR",
          "metric_name": "Token F1",
          "metric_val": 0.73,
          "step": 50,
          "trial": 2,
          "weak_train_method": "fine_tune",
          "weak_weight": 1
         },
         {
          "collation_type": "linear",
          "experiment_tag": "ADR",
          "metric_name": "Token F1",
          "metric_val": 0.76,
          "step": 100,
          "trial": 2,
          "weak_train_method": "fine_tune",
          "weak_weight": 1
         },
         {
          "collation_type": "linear",
          "experiment_tag": "ADR",
          "metric_name": "Token Precision",
          "metric_val": 0.77,
          "step": 10,
          "trial": 2,
          "weak_train_method": "fine_tune",
          "weak_weight": 1
         },
         {
          "collation_type": "linear",
          "experiment_tag": "ADR",
          "metric_name": "Token Precision",
          "metric_val": 0.79,
          "step": 50,
          "trial": 2,
          "weak_train_method": "fine_tune",
          "weak_weight": 1
         },
         {
          "collation_type": "linear",
          "experiment_tag": "ADR",
          "metric_name": "Token Precision",
          "metric_val": 0.77,
          "step": 100,
          "trial": 2,
          "weak_train_method": "fine_tune",
          "weak_weight": 1
         },
         {
          "collation_type": "linear",
          "experiment_tag": "ADR",
          "metric_name": "Token Recall",
          "metric_val": 0.59,
          "step": 10,
          "trial": 2,
          "weak_train_method": "fine_tune",
          "weak_weight": 1
         },
         {
          "collation_type": "linear",
          "experiment_tag": "ADR",
          "metric_name": "Token Recall",
          "metric_val": 0.68,
          "step": 50,
          "trial": 2,
          "weak_train_method": "fine_tune",
          "weak_weight": 1
         },
         {
          "collation_type": "linear",
          "experiment_tag": "ADR",
          "metric_name": "Token Recall",
          "metric_val": 0.75,
          "step": 100,
          "trial": 2,
          "weak_train_method": "fine_tune",
          "weak_weight": 1
         },
         {
          "collation_type": "linear",
          "experiment_tag": "ADR",
          "metric_name": "Span F1",
          "metric_val": 0.51,
          "step": 10,
          "trial": 2,
          "weak_train_method": "fine_tune",
          "weak_weight": 1
         },
         {
          "collation_type": "linear",
          "experiment_tag": "ADR",
          "metric_name": "Span F1",
          "metric_val": 0.6,
          "step": 50,
          "trial": 2,
          "weak_train_method": "fine_tune",
          "weak_weight": 1
         },
         {
          "collation_type": "linear",
          "experiment_tag": "ADR",
          "metric_name": "Span F1",
          "metric_val": 0.6,
          "step": 100,
          "trial": 2,
          "weak_train_method": "fine_tune",
          "weak_weight": 1
         },
         {
          "collation_type": "linear",
          "experiment_tag": "ADR",
          "metric_name": "Token F1",
          "metric_val": 0.66,
          "step": 10,
          "trial": 2,
          "weak_train_method": "weighted",
          "weak_weight": 0.01
         },
         {
          "collation_type": "linear",
          "experiment_tag": "ADR",
          "metric_name": "Token F1",
          "metric_val": 0.73,
          "step": 50,
          "trial": 2,
          "weak_train_method": "weighted",
          "weak_weight": 0.01
         },
         {
          "collation_type": "linear",
          "experiment_tag": "ADR",
          "metric_name": "Token F1",
          "metric_val": 0.76,
          "step": 100,
          "trial": 2,
          "weak_train_method": "weighted",
          "weak_weight": 0.01
         },
         {
          "collation_type": "linear",
          "experiment_tag": "ADR",
          "metric_name": "Token Precision",
          "metric_val": 0.77,
          "step": 10,
          "trial": 2,
          "weak_train_method": "weighted",
          "weak_weight": 0.01
         },
         {
          "collation_type": "linear",
          "experiment_tag": "ADR",
          "metric_name": "Token Precision",
          "metric_val": 0.79,
          "step": 50,
          "trial": 2,
          "weak_train_method": "weighted",
          "weak_weight": 0.01
         },
         {
          "collation_type": "linear",
          "experiment_tag": "ADR",
          "metric_name": "Token Precision",
          "metric_val": 0.77,
          "step": 100,
          "trial": 2,
          "weak_train_method": "weighted",
          "weak_weight": 0.01
         },
         {
          "collation_type": "linear",
          "experiment_tag": "ADR",
          "metric_name": "Token Recall",
          "metric_val": 0.59,
          "step": 10,
          "trial": 2,
          "weak_train_method": "weighted",
          "weak_weight": 0.01
         },
         {
          "collation_type": "linear",
          "experiment_tag": "ADR",
          "metric_name": "Token Recall",
          "metric_val": 0.68,
          "step": 50,
          "trial": 2,
          "weak_train_method": "weighted",
          "weak_weight": 0.01
         },
         {
          "collation_type": "linear",
          "experiment_tag": "ADR",
          "metric_name": "Token Recall",
          "metric_val": 0.75,
          "step": 100,
          "trial": 2,
          "weak_train_method": "weighted",
          "weak_weight": 0.01
         },
         {
          "collation_type": "linear",
          "experiment_tag": "ADR",
          "metric_name": "Span F1",
          "metric_val": 0.51,
          "step": 10,
          "trial": 2,
          "weak_train_method": "weighted",
          "weak_weight": 0.01
         },
         {
          "collation_type": "linear",
          "experiment_tag": "ADR",
          "metric_name": "Span F1",
          "metric_val": 0.6,
          "step": 50,
          "trial": 2,
          "weak_train_method": "weighted",
          "weak_weight": 0.01
         },
         {
          "collation_type": "linear",
          "experiment_tag": "ADR",
          "metric_name": "Span F1",
          "metric_val": 0.6,
          "step": 100,
          "trial": 2,
          "weak_train_method": "weighted",
          "weak_weight": 0.01
         },
         {
          "collation_type": "linear",
          "experiment_tag": "ADR",
          "metric_name": "Token F1",
          "metric_val": 0.66,
          "step": 10,
          "trial": 2,
          "weak_train_method": "weighted",
          "weak_weight": 0.1
         },
         {
          "collation_type": "linear",
          "experiment_tag": "ADR",
          "metric_name": "Token F1",
          "metric_val": 0.73,
          "step": 50,
          "trial": 2,
          "weak_train_method": "weighted",
          "weak_weight": 0.1
         },
         {
          "collation_type": "linear",
          "experiment_tag": "ADR",
          "metric_name": "Token F1",
          "metric_val": 0.76,
          "step": 100,
          "trial": 2,
          "weak_train_method": "weighted",
          "weak_weight": 0.1
         },
         {
          "collation_type": "linear",
          "experiment_tag": "ADR",
          "metric_name": "Token Precision",
          "metric_val": 0.77,
          "step": 10,
          "trial": 2,
          "weak_train_method": "weighted",
          "weak_weight": 0.1
         },
         {
          "collation_type": "linear",
          "experiment_tag": "ADR",
          "metric_name": "Token Precision",
          "metric_val": 0.79,
          "step": 50,
          "trial": 2,
          "weak_train_method": "weighted",
          "weak_weight": 0.1
         },
         {
          "collation_type": "linear",
          "experiment_tag": "ADR",
          "metric_name": "Token Precision",
          "metric_val": 0.77,
          "step": 100,
          "trial": 2,
          "weak_train_method": "weighted",
          "weak_weight": 0.1
         },
         {
          "collation_type": "linear",
          "experiment_tag": "ADR",
          "metric_name": "Token Recall",
          "metric_val": 0.59,
          "step": 10,
          "trial": 2,
          "weak_train_method": "weighted",
          "weak_weight": 0.1
         },
         {
          "collation_type": "linear",
          "experiment_tag": "ADR",
          "metric_name": "Token Recall",
          "metric_val": 0.68,
          "step": 50,
          "trial": 2,
          "weak_train_method": "weighted",
          "weak_weight": 0.1
         },
         {
          "collation_type": "linear",
          "experiment_tag": "ADR",
          "metric_name": "Token Recall",
          "metric_val": 0.75,
          "step": 100,
          "trial": 2,
          "weak_train_method": "weighted",
          "weak_weight": 0.1
         },
         {
          "collation_type": "linear",
          "experiment_tag": "ADR",
          "metric_name": "Span F1",
          "metric_val": 0.51,
          "step": 10,
          "trial": 2,
          "weak_train_method": "weighted",
          "weak_weight": 0.1
         },
         {
          "collation_type": "linear",
          "experiment_tag": "ADR",
          "metric_name": "Span F1",
          "metric_val": 0.6,
          "step": 50,
          "trial": 2,
          "weak_train_method": "weighted",
          "weak_weight": 0.1
         },
         {
          "collation_type": "linear",
          "experiment_tag": "ADR",
          "metric_name": "Span F1",
          "metric_val": 0.6,
          "step": 100,
          "trial": 2,
          "weak_train_method": "weighted",
          "weak_weight": 0.1
         },
         {
          "collation_type": "linear",
          "experiment_tag": "ADR",
          "metric_name": "Token F1",
          "metric_val": 0.66,
          "step": 10,
          "trial": 2,
          "weak_train_method": "weighted",
          "weak_weight": 1
         },
         {
          "collation_type": "linear",
          "experiment_tag": "ADR",
          "metric_name": "Token F1",
          "metric_val": 0.73,
          "step": 50,
          "trial": 2,
          "weak_train_method": "weighted",
          "weak_weight": 1
         },
         {
          "collation_type": "linear",
          "experiment_tag": "ADR",
          "metric_name": "Token F1",
          "metric_val": 0.76,
          "step": 100,
          "trial": 2,
          "weak_train_method": "weighted",
          "weak_weight": 1
         },
         {
          "collation_type": "linear",
          "experiment_tag": "ADR",
          "metric_name": "Token Precision",
          "metric_val": 0.77,
          "step": 10,
          "trial": 2,
          "weak_train_method": "weighted",
          "weak_weight": 1
         },
         {
          "collation_type": "linear",
          "experiment_tag": "ADR",
          "metric_name": "Token Precision",
          "metric_val": 0.79,
          "step": 50,
          "trial": 2,
          "weak_train_method": "weighted",
          "weak_weight": 1
         },
         {
          "collation_type": "linear",
          "experiment_tag": "ADR",
          "metric_name": "Token Precision",
          "metric_val": 0.77,
          "step": 100,
          "trial": 2,
          "weak_train_method": "weighted",
          "weak_weight": 1
         },
         {
          "collation_type": "linear",
          "experiment_tag": "ADR",
          "metric_name": "Token Recall",
          "metric_val": 0.59,
          "step": 10,
          "trial": 2,
          "weak_train_method": "weighted",
          "weak_weight": 1
         },
         {
          "collation_type": "linear",
          "experiment_tag": "ADR",
          "metric_name": "Token Recall",
          "metric_val": 0.68,
          "step": 50,
          "trial": 2,
          "weak_train_method": "weighted",
          "weak_weight": 1
         },
         {
          "collation_type": "linear",
          "experiment_tag": "ADR",
          "metric_name": "Token Recall",
          "metric_val": 0.75,
          "step": 100,
          "trial": 2,
          "weak_train_method": "weighted",
          "weak_weight": 1
         },
         {
          "collation_type": "linear",
          "experiment_tag": "ADR",
          "metric_name": "Span F1",
          "metric_val": 0.51,
          "step": 10,
          "trial": 2,
          "weak_train_method": "weighted",
          "weak_weight": 1
         },
         {
          "collation_type": "linear",
          "experiment_tag": "ADR",
          "metric_name": "Span F1",
          "metric_val": 0.6,
          "step": 50,
          "trial": 2,
          "weak_train_method": "weighted",
          "weak_weight": 1
         },
         {
          "collation_type": "linear",
          "experiment_tag": "ADR",
          "metric_name": "Span F1",
          "metric_val": 0.6,
          "step": 100,
          "trial": 2,
          "weak_train_method": "weighted",
          "weak_weight": 1
         },
         {
          "collation_type": "linear",
          "experiment_tag": "ADR",
          "metric_name": "Token F1",
          "metric_val": 0.69,
          "step": 10,
          "trial": 3,
          "weak_train_method": "fine_tune",
          "weak_weight": 0.01
         },
         {
          "collation_type": "linear",
          "experiment_tag": "ADR",
          "metric_name": "Token F1",
          "metric_val": 0.76,
          "step": 50,
          "trial": 3,
          "weak_train_method": "fine_tune",
          "weak_weight": 0.01
         },
         {
          "collation_type": "linear",
          "experiment_tag": "ADR",
          "metric_name": "Token F1",
          "metric_val": 0.72,
          "step": 100,
          "trial": 3,
          "weak_train_method": "fine_tune",
          "weak_weight": 0.01
         },
         {
          "collation_type": "linear",
          "experiment_tag": "ADR",
          "metric_name": "Token Precision",
          "metric_val": 0.8,
          "step": 10,
          "trial": 3,
          "weak_train_method": "fine_tune",
          "weak_weight": 0.01
         },
         {
          "collation_type": "linear",
          "experiment_tag": "ADR",
          "metric_name": "Token Precision",
          "metric_val": 0.76,
          "step": 50,
          "trial": 3,
          "weak_train_method": "fine_tune",
          "weak_weight": 0.01
         },
         {
          "collation_type": "linear",
          "experiment_tag": "ADR",
          "metric_name": "Token Precision",
          "metric_val": 0.81,
          "step": 100,
          "trial": 3,
          "weak_train_method": "fine_tune",
          "weak_weight": 0.01
         },
         {
          "collation_type": "linear",
          "experiment_tag": "ADR",
          "metric_name": "Token Recall",
          "metric_val": 0.6,
          "step": 10,
          "trial": 3,
          "weak_train_method": "fine_tune",
          "weak_weight": 0.01
         },
         {
          "collation_type": "linear",
          "experiment_tag": "ADR",
          "metric_name": "Token Recall",
          "metric_val": 0.75,
          "step": 50,
          "trial": 3,
          "weak_train_method": "fine_tune",
          "weak_weight": 0.01
         },
         {
          "collation_type": "linear",
          "experiment_tag": "ADR",
          "metric_name": "Token Recall",
          "metric_val": 0.64,
          "step": 100,
          "trial": 3,
          "weak_train_method": "fine_tune",
          "weak_weight": 0.01
         },
         {
          "collation_type": "linear",
          "experiment_tag": "ADR",
          "metric_name": "Span F1",
          "metric_val": 0.52,
          "step": 10,
          "trial": 3,
          "weak_train_method": "fine_tune",
          "weak_weight": 0.01
         },
         {
          "collation_type": "linear",
          "experiment_tag": "ADR",
          "metric_name": "Span F1",
          "metric_val": 0.6,
          "step": 50,
          "trial": 3,
          "weak_train_method": "fine_tune",
          "weak_weight": 0.01
         },
         {
          "collation_type": "linear",
          "experiment_tag": "ADR",
          "metric_name": "Span F1",
          "metric_val": 0.58,
          "step": 100,
          "trial": 3,
          "weak_train_method": "fine_tune",
          "weak_weight": 0.01
         },
         {
          "collation_type": "linear",
          "experiment_tag": "ADR",
          "metric_name": "Token F1",
          "metric_val": 0.69,
          "step": 10,
          "trial": 3,
          "weak_train_method": "fine_tune",
          "weak_weight": 0.1
         },
         {
          "collation_type": "linear",
          "experiment_tag": "ADR",
          "metric_name": "Token F1",
          "metric_val": 0.76,
          "step": 50,
          "trial": 3,
          "weak_train_method": "fine_tune",
          "weak_weight": 0.1
         },
         {
          "collation_type": "linear",
          "experiment_tag": "ADR",
          "metric_name": "Token F1",
          "metric_val": 0.72,
          "step": 100,
          "trial": 3,
          "weak_train_method": "fine_tune",
          "weak_weight": 0.1
         },
         {
          "collation_type": "linear",
          "experiment_tag": "ADR",
          "metric_name": "Token Precision",
          "metric_val": 0.8,
          "step": 10,
          "trial": 3,
          "weak_train_method": "fine_tune",
          "weak_weight": 0.1
         },
         {
          "collation_type": "linear",
          "experiment_tag": "ADR",
          "metric_name": "Token Precision",
          "metric_val": 0.76,
          "step": 50,
          "trial": 3,
          "weak_train_method": "fine_tune",
          "weak_weight": 0.1
         },
         {
          "collation_type": "linear",
          "experiment_tag": "ADR",
          "metric_name": "Token Precision",
          "metric_val": 0.81,
          "step": 100,
          "trial": 3,
          "weak_train_method": "fine_tune",
          "weak_weight": 0.1
         },
         {
          "collation_type": "linear",
          "experiment_tag": "ADR",
          "metric_name": "Token Recall",
          "metric_val": 0.6,
          "step": 10,
          "trial": 3,
          "weak_train_method": "fine_tune",
          "weak_weight": 0.1
         },
         {
          "collation_type": "linear",
          "experiment_tag": "ADR",
          "metric_name": "Token Recall",
          "metric_val": 0.75,
          "step": 50,
          "trial": 3,
          "weak_train_method": "fine_tune",
          "weak_weight": 0.1
         },
         {
          "collation_type": "linear",
          "experiment_tag": "ADR",
          "metric_name": "Token Recall",
          "metric_val": 0.64,
          "step": 100,
          "trial": 3,
          "weak_train_method": "fine_tune",
          "weak_weight": 0.1
         },
         {
          "collation_type": "linear",
          "experiment_tag": "ADR",
          "metric_name": "Span F1",
          "metric_val": 0.52,
          "step": 10,
          "trial": 3,
          "weak_train_method": "fine_tune",
          "weak_weight": 0.1
         },
         {
          "collation_type": "linear",
          "experiment_tag": "ADR",
          "metric_name": "Span F1",
          "metric_val": 0.6,
          "step": 50,
          "trial": 3,
          "weak_train_method": "fine_tune",
          "weak_weight": 0.1
         },
         {
          "collation_type": "linear",
          "experiment_tag": "ADR",
          "metric_name": "Span F1",
          "metric_val": 0.58,
          "step": 100,
          "trial": 3,
          "weak_train_method": "fine_tune",
          "weak_weight": 0.1
         },
         {
          "collation_type": "linear",
          "experiment_tag": "ADR",
          "metric_name": "Token F1",
          "metric_val": 0.69,
          "step": 10,
          "trial": 3,
          "weak_train_method": "fine_tune",
          "weak_weight": 1
         },
         {
          "collation_type": "linear",
          "experiment_tag": "ADR",
          "metric_name": "Token F1",
          "metric_val": 0.76,
          "step": 50,
          "trial": 3,
          "weak_train_method": "fine_tune",
          "weak_weight": 1
         },
         {
          "collation_type": "linear",
          "experiment_tag": "ADR",
          "metric_name": "Token F1",
          "metric_val": 0.72,
          "step": 100,
          "trial": 3,
          "weak_train_method": "fine_tune",
          "weak_weight": 1
         },
         {
          "collation_type": "linear",
          "experiment_tag": "ADR",
          "metric_name": "Token Precision",
          "metric_val": 0.8,
          "step": 10,
          "trial": 3,
          "weak_train_method": "fine_tune",
          "weak_weight": 1
         },
         {
          "collation_type": "linear",
          "experiment_tag": "ADR",
          "metric_name": "Token Precision",
          "metric_val": 0.76,
          "step": 50,
          "trial": 3,
          "weak_train_method": "fine_tune",
          "weak_weight": 1
         },
         {
          "collation_type": "linear",
          "experiment_tag": "ADR",
          "metric_name": "Token Precision",
          "metric_val": 0.81,
          "step": 100,
          "trial": 3,
          "weak_train_method": "fine_tune",
          "weak_weight": 1
         },
         {
          "collation_type": "linear",
          "experiment_tag": "ADR",
          "metric_name": "Token Recall",
          "metric_val": 0.6,
          "step": 10,
          "trial": 3,
          "weak_train_method": "fine_tune",
          "weak_weight": 1
         },
         {
          "collation_type": "linear",
          "experiment_tag": "ADR",
          "metric_name": "Token Recall",
          "metric_val": 0.75,
          "step": 50,
          "trial": 3,
          "weak_train_method": "fine_tune",
          "weak_weight": 1
         },
         {
          "collation_type": "linear",
          "experiment_tag": "ADR",
          "metric_name": "Token Recall",
          "metric_val": 0.64,
          "step": 100,
          "trial": 3,
          "weak_train_method": "fine_tune",
          "weak_weight": 1
         },
         {
          "collation_type": "linear",
          "experiment_tag": "ADR",
          "metric_name": "Span F1",
          "metric_val": 0.52,
          "step": 10,
          "trial": 3,
          "weak_train_method": "fine_tune",
          "weak_weight": 1
         },
         {
          "collation_type": "linear",
          "experiment_tag": "ADR",
          "metric_name": "Span F1",
          "metric_val": 0.6,
          "step": 50,
          "trial": 3,
          "weak_train_method": "fine_tune",
          "weak_weight": 1
         },
         {
          "collation_type": "linear",
          "experiment_tag": "ADR",
          "metric_name": "Span F1",
          "metric_val": 0.58,
          "step": 100,
          "trial": 3,
          "weak_train_method": "fine_tune",
          "weak_weight": 1
         },
         {
          "collation_type": "linear",
          "experiment_tag": "ADR",
          "metric_name": "Token F1",
          "metric_val": 0.69,
          "step": 10,
          "trial": 3,
          "weak_train_method": "weighted",
          "weak_weight": 0.01
         },
         {
          "collation_type": "linear",
          "experiment_tag": "ADR",
          "metric_name": "Token F1",
          "metric_val": 0.76,
          "step": 50,
          "trial": 3,
          "weak_train_method": "weighted",
          "weak_weight": 0.01
         },
         {
          "collation_type": "linear",
          "experiment_tag": "ADR",
          "metric_name": "Token F1",
          "metric_val": 0.72,
          "step": 100,
          "trial": 3,
          "weak_train_method": "weighted",
          "weak_weight": 0.01
         },
         {
          "collation_type": "linear",
          "experiment_tag": "ADR",
          "metric_name": "Token Precision",
          "metric_val": 0.8,
          "step": 10,
          "trial": 3,
          "weak_train_method": "weighted",
          "weak_weight": 0.01
         },
         {
          "collation_type": "linear",
          "experiment_tag": "ADR",
          "metric_name": "Token Precision",
          "metric_val": 0.76,
          "step": 50,
          "trial": 3,
          "weak_train_method": "weighted",
          "weak_weight": 0.01
         },
         {
          "collation_type": "linear",
          "experiment_tag": "ADR",
          "metric_name": "Token Precision",
          "metric_val": 0.81,
          "step": 100,
          "trial": 3,
          "weak_train_method": "weighted",
          "weak_weight": 0.01
         },
         {
          "collation_type": "linear",
          "experiment_tag": "ADR",
          "metric_name": "Token Recall",
          "metric_val": 0.6,
          "step": 10,
          "trial": 3,
          "weak_train_method": "weighted",
          "weak_weight": 0.01
         },
         {
          "collation_type": "linear",
          "experiment_tag": "ADR",
          "metric_name": "Token Recall",
          "metric_val": 0.75,
          "step": 50,
          "trial": 3,
          "weak_train_method": "weighted",
          "weak_weight": 0.01
         },
         {
          "collation_type": "linear",
          "experiment_tag": "ADR",
          "metric_name": "Token Recall",
          "metric_val": 0.64,
          "step": 100,
          "trial": 3,
          "weak_train_method": "weighted",
          "weak_weight": 0.01
         },
         {
          "collation_type": "linear",
          "experiment_tag": "ADR",
          "metric_name": "Span F1",
          "metric_val": 0.52,
          "step": 10,
          "trial": 3,
          "weak_train_method": "weighted",
          "weak_weight": 0.01
         },
         {
          "collation_type": "linear",
          "experiment_tag": "ADR",
          "metric_name": "Span F1",
          "metric_val": 0.6,
          "step": 50,
          "trial": 3,
          "weak_train_method": "weighted",
          "weak_weight": 0.01
         },
         {
          "collation_type": "linear",
          "experiment_tag": "ADR",
          "metric_name": "Span F1",
          "metric_val": 0.58,
          "step": 100,
          "trial": 3,
          "weak_train_method": "weighted",
          "weak_weight": 0.01
         },
         {
          "collation_type": "linear",
          "experiment_tag": "ADR",
          "metric_name": "Token F1",
          "metric_val": 0.69,
          "step": 10,
          "trial": 3,
          "weak_train_method": "weighted",
          "weak_weight": 0.1
         },
         {
          "collation_type": "linear",
          "experiment_tag": "ADR",
          "metric_name": "Token F1",
          "metric_val": 0.76,
          "step": 50,
          "trial": 3,
          "weak_train_method": "weighted",
          "weak_weight": 0.1
         },
         {
          "collation_type": "linear",
          "experiment_tag": "ADR",
          "metric_name": "Token F1",
          "metric_val": 0.72,
          "step": 100,
          "trial": 3,
          "weak_train_method": "weighted",
          "weak_weight": 0.1
         },
         {
          "collation_type": "linear",
          "experiment_tag": "ADR",
          "metric_name": "Token Precision",
          "metric_val": 0.8,
          "step": 10,
          "trial": 3,
          "weak_train_method": "weighted",
          "weak_weight": 0.1
         },
         {
          "collation_type": "linear",
          "experiment_tag": "ADR",
          "metric_name": "Token Precision",
          "metric_val": 0.76,
          "step": 50,
          "trial": 3,
          "weak_train_method": "weighted",
          "weak_weight": 0.1
         },
         {
          "collation_type": "linear",
          "experiment_tag": "ADR",
          "metric_name": "Token Precision",
          "metric_val": 0.81,
          "step": 100,
          "trial": 3,
          "weak_train_method": "weighted",
          "weak_weight": 0.1
         },
         {
          "collation_type": "linear",
          "experiment_tag": "ADR",
          "metric_name": "Token Recall",
          "metric_val": 0.6,
          "step": 10,
          "trial": 3,
          "weak_train_method": "weighted",
          "weak_weight": 0.1
         },
         {
          "collation_type": "linear",
          "experiment_tag": "ADR",
          "metric_name": "Token Recall",
          "metric_val": 0.75,
          "step": 50,
          "trial": 3,
          "weak_train_method": "weighted",
          "weak_weight": 0.1
         },
         {
          "collation_type": "linear",
          "experiment_tag": "ADR",
          "metric_name": "Token Recall",
          "metric_val": 0.64,
          "step": 100,
          "trial": 3,
          "weak_train_method": "weighted",
          "weak_weight": 0.1
         },
         {
          "collation_type": "linear",
          "experiment_tag": "ADR",
          "metric_name": "Span F1",
          "metric_val": 0.52,
          "step": 10,
          "trial": 3,
          "weak_train_method": "weighted",
          "weak_weight": 0.1
         },
         {
          "collation_type": "linear",
          "experiment_tag": "ADR",
          "metric_name": "Span F1",
          "metric_val": 0.6,
          "step": 50,
          "trial": 3,
          "weak_train_method": "weighted",
          "weak_weight": 0.1
         },
         {
          "collation_type": "linear",
          "experiment_tag": "ADR",
          "metric_name": "Span F1",
          "metric_val": 0.58,
          "step": 100,
          "trial": 3,
          "weak_train_method": "weighted",
          "weak_weight": 0.1
         },
         {
          "collation_type": "linear",
          "experiment_tag": "ADR",
          "metric_name": "Token F1",
          "metric_val": 0.69,
          "step": 10,
          "trial": 3,
          "weak_train_method": "weighted",
          "weak_weight": 1
         },
         {
          "collation_type": "linear",
          "experiment_tag": "ADR",
          "metric_name": "Token F1",
          "metric_val": 0.76,
          "step": 50,
          "trial": 3,
          "weak_train_method": "weighted",
          "weak_weight": 1
         },
         {
          "collation_type": "linear",
          "experiment_tag": "ADR",
          "metric_name": "Token F1",
          "metric_val": 0.72,
          "step": 100,
          "trial": 3,
          "weak_train_method": "weighted",
          "weak_weight": 1
         },
         {
          "collation_type": "linear",
          "experiment_tag": "ADR",
          "metric_name": "Token Precision",
          "metric_val": 0.8,
          "step": 10,
          "trial": 3,
          "weak_train_method": "weighted",
          "weak_weight": 1
         },
         {
          "collation_type": "linear",
          "experiment_tag": "ADR",
          "metric_name": "Token Precision",
          "metric_val": 0.76,
          "step": 50,
          "trial": 3,
          "weak_train_method": "weighted",
          "weak_weight": 1
         },
         {
          "collation_type": "linear",
          "experiment_tag": "ADR",
          "metric_name": "Token Precision",
          "metric_val": 0.81,
          "step": 100,
          "trial": 3,
          "weak_train_method": "weighted",
          "weak_weight": 1
         },
         {
          "collation_type": "linear",
          "experiment_tag": "ADR",
          "metric_name": "Token Recall",
          "metric_val": 0.6,
          "step": 10,
          "trial": 3,
          "weak_train_method": "weighted",
          "weak_weight": 1
         },
         {
          "collation_type": "linear",
          "experiment_tag": "ADR",
          "metric_name": "Token Recall",
          "metric_val": 0.75,
          "step": 50,
          "trial": 3,
          "weak_train_method": "weighted",
          "weak_weight": 1
         },
         {
          "collation_type": "linear",
          "experiment_tag": "ADR",
          "metric_name": "Token Recall",
          "metric_val": 0.64,
          "step": 100,
          "trial": 3,
          "weak_train_method": "weighted",
          "weak_weight": 1
         },
         {
          "collation_type": "linear",
          "experiment_tag": "ADR",
          "metric_name": "Span F1",
          "metric_val": 0.52,
          "step": 10,
          "trial": 3,
          "weak_train_method": "weighted",
          "weak_weight": 1
         },
         {
          "collation_type": "linear",
          "experiment_tag": "ADR",
          "metric_name": "Span F1",
          "metric_val": 0.6,
          "step": 50,
          "trial": 3,
          "weak_train_method": "weighted",
          "weak_weight": 1
         },
         {
          "collation_type": "linear",
          "experiment_tag": "ADR",
          "metric_name": "Span F1",
          "metric_val": 0.58,
          "step": 100,
          "trial": 3,
          "weak_train_method": "weighted",
          "weak_weight": 1
         },
         {
          "collation_type": "linear",
          "experiment_tag": "ADR",
          "metric_name": "Token F1",
          "metric_val": 0.62,
          "step": 10,
          "trial": 4,
          "weak_train_method": "fine_tune",
          "weak_weight": 0.01
         },
         {
          "collation_type": "linear",
          "experiment_tag": "ADR",
          "metric_name": "Token F1",
          "metric_val": 0.71,
          "step": 50,
          "trial": 4,
          "weak_train_method": "fine_tune",
          "weak_weight": 0.01
         },
         {
          "collation_type": "linear",
          "experiment_tag": "ADR",
          "metric_name": "Token F1",
          "metric_val": 0.76,
          "step": 100,
          "trial": 4,
          "weak_train_method": "fine_tune",
          "weak_weight": 0.01
         },
         {
          "collation_type": "linear",
          "experiment_tag": "ADR",
          "metric_name": "Token Precision",
          "metric_val": 0.82,
          "step": 10,
          "trial": 4,
          "weak_train_method": "fine_tune",
          "weak_weight": 0.01
         },
         {
          "collation_type": "linear",
          "experiment_tag": "ADR",
          "metric_name": "Token Precision",
          "metric_val": 0.66,
          "step": 50,
          "trial": 4,
          "weak_train_method": "fine_tune",
          "weak_weight": 0.01
         },
         {
          "collation_type": "linear",
          "experiment_tag": "ADR",
          "metric_name": "Token Precision",
          "metric_val": 0.78,
          "step": 100,
          "trial": 4,
          "weak_train_method": "fine_tune",
          "weak_weight": 0.01
         },
         {
          "collation_type": "linear",
          "experiment_tag": "ADR",
          "metric_name": "Token Recall",
          "metric_val": 0.5,
          "step": 10,
          "trial": 4,
          "weak_train_method": "fine_tune",
          "weak_weight": 0.01
         },
         {
          "collation_type": "linear",
          "experiment_tag": "ADR",
          "metric_name": "Token Recall",
          "metric_val": 0.76,
          "step": 50,
          "trial": 4,
          "weak_train_method": "fine_tune",
          "weak_weight": 0.01
         },
         {
          "collation_type": "linear",
          "experiment_tag": "ADR",
          "metric_name": "Token Recall",
          "metric_val": 0.73,
          "step": 100,
          "trial": 4,
          "weak_train_method": "fine_tune",
          "weak_weight": 0.01
         },
         {
          "collation_type": "linear",
          "experiment_tag": "ADR",
          "metric_name": "Span F1",
          "metric_val": 0.48,
          "step": 10,
          "trial": 4,
          "weak_train_method": "fine_tune",
          "weak_weight": 0.01
         },
         {
          "collation_type": "linear",
          "experiment_tag": "ADR",
          "metric_name": "Span F1",
          "metric_val": 0.59,
          "step": 50,
          "trial": 4,
          "weak_train_method": "fine_tune",
          "weak_weight": 0.01
         },
         {
          "collation_type": "linear",
          "experiment_tag": "ADR",
          "metric_name": "Span F1",
          "metric_val": 0.61,
          "step": 100,
          "trial": 4,
          "weak_train_method": "fine_tune",
          "weak_weight": 0.01
         },
         {
          "collation_type": "linear",
          "experiment_tag": "ADR",
          "metric_name": "Token F1",
          "metric_val": 0.62,
          "step": 10,
          "trial": 4,
          "weak_train_method": "fine_tune",
          "weak_weight": 0.1
         },
         {
          "collation_type": "linear",
          "experiment_tag": "ADR",
          "metric_name": "Token F1",
          "metric_val": 0.71,
          "step": 50,
          "trial": 4,
          "weak_train_method": "fine_tune",
          "weak_weight": 0.1
         },
         {
          "collation_type": "linear",
          "experiment_tag": "ADR",
          "metric_name": "Token F1",
          "metric_val": 0.76,
          "step": 100,
          "trial": 4,
          "weak_train_method": "fine_tune",
          "weak_weight": 0.1
         },
         {
          "collation_type": "linear",
          "experiment_tag": "ADR",
          "metric_name": "Token Precision",
          "metric_val": 0.82,
          "step": 10,
          "trial": 4,
          "weak_train_method": "fine_tune",
          "weak_weight": 0.1
         },
         {
          "collation_type": "linear",
          "experiment_tag": "ADR",
          "metric_name": "Token Precision",
          "metric_val": 0.66,
          "step": 50,
          "trial": 4,
          "weak_train_method": "fine_tune",
          "weak_weight": 0.1
         },
         {
          "collation_type": "linear",
          "experiment_tag": "ADR",
          "metric_name": "Token Precision",
          "metric_val": 0.78,
          "step": 100,
          "trial": 4,
          "weak_train_method": "fine_tune",
          "weak_weight": 0.1
         },
         {
          "collation_type": "linear",
          "experiment_tag": "ADR",
          "metric_name": "Token Recall",
          "metric_val": 0.5,
          "step": 10,
          "trial": 4,
          "weak_train_method": "fine_tune",
          "weak_weight": 0.1
         },
         {
          "collation_type": "linear",
          "experiment_tag": "ADR",
          "metric_name": "Token Recall",
          "metric_val": 0.76,
          "step": 50,
          "trial": 4,
          "weak_train_method": "fine_tune",
          "weak_weight": 0.1
         },
         {
          "collation_type": "linear",
          "experiment_tag": "ADR",
          "metric_name": "Token Recall",
          "metric_val": 0.73,
          "step": 100,
          "trial": 4,
          "weak_train_method": "fine_tune",
          "weak_weight": 0.1
         },
         {
          "collation_type": "linear",
          "experiment_tag": "ADR",
          "metric_name": "Span F1",
          "metric_val": 0.48,
          "step": 10,
          "trial": 4,
          "weak_train_method": "fine_tune",
          "weak_weight": 0.1
         },
         {
          "collation_type": "linear",
          "experiment_tag": "ADR",
          "metric_name": "Span F1",
          "metric_val": 0.59,
          "step": 50,
          "trial": 4,
          "weak_train_method": "fine_tune",
          "weak_weight": 0.1
         },
         {
          "collation_type": "linear",
          "experiment_tag": "ADR",
          "metric_name": "Span F1",
          "metric_val": 0.61,
          "step": 100,
          "trial": 4,
          "weak_train_method": "fine_tune",
          "weak_weight": 0.1
         },
         {
          "collation_type": "linear",
          "experiment_tag": "ADR",
          "metric_name": "Token F1",
          "metric_val": 0.62,
          "step": 10,
          "trial": 4,
          "weak_train_method": "fine_tune",
          "weak_weight": 1
         },
         {
          "collation_type": "linear",
          "experiment_tag": "ADR",
          "metric_name": "Token F1",
          "metric_val": 0.71,
          "step": 50,
          "trial": 4,
          "weak_train_method": "fine_tune",
          "weak_weight": 1
         },
         {
          "collation_type": "linear",
          "experiment_tag": "ADR",
          "metric_name": "Token F1",
          "metric_val": 0.76,
          "step": 100,
          "trial": 4,
          "weak_train_method": "fine_tune",
          "weak_weight": 1
         },
         {
          "collation_type": "linear",
          "experiment_tag": "ADR",
          "metric_name": "Token Precision",
          "metric_val": 0.82,
          "step": 10,
          "trial": 4,
          "weak_train_method": "fine_tune",
          "weak_weight": 1
         },
         {
          "collation_type": "linear",
          "experiment_tag": "ADR",
          "metric_name": "Token Precision",
          "metric_val": 0.66,
          "step": 50,
          "trial": 4,
          "weak_train_method": "fine_tune",
          "weak_weight": 1
         },
         {
          "collation_type": "linear",
          "experiment_tag": "ADR",
          "metric_name": "Token Precision",
          "metric_val": 0.78,
          "step": 100,
          "trial": 4,
          "weak_train_method": "fine_tune",
          "weak_weight": 1
         },
         {
          "collation_type": "linear",
          "experiment_tag": "ADR",
          "metric_name": "Token Recall",
          "metric_val": 0.5,
          "step": 10,
          "trial": 4,
          "weak_train_method": "fine_tune",
          "weak_weight": 1
         },
         {
          "collation_type": "linear",
          "experiment_tag": "ADR",
          "metric_name": "Token Recall",
          "metric_val": 0.76,
          "step": 50,
          "trial": 4,
          "weak_train_method": "fine_tune",
          "weak_weight": 1
         },
         {
          "collation_type": "linear",
          "experiment_tag": "ADR",
          "metric_name": "Token Recall",
          "metric_val": 0.73,
          "step": 100,
          "trial": 4,
          "weak_train_method": "fine_tune",
          "weak_weight": 1
         },
         {
          "collation_type": "linear",
          "experiment_tag": "ADR",
          "metric_name": "Span F1",
          "metric_val": 0.48,
          "step": 10,
          "trial": 4,
          "weak_train_method": "fine_tune",
          "weak_weight": 1
         },
         {
          "collation_type": "linear",
          "experiment_tag": "ADR",
          "metric_name": "Span F1",
          "metric_val": 0.59,
          "step": 50,
          "trial": 4,
          "weak_train_method": "fine_tune",
          "weak_weight": 1
         },
         {
          "collation_type": "linear",
          "experiment_tag": "ADR",
          "metric_name": "Span F1",
          "metric_val": 0.61,
          "step": 100,
          "trial": 4,
          "weak_train_method": "fine_tune",
          "weak_weight": 1
         },
         {
          "collation_type": "linear",
          "experiment_tag": "ADR",
          "metric_name": "Token F1",
          "metric_val": 0.62,
          "step": 10,
          "trial": 4,
          "weak_train_method": "weighted",
          "weak_weight": 0.01
         },
         {
          "collation_type": "linear",
          "experiment_tag": "ADR",
          "metric_name": "Token F1",
          "metric_val": 0.71,
          "step": 50,
          "trial": 4,
          "weak_train_method": "weighted",
          "weak_weight": 0.01
         },
         {
          "collation_type": "linear",
          "experiment_tag": "ADR",
          "metric_name": "Token F1",
          "metric_val": 0.76,
          "step": 100,
          "trial": 4,
          "weak_train_method": "weighted",
          "weak_weight": 0.01
         },
         {
          "collation_type": "linear",
          "experiment_tag": "ADR",
          "metric_name": "Token Precision",
          "metric_val": 0.82,
          "step": 10,
          "trial": 4,
          "weak_train_method": "weighted",
          "weak_weight": 0.01
         },
         {
          "collation_type": "linear",
          "experiment_tag": "ADR",
          "metric_name": "Token Precision",
          "metric_val": 0.66,
          "step": 50,
          "trial": 4,
          "weak_train_method": "weighted",
          "weak_weight": 0.01
         },
         {
          "collation_type": "linear",
          "experiment_tag": "ADR",
          "metric_name": "Token Precision",
          "metric_val": 0.78,
          "step": 100,
          "trial": 4,
          "weak_train_method": "weighted",
          "weak_weight": 0.01
         },
         {
          "collation_type": "linear",
          "experiment_tag": "ADR",
          "metric_name": "Token Recall",
          "metric_val": 0.5,
          "step": 10,
          "trial": 4,
          "weak_train_method": "weighted",
          "weak_weight": 0.01
         },
         {
          "collation_type": "linear",
          "experiment_tag": "ADR",
          "metric_name": "Token Recall",
          "metric_val": 0.76,
          "step": 50,
          "trial": 4,
          "weak_train_method": "weighted",
          "weak_weight": 0.01
         },
         {
          "collation_type": "linear",
          "experiment_tag": "ADR",
          "metric_name": "Token Recall",
          "metric_val": 0.73,
          "step": 100,
          "trial": 4,
          "weak_train_method": "weighted",
          "weak_weight": 0.01
         },
         {
          "collation_type": "linear",
          "experiment_tag": "ADR",
          "metric_name": "Span F1",
          "metric_val": 0.48,
          "step": 10,
          "trial": 4,
          "weak_train_method": "weighted",
          "weak_weight": 0.01
         },
         {
          "collation_type": "linear",
          "experiment_tag": "ADR",
          "metric_name": "Span F1",
          "metric_val": 0.59,
          "step": 50,
          "trial": 4,
          "weak_train_method": "weighted",
          "weak_weight": 0.01
         },
         {
          "collation_type": "linear",
          "experiment_tag": "ADR",
          "metric_name": "Span F1",
          "metric_val": 0.61,
          "step": 100,
          "trial": 4,
          "weak_train_method": "weighted",
          "weak_weight": 0.01
         },
         {
          "collation_type": "linear",
          "experiment_tag": "ADR",
          "metric_name": "Token F1",
          "metric_val": 0.62,
          "step": 10,
          "trial": 4,
          "weak_train_method": "weighted",
          "weak_weight": 0.1
         },
         {
          "collation_type": "linear",
          "experiment_tag": "ADR",
          "metric_name": "Token F1",
          "metric_val": 0.71,
          "step": 50,
          "trial": 4,
          "weak_train_method": "weighted",
          "weak_weight": 0.1
         },
         {
          "collation_type": "linear",
          "experiment_tag": "ADR",
          "metric_name": "Token F1",
          "metric_val": 0.76,
          "step": 100,
          "trial": 4,
          "weak_train_method": "weighted",
          "weak_weight": 0.1
         },
         {
          "collation_type": "linear",
          "experiment_tag": "ADR",
          "metric_name": "Token Precision",
          "metric_val": 0.82,
          "step": 10,
          "trial": 4,
          "weak_train_method": "weighted",
          "weak_weight": 0.1
         },
         {
          "collation_type": "linear",
          "experiment_tag": "ADR",
          "metric_name": "Token Precision",
          "metric_val": 0.66,
          "step": 50,
          "trial": 4,
          "weak_train_method": "weighted",
          "weak_weight": 0.1
         },
         {
          "collation_type": "linear",
          "experiment_tag": "ADR",
          "metric_name": "Token Precision",
          "metric_val": 0.78,
          "step": 100,
          "trial": 4,
          "weak_train_method": "weighted",
          "weak_weight": 0.1
         },
         {
          "collation_type": "linear",
          "experiment_tag": "ADR",
          "metric_name": "Token Recall",
          "metric_val": 0.5,
          "step": 10,
          "trial": 4,
          "weak_train_method": "weighted",
          "weak_weight": 0.1
         },
         {
          "collation_type": "linear",
          "experiment_tag": "ADR",
          "metric_name": "Token Recall",
          "metric_val": 0.76,
          "step": 50,
          "trial": 4,
          "weak_train_method": "weighted",
          "weak_weight": 0.1
         },
         {
          "collation_type": "linear",
          "experiment_tag": "ADR",
          "metric_name": "Token Recall",
          "metric_val": 0.73,
          "step": 100,
          "trial": 4,
          "weak_train_method": "weighted",
          "weak_weight": 0.1
         },
         {
          "collation_type": "linear",
          "experiment_tag": "ADR",
          "metric_name": "Span F1",
          "metric_val": 0.48,
          "step": 10,
          "trial": 4,
          "weak_train_method": "weighted",
          "weak_weight": 0.1
         },
         {
          "collation_type": "linear",
          "experiment_tag": "ADR",
          "metric_name": "Span F1",
          "metric_val": 0.59,
          "step": 50,
          "trial": 4,
          "weak_train_method": "weighted",
          "weak_weight": 0.1
         },
         {
          "collation_type": "linear",
          "experiment_tag": "ADR",
          "metric_name": "Span F1",
          "metric_val": 0.61,
          "step": 100,
          "trial": 4,
          "weak_train_method": "weighted",
          "weak_weight": 0.1
         },
         {
          "collation_type": "linear",
          "experiment_tag": "ADR",
          "metric_name": "Token F1",
          "metric_val": 0.62,
          "step": 10,
          "trial": 4,
          "weak_train_method": "weighted",
          "weak_weight": 1
         },
         {
          "collation_type": "linear",
          "experiment_tag": "ADR",
          "metric_name": "Token F1",
          "metric_val": 0.71,
          "step": 50,
          "trial": 4,
          "weak_train_method": "weighted",
          "weak_weight": 1
         },
         {
          "collation_type": "linear",
          "experiment_tag": "ADR",
          "metric_name": "Token F1",
          "metric_val": 0.76,
          "step": 100,
          "trial": 4,
          "weak_train_method": "weighted",
          "weak_weight": 1
         },
         {
          "collation_type": "linear",
          "experiment_tag": "ADR",
          "metric_name": "Token Precision",
          "metric_val": 0.82,
          "step": 10,
          "trial": 4,
          "weak_train_method": "weighted",
          "weak_weight": 1
         },
         {
          "collation_type": "linear",
          "experiment_tag": "ADR",
          "metric_name": "Token Precision",
          "metric_val": 0.66,
          "step": 50,
          "trial": 4,
          "weak_train_method": "weighted",
          "weak_weight": 1
         },
         {
          "collation_type": "linear",
          "experiment_tag": "ADR",
          "metric_name": "Token Precision",
          "metric_val": 0.78,
          "step": 100,
          "trial": 4,
          "weak_train_method": "weighted",
          "weak_weight": 1
         },
         {
          "collation_type": "linear",
          "experiment_tag": "ADR",
          "metric_name": "Token Recall",
          "metric_val": 0.5,
          "step": 10,
          "trial": 4,
          "weak_train_method": "weighted",
          "weak_weight": 1
         },
         {
          "collation_type": "linear",
          "experiment_tag": "ADR",
          "metric_name": "Token Recall",
          "metric_val": 0.76,
          "step": 50,
          "trial": 4,
          "weak_train_method": "weighted",
          "weak_weight": 1
         },
         {
          "collation_type": "linear",
          "experiment_tag": "ADR",
          "metric_name": "Token Recall",
          "metric_val": 0.73,
          "step": 100,
          "trial": 4,
          "weak_train_method": "weighted",
          "weak_weight": 1
         },
         {
          "collation_type": "linear",
          "experiment_tag": "ADR",
          "metric_name": "Span F1",
          "metric_val": 0.48,
          "step": 10,
          "trial": 4,
          "weak_train_method": "weighted",
          "weak_weight": 1
         },
         {
          "collation_type": "linear",
          "experiment_tag": "ADR",
          "metric_name": "Span F1",
          "metric_val": 0.59,
          "step": 50,
          "trial": 4,
          "weak_train_method": "weighted",
          "weak_weight": 1
         },
         {
          "collation_type": "linear",
          "experiment_tag": "ADR",
          "metric_name": "Span F1",
          "metric_val": 0.61,
          "step": 100,
          "trial": 4,
          "weak_train_method": "weighted",
          "weak_weight": 1
         },
         {
          "collation_type": "linear",
          "experiment_tag": "ADR",
          "metric_name": "Token F1",
          "metric_val": 0.67,
          "step": 10,
          "trial": 1,
          "weak_train_method": "fine_tune",
          "weak_weight": 0.01
         },
         {
          "collation_type": "linear",
          "experiment_tag": "ADR",
          "metric_name": "Token F1",
          "metric_val": 0.75,
          "step": 50,
          "trial": 1,
          "weak_train_method": "fine_tune",
          "weak_weight": 0.01
         },
         {
          "collation_type": "linear",
          "experiment_tag": "ADR",
          "metric_name": "Token F1",
          "metric_val": 0.75,
          "step": 100,
          "trial": 1,
          "weak_train_method": "fine_tune",
          "weak_weight": 0.01
         },
         {
          "collation_type": "linear",
          "experiment_tag": "ADR",
          "metric_name": "Token Precision",
          "metric_val": 0.8,
          "step": 10,
          "trial": 1,
          "weak_train_method": "fine_tune",
          "weak_weight": 0.01
         },
         {
          "collation_type": "linear",
          "experiment_tag": "ADR",
          "metric_name": "Token Precision",
          "metric_val": 0.8,
          "step": 50,
          "trial": 1,
          "weak_train_method": "fine_tune",
          "weak_weight": 0.01
         },
         {
          "collation_type": "linear",
          "experiment_tag": "ADR",
          "metric_name": "Token Precision",
          "metric_val": 0.75,
          "step": 100,
          "trial": 1,
          "weak_train_method": "fine_tune",
          "weak_weight": 0.01
         },
         {
          "collation_type": "linear",
          "experiment_tag": "ADR",
          "metric_name": "Token Recall",
          "metric_val": 0.57,
          "step": 10,
          "trial": 1,
          "weak_train_method": "fine_tune",
          "weak_weight": 0.01
         },
         {
          "collation_type": "linear",
          "experiment_tag": "ADR",
          "metric_name": "Token Recall",
          "metric_val": 0.71,
          "step": 50,
          "trial": 1,
          "weak_train_method": "fine_tune",
          "weak_weight": 0.01
         },
         {
          "collation_type": "linear",
          "experiment_tag": "ADR",
          "metric_name": "Token Recall",
          "metric_val": 0.75,
          "step": 100,
          "trial": 1,
          "weak_train_method": "fine_tune",
          "weak_weight": 0.01
         },
         {
          "collation_type": "linear",
          "experiment_tag": "ADR",
          "metric_name": "Span F1",
          "metric_val": 0.51,
          "step": 10,
          "trial": 1,
          "weak_train_method": "fine_tune",
          "weak_weight": 0.01
         },
         {
          "collation_type": "linear",
          "experiment_tag": "ADR",
          "metric_name": "Span F1",
          "metric_val": 0.58,
          "step": 50,
          "trial": 1,
          "weak_train_method": "fine_tune",
          "weak_weight": 0.01
         },
         {
          "collation_type": "linear",
          "experiment_tag": "ADR",
          "metric_name": "Span F1",
          "metric_val": 0.59,
          "step": 100,
          "trial": 1,
          "weak_train_method": "fine_tune",
          "weak_weight": 0.01
         },
         {
          "collation_type": "linear",
          "experiment_tag": "ADR",
          "metric_name": "Token F1",
          "metric_val": 0.67,
          "step": 10,
          "trial": 1,
          "weak_train_method": "fine_tune",
          "weak_weight": 0.1
         },
         {
          "collation_type": "linear",
          "experiment_tag": "ADR",
          "metric_name": "Token F1",
          "metric_val": 0.75,
          "step": 50,
          "trial": 1,
          "weak_train_method": "fine_tune",
          "weak_weight": 0.1
         },
         {
          "collation_type": "linear",
          "experiment_tag": "ADR",
          "metric_name": "Token F1",
          "metric_val": 0.75,
          "step": 100,
          "trial": 1,
          "weak_train_method": "fine_tune",
          "weak_weight": 0.1
         },
         {
          "collation_type": "linear",
          "experiment_tag": "ADR",
          "metric_name": "Token Precision",
          "metric_val": 0.8,
          "step": 10,
          "trial": 1,
          "weak_train_method": "fine_tune",
          "weak_weight": 0.1
         },
         {
          "collation_type": "linear",
          "experiment_tag": "ADR",
          "metric_name": "Token Precision",
          "metric_val": 0.8,
          "step": 50,
          "trial": 1,
          "weak_train_method": "fine_tune",
          "weak_weight": 0.1
         },
         {
          "collation_type": "linear",
          "experiment_tag": "ADR",
          "metric_name": "Token Precision",
          "metric_val": 0.75,
          "step": 100,
          "trial": 1,
          "weak_train_method": "fine_tune",
          "weak_weight": 0.1
         },
         {
          "collation_type": "linear",
          "experiment_tag": "ADR",
          "metric_name": "Token Recall",
          "metric_val": 0.57,
          "step": 10,
          "trial": 1,
          "weak_train_method": "fine_tune",
          "weak_weight": 0.1
         },
         {
          "collation_type": "linear",
          "experiment_tag": "ADR",
          "metric_name": "Token Recall",
          "metric_val": 0.71,
          "step": 50,
          "trial": 1,
          "weak_train_method": "fine_tune",
          "weak_weight": 0.1
         },
         {
          "collation_type": "linear",
          "experiment_tag": "ADR",
          "metric_name": "Token Recall",
          "metric_val": 0.75,
          "step": 100,
          "trial": 1,
          "weak_train_method": "fine_tune",
          "weak_weight": 0.1
         },
         {
          "collation_type": "linear",
          "experiment_tag": "ADR",
          "metric_name": "Span F1",
          "metric_val": 0.51,
          "step": 10,
          "trial": 1,
          "weak_train_method": "fine_tune",
          "weak_weight": 0.1
         },
         {
          "collation_type": "linear",
          "experiment_tag": "ADR",
          "metric_name": "Span F1",
          "metric_val": 0.58,
          "step": 50,
          "trial": 1,
          "weak_train_method": "fine_tune",
          "weak_weight": 0.1
         },
         {
          "collation_type": "linear",
          "experiment_tag": "ADR",
          "metric_name": "Span F1",
          "metric_val": 0.59,
          "step": 100,
          "trial": 1,
          "weak_train_method": "fine_tune",
          "weak_weight": 0.1
         },
         {
          "collation_type": "linear",
          "experiment_tag": "ADR",
          "metric_name": "Token F1",
          "metric_val": 0.67,
          "step": 10,
          "trial": 1,
          "weak_train_method": "fine_tune",
          "weak_weight": 1
         },
         {
          "collation_type": "linear",
          "experiment_tag": "ADR",
          "metric_name": "Token F1",
          "metric_val": 0.75,
          "step": 50,
          "trial": 1,
          "weak_train_method": "fine_tune",
          "weak_weight": 1
         },
         {
          "collation_type": "linear",
          "experiment_tag": "ADR",
          "metric_name": "Token F1",
          "metric_val": 0.75,
          "step": 100,
          "trial": 1,
          "weak_train_method": "fine_tune",
          "weak_weight": 1
         },
         {
          "collation_type": "linear",
          "experiment_tag": "ADR",
          "metric_name": "Token Precision",
          "metric_val": 0.8,
          "step": 10,
          "trial": 1,
          "weak_train_method": "fine_tune",
          "weak_weight": 1
         },
         {
          "collation_type": "linear",
          "experiment_tag": "ADR",
          "metric_name": "Token Precision",
          "metric_val": 0.8,
          "step": 50,
          "trial": 1,
          "weak_train_method": "fine_tune",
          "weak_weight": 1
         },
         {
          "collation_type": "linear",
          "experiment_tag": "ADR",
          "metric_name": "Token Precision",
          "metric_val": 0.75,
          "step": 100,
          "trial": 1,
          "weak_train_method": "fine_tune",
          "weak_weight": 1
         },
         {
          "collation_type": "linear",
          "experiment_tag": "ADR",
          "metric_name": "Token Recall",
          "metric_val": 0.57,
          "step": 10,
          "trial": 1,
          "weak_train_method": "fine_tune",
          "weak_weight": 1
         },
         {
          "collation_type": "linear",
          "experiment_tag": "ADR",
          "metric_name": "Token Recall",
          "metric_val": 0.71,
          "step": 50,
          "trial": 1,
          "weak_train_method": "fine_tune",
          "weak_weight": 1
         },
         {
          "collation_type": "linear",
          "experiment_tag": "ADR",
          "metric_name": "Token Recall",
          "metric_val": 0.75,
          "step": 100,
          "trial": 1,
          "weak_train_method": "fine_tune",
          "weak_weight": 1
         },
         {
          "collation_type": "linear",
          "experiment_tag": "ADR",
          "metric_name": "Span F1",
          "metric_val": 0.51,
          "step": 10,
          "trial": 1,
          "weak_train_method": "fine_tune",
          "weak_weight": 1
         },
         {
          "collation_type": "linear",
          "experiment_tag": "ADR",
          "metric_name": "Span F1",
          "metric_val": 0.58,
          "step": 50,
          "trial": 1,
          "weak_train_method": "fine_tune",
          "weak_weight": 1
         },
         {
          "collation_type": "linear",
          "experiment_tag": "ADR",
          "metric_name": "Span F1",
          "metric_val": 0.59,
          "step": 100,
          "trial": 1,
          "weak_train_method": "fine_tune",
          "weak_weight": 1
         },
         {
          "collation_type": "linear",
          "experiment_tag": "ADR",
          "metric_name": "Token F1",
          "metric_val": 0.67,
          "step": 10,
          "trial": 1,
          "weak_train_method": "weighted",
          "weak_weight": 0.01
         },
         {
          "collation_type": "linear",
          "experiment_tag": "ADR",
          "metric_name": "Token F1",
          "metric_val": 0.75,
          "step": 50,
          "trial": 1,
          "weak_train_method": "weighted",
          "weak_weight": 0.01
         },
         {
          "collation_type": "linear",
          "experiment_tag": "ADR",
          "metric_name": "Token F1",
          "metric_val": 0.75,
          "step": 100,
          "trial": 1,
          "weak_train_method": "weighted",
          "weak_weight": 0.01
         },
         {
          "collation_type": "linear",
          "experiment_tag": "ADR",
          "metric_name": "Token Precision",
          "metric_val": 0.8,
          "step": 10,
          "trial": 1,
          "weak_train_method": "weighted",
          "weak_weight": 0.01
         },
         {
          "collation_type": "linear",
          "experiment_tag": "ADR",
          "metric_name": "Token Precision",
          "metric_val": 0.8,
          "step": 50,
          "trial": 1,
          "weak_train_method": "weighted",
          "weak_weight": 0.01
         },
         {
          "collation_type": "linear",
          "experiment_tag": "ADR",
          "metric_name": "Token Precision",
          "metric_val": 0.75,
          "step": 100,
          "trial": 1,
          "weak_train_method": "weighted",
          "weak_weight": 0.01
         },
         {
          "collation_type": "linear",
          "experiment_tag": "ADR",
          "metric_name": "Token Recall",
          "metric_val": 0.57,
          "step": 10,
          "trial": 1,
          "weak_train_method": "weighted",
          "weak_weight": 0.01
         },
         {
          "collation_type": "linear",
          "experiment_tag": "ADR",
          "metric_name": "Token Recall",
          "metric_val": 0.71,
          "step": 50,
          "trial": 1,
          "weak_train_method": "weighted",
          "weak_weight": 0.01
         },
         {
          "collation_type": "linear",
          "experiment_tag": "ADR",
          "metric_name": "Token Recall",
          "metric_val": 0.75,
          "step": 100,
          "trial": 1,
          "weak_train_method": "weighted",
          "weak_weight": 0.01
         },
         {
          "collation_type": "linear",
          "experiment_tag": "ADR",
          "metric_name": "Span F1",
          "metric_val": 0.51,
          "step": 10,
          "trial": 1,
          "weak_train_method": "weighted",
          "weak_weight": 0.01
         },
         {
          "collation_type": "linear",
          "experiment_tag": "ADR",
          "metric_name": "Span F1",
          "metric_val": 0.58,
          "step": 50,
          "trial": 1,
          "weak_train_method": "weighted",
          "weak_weight": 0.01
         },
         {
          "collation_type": "linear",
          "experiment_tag": "ADR",
          "metric_name": "Span F1",
          "metric_val": 0.59,
          "step": 100,
          "trial": 1,
          "weak_train_method": "weighted",
          "weak_weight": 0.01
         },
         {
          "collation_type": "linear",
          "experiment_tag": "ADR",
          "metric_name": "Token F1",
          "metric_val": 0.67,
          "step": 10,
          "trial": 1,
          "weak_train_method": "weighted",
          "weak_weight": 0.1
         },
         {
          "collation_type": "linear",
          "experiment_tag": "ADR",
          "metric_name": "Token F1",
          "metric_val": 0.75,
          "step": 50,
          "trial": 1,
          "weak_train_method": "weighted",
          "weak_weight": 0.1
         },
         {
          "collation_type": "linear",
          "experiment_tag": "ADR",
          "metric_name": "Token F1",
          "metric_val": 0.75,
          "step": 100,
          "trial": 1,
          "weak_train_method": "weighted",
          "weak_weight": 0.1
         },
         {
          "collation_type": "linear",
          "experiment_tag": "ADR",
          "metric_name": "Token Precision",
          "metric_val": 0.8,
          "step": 10,
          "trial": 1,
          "weak_train_method": "weighted",
          "weak_weight": 0.1
         },
         {
          "collation_type": "linear",
          "experiment_tag": "ADR",
          "metric_name": "Token Precision",
          "metric_val": 0.8,
          "step": 50,
          "trial": 1,
          "weak_train_method": "weighted",
          "weak_weight": 0.1
         },
         {
          "collation_type": "linear",
          "experiment_tag": "ADR",
          "metric_name": "Token Precision",
          "metric_val": 0.75,
          "step": 100,
          "trial": 1,
          "weak_train_method": "weighted",
          "weak_weight": 0.1
         },
         {
          "collation_type": "linear",
          "experiment_tag": "ADR",
          "metric_name": "Token Recall",
          "metric_val": 0.57,
          "step": 10,
          "trial": 1,
          "weak_train_method": "weighted",
          "weak_weight": 0.1
         },
         {
          "collation_type": "linear",
          "experiment_tag": "ADR",
          "metric_name": "Token Recall",
          "metric_val": 0.71,
          "step": 50,
          "trial": 1,
          "weak_train_method": "weighted",
          "weak_weight": 0.1
         },
         {
          "collation_type": "linear",
          "experiment_tag": "ADR",
          "metric_name": "Token Recall",
          "metric_val": 0.75,
          "step": 100,
          "trial": 1,
          "weak_train_method": "weighted",
          "weak_weight": 0.1
         },
         {
          "collation_type": "linear",
          "experiment_tag": "ADR",
          "metric_name": "Span F1",
          "metric_val": 0.51,
          "step": 10,
          "trial": 1,
          "weak_train_method": "weighted",
          "weak_weight": 0.1
         },
         {
          "collation_type": "linear",
          "experiment_tag": "ADR",
          "metric_name": "Span F1",
          "metric_val": 0.58,
          "step": 50,
          "trial": 1,
          "weak_train_method": "weighted",
          "weak_weight": 0.1
         },
         {
          "collation_type": "linear",
          "experiment_tag": "ADR",
          "metric_name": "Span F1",
          "metric_val": 0.59,
          "step": 100,
          "trial": 1,
          "weak_train_method": "weighted",
          "weak_weight": 0.1
         },
         {
          "collation_type": "linear",
          "experiment_tag": "ADR",
          "metric_name": "Token F1",
          "metric_val": 0.67,
          "step": 10,
          "trial": 1,
          "weak_train_method": "weighted",
          "weak_weight": 1
         },
         {
          "collation_type": "linear",
          "experiment_tag": "ADR",
          "metric_name": "Token F1",
          "metric_val": 0.75,
          "step": 50,
          "trial": 1,
          "weak_train_method": "weighted",
          "weak_weight": 1
         },
         {
          "collation_type": "linear",
          "experiment_tag": "ADR",
          "metric_name": "Token F1",
          "metric_val": 0.75,
          "step": 100,
          "trial": 1,
          "weak_train_method": "weighted",
          "weak_weight": 1
         },
         {
          "collation_type": "linear",
          "experiment_tag": "ADR",
          "metric_name": "Token Precision",
          "metric_val": 0.8,
          "step": 10,
          "trial": 1,
          "weak_train_method": "weighted",
          "weak_weight": 1
         },
         {
          "collation_type": "linear",
          "experiment_tag": "ADR",
          "metric_name": "Token Precision",
          "metric_val": 0.8,
          "step": 50,
          "trial": 1,
          "weak_train_method": "weighted",
          "weak_weight": 1
         },
         {
          "collation_type": "linear",
          "experiment_tag": "ADR",
          "metric_name": "Token Precision",
          "metric_val": 0.75,
          "step": 100,
          "trial": 1,
          "weak_train_method": "weighted",
          "weak_weight": 1
         },
         {
          "collation_type": "linear",
          "experiment_tag": "ADR",
          "metric_name": "Token Recall",
          "metric_val": 0.57,
          "step": 10,
          "trial": 1,
          "weak_train_method": "weighted",
          "weak_weight": 1
         },
         {
          "collation_type": "linear",
          "experiment_tag": "ADR",
          "metric_name": "Token Recall",
          "metric_val": 0.71,
          "step": 50,
          "trial": 1,
          "weak_train_method": "weighted",
          "weak_weight": 1
         },
         {
          "collation_type": "linear",
          "experiment_tag": "ADR",
          "metric_name": "Token Recall",
          "metric_val": 0.75,
          "step": 100,
          "trial": 1,
          "weak_train_method": "weighted",
          "weak_weight": 1
         },
         {
          "collation_type": "linear",
          "experiment_tag": "ADR",
          "metric_name": "Span F1",
          "metric_val": 0.51,
          "step": 10,
          "trial": 1,
          "weak_train_method": "weighted",
          "weak_weight": 1
         },
         {
          "collation_type": "linear",
          "experiment_tag": "ADR",
          "metric_name": "Span F1",
          "metric_val": 0.58,
          "step": 50,
          "trial": 1,
          "weak_train_method": "weighted",
          "weak_weight": 1
         },
         {
          "collation_type": "linear",
          "experiment_tag": "ADR",
          "metric_name": "Span F1",
          "metric_val": 0.59,
          "step": 100,
          "trial": 1,
          "weak_train_method": "weighted",
          "weak_weight": 1
         },
         {
          "collation_type": "linear",
          "experiment_tag": "ADR",
          "metric_name": "Token F1",
          "metric_val": 0.69,
          "step": 10,
          "trial": 0,
          "weak_train_method": "fine_tune",
          "weak_weight": 0.01
         },
         {
          "collation_type": "linear",
          "experiment_tag": "ADR",
          "metric_name": "Token F1",
          "metric_val": 0.76,
          "step": 50,
          "trial": 0,
          "weak_train_method": "fine_tune",
          "weak_weight": 0.01
         },
         {
          "collation_type": "linear",
          "experiment_tag": "ADR",
          "metric_name": "Token F1",
          "metric_val": 0.75,
          "step": 100,
          "trial": 0,
          "weak_train_method": "fine_tune",
          "weak_weight": 0.01
         },
         {
          "collation_type": "linear",
          "experiment_tag": "ADR",
          "metric_name": "Token Precision",
          "metric_val": 0.75,
          "step": 10,
          "trial": 0,
          "weak_train_method": "fine_tune",
          "weak_weight": 0.01
         },
         {
          "collation_type": "linear",
          "experiment_tag": "ADR",
          "metric_name": "Token Precision",
          "metric_val": 0.78,
          "step": 50,
          "trial": 0,
          "weak_train_method": "fine_tune",
          "weak_weight": 0.01
         },
         {
          "collation_type": "linear",
          "experiment_tag": "ADR",
          "metric_name": "Token Precision",
          "metric_val": 0.79,
          "step": 100,
          "trial": 0,
          "weak_train_method": "fine_tune",
          "weak_weight": 0.01
         },
         {
          "collation_type": "linear",
          "experiment_tag": "ADR",
          "metric_name": "Token Recall",
          "metric_val": 0.63,
          "step": 10,
          "trial": 0,
          "weak_train_method": "fine_tune",
          "weak_weight": 0.01
         },
         {
          "collation_type": "linear",
          "experiment_tag": "ADR",
          "metric_name": "Token Recall",
          "metric_val": 0.74,
          "step": 50,
          "trial": 0,
          "weak_train_method": "fine_tune",
          "weak_weight": 0.01
         },
         {
          "collation_type": "linear",
          "experiment_tag": "ADR",
          "metric_name": "Token Recall",
          "metric_val": 0.71,
          "step": 100,
          "trial": 0,
          "weak_train_method": "fine_tune",
          "weak_weight": 0.01
         },
         {
          "collation_type": "linear",
          "experiment_tag": "ADR",
          "metric_name": "Span F1",
          "metric_val": 0.48,
          "step": 10,
          "trial": 0,
          "weak_train_method": "fine_tune",
          "weak_weight": 0.01
         },
         {
          "collation_type": "linear",
          "experiment_tag": "ADR",
          "metric_name": "Span F1",
          "metric_val": 0.6,
          "step": 50,
          "trial": 0,
          "weak_train_method": "fine_tune",
          "weak_weight": 0.01
         },
         {
          "collation_type": "linear",
          "experiment_tag": "ADR",
          "metric_name": "Span F1",
          "metric_val": 0.6,
          "step": 100,
          "trial": 0,
          "weak_train_method": "fine_tune",
          "weak_weight": 0.01
         },
         {
          "collation_type": "linear",
          "experiment_tag": "ADR",
          "metric_name": "Token F1",
          "metric_val": 0.69,
          "step": 10,
          "trial": 0,
          "weak_train_method": "fine_tune",
          "weak_weight": 0.1
         },
         {
          "collation_type": "linear",
          "experiment_tag": "ADR",
          "metric_name": "Token F1",
          "metric_val": 0.76,
          "step": 50,
          "trial": 0,
          "weak_train_method": "fine_tune",
          "weak_weight": 0.1
         },
         {
          "collation_type": "linear",
          "experiment_tag": "ADR",
          "metric_name": "Token F1",
          "metric_val": 0.75,
          "step": 100,
          "trial": 0,
          "weak_train_method": "fine_tune",
          "weak_weight": 0.1
         },
         {
          "collation_type": "linear",
          "experiment_tag": "ADR",
          "metric_name": "Token Precision",
          "metric_val": 0.75,
          "step": 10,
          "trial": 0,
          "weak_train_method": "fine_tune",
          "weak_weight": 0.1
         },
         {
          "collation_type": "linear",
          "experiment_tag": "ADR",
          "metric_name": "Token Precision",
          "metric_val": 0.78,
          "step": 50,
          "trial": 0,
          "weak_train_method": "fine_tune",
          "weak_weight": 0.1
         },
         {
          "collation_type": "linear",
          "experiment_tag": "ADR",
          "metric_name": "Token Precision",
          "metric_val": 0.79,
          "step": 100,
          "trial": 0,
          "weak_train_method": "fine_tune",
          "weak_weight": 0.1
         },
         {
          "collation_type": "linear",
          "experiment_tag": "ADR",
          "metric_name": "Token Recall",
          "metric_val": 0.63,
          "step": 10,
          "trial": 0,
          "weak_train_method": "fine_tune",
          "weak_weight": 0.1
         },
         {
          "collation_type": "linear",
          "experiment_tag": "ADR",
          "metric_name": "Token Recall",
          "metric_val": 0.74,
          "step": 50,
          "trial": 0,
          "weak_train_method": "fine_tune",
          "weak_weight": 0.1
         },
         {
          "collation_type": "linear",
          "experiment_tag": "ADR",
          "metric_name": "Token Recall",
          "metric_val": 0.71,
          "step": 100,
          "trial": 0,
          "weak_train_method": "fine_tune",
          "weak_weight": 0.1
         },
         {
          "collation_type": "linear",
          "experiment_tag": "ADR",
          "metric_name": "Span F1",
          "metric_val": 0.48,
          "step": 10,
          "trial": 0,
          "weak_train_method": "fine_tune",
          "weak_weight": 0.1
         },
         {
          "collation_type": "linear",
          "experiment_tag": "ADR",
          "metric_name": "Span F1",
          "metric_val": 0.6,
          "step": 50,
          "trial": 0,
          "weak_train_method": "fine_tune",
          "weak_weight": 0.1
         },
         {
          "collation_type": "linear",
          "experiment_tag": "ADR",
          "metric_name": "Span F1",
          "metric_val": 0.6,
          "step": 100,
          "trial": 0,
          "weak_train_method": "fine_tune",
          "weak_weight": 0.1
         },
         {
          "collation_type": "linear",
          "experiment_tag": "ADR",
          "metric_name": "Token F1",
          "metric_val": 0.69,
          "step": 10,
          "trial": 0,
          "weak_train_method": "fine_tune",
          "weak_weight": 1
         },
         {
          "collation_type": "linear",
          "experiment_tag": "ADR",
          "metric_name": "Token F1",
          "metric_val": 0.76,
          "step": 50,
          "trial": 0,
          "weak_train_method": "fine_tune",
          "weak_weight": 1
         },
         {
          "collation_type": "linear",
          "experiment_tag": "ADR",
          "metric_name": "Token F1",
          "metric_val": 0.75,
          "step": 100,
          "trial": 0,
          "weak_train_method": "fine_tune",
          "weak_weight": 1
         },
         {
          "collation_type": "linear",
          "experiment_tag": "ADR",
          "metric_name": "Token Precision",
          "metric_val": 0.75,
          "step": 10,
          "trial": 0,
          "weak_train_method": "fine_tune",
          "weak_weight": 1
         },
         {
          "collation_type": "linear",
          "experiment_tag": "ADR",
          "metric_name": "Token Precision",
          "metric_val": 0.78,
          "step": 50,
          "trial": 0,
          "weak_train_method": "fine_tune",
          "weak_weight": 1
         },
         {
          "collation_type": "linear",
          "experiment_tag": "ADR",
          "metric_name": "Token Precision",
          "metric_val": 0.79,
          "step": 100,
          "trial": 0,
          "weak_train_method": "fine_tune",
          "weak_weight": 1
         },
         {
          "collation_type": "linear",
          "experiment_tag": "ADR",
          "metric_name": "Token Recall",
          "metric_val": 0.63,
          "step": 10,
          "trial": 0,
          "weak_train_method": "fine_tune",
          "weak_weight": 1
         },
         {
          "collation_type": "linear",
          "experiment_tag": "ADR",
          "metric_name": "Token Recall",
          "metric_val": 0.74,
          "step": 50,
          "trial": 0,
          "weak_train_method": "fine_tune",
          "weak_weight": 1
         },
         {
          "collation_type": "linear",
          "experiment_tag": "ADR",
          "metric_name": "Token Recall",
          "metric_val": 0.71,
          "step": 100,
          "trial": 0,
          "weak_train_method": "fine_tune",
          "weak_weight": 1
         },
         {
          "collation_type": "linear",
          "experiment_tag": "ADR",
          "metric_name": "Span F1",
          "metric_val": 0.48,
          "step": 10,
          "trial": 0,
          "weak_train_method": "fine_tune",
          "weak_weight": 1
         },
         {
          "collation_type": "linear",
          "experiment_tag": "ADR",
          "metric_name": "Span F1",
          "metric_val": 0.6,
          "step": 50,
          "trial": 0,
          "weak_train_method": "fine_tune",
          "weak_weight": 1
         },
         {
          "collation_type": "linear",
          "experiment_tag": "ADR",
          "metric_name": "Span F1",
          "metric_val": 0.6,
          "step": 100,
          "trial": 0,
          "weak_train_method": "fine_tune",
          "weak_weight": 1
         },
         {
          "collation_type": "linear",
          "experiment_tag": "ADR",
          "metric_name": "Token F1",
          "metric_val": 0.69,
          "step": 10,
          "trial": 0,
          "weak_train_method": "weighted",
          "weak_weight": 0.01
         },
         {
          "collation_type": "linear",
          "experiment_tag": "ADR",
          "metric_name": "Token F1",
          "metric_val": 0.76,
          "step": 50,
          "trial": 0,
          "weak_train_method": "weighted",
          "weak_weight": 0.01
         },
         {
          "collation_type": "linear",
          "experiment_tag": "ADR",
          "metric_name": "Token F1",
          "metric_val": 0.75,
          "step": 100,
          "trial": 0,
          "weak_train_method": "weighted",
          "weak_weight": 0.01
         },
         {
          "collation_type": "linear",
          "experiment_tag": "ADR",
          "metric_name": "Token Precision",
          "metric_val": 0.75,
          "step": 10,
          "trial": 0,
          "weak_train_method": "weighted",
          "weak_weight": 0.01
         },
         {
          "collation_type": "linear",
          "experiment_tag": "ADR",
          "metric_name": "Token Precision",
          "metric_val": 0.78,
          "step": 50,
          "trial": 0,
          "weak_train_method": "weighted",
          "weak_weight": 0.01
         },
         {
          "collation_type": "linear",
          "experiment_tag": "ADR",
          "metric_name": "Token Precision",
          "metric_val": 0.79,
          "step": 100,
          "trial": 0,
          "weak_train_method": "weighted",
          "weak_weight": 0.01
         },
         {
          "collation_type": "linear",
          "experiment_tag": "ADR",
          "metric_name": "Token Recall",
          "metric_val": 0.63,
          "step": 10,
          "trial": 0,
          "weak_train_method": "weighted",
          "weak_weight": 0.01
         },
         {
          "collation_type": "linear",
          "experiment_tag": "ADR",
          "metric_name": "Token Recall",
          "metric_val": 0.74,
          "step": 50,
          "trial": 0,
          "weak_train_method": "weighted",
          "weak_weight": 0.01
         },
         {
          "collation_type": "linear",
          "experiment_tag": "ADR",
          "metric_name": "Token Recall",
          "metric_val": 0.71,
          "step": 100,
          "trial": 0,
          "weak_train_method": "weighted",
          "weak_weight": 0.01
         },
         {
          "collation_type": "linear",
          "experiment_tag": "ADR",
          "metric_name": "Span F1",
          "metric_val": 0.48,
          "step": 10,
          "trial": 0,
          "weak_train_method": "weighted",
          "weak_weight": 0.01
         },
         {
          "collation_type": "linear",
          "experiment_tag": "ADR",
          "metric_name": "Span F1",
          "metric_val": 0.6,
          "step": 50,
          "trial": 0,
          "weak_train_method": "weighted",
          "weak_weight": 0.01
         },
         {
          "collation_type": "linear",
          "experiment_tag": "ADR",
          "metric_name": "Span F1",
          "metric_val": 0.6,
          "step": 100,
          "trial": 0,
          "weak_train_method": "weighted",
          "weak_weight": 0.01
         },
         {
          "collation_type": "linear",
          "experiment_tag": "ADR",
          "metric_name": "Token F1",
          "metric_val": 0.69,
          "step": 10,
          "trial": 0,
          "weak_train_method": "weighted",
          "weak_weight": 0.1
         },
         {
          "collation_type": "linear",
          "experiment_tag": "ADR",
          "metric_name": "Token F1",
          "metric_val": 0.76,
          "step": 50,
          "trial": 0,
          "weak_train_method": "weighted",
          "weak_weight": 0.1
         },
         {
          "collation_type": "linear",
          "experiment_tag": "ADR",
          "metric_name": "Token F1",
          "metric_val": 0.75,
          "step": 100,
          "trial": 0,
          "weak_train_method": "weighted",
          "weak_weight": 0.1
         },
         {
          "collation_type": "linear",
          "experiment_tag": "ADR",
          "metric_name": "Token Precision",
          "metric_val": 0.75,
          "step": 10,
          "trial": 0,
          "weak_train_method": "weighted",
          "weak_weight": 0.1
         },
         {
          "collation_type": "linear",
          "experiment_tag": "ADR",
          "metric_name": "Token Precision",
          "metric_val": 0.78,
          "step": 50,
          "trial": 0,
          "weak_train_method": "weighted",
          "weak_weight": 0.1
         },
         {
          "collation_type": "linear",
          "experiment_tag": "ADR",
          "metric_name": "Token Precision",
          "metric_val": 0.79,
          "step": 100,
          "trial": 0,
          "weak_train_method": "weighted",
          "weak_weight": 0.1
         },
         {
          "collation_type": "linear",
          "experiment_tag": "ADR",
          "metric_name": "Token Recall",
          "metric_val": 0.63,
          "step": 10,
          "trial": 0,
          "weak_train_method": "weighted",
          "weak_weight": 0.1
         },
         {
          "collation_type": "linear",
          "experiment_tag": "ADR",
          "metric_name": "Token Recall",
          "metric_val": 0.74,
          "step": 50,
          "trial": 0,
          "weak_train_method": "weighted",
          "weak_weight": 0.1
         },
         {
          "collation_type": "linear",
          "experiment_tag": "ADR",
          "metric_name": "Token Recall",
          "metric_val": 0.71,
          "step": 100,
          "trial": 0,
          "weak_train_method": "weighted",
          "weak_weight": 0.1
         },
         {
          "collation_type": "linear",
          "experiment_tag": "ADR",
          "metric_name": "Span F1",
          "metric_val": 0.48,
          "step": 10,
          "trial": 0,
          "weak_train_method": "weighted",
          "weak_weight": 0.1
         },
         {
          "collation_type": "linear",
          "experiment_tag": "ADR",
          "metric_name": "Span F1",
          "metric_val": 0.6,
          "step": 50,
          "trial": 0,
          "weak_train_method": "weighted",
          "weak_weight": 0.1
         },
         {
          "collation_type": "linear",
          "experiment_tag": "ADR",
          "metric_name": "Span F1",
          "metric_val": 0.6,
          "step": 100,
          "trial": 0,
          "weak_train_method": "weighted",
          "weak_weight": 0.1
         },
         {
          "collation_type": "linear",
          "experiment_tag": "ADR",
          "metric_name": "Token F1",
          "metric_val": 0.69,
          "step": 10,
          "trial": 0,
          "weak_train_method": "weighted",
          "weak_weight": 1
         },
         {
          "collation_type": "linear",
          "experiment_tag": "ADR",
          "metric_name": "Token F1",
          "metric_val": 0.76,
          "step": 50,
          "trial": 0,
          "weak_train_method": "weighted",
          "weak_weight": 1
         },
         {
          "collation_type": "linear",
          "experiment_tag": "ADR",
          "metric_name": "Token F1",
          "metric_val": 0.75,
          "step": 100,
          "trial": 0,
          "weak_train_method": "weighted",
          "weak_weight": 1
         },
         {
          "collation_type": "linear",
          "experiment_tag": "ADR",
          "metric_name": "Token Precision",
          "metric_val": 0.75,
          "step": 10,
          "trial": 0,
          "weak_train_method": "weighted",
          "weak_weight": 1
         },
         {
          "collation_type": "linear",
          "experiment_tag": "ADR",
          "metric_name": "Token Precision",
          "metric_val": 0.78,
          "step": 50,
          "trial": 0,
          "weak_train_method": "weighted",
          "weak_weight": 1
         },
         {
          "collation_type": "linear",
          "experiment_tag": "ADR",
          "metric_name": "Token Precision",
          "metric_val": 0.79,
          "step": 100,
          "trial": 0,
          "weak_train_method": "weighted",
          "weak_weight": 1
         },
         {
          "collation_type": "linear",
          "experiment_tag": "ADR",
          "metric_name": "Token Recall",
          "metric_val": 0.63,
          "step": 10,
          "trial": 0,
          "weak_train_method": "weighted",
          "weak_weight": 1
         },
         {
          "collation_type": "linear",
          "experiment_tag": "ADR",
          "metric_name": "Token Recall",
          "metric_val": 0.74,
          "step": 50,
          "trial": 0,
          "weak_train_method": "weighted",
          "weak_weight": 1
         },
         {
          "collation_type": "linear",
          "experiment_tag": "ADR",
          "metric_name": "Token Recall",
          "metric_val": 0.71,
          "step": 100,
          "trial": 0,
          "weak_train_method": "weighted",
          "weak_weight": 1
         },
         {
          "collation_type": "linear",
          "experiment_tag": "ADR",
          "metric_name": "Span F1",
          "metric_val": 0.48,
          "step": 10,
          "trial": 0,
          "weak_train_method": "weighted",
          "weak_weight": 1
         },
         {
          "collation_type": "linear",
          "experiment_tag": "ADR",
          "metric_name": "Span F1",
          "metric_val": 0.6,
          "step": 50,
          "trial": 0,
          "weak_train_method": "weighted",
          "weak_weight": 1
         },
         {
          "collation_type": "linear",
          "experiment_tag": "ADR",
          "metric_name": "Span F1",
          "metric_val": 0.6,
          "step": 100,
          "trial": 0,
          "weak_train_method": "weighted",
          "weak_weight": 1
         }
        ]
       },
       "vconcat": [
        {
         "data": {
          "name": "data-04e4c91638b7851180660f9f7d6dd46a"
         },
         "encoding": {
          "color": {
           "field": "collation_type",
           "type": "nominal"
          },
          "x": {
           "field": "step",
           "title": "Dataset Size",
           "type": "quantitative"
          },
          "y": {
           "aggregate": "mean",
           "field": "metric_val",
           "scale": {
            "zero": false
           },
           "title": "Token F1",
           "type": "quantitative"
          }
         },
         "mark": {
          "point": true,
          "type": "line"
         },
         "title": "Token F1 vs Dataset Size",
         "transform": [
          {
           "filter": "(datum.metric_name === 'Token F1')"
          },
          {
           "filter": "(datum.weak_train_method === 'fine_tune')"
          },
          {
           "filter": "(datum.weak_weight === 0.01)"
          }
         ],
         "width": 1000
        },
        {
         "data": {
          "name": "data-04e4c91638b7851180660f9f7d6dd46a"
         },
         "encoding": {
          "color": {
           "field": "collation_type",
           "type": "nominal"
          },
          "x": {
           "field": "step",
           "title": "Dataset Size",
           "type": "quantitative"
          },
          "y": {
           "aggregate": "mean",
           "field": "metric_val",
           "scale": {
            "zero": false
           },
           "title": "Span F1",
           "type": "quantitative"
          }
         },
         "mark": {
          "point": true,
          "type": "line"
         },
         "title": "Span F1 vs Dataset Size",
         "transform": [
          {
           "filter": "(datum.metric_name === 'Span F1')"
          },
          {
           "filter": "(datum.weak_train_method === 'fine_tune')"
          },
          {
           "filter": "(datum.weak_weight === 0.01)"
          }
         ],
         "width": 1000
        }
       ]
      },
      "image/png": "[encoded data removed]",
      "text/plain": [
       "<VegaLite 2 object>\n",
       "\n",
       "If you see this message, it means the renderer has not been properly enabled\n",
       "for the frontend that you are using. For more information, see\n",
       "https://altair-viz.github.io/user_guide/troubleshooting.html\n"
      ]
     },
     "execution_count": 115,
     "metadata": {},
     "output_type": "execute_result"
    }
   ],
   "source": [
    "def metric_graph(data_frame: pd.DataFrame, metric: str, train_method: str, weak_weight: float) -> alt.Chart:\n",
    "    def filter_graph(chart: alt.Chart) -> alt.Chart:\n",
    "        return chart.transform_filter(\n",
    "            alt.datum.metric_name == metric\n",
    "        ).transform_filter(\n",
    "            alt.datum.weak_train_method == train_method,\n",
    "        ).transform_filter(\n",
    "            alt.datum.weak_weight == weak_weight,\n",
    "        )\n",
    "#     .transform_filter(\n",
    "#             alt.datum.collation_type != 'intersection'\n",
    "#         ).transform_filter(\n",
    "#             alt.datum.collation_type != 'union'\n",
    "#         )\n",
    "\n",
    "    base = alt.Chart(data_frame, title=f'{metric} vs Dataset Size')\n",
    "    line = filter_graph(base.mark_line(point=True).encode(\n",
    "        x=alt.X('step', title='Dataset Size'),\n",
    "        y=alt.Y('mean(metric_val)', title=metric, scale=alt.Scale(zero=False)),\n",
    "        color='collation_type:N',\n",
    "    ))\n",
    "    \n",
    "    confidence_interval = filter_graph(base.mark_area(opacity=0.3).encode(\n",
    "        x=alt.X('step'),\n",
    "        y=alt.Y('ci0(metric_val):Q'),\n",
    "        y2='ci1(metric_val):Q',\n",
    "        color='collation_type:N',\n",
    "    ))\n",
    "\n",
    "    return (line).properties(width=1000)\n",
    "\n",
    "weight = 0.01\n",
    "method = 'fine_tune'\n",
    "metric_graph(data_frame, 'Token F1', method, weight) & metric_graph(data_frame, 'Span F1', method, weight)"
   ]
  },
  {
   "cell_type": "code",
   "execution_count": null,
   "metadata": {},
   "outputs": [],
   "source": []
  }
 ],
 "metadata": {
  "kernelspec": {
   "display_name": "Environment (conda_snorkel)",
   "language": "python",
   "name": "conda_snorkel"
  },
  "language_info": {
   "codemirror_mode": {
    "name": "ipython",
    "version": 3
   },
   "file_extension": ".py",
   "mimetype": "text/x-python",
   "name": "python",
   "nbconvert_exporter": "python",
   "pygments_lexer": "ipython3",
   "version": "3.6.7"
  }
 },
 "nbformat": 4,
 "nbformat_minor": 2
}
